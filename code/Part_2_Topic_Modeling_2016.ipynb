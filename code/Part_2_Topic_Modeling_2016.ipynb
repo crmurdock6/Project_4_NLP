{
 "cells": [
  {
   "cell_type": "markdown",
   "metadata": {},
   "source": [
    "# Topic Modeling Using Year 2016"
   ]
  },
  {
   "cell_type": "markdown",
   "metadata": {},
   "source": [
    "### Imports"
   ]
  },
  {
   "cell_type": "code",
   "execution_count": 46,
   "metadata": {
    "collapsed": true
   },
   "outputs": [],
   "source": [
    "import requests\n",
    "import pandas as pd\n",
    "import re\n",
    "from bs4 import BeautifulSoup\n",
    "import time\n",
    "from random import randint\n",
    "from pymongo import MongoClient\n",
    "from sklearn.feature_extraction.text import CountVectorizer, TfidfVectorizer\n",
    "from sklearn.decomposition import LatentDirichletAllocation\n",
    "from sklearn.preprocessing import StandardScaler, Normalizer\n",
    "from sklearn.decomposition import NMF, TruncatedSVD\n",
    "import modules.modeling_module as mm\n",
    "from spacy.en import STOP_WORDS as stopwords\n",
    "import string\n",
    "import numpy as np\n",
    "import spacy\n",
    "import matplotlib.pyplot as plt\n",
    "%matplotlib inline\n",
    "plt.style.use('seaborn-talk')\n",
    "nlp = spacy.load('en')\n",
    "stopwords.update(['et', 'al', \"'s\", \"—\", '-'])\n",
    "punctuations = string.punctuation"
   ]
  },
  {
   "cell_type": "markdown",
   "metadata": {},
   "source": [
    "### Connect to MongoDB"
   ]
  },
  {
   "cell_type": "code",
   "execution_count": 2,
   "metadata": {
    "collapsed": true
   },
   "outputs": [],
   "source": [
    "client = MongoClient()\n",
    "sci = client.metis_p4_db.science"
   ]
  },
  {
   "cell_type": "code",
   "execution_count": 3,
   "metadata": {},
   "outputs": [
    {
     "data": {
      "text/plain": [
       "{'_id': ObjectId('59f8f1ca127ab45bd3582636'),\n",
       " 'description': \"Antibiotic resistance threatens to put modern medicine into reverse. But we are not at the end of our options for currently available drugs. Baym et al. review what can be done by using combinations of antibiotics to circumvent bacteria's evolutionary strategies. For instance, resistance to one drug may cause sensitivity to another, the effectiveness of two drugs can be synergized by a resistance mutation, and some negative drug interactions may even be beneficial in selecting against resistance. Although not simple to assess, drug combinations still have something to offer for the development of sorely needed anti-infectives.\",\n",
       " 'title': 'Multidrug evolutionary strategies to reverse antibiotic resistance',\n",
       " 'year': 2016}"
      ]
     },
     "execution_count": 3,
     "metadata": {},
     "output_type": "execute_result"
    }
   ],
   "source": [
    "year_2016 = sci.find({'year': 2016})\n",
    "year_2016[0]"
   ]
  },
  {
   "cell_type": "code",
   "execution_count": 4,
   "metadata": {},
   "outputs": [
    {
     "data": {
      "text/plain": [
       "\"Antibiotic resistance threatens to put modern medicine into reverse. But we are not at the end of our options for currently available drugs. Baym et al. review what can be done by using combinations of antibiotics to circumvent bacteria's evolutionary strategies. For instance, resistance to one drug may cause sensitivity to another, the effectiveness of two drugs can be synergized by a resistance mutation, and some negative drug interactions may even be beneficial in selecting against resistance. Although not simple to assess, drug combinations still have something to offer for the development of sorely needed anti-infectives.\""
      ]
     },
     "execution_count": 4,
     "metadata": {},
     "output_type": "execute_result"
    }
   ],
   "source": [
    "year_2016[0]['description']"
   ]
  },
  {
   "cell_type": "code",
   "execution_count": 5,
   "metadata": {
    "collapsed": true
   },
   "outputs": [],
   "source": [
    "all_descriptions = []\n",
    "\n",
    "for record in year_2016:\n",
    "    all_descriptions.append(record['description'])"
   ]
  },
  {
   "cell_type": "code",
   "execution_count": 6,
   "metadata": {},
   "outputs": [
    {
     "data": {
      "text/plain": [
       "[\"Antibiotic resistance threatens to put modern medicine into reverse. But we are not at the end of our options for currently available drugs. Baym et al. review what can be done by using combinations of antibiotics to circumvent bacteria's evolutionary strategies. For instance, resistance to one drug may cause sensitivity to another, the effectiveness of two drugs can be synergized by a resistance mutation, and some negative drug interactions may even be beneficial in selecting against resistance. Although not simple to assess, drug combinations still have something to offer for the development of sorely needed anti-infectives.\",\n",
       " 'In carpenter ants, separate behavioral classes, known as castes, are determined by the epigenetic regulation of genes. Simola et al. treated ants of different castes with drugs that affected histone acetylation. Reducing histone acetylation stimulated scouting and foraging behavior. The foraging and scouting behaviors of young ants were permanently changed by directly injecting their brains with histone acetylation inhibitors.']"
      ]
     },
     "execution_count": 6,
     "metadata": {},
     "output_type": "execute_result"
    }
   ],
   "source": [
    "all_descriptions[:2]"
   ]
  },
  {
   "cell_type": "code",
   "execution_count": 7,
   "metadata": {},
   "outputs": [
    {
     "data": {
      "text/plain": [
       "1877"
      ]
     },
     "execution_count": 7,
     "metadata": {},
     "output_type": "execute_result"
    }
   ],
   "source": [
    "len(all_descriptions)"
   ]
  },
  {
   "cell_type": "markdown",
   "metadata": {},
   "source": [
    "### Specify tokenizer 3 as this one can change between years"
   ]
  },
  {
   "cell_type": "code",
   "execution_count": 8,
   "metadata": {
    "collapsed": true
   },
   "outputs": [],
   "source": [
    "def spacy_tokenizer_3(doc):\n",
    "    \"\"\"\n",
    "    A tokenizer called during vectorization\n",
    "\n",
    "    INPUT:\n",
    "    doc - the text to be tokenized\n",
    "\n",
    "    OUTPUT:\n",
    "    Tokenized text with the appropriate numbers removed\n",
    "    \"\"\"    \n",
    "    doc = doc.replace('—', '').replace(',', '').replace(\"'s\", '')\n",
    "    # doc = re.sub('\\s\\d+(\\s)?(,)?', ' ', doc)\n",
    "    doc = re.sub('\\D\\d+(\\D)?', ' ', doc)\n",
    "    doc = doc.replace('–', '')\n",
    "    tokens = nlp(doc)\n",
    "    tokens = [tok.lemma_.lower().strip() if tok.lemma_ != \"-PRON-\" else tok.lower_ for tok in tokens]\n",
    "    tokens = [tok for tok in tokens if (tok not in stopwords and tok not in punctuations)]     \n",
    "    return tokens"
   ]
  },
  {
   "cell_type": "markdown",
   "metadata": {},
   "source": [
    "# Make different vectorizers and test models (LSA, NMF, LDA)"
   ]
  },
  {
   "cell_type": "markdown",
   "metadata": {},
   "source": [
    "count vectorizer 1"
   ]
  },
  {
   "cell_type": "code",
   "execution_count": 11,
   "metadata": {
    "collapsed": true
   },
   "outputs": [],
   "source": [
    "cv_vect1, cv_vect1_transformed = mm.count_vectorizer(spacy_tokenizer_3, 5000, all_descriptions)"
   ]
  },
  {
   "cell_type": "code",
   "execution_count": 12,
   "metadata": {},
   "outputs": [
    {
     "name": "stdout",
     "output_type": "stream",
     "text": [
      "\n",
      "\n",
      "-------LSA------\n",
      "\n",
      "\n",
      "Topic  0\n",
      "cell new use science human researcher year study research material\n",
      "Topic  1\n",
      "material roundup material potential laboratory material information newly potential interest roundup information interest researcher newly offer weekly roundup\n",
      "Topic  2\n",
      "cell protein t gene immune t cell mouse tumor cancer expression\n",
      "Topic  3\n",
      "cell science research new scientist world u.s researcher cancer national\n",
      "Topic  4\n",
      "human gene disease protein genome genetic virus study dna specie\n",
      "Topic  5\n",
      "change climate climate change year global specie cell ice increase impact\n",
      "Topic  6\n",
      "change protein climate science climate change complex structure policy c carbon\n",
      "Topic  7\n",
      "virus protein vaccine zika antibody structure health zika virus infect infection\n",
      "Topic  8\n",
      "system issue page page issue quantum state virus immune structure science\n",
      "Topic  9\n",
      "use state change virus united research united state human electron quantum\n",
      "\n",
      "\n",
      "-------NMF------\n",
      "\n",
      "\n",
      "Topic  0\n",
      "science research u.s world national scientist scientific new institute government\n",
      "Topic  1\n",
      "material researcher potential information offer laboratory interest roundup newly apparatus\n",
      "Topic  2\n",
      "cell t t cell immune cancer tumor mouse stem stem cell tissue\n",
      "Topic  3\n",
      "use reaction carbon c bond catalyst plant perspective enzyme metal\n",
      "Topic  4\n",
      "gene human genome genetic dna expression disease study cancer mutation\n",
      "Topic  5\n",
      "protein structure complex bind function rna site membrane dna enzyme\n",
      "Topic  6\n",
      "change climate climate change global specie increase ice impact temperature ecosystem\n",
      "Topic  7\n",
      "virus vaccine human health zika disease infection antibody zika virus infect\n",
      "Topic  8\n",
      "system state material quantum electron issue page page issue high atom\n",
      "Topic  9\n",
      "new year study researcher scientist time work find human people\n",
      "\n",
      "\n",
      "-------LDA------\n",
      "\n",
      "\n",
      "Topic  0\n",
      "cell comb frequency hair optical frequency comb generate type stem signal\n",
      "Topic  1\n",
      "cell protein gene use dna structure complex disease enzyme immune\n",
      "Topic  2\n",
      "protein long large science triplet group associate u.s gene supramolecular\n",
      "Topic  3\n",
      "refuge migraine decomposition mitigate dna way particle clock behavior gene\n",
      "Topic  4\n",
      "new science use year human research study change scientist state\n",
      "Topic  5\n",
      "bee virus microbe hole ozone discover world find cell cap\n",
      "Topic  6\n",
      "learn researcher human disorder time disease human disease metabolic funding zebra\n",
      "Topic  7\n",
      "mtap crest cell crest neural crest prm activity specific tailor cell dna gene\n",
      "Topic  8\n",
      "roundup material potential instrumentation potential apparatus material newly interest offer information\n",
      "Topic  9\n",
      "migraine peptide human solar light drug find battery cause energy\n"
     ]
    }
   ],
   "source": [
    "mm.use_vectorizer(cv_vect1, cv_vect1_transformed)"
   ]
  },
  {
   "cell_type": "markdown",
   "metadata": {},
   "source": [
    "count vectorizer 2"
   ]
  },
  {
   "cell_type": "code",
   "execution_count": 13,
   "metadata": {
    "collapsed": true
   },
   "outputs": [],
   "source": [
    "cv_vect2, cv_vect2_transformed = mm.count_vectorizer(spacy_tokenizer_3, 5000, all_descriptions, ngram_stop=3)"
   ]
  },
  {
   "cell_type": "code",
   "execution_count": 14,
   "metadata": {},
   "outputs": [
    {
     "name": "stdout",
     "output_type": "stream",
     "text": [
      "\n",
      "\n",
      "-------LSA------\n",
      "\n",
      "\n",
      "Topic  0\n",
      "cell new use science human year study researcher research change\n",
      "Topic  1\n",
      "material roundup material potential weekly roundup information newly offer instrumentation apparatus offer instrumentation apparatus laboratory material apparatus laboratory laboratory material\n",
      "Topic  2\n",
      "cell protein gene t immune t cell mouse tumor cancer expression\n",
      "Topic  3\n",
      "cell science research new scientist world u.s cancer researcher national\n",
      "Topic  4\n",
      "human gene disease protein genome genetic virus study specie dna\n",
      "Topic  5\n",
      "change climate climate change cell year global specie ice increase temperature\n",
      "Topic  6\n",
      "change protein climate science climate change complex structure policy c carbon\n",
      "Topic  7\n",
      "virus protein vaccine zika antibody health structure zika virus infect infection\n",
      "Topic  8\n",
      "system issue page page issue state quantum virus immune science structure\n",
      "Topic  9\n",
      "use state change united virus research united state protein electron structure\n",
      "\n",
      "\n",
      "-------NMF------\n",
      "\n",
      "\n",
      "Topic  0\n",
      "science research u.s world national scientist new scientific institute government\n",
      "Topic  1\n",
      "material researcher potential information offer laboratory interest roundup newly apparatus\n",
      "Topic  2\n",
      "cell t t cell immune cancer tumor mouse stem stem cell tissue\n",
      "Topic  3\n",
      "use reaction carbon c bond catalyst plant perspective enzyme metal\n",
      "Topic  4\n",
      "gene genome dna genetic expression rna cancer human disease mutation\n",
      "Topic  5\n",
      "protein structure complex bind function site rna membrane enzyme dna\n",
      "Topic  6\n",
      "change climate climate change specie global increase ice impact temperature ecosystem\n",
      "Topic  7\n",
      "human virus disease vaccine health zika infection cause antibody infect\n",
      "Topic  8\n",
      "system state material quantum electron issue page page issue high light\n",
      "Topic  9\n",
      "new year study researcher scientist time work find people life\n",
      "\n",
      "\n",
      "-------LDA------\n",
      "\n",
      "\n",
      "Topic  0\n",
      "cell protein gene disease dna complex mouse cancer immune structure\n",
      "Topic  1\n",
      "use new science year research study human change state scientist\n",
      "Topic  2\n",
      "roundup apparatus material potential material instrumentation potential newly interest researcher information\n",
      "Topic  3\n",
      "refuge ice lunar new report partner mitochondrial year world conservation\n",
      "Topic  4\n",
      "science new solar high human food system aggregate trauma aaas\n",
      "Topic  5\n",
      "pluto new horizon horizon examine small cryovolcanoe grundy analyze material tholin gladstone include evidence download far feature geology pluto co n reddish\n",
      "Topic  6\n",
      "cell researcher time material histone produce learn potential ant interest\n",
      "Topic  7\n",
      "migraine decomposition exosphere cell mitigate use particle way clock discover\n",
      "Topic  8\n",
      "water forest dam find earthquake large magnetic interaction study low\n",
      "Topic  9\n",
      "cell translation drug pathogen use virus resistance synthesis protein cause\n"
     ]
    }
   ],
   "source": [
    "mm.use_vectorizer(cv_vect2, cv_vect2_transformed)"
   ]
  },
  {
   "cell_type": "markdown",
   "metadata": {},
   "source": [
    "count vectorizer 3"
   ]
  },
  {
   "cell_type": "code",
   "execution_count": 15,
   "metadata": {
    "collapsed": true
   },
   "outputs": [],
   "source": [
    "cv_vect3, cv_vect3_transformed = mm.count_vectorizer(spacy_tokenizer_3, 110000, all_descriptions)"
   ]
  },
  {
   "cell_type": "code",
   "execution_count": 16,
   "metadata": {},
   "outputs": [
    {
     "name": "stdout",
     "output_type": "stream",
     "text": [
      "\n",
      "\n",
      "-------LSA------\n",
      "\n",
      "\n",
      "Topic  0\n",
      "material researcher potential information offer laboratory interest newly apparatus roundup\n",
      "Topic  1\n",
      "cell new use science human study year protein research change\n",
      "Topic  2\n",
      "cell t protein t cell immune gene tumor mouse cancer tissue\n",
      "Topic  3\n",
      "science cell research new world scientist u.s year researcher national\n",
      "Topic  4\n",
      "gene human protein disease genome dna genetic virus rna study\n",
      "Topic  5\n",
      "change climate climate change specie human ice global year increase cause\n",
      "Topic  6\n",
      "system new virus study human researcher use material solar find\n",
      "Topic  7\n",
      "virus protein antibody vaccine zika structure infect zika virus infection hiv\n",
      "Topic  8\n",
      "system protein new solar ice surface pluto immune complex present\n",
      "Topic  9\n",
      "carbon year c plant new reaction bond catalyst researcher enzyme\n",
      "\n",
      "\n",
      "-------NMF------\n",
      "\n",
      "\n",
      "Topic  0\n",
      "material researcher potential information offer laboratory interest roundup newly apparatus\n",
      "Topic  1\n",
      "human study new year gene disease researcher genome genetic find\n",
      "Topic  2\n",
      "cell t t cell immune cancer tumor mouse stem tissue stem cell\n",
      "Topic  3\n",
      "use state material quantum electron optical atom field magnetic device\n",
      "Topic  4\n",
      "protein gene structure dna complex rna function bind expression enzyme\n",
      "Topic  5\n",
      "change climate climate change global ice increase specie impact temperature policy\n",
      "Topic  6\n",
      "science research new world u.s scientist year national scientific institute\n",
      "Topic  7\n",
      "virus vaccine zika antibody infect health zika virus infection hiv disease\n",
      "Topic  8\n",
      "system surface solar new pluto solar system datum horizon new horizon present\n",
      "Topic  9\n",
      "reaction carbon bond c catalyst use metal report plant molecule\n",
      "\n",
      "\n",
      "-------LDA------\n",
      "\n",
      "\n",
      "Topic  0\n",
      "new science year use human research study change scientist world\n",
      "Topic  1\n",
      "frequency comb migraine causation optical frequency hcm myosin δf chocolate koch comb quantum\n",
      "Topic  2\n",
      "hair follicle follicle portal mite follicle stem co 1 suspect crime hair archean matsumura\n",
      "Topic  3\n",
      "hdl c tuft cell tuft nepal kathmandu regulatory element microbe free grn taxonomy tls\n",
      "Topic  4\n",
      "cell protein material use potential structure information gene interest researcher\n",
      "Topic  5\n",
      "refuge reforestation region gp illustrate need ebola virusinfect africa illustrate recent ebola antibody survivor virusinfect yield practical\n",
      "Topic  6\n",
      "hbf publish page find online schedule find online www.grc.org/. schedule publish issue print conference schedule print version current schedule\n",
      "Topic  7\n",
      "hormone growth hormone dystrophy muscular dystrophy dystrophin young mouse consolation myosin cause mutation exosphere\n",
      "Topic  8\n",
      "corpse supernovae babylonian clock corpse migraine week mitigate corpse decomposition mitigate migraine decomposition news news roundup\n",
      "Topic  9\n",
      "admission nematicity tic cuprate ph.d program posselt porous cdw order cuprate nematicity copper oxide\n"
     ]
    }
   ],
   "source": [
    "mm.use_vectorizer(cv_vect3, cv_vect3_transformed)"
   ]
  },
  {
   "cell_type": "markdown",
   "metadata": {},
   "source": [
    "### Lets try tfidf vectorizer to compare"
   ]
  },
  {
   "cell_type": "markdown",
   "metadata": {},
   "source": [
    "tfidf vectorizer 1"
   ]
  },
  {
   "cell_type": "code",
   "execution_count": 17,
   "metadata": {
    "collapsed": true
   },
   "outputs": [],
   "source": [
    "tf_vect1, tf_vect1_transformed = mm.tfidf_vectorizer(spacy_tokenizer_3, 5000, all_descriptions)"
   ]
  },
  {
   "cell_type": "code",
   "execution_count": 18,
   "metadata": {},
   "outputs": [
    {
     "name": "stdout",
     "output_type": "stream",
     "text": [
      "\n",
      "\n",
      "-------LSA------\n",
      "\n",
      "\n",
      "Topic  0\n",
      "roundup information weekly instrumentation apparatus information newly laboratory material interest researcher offer instrumentation apparatus laboratory weekly roundup newly offer\n",
      "Topic  1\n",
      "cell science new use human research year study change gene\n",
      "Topic  2\n",
      "cell protein gene t t cell immune tumor dna expression cancer\n",
      "Topic  3\n",
      "cell science cancer t t cell immune research disease tumor virus\n",
      "Topic  4\n",
      "cell science t t cell quantum material solar atom state research\n",
      "Topic  5\n",
      "climate change cell climate change ice t t cell global impact immune\n",
      "Topic  6\n",
      "virus zika vaccine antibody zika virus infect hiv infection viral ebola\n",
      "Topic  7\n",
      "carbon reaction c bond catalyst protein science enzyme plant climate\n",
      "Topic  8\n",
      "plant year star gravitational reaction planet carbon new researcher wave\n",
      "Topic  9\n",
      "protein ice planet structure year surface dna earth climate rna\n",
      "\n",
      "\n",
      "-------NMF------\n",
      "\n",
      "\n",
      "Topic  0\n",
      "instrumentation apparatus offer instrumentation potential interest newly offer information newly apparatus laboratory weekly weekly roundup laboratory material roundup information\n",
      "Topic  1\n",
      "science research new u.s world scientist national university institute researcher\n",
      "Topic  2\n",
      "cell t t cell immune tumor cancer tissue immune cell stem mouse\n",
      "Topic  3\n",
      "quantum electron material atom optical state magnetic use device particle\n",
      "Topic  4\n",
      "surface solar ice system pluto crater solar system moon planet earth\n",
      "Topic  5\n",
      "climate change climate change specie global plant ecosystem temperature increase impact\n",
      "Topic  6\n",
      "virus vaccine zika antibody zika virus infect infection hiv health viral\n",
      "Topic  7\n",
      "reaction carbon bond catalyst c metal molecule methane use enzyme\n",
      "Topic  8\n",
      "gravitational wave gravitational wave year star ligo galaxy black hole black hole\n",
      "Topic  9\n",
      "gene protein dna rna genome genetic human complex expression function\n",
      "\n",
      "\n",
      "-------LDA------\n",
      "\n",
      "\n",
      "Topic  0\n",
      "env proteasome oligodendrocyte meiotic recombination germ cell meiotic sp germ oocyte recombination\n",
      "Topic  1\n",
      "bond reaction catalyst platinum ligo black hole chiral radical ch olefin\n",
      "Topic  2\n",
      "supramolecular teacher u.s agency ki game mantle pd ftc decomposition\n",
      "Topic  3\n",
      "ant rt nps np beetle acetylation quark ln migraine decomposition\n",
      "Topic  4\n",
      "cell science use new human year change research study protein\n",
      "Topic  5\n",
      "growth hormone tuft cell tuft gut microbe germ cell perspective undernutrition parasite honey gut\n",
      "Topic  6\n",
      "horizon pluto disease earthquake postulate disorder learn human disease zebra zebra finch\n",
      "Topic  7\n",
      "tumor chromatin repair cell histone codon transcription cancer mrna stem cell\n",
      "Topic  8\n",
      "roundup instrumentation material potential instrumentation apparatus laboratory material potential interest apparatus laboratory offer instrumentation interest researcher weekly roundup\n",
      "Topic  9\n",
      "t cell t b cell antigen b autoimmune pluto lymphocyte bnab new horizon\n"
     ]
    }
   ],
   "source": [
    "mm.use_vectorizer(tf_vect1, tf_vect1_transformed)"
   ]
  },
  {
   "cell_type": "markdown",
   "metadata": {},
   "source": [
    "tfidf vectorizer 2"
   ]
  },
  {
   "cell_type": "markdown",
   "metadata": {},
   "source": [
    "### This NMF version works well"
   ]
  },
  {
   "cell_type": "code",
   "execution_count": 19,
   "metadata": {
    "collapsed": true
   },
   "outputs": [],
   "source": [
    "tf_vect2, tf_vect2_transformed = mm.tfidf_vectorizer(spacy_tokenizer_3, 5000, all_descriptions, ngram_stop=3)"
   ]
  },
  {
   "cell_type": "code",
   "execution_count": 20,
   "metadata": {},
   "outputs": [
    {
     "name": "stdout",
     "output_type": "stream",
     "text": [
      "\n",
      "\n",
      "-------LSA------\n",
      "\n",
      "\n",
      "Topic  0\n",
      "offer instrumentation instrumentation apparatus laboratory apparatus laboratory material apparatus laboratory information newly information newly offer weekly material potential interest instrumentation apparatus interest researcher\n",
      "Topic  1\n",
      "cell science new use human research year study change gene\n",
      "Topic  2\n",
      "cell protein gene t t cell immune tumor dna expression rna\n",
      "Topic  3\n",
      "cell science cancer t t cell immune disease research tumor virus\n",
      "Topic  4\n",
      "cell science t t cell quantum material atom research solar electron\n",
      "Topic  5\n",
      "protein dna gene science rna structure complex genome enzyme research\n",
      "Topic  6\n",
      "virus vaccine zika antibody zika virus infect hiv infection viral ebola\n",
      "Topic  7\n",
      "carbon reaction c bond catalyst protein plant enzyme science climate\n",
      "Topic  8\n",
      "plant year reaction star gravitational carbon researcher new wave planet\n",
      "Topic  9\n",
      "plant specie quantum state atom science evolution social use optical\n",
      "\n",
      "\n",
      "-------NMF------\n",
      "\n",
      "\n",
      "Topic  0\n",
      "information newly potential interest researcher roundup information instrumentation apparatus newly offer instrumentation material potential interest potential interest apparatus laboratory material instrumentation apparatus laboratory offer instrumentation apparatus\n",
      "Topic  1\n",
      "planet star earth gravitational year wave galaxy solar surface ice\n",
      "Topic  2\n",
      "cell t t cell immune tumor cancer tissue immune cell stem stem cell\n",
      "Topic  3\n",
      "quantum electron material atom optical state magnetic use device particle\n",
      "Topic  4\n",
      "science research new u.s world scientist national university institute year\n",
      "Topic  5\n",
      "climate change climate change global specie ecosystem temperature ice increase impact\n",
      "Topic  6\n",
      "virus vaccine zika antibody zika virus infect infection hiv health viral\n",
      "Topic  7\n",
      "reaction carbon bond catalyst c metal molecule methane organic use\n",
      "Topic  8\n",
      "plant specie crop soil growth yield light sugar bacteria regulate\n",
      "Topic  9\n",
      "gene protein dna rna genome genetic human complex expression function\n",
      "\n",
      "\n",
      "-------LDA------\n",
      "\n",
      "\n",
      "Topic  0\n",
      "cell protein use gene structure dna system complex molecule form\n",
      "Topic  1\n",
      "science new year research scientist world human change researcher climate\n",
      "Topic  2\n",
      "roundup instrumentation material potential newly offer instrumentation potential interest roundup information potential interest researcher apparatus laboratory apparatus laboratory material laboratory material potential\n",
      "Topic  3\n",
      "refuge pluto new horizon horizon solar moon lunar conservation partner solar system\n",
      "Topic  4\n",
      "quantum optical material device magnetic film solar cell solar light perovskite\n",
      "Topic  5\n",
      "ligo interferometer physicist laser interferometer gravitational laser interferometer gravitational wave observatory wave observatory interferometer gravitational wave interferometer gravitational lhc\n",
      "Topic  6\n",
      "histone ant acetylation cell surface material nucleoid researcher gps epigenetic\n",
      "Topic  7\n",
      "pluto new horizon horizon migraine outer solar system outer solar decomposition moon styx nix weaver examine space environment\n",
      "Topic  8\n",
      "darpa qpt phase transition slow earthquake salinity flow electric field like happen fluid wire\n",
      "Topic  9\n",
      "lymph sp lymph node y node y chromosome meiotic recombination meiotic iress neural crest\n"
     ]
    }
   ],
   "source": [
    "mm.use_vectorizer(tf_vect2, tf_vect2_transformed)"
   ]
  },
  {
   "cell_type": "markdown",
   "metadata": {},
   "source": [
    "tfidf vectorizer 3"
   ]
  },
  {
   "cell_type": "code",
   "execution_count": 21,
   "metadata": {
    "collapsed": true
   },
   "outputs": [],
   "source": [
    "tf_vect3, tf_vect3_transformed = mm.tfidf_vectorizer(spacy_tokenizer_3, 110000, all_descriptions)"
   ]
  },
  {
   "cell_type": "code",
   "execution_count": 22,
   "metadata": {},
   "outputs": [
    {
     "name": "stdout",
     "output_type": "stream",
     "text": [
      "\n",
      "\n",
      "-------LSA------\n",
      "\n",
      "\n",
      "Topic  0\n",
      "newly offer instrumentation apparatus apparatus laboratory laboratory material roundup information information newly potential interest offer instrumentation interest researcher weekly\n",
      "Topic  1\n",
      "cell new science use human protein gene change research study\n",
      "Topic  2\n",
      "cell t t cell protein immune gene tumor cancer mouse dna\n",
      "Topic  3\n",
      "pluto surface solar system new horizon material horizon atom electron quantum\n",
      "Topic  4\n",
      "pluto cell new horizon horizon solar system t t cell moon solar system\n",
      "Topic  5\n",
      "virus gene protein antibody rna dna vaccine human zika genome\n",
      "Topic  6\n",
      "virus antibody vaccine zika infect hiv zika virus viral ebola infection\n",
      "Topic  7\n",
      "climate change ice climate change specie plant c global impact temperature\n",
      "Topic  8\n",
      "protein carbon complex leucine reaction mtor c bond enzyme science\n",
      "Topic  9\n",
      "flow fluid electron plant protein immune graphene response t t cell\n",
      "\n",
      "\n",
      "-------NMF------\n",
      "\n",
      "\n",
      "Topic  0\n",
      "potential interest offer instrumentation weekly roundup roundup information apparatus laboratory weekly instrumentation apparatus laboratory material newly offer information newly\n",
      "Topic  1\n",
      "science research new u.s world scientist year national researcher institute\n",
      "Topic  2\n",
      "cell t t cell immune tumor cancer immune cell tissue stem stem cell\n",
      "Topic  3\n",
      "quantum atom optical material magnetic electron state device light use\n",
      "Topic  4\n",
      "pluto new horizon horizon system solar surface moon solar system analysis present\n",
      "Topic  5\n",
      "gene protein dna rna genome complex expression structure genetic human\n",
      "Topic  6\n",
      "virus antibody vaccine zika infect hiv zika virus viral ebola infection\n",
      "Topic  7\n",
      "climate change climate change ice specie global impact plant temperature increase\n",
      "Topic  8\n",
      "reaction bond carbon catalyst c metal methane organic molecule radical\n",
      "Topic  9\n",
      "flow fluid electron graphene like describe flow water graphene electron transport whirlpools\n",
      "\n",
      "\n",
      "-------LDA------\n",
      "\n",
      "\n",
      "Topic  0\n",
      "cell science use new human year change study protein research\n",
      "Topic  1\n",
      "frequency comb migraine asd causation optical frequency range inhibitory nhgri hcm δf chocolate\n",
      "Topic  2\n",
      "olefin hcn nitrile tic germinal germinal center friction protein translocation chiral carbon gpa\n",
      "Topic  3\n",
      "nps autism colloidal ln wimp purinosome asd antibody treatment therapy hiv shan\n",
      "Topic  4\n",
      "roundup material potential newly offer information newly weekly roundup instrumentation apparatus laboratory material roundup information potential interest offer instrumentation\n",
      "Topic  5\n",
      "camel plastic refuge mer lateral root groundwater storage reforestation dromedary cov mer cov\n",
      "Topic  6\n",
      "gp outbreak west glycoprotein gp glycoprotein bam kathmandu nepal outer membrane polymyxin ebola virusinfect\n",
      "Topic  7\n",
      "consolation csiro disease resistance exosphere homologous chromosome cftr homologous cirm signal mtor prosperous\n",
      "Topic  8\n",
      "dystrophy muscular dystrophy dystrophin hdl c kra polymerase corpse ubiquitin ppgpp muscular\n",
      "Topic  9\n",
      "astrocyte admission salinity tic nematicity cuprate ph.d program posselt human computation mni\n"
     ]
    }
   ],
   "source": [
    "mm.use_vectorizer(tf_vect3, tf_vect3_transformed)"
   ]
  },
  {
   "cell_type": "markdown",
   "metadata": {},
   "source": [
    "#### Test with tokenizer 1"
   ]
  },
  {
   "cell_type": "markdown",
   "metadata": {},
   "source": [
    "count vectorizer 1"
   ]
  },
  {
   "cell_type": "code",
   "execution_count": 23,
   "metadata": {
    "collapsed": true
   },
   "outputs": [],
   "source": [
    "cv_vect1, cv_vect1_transformed = mm.count_vectorizer(mm.spacy_tokenizer_1, 5000, all_descriptions)"
   ]
  },
  {
   "cell_type": "code",
   "execution_count": 24,
   "metadata": {},
   "outputs": [
    {
     "name": "stdout",
     "output_type": "stream",
     "text": [
      "\n",
      "\n",
      "-------LSA------\n",
      "\n",
      "\n",
      "Topic  0\n",
      "cell new use science human researcher study research material change\n",
      "Topic  1\n",
      "material roundup material potential information newly instrumentation apparatus interest researcher weekly roundup weekly laboratory material roundup information\n",
      "Topic  2\n",
      "cell protein t immune t cell gene mouse tumor cancer expression\n",
      "Topic  3\n",
      "cell science research new scientist world u.s researcher national cancer\n",
      "Topic  4\n",
      "human gene disease protein genome genetic virus study specie dna\n",
      "Topic  5\n",
      "change climate climate change cell 1 global specie ice 2 impact\n",
      "Topic  6\n",
      "science change protein climate issue 1 climate change 2 complex structure\n",
      "Topic  7\n",
      "issue 1 pageof pageof issue 2 system report 3 science human\n",
      "Topic  8\n",
      "virus protein vaccine zika antibody structure zika virus infection health infect\n",
      "Topic  9\n",
      "carbon plant reaction use bond catalyst c human metal specie\n",
      "\n",
      "\n",
      "-------NMF------\n",
      "\n",
      "\n",
      "Topic  0\n",
      "new study researcher scientist year time work world find life\n",
      "Topic  1\n",
      "material researcher potential information offer laboratory interest roundup newly apparatus\n",
      "Topic  2\n",
      "cell t immune t cell cancer tumor mouse stem stem cell tissue\n",
      "Topic  3\n",
      "use state material quantum system electron field optical magnetic light\n",
      "Topic  4\n",
      "protein gene dna structure rna complex function genome expression bind\n",
      "Topic  5\n",
      "change climate climate change global ice increase impact temperature policy ecosystem\n",
      "Topic  6\n",
      "science research u.s national world scientist scientific institute agency government\n",
      "Topic  7\n",
      "1 issue pageof pageof issue 2 3 report specie system 4\n",
      "Topic  8\n",
      "human virus disease vaccine health cause zika infection genetic animal\n",
      "Topic  9\n",
      "reaction carbon bond catalyst c molecule metal use form high\n",
      "\n",
      "\n",
      "-------LDA------\n",
      "\n",
      "\n",
      "Topic  0\n",
      "quantum material optical graphene device magnetic lattice film solar cell solar\n",
      "Topic  1\n",
      "science new research scientist world year researcher change use human\n",
      "Topic  2\n",
      "science research u.s new time large institute company national agency\n",
      "Topic  3\n",
      "refuge dna partner cell invasive group researcher self archaea methane\n",
      "Topic  4\n",
      "roundup material potential newly instrumentation information material potential researcher offer interest\n",
      "Topic  5\n",
      "cell use protein gene system human structure perspective study 1\n",
      "Topic  6\n",
      "researcher potential newly offer laboratory apparatus potential interest instrumentation apparatus apparatus laboratory offer instrumentation\n",
      "Topic  7\n",
      "migraine decomposition mitigate clock moon lunar carbon contain catalyst material\n",
      "Topic  8\n",
      "cell purinosome hair stem forest stem cell follicle hair follicle find use\n",
      "Topic  9\n",
      "migraine cell light peptide solar aggregate human world report reaction\n"
     ]
    }
   ],
   "source": [
    "mm.use_vectorizer(cv_vect1, cv_vect1_transformed)"
   ]
  },
  {
   "cell_type": "markdown",
   "metadata": {},
   "source": [
    "count vectorizer 2"
   ]
  },
  {
   "cell_type": "code",
   "execution_count": 25,
   "metadata": {
    "collapsed": true
   },
   "outputs": [],
   "source": [
    "cv_vect2, cv_vect2_transformed = mm.count_vectorizer(mm.spacy_tokenizer_1, 5000, all_descriptions, ngram_stop=3)"
   ]
  },
  {
   "cell_type": "code",
   "execution_count": 26,
   "metadata": {},
   "outputs": [
    {
     "name": "stdout",
     "output_type": "stream",
     "text": [
      "\n",
      "\n",
      "-------LSA------\n",
      "\n",
      "\n",
      "Topic  0\n",
      "cell new use science human study research researcher change protein\n",
      "Topic  1\n",
      "material roundup material potential instrumentation apparatus interest researcher laboratory material laboratory material potential weekly roundup information weekly roundup weekly\n",
      "Topic  2\n",
      "cell protein t immune gene t cell mouse tumor cancer expression\n",
      "Topic  3\n",
      "cell science research new scientist world u.s researcher national cancer\n",
      "Topic  4\n",
      "human gene disease protein genome genetic virus study specie dna\n",
      "Topic  5\n",
      "change climate climate change 1 cell global specie 2 ice impact\n",
      "Topic  6\n",
      "science change protein climate issue 1 complex climate change 2 structure\n",
      "Topic  7\n",
      "issue 1 pageof pageof issue 2 system report 3 science human\n",
      "Topic  8\n",
      "virus protein vaccine zika antibody structure zika virus infection health infect\n",
      "Topic  9\n",
      "plant carbon reaction use bond catalyst new c human metal\n",
      "\n",
      "\n",
      "-------NMF------\n",
      "\n",
      "\n",
      "Topic  0\n",
      "new study researcher scientist year time work find world life\n",
      "Topic  1\n",
      "material researcher potential information offer laboratory interest roundup newly apparatus\n",
      "Topic  2\n",
      "cell t immune t cell cancer tumor mouse stem stem cell tissue\n",
      "Topic  3\n",
      "use state material quantum electron system field optical magnetic light\n",
      "Topic  4\n",
      "protein gene dna structure complex rna function genome expression bind\n",
      "Topic  5\n",
      "change climate climate change global ice increase impact temperature policy ecosystem\n",
      "Topic  6\n",
      "science research u.s world national scientist scientific institute agency government\n",
      "Topic  7\n",
      "1 issue pageof pageof issue 2 3 report specie system 4\n",
      "Topic  8\n",
      "human virus disease vaccine health cause zika infection genetic animal\n",
      "Topic  9\n",
      "reaction carbon bond catalyst c molecule metal use form high\n",
      "\n",
      "\n",
      "-------LDA------\n",
      "\n",
      "\n",
      "Topic  0\n",
      "triplet darpa decomposition migraine cell mitigate find grow china plant\n",
      "Topic  1\n",
      "pluto new horizon tic horizon feature geology pluto chemical composition surface hydra irregularly shape new horizon team host numerous extensive nh3 reddish material\n",
      "Topic  2\n",
      "macchiarini surgeon karolinska science chat chat paolo macchiarini surgeon paolo macchiarini surgeon paolo paolo karolinska institute\n",
      "Topic  3\n",
      "ligo interferometer gravitational gravitational wave interferometer gravitational wave gravitational wave observatory interferometer gravitational laser interferometer wave observatory laser interferometer gravitational\n",
      "Topic  4\n",
      "science family science family journal family journal advancement science association advancement american association advancement association advancement science american association advancement science mission\n",
      "Topic  5\n",
      "admission new drug ph.d process galaxy pluto classic program resistance\n",
      "Topic  6\n",
      "roundup instrumentation material potential laboratory potential apparatus material newly offer information\n",
      "Topic  7\n",
      "mtap cell science research find new hair human result growth\n",
      "Topic  8\n",
      "ki sestrin2 dystrophin dystrophy muscular dystrophy crest cell neural crest cell neural crest crest mtorc1\n",
      "Topic  9\n",
      "cell use new science human study change research state system\n"
     ]
    }
   ],
   "source": [
    "mm.use_vectorizer(cv_vect2, cv_vect2_transformed)"
   ]
  },
  {
   "cell_type": "markdown",
   "metadata": {},
   "source": [
    "count vectorizer 3"
   ]
  },
  {
   "cell_type": "code",
   "execution_count": 27,
   "metadata": {
    "collapsed": true
   },
   "outputs": [],
   "source": [
    "cv_vect3, cv_vect3_transformed = mm.count_vectorizer(mm.spacy_tokenizer_1, 110000, all_descriptions)"
   ]
  },
  {
   "cell_type": "code",
   "execution_count": 28,
   "metadata": {},
   "outputs": [
    {
     "name": "stdout",
     "output_type": "stream",
     "text": [
      "\n",
      "\n",
      "-------LSA------\n",
      "\n",
      "\n",
      "Topic  0\n",
      "material researcher potential information offer laboratory interest newly apparatus roundup\n",
      "Topic  1\n",
      "cell new use science human study protein change research system\n",
      "Topic  2\n",
      "cell t t cell protein immune tumor mouse gene cancer tissue\n",
      "Topic  3\n",
      "science cell research new world scientist u.s researcher national institute\n",
      "Topic  4\n",
      "gene human protein disease genome genetic dna virus rna study\n",
      "Topic  5\n",
      "change climate climate change specie human global 1 ice increase cause\n",
      "Topic  6\n",
      "system new virus study human researcher solar surface find use\n",
      "Topic  7\n",
      "virus protein antibody zika vaccine structure zika virus infect infection viral\n",
      "Topic  8\n",
      "issue 1 pageof pageof issue system 2 science report 3 immune\n",
      "Topic  9\n",
      "system protein new change ice surface solar climate pluto year\n",
      "\n",
      "\n",
      "-------NMF------\n",
      "\n",
      "\n",
      "Topic  0\n",
      "material researcher potential information offer laboratory interest roundup newly apparatus\n",
      "Topic  1\n",
      "gene human genome dna genetic study disease expression rna mutation\n",
      "Topic  2\n",
      "cell t t cell immune cancer tumor mouse stem stem cell tissue\n",
      "Topic  3\n",
      "use material state electron atom quantum reaction high carbon light\n",
      "Topic  4\n",
      "protein structure complex bind function rna site enzyme membrane dna\n",
      "Topic  5\n",
      "change climate climate change global ice increase impact temperature carbon model\n",
      "Topic  6\n",
      "science research new world scientist u.s national researcher university institute\n",
      "Topic  7\n",
      "virus vaccine zika antibody human health zika virus infection infect disease\n",
      "Topic  8\n",
      "1 issue pageof pageof issue 2 3 report specie 4 provide\n",
      "Topic  9\n",
      "system new surface solar pluto datum solar system horizon present new horizon\n",
      "\n",
      "\n",
      "-------LDA------\n",
      "\n",
      "\n",
      "Topic  0\n",
      "roundup potential offer material material potential researcher information instrumentation newly apparatus\n",
      "Topic  1\n",
      "exosphere decomposition news migraine clock mitigate migraine migraine news roundup corpse decomposition clock corpse week mitigate corpse\n",
      "Topic  2\n",
      "myosin hcm refuge growth hormone causation hormone resistance lateral root inhibit activity koch sialic\n",
      "Topic  3\n",
      "migraine quark reforestation portal vessel cgrp grow pattern doodler range pattern universe ofchalleng mathematical presentsstrik black\n",
      "Topic  4\n",
      "antiferromagnet para ratio ortho para photodesorb ortho spintronic awry road successful providingsuggestion orphan magnificent\n",
      "Topic  5\n",
      "russian wimp csiro lead good red planet attack u.s wing hbf obelisk mite\n",
      "Topic  6\n",
      "kathmandu nepal catastrophic activist hydrothermal socioethical dwv technique allow ese common cause\n",
      "Topic  7\n",
      "purinosome consolation corpse devita consolation behavior stressed partner prairie unstressed partner stressed unstressed\n",
      "Topic  8\n",
      "valley darpa begin onfebruary theelection term begin theelection term follow result result theelection onfebruary 2016 babylonian\n",
      "Topic  9\n",
      "cell use new science human study change research state system\n"
     ]
    }
   ],
   "source": [
    "mm.use_vectorizer(cv_vect3, cv_vect3_transformed)"
   ]
  },
  {
   "cell_type": "markdown",
   "metadata": {},
   "source": [
    "### Try TFIDF to compare"
   ]
  },
  {
   "cell_type": "markdown",
   "metadata": {},
   "source": [
    "tfidf vectorizer 1"
   ]
  },
  {
   "cell_type": "code",
   "execution_count": 29,
   "metadata": {
    "collapsed": true
   },
   "outputs": [],
   "source": [
    "tf_vect1, tf_vect1_transformed = mm.tfidf_vectorizer(mm.spacy_tokenizer_1, 5000, all_descriptions)"
   ]
  },
  {
   "cell_type": "markdown",
   "metadata": {},
   "source": [
    "#### This NMF version worked well"
   ]
  },
  {
   "cell_type": "code",
   "execution_count": 30,
   "metadata": {},
   "outputs": [
    {
     "name": "stdout",
     "output_type": "stream",
     "text": [
      "\n",
      "\n",
      "-------LSA------\n",
      "\n",
      "\n",
      "Topic  0\n",
      "instrumentation apparatus interest researcher newly offer potential interest weekly roundup roundup information information newly offer instrumentation laboratory material apparatus laboratory\n",
      "Topic  1\n",
      "cell science new use human research study change gene protein\n",
      "Topic  2\n",
      "cell protein t gene t cell immune tumor dna expression cancer\n",
      "Topic  3\n",
      "cell science cancer t t cell research immune disease tumor virus\n",
      "Topic  4\n",
      "cell science t t cell quantum material atom research solar electron\n",
      "Topic  5\n",
      "protein dna gene rna structure science complex genome enzyme research\n",
      "Topic  6\n",
      "virus zika vaccine antibody zika virus infect infection viral ebola outbreak\n",
      "Topic  7\n",
      "carbon reaction bond c catalyst plant climate enzyme science methane\n",
      "Topic  8\n",
      "protein change climate structure science policy climate change electron state bind\n",
      "Topic  9\n",
      "protein ice planet earth surface structure year star solar gravitational\n",
      "\n",
      "\n",
      "-------NMF------\n",
      "\n",
      "\n",
      "Topic  0\n",
      "weekly roundup interest researcher roundup information offer instrumentation weekly newly offer laboratory material potential interest information newly instrumentation apparatus\n",
      "Topic  1\n",
      "gene genome dna human genetic expression disease mutation study rna\n",
      "Topic  2\n",
      "cell t t cell immune tumor cancer tissue immune cell stem stem cell\n",
      "Topic  3\n",
      "quantum material electron optical system atom magnetic state light use\n",
      "Topic  4\n",
      "science research new u.s scientist world national university institute researcher\n",
      "Topic  5\n",
      "climate change climate change global ice impact specie ecosystem water temperature\n",
      "Topic  6\n",
      "virus zika vaccine antibody zika virus infect infection health ebola viral\n",
      "Topic  7\n",
      "reaction carbon bond catalyst c metal molecule h methane hydrogen\n",
      "Topic  8\n",
      "plant crop soil growth specie yield light sugar nitrogen pathway\n",
      "Topic  9\n",
      "protein structure complex rna bind membrane enzyme function site dna\n",
      "\n",
      "\n",
      "-------LDA------\n",
      "\n",
      "\n",
      "Topic  0\n",
      "oligodendrocyte section cell endothelial black hole galaxy black immune plant hole\n",
      "Topic  1\n",
      "science new research scientist world human year climate change researcher\n",
      "Topic  2\n",
      "disinfectant residual triplet ice trauma science ki research flow forest\n",
      "Topic  3\n",
      "roundup instrumentation material potential weekly apparatus laboratory interest researcher potential interest offer instrumentation weekly roundup information newly\n",
      "Topic  4\n",
      "edit dystrophy muscular dystrophy dystrophin gene edit muscular crispr cas9 human embryos faulty controversy\n",
      "Topic  5\n",
      "cell protein use gene structure dna system complex form quantum\n",
      "Topic  6\n",
      "pluto new horizon horizon ch4 horizon datum n2 pluto modify enigmatic system spacecraft fly system series\n",
      "Topic  7\n",
      "rt organic perovskite inorganic organic y lnc13 y chromosome migraine decomposition sex environmental protection\n",
      "Topic  8\n",
      "purinosome slip event slow slip earthquake offshore slip propagation gps large earthquake fault\n",
      "Topic  9\n",
      "camel migraine peptide mer aggregate coronavirus dna t synthesis human\n"
     ]
    }
   ],
   "source": [
    "mm.use_vectorizer(tf_vect1, tf_vect1_transformed)"
   ]
  },
  {
   "cell_type": "markdown",
   "metadata": {},
   "source": [
    "tfidf vectorizer 2"
   ]
  },
  {
   "cell_type": "code",
   "execution_count": 31,
   "metadata": {
    "collapsed": true
   },
   "outputs": [],
   "source": [
    "tf_vect2, tf_vect2_transformed = mm.tfidf_vectorizer(mm.spacy_tokenizer_1, 5000, all_descriptions, ngram_stop=4)"
   ]
  },
  {
   "cell_type": "markdown",
   "metadata": {},
   "source": [
    "#### This NMF version worked well"
   ]
  },
  {
   "cell_type": "code",
   "execution_count": 32,
   "metadata": {},
   "outputs": [
    {
     "name": "stdout",
     "output_type": "stream",
     "text": [
      "\n",
      "\n",
      "-------LSA------\n",
      "\n",
      "\n",
      "Topic  0\n",
      "instrumentation apparatus potential interest researcher roundup information roundup information newly roundup information newly offer information newly information newly offer interest researcher material potential interest material potential interest researcher\n",
      "Topic  1\n",
      "cell science new use human research study change gene protein\n",
      "Topic  2\n",
      "cell protein gene t t cell immune tumor dna expression cancer\n",
      "Topic  3\n",
      "cell science cancer t t cell research immune tumor disease virus\n",
      "Topic  4\n",
      "gene specie human change plant climate genome virus genetic rna\n",
      "Topic  5\n",
      "protein dna gene rna structure science complex genome enzyme research\n",
      "Topic  6\n",
      "virus zika vaccine antibody zika virus infect infection viral ebola outbreak\n",
      "Topic  7\n",
      "carbon reaction bond c catalyst plant climate enzyme protein science\n",
      "Topic  8\n",
      "protein change climate structure science climate change policy bind electron rna\n",
      "Topic  9\n",
      "ice protein planet earth gravitational star year wave surface plant\n",
      "\n",
      "\n",
      "-------NMF------\n",
      "\n",
      "\n",
      "Topic  0\n",
      "apparatus laboratory material potential laboratory material apparatus laboratory material weekly roundup information laboratory material potential interest weekly roundup weekly laboratory material potential interest researcher weekly roundup information newly\n",
      "Topic  1\n",
      "gene genome human genetic dna expression plant disease evolution study\n",
      "Topic  2\n",
      "cell t t cell immune tumor cancer tissue immune cell stem stem cell\n",
      "Topic  3\n",
      "quantum electron material atom optical state magnetic device use particle\n",
      "Topic  4\n",
      "science research new u.s world scientist national university institute researcher\n",
      "Topic  5\n",
      "climate change climate change global specie ecosystem temperature impact ice water\n",
      "Topic  6\n",
      "virus zika vaccine antibody zika virus infect infection health viral ebola\n",
      "Topic  7\n",
      "reaction carbon bond catalyst c metal molecule methane hydrogen organic\n",
      "Topic  8\n",
      "protein structure complex rna bind membrane enzyme dna function site\n",
      "Topic  9\n",
      "star planet earth gravitational wave galaxy year solar gravitational wave surface\n",
      "\n",
      "\n",
      "-------LDA------\n",
      "\n",
      "\n",
      "Topic  0\n",
      "oligodendrocyte moon rock cell financial system brain coal horizon canal\n",
      "Topic  1\n",
      "science new use research change human study scientist state world\n",
      "Topic  2\n",
      "qubit 2d ligo quantum optical comb nanocrystal dot quantum dot triplet\n",
      "Topic  3\n",
      "pluto new horizon horizon migraine bright surface julythe fast rotate hydra irregularly shape fast outskirt solar system series body outer solar system\n",
      "Topic  4\n",
      "colloidal nps megathrust organic perovskite inorganic organic perovskite inorganic organic refuge inorganic organic perovskite solar perovskite solar perovskite solar cell\n",
      "Topic  5\n",
      "partner stress microbiota translation cell hormone ice thermoelectric growth hormone gut\n",
      "Topic  6\n",
      "richmond sexual harassment sexual learn earthquake postulate allegation nucleoid portal niche\n",
      "Topic  7\n",
      "roundup apparatus instrumentation material potential instrumentation apparatus laboratory material apparatus laboratory potential interest researcher offer instrumentation apparatus laboratory offer instrumentation apparatus weekly roundup information newly\n",
      "Topic  8\n",
      "forest cystic fibrosis cystic trauma vaccine fibrosis aggregate darpa translocation infection\n",
      "Topic  9\n",
      "cell protein gene immune dna rna enzyme tumor cancer disease\n"
     ]
    }
   ],
   "source": [
    "mm.use_vectorizer(tf_vect2, tf_vect2_transformed)"
   ]
  },
  {
   "cell_type": "code",
   "execution_count": 33,
   "metadata": {
    "collapsed": true
   },
   "outputs": [],
   "source": [
    "tf_vect2, tf_vect2_transformed = mm.tfidf_vectorizer(mm.spacy_tokenizer_1, 5000, all_descriptions, ngram_stop=3)"
   ]
  },
  {
   "cell_type": "markdown",
   "metadata": {},
   "source": [
    "#### This NMF version one works well"
   ]
  },
  {
   "cell_type": "code",
   "execution_count": 34,
   "metadata": {},
   "outputs": [
    {
     "name": "stdout",
     "output_type": "stream",
     "text": [
      "\n",
      "\n",
      "-------LSA------\n",
      "\n",
      "\n",
      "Topic  0\n",
      "potential interest information newly weekly roundup information weekly roundup apparatus laboratory material weekly laboratory material potential laboratory material offer instrumentation apparatus offer instrumentation\n",
      "Topic  1\n",
      "cell science new use human research study change gene protein\n",
      "Topic  2\n",
      "cell protein gene t t cell immune tumor dna cancer expression\n",
      "Topic  3\n",
      "cell science cancer t t cell research immune tumor disease virus\n",
      "Topic  4\n",
      "gene specie human change plant climate genome virus genetic rna\n",
      "Topic  5\n",
      "protein dna gene rna structure science complex genome enzyme research\n",
      "Topic  6\n",
      "virus zika vaccine antibody zika virus infect infection viral ebola outbreak\n",
      "Topic  7\n",
      "carbon reaction bond c catalyst plant climate enzyme science protein\n",
      "Topic  8\n",
      "plant reaction study researcher new star carbon gravitational catalyst wave\n",
      "Topic  9\n",
      "protein ice planet earth star gravitational year surface structure solar\n",
      "\n",
      "\n",
      "-------NMF------\n",
      "\n",
      "\n",
      "Topic  0\n",
      "offer instrumentation instrumentation apparatus laboratory apparatus laboratory material weekly roundup weekly roundup information weekly roundup information interest researcher newly offer newly offer instrumentation\n",
      "Topic  1\n",
      "planet star earth gravitational wave galaxy year solar surface crater\n",
      "Topic  2\n",
      "cell t t cell immune tumor cancer tissue immune cell mouse stem\n",
      "Topic  3\n",
      "quantum electron material atom optical state magnetic use device particle\n",
      "Topic  4\n",
      "science research new u.s world scientist national university institute researcher\n",
      "Topic  5\n",
      "climate change climate change global specie ecosystem temperature policy impact increase\n",
      "Topic  6\n",
      "virus zika vaccine antibody zika virus infect infection health viral ebola\n",
      "Topic  7\n",
      "reaction carbon bond catalyst c metal molecule hydrogen methane organic\n",
      "Topic  8\n",
      "plant crop soil growth specie yield light sugar red pathway\n",
      "Topic  9\n",
      "gene protein dna rna genome genetic human complex expression function\n",
      "\n",
      "\n",
      "-------LDA------\n",
      "\n",
      "\n",
      "Topic  0\n",
      "triplet oligodendrocyte qpt darpa sestrin2 mtorc1 leucine phase transition magnetic magnet\n",
      "Topic  1\n",
      "pluto tic y yob new horizon y chromosome horizon α-syn pff α-syn pff\n",
      "Topic  2\n",
      "roundup instrumentation material potential roundup information instrumentation apparatus weekly roundup interest researcher roundup information newly information newly apparatus laboratory material\n",
      "Topic  3\n",
      "refuge astrocyte gravitational particle ligo physicist wave gravitational wave cell proton\n",
      "Topic  4\n",
      "science research institute u.s earthquake national university agency news gravitational\n",
      "Topic  5\n",
      "purinosome admission ozone purine atp french resistance partner pluto system\n",
      "Topic  6\n",
      "growth hormone gut microbe undernutrition richmond battery uk eu stunt gut microbiota\n",
      "Topic  7\n",
      "mtap migraine decomposition mitigate clock exosphere comb babylonian frequency comb chip\n",
      "Topic  8\n",
      "dystrophin dystrophy muscular dystrophy crest cell neural crest cell neural crest crest nelson crispr cas9 muscular\n",
      "Topic  9\n",
      "cell use new human change study protein state system gene\n"
     ]
    }
   ],
   "source": [
    "mm.use_vectorizer(tf_vect2, tf_vect2_transformed)"
   ]
  },
  {
   "cell_type": "code",
   "execution_count": null,
   "metadata": {
    "collapsed": true
   },
   "outputs": [],
   "source": []
  },
  {
   "cell_type": "markdown",
   "metadata": {},
   "source": [
    "tfidf vectorizer 3"
   ]
  },
  {
   "cell_type": "code",
   "execution_count": 35,
   "metadata": {
    "collapsed": true
   },
   "outputs": [],
   "source": [
    "tf_vect3, tf_vect3_transformed = mm.tfidf_vectorizer(mm.spacy_tokenizer_1, 110000, all_descriptions)"
   ]
  },
  {
   "cell_type": "code",
   "execution_count": 36,
   "metadata": {},
   "outputs": [
    {
     "name": "stdout",
     "output_type": "stream",
     "text": [
      "\n",
      "\n",
      "-------LSA------\n",
      "\n",
      "\n",
      "Topic  0\n",
      "potential interest offer instrumentation information newly newly offer laboratory material apparatus laboratory weekly roundup weekly instrumentation apparatus roundup information\n",
      "Topic  1\n",
      "cell new science use human protein gene change system study\n",
      "Topic  2\n",
      "cell t t cell immune protein gene tumor cancer mouse tissue\n",
      "Topic  3\n",
      "surface pluto solar system material new horizon atom horizon electron quantum\n",
      "Topic  4\n",
      "pluto cell new horizon horizon solar system surface moon solar system t\n",
      "Topic  5\n",
      "gene protein virus rna antibody dna human vaccine genome zika\n",
      "Topic  6\n",
      "virus antibody zika vaccine infect zika virus viral ebola ebola virus infection\n",
      "Topic  7\n",
      "climate change ice climate change specie plant global co2 impact increase\n",
      "Topic  8\n",
      "carbon bond c reaction h catalyst – enzyme c – complex\n",
      "Topic  9\n",
      "protein structure leucine mtorc1 electron climate change bind complex t\n",
      "\n",
      "\n",
      "-------NMF------\n",
      "\n",
      "\n",
      "Topic  0\n",
      "potential interest instrumentation apparatus information newly weekly roundup weekly laboratory material interest researcher roundup information offer instrumentation newly offer\n",
      "Topic  1\n",
      "science research new u.s world scientist national researcher institute university\n",
      "Topic  2\n",
      "cell t t cell immune tumor cancer immune cell stem cell stem tissue\n",
      "Topic  3\n",
      "quantum electron atom optical material magnetic state device use light\n",
      "Topic  4\n",
      "pluto new horizon horizon system solar surface moon solar system analysis present\n",
      "Topic  5\n",
      "gene dna genome rna genetic expression mutation human crispr disease\n",
      "Topic  6\n",
      "virus antibody zika vaccine infect zika virus viral ebola infection ebola virus\n",
      "Topic  7\n",
      "climate change climate change ice specie plant global impact temperature ecosystem\n",
      "Topic  8\n",
      "bond reaction c carbon catalyst h metal – c – h bond\n",
      "Topic  9\n",
      "protein structure complex leucine mtorc1 bind sestrin2 enzyme function membrane\n",
      "\n",
      "\n",
      "-------LDA------\n",
      "\n",
      "\n",
      "Topic  0\n",
      "roundup material potential interest researcher instrumentation apparatus weekly laboratory material offer instrumentation roundup information information newly apparatus laboratory\n",
      "Topic  1\n",
      "plastic exosphere decomposition news migraine clock mitigate migraine news roundup week mitigate corpse decomposition clock corpse bottle\n",
      "Topic  2\n",
      "actin microtubule tic actin filament filament lncrna cytoskeleton refuge dhb aggression\n",
      "Topic  3\n",
      "migraine valley quark reforestation grassland portal hydrothermal portal vessel mitochondria plastid plastid\n",
      "Topic  4\n",
      "hydrogen peroxide peroxide carbon fragment ortho para ratio photodesorb ortho para antiferromagnet avoid use spintronic\n",
      "Topic  5\n",
      "cell science use new human change protein study research state\n",
      "Topic  6\n",
      "hcn nitrile salinity kathmandu nepal incandescent range inhibitory socioethical loss plasmonic landslide\n",
      "Topic  7\n",
      "purinosome consolation csiro datum sample harness solar cell recombination heu leu iodide cell devita\n",
      "Topic  8\n",
      "mtorc1 leucine colloidal sestrin2 sam trna sam enzyme play central central role riboswitch\n",
      "Topic  9\n",
      "asd translocation npcs lnc13 acetylation intake hdl c ppgpp torero cas1\n"
     ]
    }
   ],
   "source": [
    "mm.use_vectorizer(tf_vect3, tf_vect3_transformed)"
   ]
  },
  {
   "cell_type": "markdown",
   "metadata": {},
   "source": [
    "# The following is the best and final model and the topics returned"
   ]
  },
  {
   "cell_type": "code",
   "execution_count": 43,
   "metadata": {
    "collapsed": true
   },
   "outputs": [],
   "source": [
    "tf_vect2, tf_vect2_transformed = mm.tfidf_vectorizer(mm.spacy_tokenizer_1, 5000, all_descriptions, ngram_stop=3)\n",
    "norm = Normalizer()\n",
    "vect_normalized = norm.fit_transform(tf_vect2_transformed)\n",
    "model, model_transformed = mm.nmf_tfidf(vect_normalized, n_comp=10)"
   ]
  },
  {
   "cell_type": "markdown",
   "metadata": {},
   "source": [
    "-------NMF------\n",
    "\n",
    "\n",
    "Topic  0\n",
    "\n",
    "offer instrumentation instrumentation apparatus laboratory apparatus laboratory material weekly roundup weekly roundup information weekly roundup information interest researcher newly offer newly offer instrumentation\n",
    "\n",
    "Topic  1\n",
    "\n",
    "planet star earth gravitational wave galaxy year solar surface crater\n",
    "\n",
    "Topic  2\n",
    "\n",
    "cell t t cell immune tumor cancer tissue immune cell mouse stem\n",
    "\n",
    "Topic  3\n",
    "\n",
    "quantum electron material atom optical state magnetic use device particle\n",
    "\n",
    "Topic  4\n",
    "\n",
    "science research new u.s world scientist national university institute researcher\n",
    "\n",
    "Topic  5\n",
    "\n",
    "climate change climate change global specie ecosystem temperature policy impact increase\n",
    "\n",
    "Topic  6\n",
    "\n",
    "virus zika vaccine antibody zika virus infect infection health viral ebola\n",
    "\n",
    "Topic  7\n",
    "\n",
    "reaction carbon bond catalyst c metal molecule hydrogen methane organic\n",
    "\n",
    "Topic  8\n",
    "\n",
    "plant crop soil growth specie yield light sugar red pathway\n",
    "\n",
    "Topic  9\n",
    "\n",
    "gene protein dna rna genome genetic human complex expression function"
   ]
  },
  {
   "cell_type": "markdown",
   "metadata": {},
   "source": [
    "### Finally, try more topics"
   ]
  },
  {
   "cell_type": "code",
   "execution_count": 40,
   "metadata": {
    "collapsed": true
   },
   "outputs": [],
   "source": [
    "tf_vect2, tf_vect2_transformed = mm.tfidf_vectorizer(mm.spacy_tokenizer_1, 5000, all_descriptions, ngram_stop=3)"
   ]
  },
  {
   "cell_type": "code",
   "execution_count": 42,
   "metadata": {
    "scrolled": false
   },
   "outputs": [
    {
     "name": "stdout",
     "output_type": "stream",
     "text": [
      "\n",
      "\n",
      "-------LSA------\n",
      "\n",
      "\n",
      "Topic  0\n",
      "potential interest researcher weekly roundup information offer instrumentation newly offer information newly offer weekly roundup information newly potential interest weekly instrumentation apparatus laboratory\n",
      "Topic  1\n",
      "cell science new use human research study change gene protein\n",
      "Topic  2\n",
      "cell protein gene t t cell immune tumor dna cancer expression\n",
      "Topic  3\n",
      "cell science cancer t t cell research immune tumor disease virus\n",
      "Topic  4\n",
      "cell science t t cell quantum material atom solar electron research\n",
      "Topic  5\n",
      "climate change cell climate change ice t t cell temperature global impact\n",
      "\n",
      "\n",
      "-------NMF------\n",
      "\n",
      "\n",
      "Topic  0\n",
      "offer instrumentation apparatus interest researcher instrumentation apparatus laboratory laboratory material potential newly offer instrumentation newly offer material potential interest apparatus laboratory material laboratory material roundup information newly\n",
      "Topic  1\n",
      "gene protein dna rna genome genetic complex human function expression\n",
      "Topic  2\n",
      "cell t t cell immune tumor cancer mouse tissue immune cell stem cell\n",
      "Topic  3\n",
      "quantum material use atom electron reaction light metal bond molecule\n",
      "Topic  4\n",
      "science research new world scientist u.s national researcher health university\n",
      "Topic  5\n",
      "climate change climate change specie global ice impact plant ecosystem increase\n",
      "\n",
      "\n",
      "-------LDA------\n",
      "\n",
      "\n",
      "Topic  0\n",
      "reaction catalyst bond c metal carbon platinum radical oxide h\n",
      "Topic  1\n",
      "material apparatus roundup instrumentation material potential interest researcher material potential interest instrumentation apparatus laboratory offer instrumentation weekly\n",
      "Topic  2\n",
      "science new use research human study scientist world state change\n",
      "Topic  3\n",
      "cell protein gene dna immune rna structure mouse enzyme neuron\n",
      "Topic  4\n",
      "ligo black hole interferometer interferometer gravitational laser interferometer laser interferometer gravitational gravitational wave observatory wave observatory interferometer gravitational wave observatory ligo\n",
      "Topic  5\n",
      "frb lewis sublimate lymph pluto reconnection frbs h2o lewis acid new horizon\n"
     ]
    }
   ],
   "source": [
    "mm.use_vectorizer(tf_vect2, tf_vect2_transformed, n_comp=6)"
   ]
  },
  {
   "cell_type": "code",
   "execution_count": 40,
   "metadata": {
    "collapsed": true
   },
   "outputs": [],
   "source": [
    "tf_vect2, tf_vect2_transformed = mm.tfidf_vectorizer(mm.spacy_tokenizer_1, 5000, all_descriptions, ngram_stop=3)"
   ]
  },
  {
   "cell_type": "code",
   "execution_count": 41,
   "metadata": {
    "scrolled": false
   },
   "outputs": [
    {
     "name": "stdout",
     "output_type": "stream",
     "text": [
      "\n",
      "\n",
      "-------LSA------\n",
      "\n",
      "\n",
      "Topic  0\n",
      "potential interest information newly weekly roundup information weekly roundup apparatus laboratory material weekly laboratory material potential laboratory material offer instrumentation apparatus offer instrumentation\n",
      "Topic  1\n",
      "cell science new use human research study change gene protein\n",
      "Topic  2\n",
      "cell protein gene t t cell immune tumor dna cancer expression\n",
      "Topic  3\n",
      "cell science cancer t t cell research immune tumor disease virus\n",
      "Topic  4\n",
      "gene specie plant change human climate genome virus genetic rna\n",
      "Topic  5\n",
      "protein dna gene rna science structure complex genome enzyme research\n",
      "Topic  6\n",
      "virus zika vaccine antibody zika virus infect infection viral ebola health\n",
      "Topic  7\n",
      "carbon reaction bond catalyst c plant climate enzyme co2 methane\n",
      "Topic  8\n",
      "plant star planet gravitational carbon galaxy earth wave reaction year\n",
      "Topic  9\n",
      "protein ice earth structure planet cell star gravitational surface crater\n",
      "Topic  10\n",
      "plant protein light science system crop signal immune cell specie\n",
      "Topic  11\n",
      "cancer tumor plant protein t t cell patient structure electron drug\n",
      "Topic  12\n",
      "brain neuron sleep memory social activity neuronal immune animal behavior\n",
      "Topic  13\n",
      "t t cell immune science system quantum gene atom rna genome\n",
      "Topic  14\n",
      "system solar surface pluto issue 1 ice science pageof pageof issue\n",
      "Topic  15\n",
      "gravitational book scientific wave 1 city issue ligo gravitational wave 2\n",
      "Topic  16\n",
      "city dna t rna t cell urban people world earthquake life\n",
      "Topic  17\n",
      "disease health issue 1 state system wave gravitational 2 methane\n",
      "Topic  18\n",
      "specie issue 1 pageof pageof issue 2 t t cell earthquake science\n",
      "Topic  19\n",
      "dna cancer tumor plant memory state strand enzyme quantum vaccine\n",
      "\n",
      "\n",
      "-------NMF------\n",
      "\n",
      "\n",
      "Topic  0\n",
      "weekly roundup information information newly offer instrumentation apparatus laboratory instrumentation apparatus potential interest interest researcher laboratory material potential offer instrumentation laboratory material offer instrumentation apparatus\n",
      "Topic  1\n",
      "science research u.s national new world scientist institute agency university\n",
      "Topic  2\n",
      "cell stem stem cell solar solar cell tissue progenitor perovskite mouse single cell\n",
      "Topic  3\n",
      "quantum electron atom optical material state magnetic device particle use\n",
      "Topic  4\n",
      "pluto system solar new horizon horizon surface solar system moon datum analysis\n",
      "Topic  5\n",
      "climate change climate change ice temperature global co2 carbon forest warm\n",
      "Topic  6\n",
      "virus zika vaccine antibody zika virus infect viral ebola infection zikv\n",
      "Topic  7\n",
      "reaction carbon bond catalyst c metal molecule h hydrogen organic\n",
      "Topic  8\n",
      "planet star earth galaxy crater ice orbit surface solar impact\n",
      "Topic  9\n",
      "protein structure complex bind membrane function site enzyme design determine\n",
      "Topic  10\n",
      "plant crop soil growth light yield regulate photosynthesis sugar pathway\n",
      "Topic  11\n",
      "cancer tumor patient mutation tumor cell therapy genetic organ cancer cell immunotherapy\n",
      "Topic  12\n",
      "brain neuron sleep memory activity neuronal neural cortex mouse pain\n",
      "Topic  13\n",
      "t t cell cell immune immune cell antigen response immunity immune system system\n",
      "Topic  14\n",
      "gravitational wave gravitational wave ligo black black hole hole physicist interferometer observatory\n",
      "Topic  15\n",
      "city urban social health people public world water global urbanization\n",
      "Topic  16\n",
      "earthquake fault zone large subduction subduction zone large earthquake seismic earth slip\n",
      "Topic  17\n",
      "specie 1 issue pageof pageof issue 2 3 evolutionary evolution 4\n",
      "Topic  18\n",
      "human drug study researcher new disease resistance patient antibiotic find\n",
      "Topic  19\n",
      "gene dna genome rna expression genetic crispr mutation gene expression chromatin\n",
      "\n",
      "\n",
      "-------LDA------\n",
      "\n",
      "\n",
      "Topic  0\n",
      "migraine decomposition mitigate book schedule grow partner strand version clock\n",
      "Topic  1\n",
      "roundup material potential interest researcher material potential interest instrumentation apparatus laboratory offer instrumentation weekly apparatus laboratory apparatus laboratory material weekly roundup information\n",
      "Topic  2\n",
      "cell protein gene dna rna immune enzyme tumor cancer mouse\n",
      "Topic  3\n",
      "gravitational black hole ligo gravitational wave interferometer black spacetime gravitational wave observatory interferometer gravitational wave interferometer gravitational\n",
      "Topic  4\n",
      "organic forest material science droplet copper tropical nanocrystal tropical forest structure\n",
      "Topic  5\n",
      "admission purinosome purine atp nucleoid component ph.d membrane course mitochondria\n",
      "Topic  6\n",
      "f430 tic camel darpa hcn methyl nitrile coenzyme m figure panel\n",
      "Topic  7\n",
      "iress histone acetylation spliceosome determine gene structure glutamate rna motif\n",
      "Topic  8\n",
      "liquid crystal ki nps qpt phase transition rem np salinity cesium plastic\n",
      "Topic  9\n",
      "science new use research human change study scientist state world\n",
      "Topic  10\n",
      "dna cas9 rna protein translation cleavage rna polymerase polymerase supramolecular target\n",
      "Topic  11\n",
      "reaction catalyst bond c metal platinum carbon chiral h radical\n",
      "Topic  12\n",
      "canal archaea methane galaxy sediment astro h black x black hole astro\n",
      "Topic  13\n",
      "mtorc1 env leucine sestrin2 growth hormone need new strategic central role play central role play central\n",
      "Topic  14\n",
      "lunar moon superconductivity magnet nitride nematicity boron nitride 2d dimensional 2d plasmonic\n",
      "Topic  15\n",
      "triplet asd cystic fibrosis cystic fibrosis white dwarf autism spectrum autism spectrum disorder spectrum disorder symptom\n",
      "Topic  16\n",
      "battery dam teacher flow drug resistance lipid graphene water vesicle\n",
      "Topic  17\n",
      "light cell root renewal self sheet progenitor desperate stem cell flow\n",
      "Topic  18\n",
      "earthquake megathrust slip large earthquake combine slow slip slow stretch datum fluorescence\n",
      "Topic  19\n",
      "y yob y chromosome sex male determination female sperm calcium replace\n"
     ]
    }
   ],
   "source": [
    "mm.use_vectorizer(tf_vect2, tf_vect2_transformed, n_comp=20)"
   ]
  },
  {
   "cell_type": "markdown",
   "metadata": {},
   "source": [
    "#### Try t-sne"
   ]
  },
  {
   "cell_type": "code",
   "execution_count": 46,
   "metadata": {},
   "outputs": [
    {
     "name": "stdout",
     "output_type": "stream",
     "text": [
      "[t-SNE] Computing 31 nearest neighbors...\n",
      "[t-SNE] Indexed 1877 samples in 0.002s...\n",
      "[t-SNE] Computed neighbors for 1877 samples in 0.064s...\n",
      "[t-SNE] Computed conditional probabilities for sample 1000 / 1877\n",
      "[t-SNE] Computed conditional probabilities for sample 1877 / 1877\n",
      "[t-SNE] Mean sigma: 0.000000\n",
      "[t-SNE] Computed conditional probabilities in 0.031s\n",
      "[t-SNE] Iteration 50: error = 85.8360062, gradient norm = 0.1425831 (50 iterations in 2.419s)\n",
      "[t-SNE] Iteration 100: error = 74.6411667, gradient norm = 0.0480437 (50 iterations in 1.648s)\n",
      "[t-SNE] Iteration 150: error = 72.3865204, gradient norm = 0.0350002 (50 iterations in 1.517s)\n",
      "[t-SNE] Iteration 200: error = 71.5413818, gradient norm = 0.0195318 (50 iterations in 1.632s)\n",
      "[t-SNE] Iteration 250: error = 71.1872025, gradient norm = 0.0154876 (50 iterations in 1.314s)\n",
      "[t-SNE] KL divergence after 250 iterations with early exaggeration: 71.187202\n",
      "[t-SNE] Iteration 300: error = 1.4056250, gradient norm = 0.0012930 (50 iterations in 1.413s)\n",
      "[t-SNE] Iteration 350: error = 1.1228786, gradient norm = 0.0005543 (50 iterations in 1.300s)\n",
      "[t-SNE] Iteration 400: error = 1.0182509, gradient norm = 0.0003456 (50 iterations in 1.253s)\n",
      "[t-SNE] Iteration 450: error = 0.9666080, gradient norm = 0.0002596 (50 iterations in 1.127s)\n",
      "[t-SNE] Iteration 500: error = 0.9364619, gradient norm = 0.0002083 (50 iterations in 1.129s)\n",
      "[t-SNE] Iteration 550: error = 0.9180083, gradient norm = 0.0001876 (50 iterations in 1.112s)\n",
      "[t-SNE] Iteration 600: error = 0.9056329, gradient norm = 0.0001599 (50 iterations in 1.104s)\n",
      "[t-SNE] Iteration 650: error = 0.8965161, gradient norm = 0.0001486 (50 iterations in 1.110s)\n",
      "[t-SNE] Iteration 700: error = 0.8894835, gradient norm = 0.0001404 (50 iterations in 1.116s)\n",
      "[t-SNE] Iteration 750: error = 0.8835644, gradient norm = 0.0001324 (50 iterations in 1.136s)\n",
      "[t-SNE] Iteration 800: error = 0.8785322, gradient norm = 0.0001274 (50 iterations in 1.257s)\n",
      "[t-SNE] Iteration 850: error = 0.8750197, gradient norm = 0.0001272 (50 iterations in 1.243s)\n",
      "[t-SNE] Iteration 900: error = 0.8722135, gradient norm = 0.0001178 (50 iterations in 1.122s)\n",
      "[t-SNE] Iteration 950: error = 0.8693478, gradient norm = 0.0001111 (50 iterations in 1.245s)\n",
      "[t-SNE] Iteration 1000: error = 0.8663734, gradient norm = 0.0001172 (50 iterations in 1.254s)\n",
      "[t-SNE] Error after 1000 iterations: 0.866373\n"
     ]
    },
    {
     "data": {
      "image/png": "[encoded data removed]",
      "text/plain": [
       "<matplotlib.figure.Figure at 0x15e9b8eb8>"
      ]
     },
     "metadata": {},
     "output_type": "display_data"
    }
   ],
   "source": [
    "from sklearn.manifold import TSNE\n",
    "import matplotlib.pyplot as plt\n",
    "%matplotlib inline\n",
    "\n",
    "tsne_model = TSNE(n_components=2, random_state=0,verbose=2, perplexity=10)\n",
    "low_data = tsne_model.fit_transform(model_transformed)\n",
    "\n",
    "# num_points = 1877\n",
    "# num_clust = 10\n",
    "\n",
    "# colorize = []\n",
    "# for i in range(num_clust):\n",
    "#   for _ in range(num_points):\n",
    "#        colorize.append(plt.cm.rainbow(i*20))\n",
    "        \n",
    "x,y = zip(*low_data)\n",
    "plt.scatter(x, y, s=40);"
   ]
  },
  {
   "cell_type": "markdown",
   "metadata": {},
   "source": [
    "# Plot the distribution of topics for 2016"
   ]
  },
  {
   "cell_type": "code",
   "execution_count": 44,
   "metadata": {},
   "outputs": [
    {
     "data": {
      "text/plain": [
       "{0: 0, 1: 0, 2: 0, 3: 0, 4: 0, 5: 0, 6: 0, 7: 0, 8: 0, 9: 0}"
      ]
     },
     "execution_count": 44,
     "metadata": {},
     "output_type": "execute_result"
    }
   ],
   "source": [
    "yearly_counts = {}\n",
    "for topic in range(0,10):\n",
    "    yearly_counts[topic] = 0\n",
    "\n",
    "yearly_counts"
   ]
  },
  {
   "cell_type": "code",
   "execution_count": 47,
   "metadata": {
    "collapsed": true
   },
   "outputs": [],
   "source": [
    "# Topics 0-9 as keys and the index for each document in that topic\n",
    "topic_dict = {}\n",
    "for topic in range(0,10):\n",
    "    topic_dict[topic] = []\n",
    "for index, item in enumerate(model_transformed):\n",
    "    topic_num = np.argmax(item)\n",
    "    topic_dict[topic_num].append(index)"
   ]
  },
  {
   "cell_type": "code",
   "execution_count": 48,
   "metadata": {
    "collapsed": true
   },
   "outputs": [],
   "source": [
    "for topic_number in range(0,10):\n",
    "    for item in topic_dict[topic_number]:\n",
    "        doc_index = item\n",
    "        # print(doc_index, doc)\n",
    "        yearly_counts[topic_number] += 1"
   ]
  },
  {
   "cell_type": "code",
   "execution_count": 49,
   "metadata": {},
   "outputs": [
    {
     "data": {
      "text/plain": [
       "{0: 52, 1: 132, 2: 213, 3: 224, 4: 352, 5: 297, 6: 116, 7: 127, 8: 84, 9: 280}"
      ]
     },
     "execution_count": 49,
     "metadata": {},
     "output_type": "execute_result"
    }
   ],
   "source": [
    "yearly_counts"
   ]
  },
  {
   "cell_type": "code",
   "execution_count": 53,
   "metadata": {},
   "outputs": [
    {
     "data": {
      "image/png": "[encoded data removed]",
      "text/plain": [
       "<matplotlib.figure.Figure at 0x15a5153c8>"
      ]
     },
     "metadata": {},
     "output_type": "display_data"
    }
   ],
   "source": [
    "plot = plt.bar(range(len(yearly_counts)), yearly_counts.values(), align='center')\n",
    "plt.xticks(range(len(yearly_counts)), range(1,11), fontsize=18)\n",
    "plt.xlabel('Topic Number', fontsize=26)\n",
    "plt.ylabel('Number of Occurrences', fontsize=26)\n",
    "plt.yticks(fontsize=18)\n",
    "plot[4].set_color('r')\n",
    "plot[5].set_color('r')\n",
    "plot[9].set_color('r')\n",
    "save_path = '/Users/murdock/Documents/metis/project4/2016_topics_colored.png'\n",
    "plt.savefig(save_path, bbox_inches='tight');"
   ]
  },
  {
   "cell_type": "code",
   "execution_count": null,
   "metadata": {
    "collapsed": true
   },
   "outputs": [],
   "source": []
  }
 ],
 "metadata": {
  "kernelspec": {
   "display_name": "Python [conda root]",
   "language": "python",
   "name": "conda-root-py"
  },
  "language_info": {
   "codemirror_mode": {
    "name": "ipython",
    "version": 3
   },
   "file_extension": ".py",
   "mimetype": "text/x-python",
   "name": "python",
   "nbconvert_exporter": "python",
   "pygments_lexer": "ipython3",
   "version": "3.6.2"
  }
 },
 "nbformat": 4,
 "nbformat_minor": 2
}
