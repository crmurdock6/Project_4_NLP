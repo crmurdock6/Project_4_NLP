{
 "cells": [
  {
   "cell_type": "markdown",
   "metadata": {},
   "source": [
    "### Imports"
   ]
  },
  {
   "cell_type": "code",
   "execution_count": 1,
   "metadata": {
    "collapsed": true
   },
   "outputs": [],
   "source": [
    "import requests\n",
    "import pandas as pd\n",
    "import re\n",
    "from bs4 import BeautifulSoup\n",
    "import time\n",
    "from random import randint\n",
    "from pymongo import MongoClient\n",
    "from sklearn.feature_extraction.text import CountVectorizer, TfidfVectorizer\n",
    "from sklearn.decomposition import LatentDirichletAllocation\n",
    "from sklearn.preprocessing import StandardScaler, Normalizer\n",
    "from sklearn.decomposition import NMF, TruncatedSVD"
   ]
  },
  {
   "cell_type": "markdown",
   "metadata": {},
   "source": [
    "### Connect to MongoDB"
   ]
  },
  {
   "cell_type": "code",
   "execution_count": 2,
   "metadata": {
    "collapsed": true
   },
   "outputs": [],
   "source": [
    "client = MongoClient()\n",
    "sci = client.metis_p4_db.science"
   ]
  },
  {
   "cell_type": "code",
   "execution_count": 3,
   "metadata": {},
   "outputs": [
    {
     "data": {
      "text/plain": [
       "{'_id': ObjectId('59f8f1ca127ab45bd3582636'),\n",
       " 'description': \"Antibiotic resistance threatens to put modern medicine into reverse. But we are not at the end of our options for currently available drugs. Baym et al. review what can be done by using combinations of antibiotics to circumvent bacteria's evolutionary strategies. For instance, resistance to one drug may cause sensitivity to another, the effectiveness of two drugs can be synergized by a resistance mutation, and some negative drug interactions may even be beneficial in selecting against resistance. Although not simple to assess, drug combinations still have something to offer for the development of sorely needed anti-infectives.\",\n",
       " 'title': 'Multidrug evolutionary strategies to reverse antibiotic resistance',\n",
       " 'year': 2016}"
      ]
     },
     "execution_count": 3,
     "metadata": {},
     "output_type": "execute_result"
    }
   ],
   "source": [
    "year_2016 = sci.find({'year': 2016})\n",
    "year_2016[0]"
   ]
  },
  {
   "cell_type": "code",
   "execution_count": 4,
   "metadata": {},
   "outputs": [
    {
     "data": {
      "text/plain": [
       "\"Antibiotic resistance threatens to put modern medicine into reverse. But we are not at the end of our options for currently available drugs. Baym et al. review what can be done by using combinations of antibiotics to circumvent bacteria's evolutionary strategies. For instance, resistance to one drug may cause sensitivity to another, the effectiveness of two drugs can be synergized by a resistance mutation, and some negative drug interactions may even be beneficial in selecting against resistance. Although not simple to assess, drug combinations still have something to offer for the development of sorely needed anti-infectives.\""
      ]
     },
     "execution_count": 4,
     "metadata": {},
     "output_type": "execute_result"
    }
   ],
   "source": [
    "year_2016[0]['description']"
   ]
  },
  {
   "cell_type": "code",
   "execution_count": 5,
   "metadata": {
    "collapsed": true
   },
   "outputs": [],
   "source": [
    "all_descriptions = []\n",
    "\n",
    "for record in year_2016:\n",
    "    all_descriptions.append(record['description'])"
   ]
  },
  {
   "cell_type": "code",
   "execution_count": 6,
   "metadata": {},
   "outputs": [
    {
     "data": {
      "text/plain": [
       "[\"Antibiotic resistance threatens to put modern medicine into reverse. But we are not at the end of our options for currently available drugs. Baym et al. review what can be done by using combinations of antibiotics to circumvent bacteria's evolutionary strategies. For instance, resistance to one drug may cause sensitivity to another, the effectiveness of two drugs can be synergized by a resistance mutation, and some negative drug interactions may even be beneficial in selecting against resistance. Although not simple to assess, drug combinations still have something to offer for the development of sorely needed anti-infectives.\",\n",
       " 'In carpenter ants, separate behavioral classes, known as castes, are determined by the epigenetic regulation of genes. Simola et al. treated ants of different castes with drugs that affected histone acetylation. Reducing histone acetylation stimulated scouting and foraging behavior. The foraging and scouting behaviors of young ants were permanently changed by directly injecting their brains with histone acetylation inhibitors.']"
      ]
     },
     "execution_count": 6,
     "metadata": {},
     "output_type": "execute_result"
    }
   ],
   "source": [
    "all_descriptions[:2]"
   ]
  },
  {
   "cell_type": "code",
   "execution_count": 7,
   "metadata": {},
   "outputs": [
    {
     "data": {
      "text/plain": [
       "1877"
      ]
     },
     "execution_count": 7,
     "metadata": {},
     "output_type": "execute_result"
    }
   ],
   "source": [
    "len(all_descriptions)"
   ]
  },
  {
   "cell_type": "code",
   "execution_count": 8,
   "metadata": {
    "collapsed": true,
    "scrolled": true
   },
   "outputs": [],
   "source": [
    "from spacy.en import STOP_WORDS as stopwords\n",
    "import string\n",
    "import spacy\n",
    "nlp = spacy.load('en')\n",
    "stopwords.update(['et', 'al', \"'s\"])\n",
    "punctuations = string.punctuation"
   ]
  },
  {
   "cell_type": "markdown",
   "metadata": {},
   "source": [
    "### change max features"
   ]
  },
  {
   "cell_type": "code",
   "execution_count": 87,
   "metadata": {
    "collapsed": true
   },
   "outputs": [],
   "source": [
    "vectorizer = CountVectorizer(tokenizer = spacy_tokenizer, ngram_range=(1,2), max_df = 0.6, max_features=5000)"
   ]
  },
  {
   "cell_type": "code",
   "execution_count": 88,
   "metadata": {
    "collapsed": true
   },
   "outputs": [],
   "source": [
    "X_spacy = vectorizer.fit_transform(all_descriptions)"
   ]
  },
  {
   "cell_type": "code",
   "execution_count": 89,
   "metadata": {},
   "outputs": [
    {
     "data": {
      "text/plain": [
       "(1877, 5000)"
      ]
     },
     "execution_count": 89,
     "metadata": {},
     "output_type": "execute_result"
    }
   ],
   "source": [
    "X_spacy.shape"
   ]
  },
  {
   "cell_type": "code",
   "execution_count": 90,
   "metadata": {},
   "outputs": [
    {
     "data": {
      "text/plain": [
       "array([[ 0.00232632,  0.00232559,  0.00232633,  0.97906561,  0.00232601,\n",
       "         0.00232589,  0.00232612,  0.00232588,  0.00232582,  0.00232642],\n",
       "       [ 0.00312546,  0.003125  ,  0.1815002 ,  0.37891587,  0.20312908,\n",
       "         0.00312537,  0.0031252 ,  0.00312579,  0.00312561,  0.21770241],\n",
       "       [ 0.00131587,  0.00131579,  0.00131595,  0.00131595,  0.04398058,\n",
       "         0.00131592,  0.00131588,  0.00131591,  0.0013158 ,  0.94549233]])"
      ]
     },
     "execution_count": 90,
     "metadata": {},
     "output_type": "execute_result"
    }
   ],
   "source": [
    "n_topics = 10\n",
    "n_iter = 10\n",
    "lda = LatentDirichletAllocation(n_components=n_topics,\n",
    "                                max_iter=n_iter,\n",
    "                                random_state=42,\n",
    "                               learning_method='online')\n",
    "data = lda.fit_transform(X_spacy)\n",
    "data[:3]"
   ]
  },
  {
   "cell_type": "code",
   "execution_count": 91,
   "metadata": {},
   "outputs": [
    {
     "name": "stdout",
     "output_type": "stream",
     "text": [
      "Topic  0\n",
      "science research new scientific scientist human state drug work social\n",
      "Topic  1\n",
      "planet solar star surface system crater ice comet solar system spacecraft\n",
      "Topic  2\n",
      "climate change global year impact climate change world water increase ocean\n",
      "Topic  3\n",
      "protein gene dna rna genetic genome potential use information interest\n",
      "Topic  4\n",
      "cell cancer disease immune t tissue tumor t cell mouse virus\n",
      "Topic  5\n",
      "quantum use material state electron earth system optical atom particle\n",
      "Topic  6\n",
      "new researcher research u.s world year science health scientist national\n",
      "Topic  7\n",
      "reaction carbon molecule use bond metal enzyme complex structure oxygen\n",
      "Topic  8\n",
      "gravitational wave crispr physicist university gravitational wave student muscle career new\n",
      "Topic  9\n",
      "human plant study brain animal 1 specie new page system\n"
     ]
    }
   ],
   "source": [
    "display_topics(lda,vectorizer.get_feature_names(),10)"
   ]
  },
  {
   "cell_type": "code",
   "execution_count": null,
   "metadata": {
    "collapsed": true
   },
   "outputs": [],
   "source": []
  },
  {
   "cell_type": "markdown",
   "metadata": {},
   "source": [
    "## Workflow"
   ]
  },
  {
   "cell_type": "markdown",
   "metadata": {},
   "source": [
    "#### Write function for tokenizer"
   ]
  },
  {
   "cell_type": "code",
   "execution_count": 9,
   "metadata": {
    "collapsed": true
   },
   "outputs": [],
   "source": [
    "def spacy_tokenizer_1(doc):\n",
    "    doc = doc.replace('—', '').replace(',', '').replace(\"'s\", '')\n",
    "    doc = re.sub('\\s\\d+\\s', '', doc)\n",
    "    tokens = nlp(doc)\n",
    "    tokens = [tok.lemma_.lower().strip() if tok.lemma_ != \"-PRON-\" else tok.lower_ for tok in tokens]\n",
    "    tokens = [tok for tok in tokens if (tok not in stopwords and tok not in punctuations)]     \n",
    "    return tokens"
   ]
  },
  {
   "cell_type": "code",
   "execution_count": 10,
   "metadata": {
    "collapsed": true
   },
   "outputs": [],
   "source": [
    "def spacy_tokenizer_2(doc):\n",
    "    doc = doc.replace('—', '').replace(',', '').replace(\"'s\", '')\n",
    "    doc = re.sub('\\s\\d+(\\s)?', '', doc)\n",
    "    tokens = nlp(doc)\n",
    "    tokens = [tok.lemma_.lower().strip() if tok.lemma_ != \"-PRON-\" else tok.lower_ for tok in tokens]\n",
    "    tokens = [tok for tok in tokens if (tok not in stopwords and tok not in punctuations)]     \n",
    "    return tokens"
   ]
  },
  {
   "cell_type": "code",
   "execution_count": 11,
   "metadata": {
    "collapsed": true
   },
   "outputs": [],
   "source": [
    "def spacy_tokenizer_3(doc):\n",
    "    doc = doc.replace('—', '').replace(',', '').replace(\"'s\", '')\n",
    "    # doc = re.sub('\\s\\d+(\\s)?(,)?', ' ', doc)\n",
    "    doc = re.sub('\\D\\d+(\\D)?', ' ', doc)\n",
    "    doc = doc.replace('–', '')\n",
    "    tokens = nlp(doc)\n",
    "    tokens = [tok.lemma_.lower().strip() if tok.lemma_ != \"-PRON-\" else tok.lower_ for tok in tokens]\n",
    "    tokens = [tok for tok in tokens if (tok not in stopwords and tok not in punctuations)]     \n",
    "    return tokens"
   ]
  },
  {
   "cell_type": "markdown",
   "metadata": {},
   "source": [
    "#### Functions for vectorizing"
   ]
  },
  {
   "cell_type": "code",
   "execution_count": 12,
   "metadata": {
    "collapsed": true
   },
   "outputs": [],
   "source": [
    "def count_vectorizer(tokenizer, max_feat, X, ngram_start=1, ngram_stop=2, max_df=0.6):\n",
    "\n",
    "    vectorizer = CountVectorizer(tokenizer = tokenizer,\n",
    "                                 ngram_range=(ngram_start, ngram_stop),\n",
    "                                 max_df = max_df,\n",
    "                                 max_features=max_feat)\n",
    "    return vectorizer, vectorizer.fit_transform(X)"
   ]
  },
  {
   "cell_type": "code",
   "execution_count": 13,
   "metadata": {
    "collapsed": true
   },
   "outputs": [],
   "source": [
    "def tfidf_vectorizer(tokenizer, max_feat, X, ngram_start=1, ngram_stop=2, max_df=0.6):\n",
    "\n",
    "    vectorizer = TfidfVectorizer(tokenizer = tokenizer,\n",
    "                                 ngram_range=(ngram_start, ngram_stop),\n",
    "                                 max_df = max_df,\n",
    "                                 max_features=max_feat)\n",
    "    return vectorizer, vectorizer.fit_transform(X)"
   ]
  },
  {
   "cell_type": "markdown",
   "metadata": {},
   "source": [
    "#### Write functions for models"
   ]
  },
  {
   "cell_type": "code",
   "execution_count": null,
   "metadata": {
    "collapsed": true
   },
   "outputs": [],
   "source": []
  },
  {
   "cell_type": "code",
   "execution_count": 14,
   "metadata": {
    "collapsed": true
   },
   "outputs": [],
   "source": [
    "def lda_cv(X, n_comp, n_iter = 10):\n",
    "    lda = LatentDirichletAllocation(n_components=n_comp,\n",
    "                                    max_iter=n_iter,\n",
    "                                    random_state=42,\n",
    "                                    learning_method='online')\n",
    "    return lda, lda.fit_transform(X)\n",
    "\n",
    "def lda_tfidf(X, n_comp, n_iter = 10):\n",
    "    lda = LatentDirichletAllocation(n_components=n_comp,\n",
    "                                    max_iter=n_iter,\n",
    "                                    random_state=42,\n",
    "                                    learning_method='online')\n",
    "    return lda, lda.fit_transform(X)"
   ]
  },
  {
   "cell_type": "code",
   "execution_count": 15,
   "metadata": {
    "collapsed": true
   },
   "outputs": [],
   "source": [
    "def lsa_tfidf(X, n_comp):\n",
    "    lsa = TruncatedSVD(n_components=n_comp, random_state=42)\n",
    "    return lsa, lsa.fit_transform(X)\n",
    "def lsa_cv(X, n_comp):\n",
    "    lsa = TruncatedSVD(n_components=n_comp, random_state=42)\n",
    "    return lsa, lsa.fit_transform(X)\n",
    "def nmf_tfidf(X, n_comp):\n",
    "    nmf = NMF(n_components=n_comp, random_state=42)\n",
    "    return nmf, nmf.fit_transform(X)\n",
    "def nmf_cv(X, n_comp):\n",
    "    nmf = NMF(n_components=n_comp, random_state=42)\n",
    "    return nmf, nmf.fit_transform(X)"
   ]
  },
  {
   "cell_type": "markdown",
   "metadata": {},
   "source": [
    "#### function for displaying topics"
   ]
  },
  {
   "cell_type": "code",
   "execution_count": 16,
   "metadata": {
    "collapsed": true
   },
   "outputs": [],
   "source": [
    "def display_topics(model, feature_names, no_top_words):\n",
    "    for ix, topic in enumerate(model.components_):\n",
    "        print(\"Topic \", ix)\n",
    "        print(\" \".join([feature_names[i]\n",
    "                        for i in topic.argsort()[:-no_top_words - 1:-1]]))"
   ]
  },
  {
   "cell_type": "markdown",
   "metadata": {},
   "source": [
    "#### Make function for modeling and printing results"
   ]
  },
  {
   "cell_type": "code",
   "execution_count": 17,
   "metadata": {
    "collapsed": true
   },
   "outputs": [],
   "source": [
    "def use_vectorizer(cv_vect, cv_vect_trans, n_comp=10):\n",
    "    models = [lsa_cv, nmf_cv, lda_tfidf]\n",
    "    names = ['LSA', 'NMF', 'LDA']\n",
    "    i = 0\n",
    "    for item in models:\n",
    "        norm = Normalizer()\n",
    "        vect_normalized = norm.fit_transform(cv_vect_trans)\n",
    "        model, model_transformed = item(vect_normalized, n_comp=n_comp)\n",
    "        print('\\n\\n-------' + names[i] + '------\\n\\n')\n",
    "        display_topics(model, cv_vect.get_feature_names(), 10)\n",
    "        i += 1"
   ]
  },
  {
   "cell_type": "markdown",
   "metadata": {},
   "source": [
    "# Make different vectorizers and test models (LSA, NMF, LDA)"
   ]
  },
  {
   "cell_type": "markdown",
   "metadata": {},
   "source": [
    "count vectorizer 1"
   ]
  },
  {
   "cell_type": "code",
   "execution_count": 18,
   "metadata": {},
   "outputs": [],
   "source": [
    "cv_vect1, cv_vect1_transformed = count_vectorizer(spacy_tokenizer_3, 5000, all_descriptions)"
   ]
  },
  {
   "cell_type": "code",
   "execution_count": 19,
   "metadata": {},
   "outputs": [
    {
     "name": "stdout",
     "output_type": "stream",
     "text": [
      "\n",
      "\n",
      "-------LSA------\n",
      "\n",
      "\n",
      "Topic  0\n",
      "cell new use science human researcher year study research material\n",
      "Topic  1\n",
      "material roundup material potential roundup information potential interest offer instrumentation weekly roundup weekly apparatus laboratory newly offer\n",
      "Topic  2\n",
      "cell protein t gene immune t cell mouse tumor cancer expression\n",
      "Topic  3\n",
      "cell science research new scientist world u.s researcher cancer national\n",
      "Topic  4\n",
      "human gene disease protein genome genetic virus study specie dna\n",
      "Topic  5\n",
      "change climate climate change year global cell specie ice increase impact\n",
      "Topic  6\n",
      "change protein climate science climate change complex structure policy c carbon\n",
      "Topic  7\n",
      "virus protein vaccine zika antibody structure health zika virus infect carbon\n",
      "Topic  8\n",
      "system issue page page issue quantum state virus immune structure science\n",
      "Topic  9\n",
      "use state change virus united research united state human electron quantum\n",
      "\n",
      "\n",
      "-------NMF------\n",
      "\n",
      "\n",
      "Topic  0\n",
      "science research u.s world national scientist scientific new institute government\n",
      "Topic  1\n",
      "material researcher potential information offer laboratory interest roundup newly apparatus\n",
      "Topic  2\n",
      "cell t t cell immune cancer tumor mouse stem stem cell tissue\n",
      "Topic  3\n",
      "use reaction carbon c bond catalyst plant perspective enzyme metal\n",
      "Topic  4\n",
      "gene human genome dna genetic expression disease study cancer mutation\n",
      "Topic  5\n",
      "protein structure complex bind function rna site membrane dna enzyme\n",
      "Topic  6\n",
      "change climate climate change global specie increase ice impact temperature ecosystem\n",
      "Topic  7\n",
      "virus human vaccine health zika disease infection antibody zika virus infect\n",
      "Topic  8\n",
      "system state material quantum electron issue page page issue high atom\n",
      "Topic  9\n",
      "new year study researcher scientist time work find human world\n",
      "\n",
      "\n",
      "-------LDA------\n",
      "\n",
      "\n",
      "Topic  0\n",
      "cell comb metabolic immune brain complex issue frequency type t cell\n",
      "Topic  1\n",
      "ligo interferometer pluto wave observatory interferometer gravitational laser interferometer new horizon horizon observatory ligo weiss\n",
      "Topic  2\n",
      "science earthquake large research like u.s new public refugee long\n",
      "Topic  3\n",
      "particle dna way human increase range mitochondrial yield structure potential\n",
      "Topic  4\n",
      "science research new u.s world scientist year national health university\n",
      "Topic  5\n",
      "carbon catalyst c reaction methane report use high energy bond\n",
      "Topic  6\n",
      "human ice time cell partner new learn child gene portal\n",
      "Topic  7\n",
      "crest cell neural crest crest decomposition clock mitigate migraine cell exosphere moon\n",
      "Topic  8\n",
      "potential roundup instrumentation information material potential material laboratory apparatus interest offer\n",
      "Topic  9\n",
      "cell use human new study change system protein find state\n"
     ]
    }
   ],
   "source": [
    "use_vectorizer(cv_vect1, cv_vect1_transformed)"
   ]
  },
  {
   "cell_type": "markdown",
   "metadata": {},
   "source": [
    "try different number of topics"
   ]
  },
  {
   "cell_type": "code",
   "execution_count": 20,
   "metadata": {
    "scrolled": false
   },
   "outputs": [
    {
     "name": "stdout",
     "output_type": "stream",
     "text": [
      "\n",
      "\n",
      "-------LSA------\n",
      "\n",
      "\n",
      "Topic  0\n",
      "cell new use science human researcher year study research material\n",
      "Topic  1\n",
      "material roundup material potential laboratory material potential interest information newly weekly weekly roundup instrumentation apparatus offer instrumentation\n",
      "Topic  2\n",
      "cell protein t gene immune t cell mouse tumor cancer expression\n",
      "Topic  3\n",
      "cell science research new scientist world u.s researcher cancer national\n",
      "Topic  4\n",
      "gene human disease protein genome genetic dna virus specie study\n",
      "Topic  5\n",
      "change climate year climate change cell global specie human ice impact\n",
      "Topic  6\n",
      "change protein climate science climate change complex policy plant c issue\n",
      "Topic  7\n",
      "virus protein vaccine zika structure antibody health infection zika virus infect\n",
      "Topic  8\n",
      "system issue quantum page state page issue immune protein control interaction\n",
      "Topic  9\n",
      "state use united research virus united state change health quantum cancer\n",
      "Topic  10\n",
      "protein year time change state structure dna scientist study new\n",
      "Topic  11\n",
      "human science use year material brain time cell virus animal\n",
      "\n",
      "\n",
      "-------NMF------\n",
      "\n",
      "\n",
      "Topic  0\n",
      "science research u.s world national scientist new scientific institute president\n",
      "Topic  1\n",
      "material researcher potential information offer laboratory interest roundup newly apparatus\n",
      "Topic  2\n",
      "cell t t cell immune cancer tumor mouse stem stem cell tissue\n",
      "Topic  3\n",
      "use material reaction carbon high bond metal form catalyst molecule\n",
      "Topic  4\n",
      "gene human genome dna genetic expression disease cancer mutation rna\n",
      "Topic  5\n",
      "protein structure complex bind function rna site membrane dna enzyme\n",
      "Topic  6\n",
      "change climate climate change global increase ice temperature impact specie ecosystem\n",
      "Topic  7\n",
      "virus vaccine human zika health disease antibody infection zika virus infect\n",
      "Topic  8\n",
      "system issue page page issue report immune process form control provide\n",
      "Topic  9\n",
      "state quantum united united state electron atom field time magnetic optical\n",
      "Topic  10\n",
      "plant specie growth soil light crop regulate yield signal pathway\n",
      "Topic  11\n",
      "new year study researcher scientist time work find human people\n",
      "\n",
      "\n",
      "-------LDA------\n",
      "\n",
      "\n",
      "Topic  0\n",
      "tyr cell immune stem stem cell human mtor change hair hcm\n",
      "Topic  1\n",
      "migraine membrane calcium lipid ozone peptide earth large vesicle calcium channel\n",
      "Topic  2\n",
      "forest long refugee project scientist year u.s decade cell ratio\n",
      "Topic  3\n",
      "triplet tic triplet state cell dna cancer c way strand state\n",
      "Topic  4\n",
      "refuge crest cell neural crest crest science protein cell new comb climate\n",
      "Topic  5\n",
      "light lunar particle researcher crust physicist rock improve energy arise\n",
      "Topic  6\n",
      "gene protein level complex sperm groundwater contain module y disease\n",
      "Topic  7\n",
      "migraine decomposition mitigate rna dna chromatin root cell development new\n",
      "Topic  8\n",
      "roundup material potential potential material information instrumentation apparatus researcher interest newly\n",
      "Topic  9\n",
      "cell use new science year human study change research state\n",
      "Topic  10\n",
      "pluto new horizon horizon sestri far moore space environment reddish material wind lack hydra irregularly large moon\n",
      "Topic  11\n",
      "hcm myosin muscle drug activity mutation heart resistance iraq black\n"
     ]
    }
   ],
   "source": [
    "use_vectorizer(cv_vect1, cv_vect1_transformed, n_comp=12)"
   ]
  },
  {
   "cell_type": "markdown",
   "metadata": {},
   "source": [
    "count vectorizer 2"
   ]
  },
  {
   "cell_type": "code",
   "execution_count": 21,
   "metadata": {
    "collapsed": true
   },
   "outputs": [],
   "source": [
    "cv_vect2, cv_vect2_transformed = count_vectorizer(spacy_tokenizer_3, 5000, all_descriptions, ngram_stop=3)"
   ]
  },
  {
   "cell_type": "code",
   "execution_count": 22,
   "metadata": {},
   "outputs": [
    {
     "name": "stdout",
     "output_type": "stream",
     "text": [
      "\n",
      "\n",
      "-------LSA------\n",
      "\n",
      "\n",
      "Topic  0\n",
      "cell new use science human year study researcher research change\n",
      "Topic  1\n",
      "material roundup material potential offer instrumentation apparatus information newly offer roundup information newly interest researcher newly offer newly offer instrumentation instrumentation apparatus\n",
      "Topic  2\n",
      "cell protein t gene immune t cell mouse tumor cancer expression\n",
      "Topic  3\n",
      "cell science research new scientist world u.s cancer researcher national\n",
      "Topic  4\n",
      "human gene disease protein genome genetic virus study specie dna\n",
      "Topic  5\n",
      "change climate climate change year global specie cell ice increase impact\n",
      "Topic  6\n",
      "change protein climate science climate change complex structure policy c carbon\n",
      "Topic  7\n",
      "virus protein vaccine zika antibody structure health zika virus infect infection\n",
      "Topic  8\n",
      "system issue page page issue state quantum virus immune science structure\n",
      "Topic  9\n",
      "use state change united virus research united state electron protein quantum\n",
      "\n",
      "\n",
      "-------NMF------\n",
      "\n",
      "\n",
      "Topic  0\n",
      "science research u.s world national scientist new scientific institute government\n",
      "Topic  1\n",
      "material researcher potential information offer laboratory interest roundup newly apparatus\n",
      "Topic  2\n",
      "cell t t cell immune cancer tumor mouse stem stem cell tissue\n",
      "Topic  3\n",
      "use reaction carbon c bond catalyst plant perspective enzyme metal\n",
      "Topic  4\n",
      "gene genome dna genetic expression human disease rna cancer mutation\n",
      "Topic  5\n",
      "protein structure complex bind function site rna membrane dna enzyme\n",
      "Topic  6\n",
      "change climate climate change specie global increase ice impact temperature ecosystem\n",
      "Topic  7\n",
      "virus human disease vaccine health zika infection cause antibody zika virus\n",
      "Topic  8\n",
      "system state material quantum electron issue page page issue high atom\n",
      "Topic  9\n",
      "new year study researcher scientist time work find people life\n",
      "\n",
      "\n",
      "-------LDA------\n",
      "\n",
      "\n",
      "Topic  0\n",
      "sheet ice ice sheet cell galaxy climate science human grow present\n",
      "Topic  1\n",
      "new science year use research human study scientist world change\n",
      "Topic  2\n",
      "protein learn large find earthquake u.s time material human science\n",
      "Topic  3\n",
      "refuge virus human way bee specie use develop world researcher\n",
      "Topic  4\n",
      "use material structure quantum electron state molecule atom reaction protein\n",
      "Topic  5\n",
      "ligo interferometer pluto laser interferometer wave observatory interferometer gravitational wave gravitational wave observatory laser interferometer gravitational interferometer gravitational observatory ligo\n",
      "Topic  6\n",
      "roundup apparatus material potential instrumentation potential newly interest material offer information\n",
      "Topic  7\n",
      "cell gene protein disease dna mouse cancer immune rna system\n",
      "Topic  8\n",
      "muscular dystrophy dystrophy dystrophin human embryos gene edit edit nelson young mouse gene muscle\n",
      "Topic  9\n",
      "magnetic ice light reaction use year energy material produce cell\n"
     ]
    }
   ],
   "source": [
    "use_vectorizer(cv_vect2, cv_vect2_transformed)"
   ]
  },
  {
   "cell_type": "markdown",
   "metadata": {},
   "source": [
    "count vectorizer 3"
   ]
  },
  {
   "cell_type": "code",
   "execution_count": 23,
   "metadata": {
    "collapsed": true
   },
   "outputs": [],
   "source": [
    "cv_vect3, cv_vect3_transformed = count_vectorizer(spacy_tokenizer_3, 110000, all_descriptions)"
   ]
  },
  {
   "cell_type": "code",
   "execution_count": 24,
   "metadata": {},
   "outputs": [
    {
     "name": "stdout",
     "output_type": "stream",
     "text": [
      "\n",
      "\n",
      "-------LSA------\n",
      "\n",
      "\n",
      "Topic  0\n",
      "material researcher potential information offer laboratory interest newly apparatus roundup\n",
      "Topic  1\n",
      "cell new use science human study year protein research change\n",
      "Topic  2\n",
      "cell t protein t cell immune gene tumor mouse cancer tissue\n",
      "Topic  3\n",
      "science cell research new world scientist u.s year researcher national\n",
      "Topic  4\n",
      "gene human protein disease genome dna genetic virus rna study\n",
      "Topic  5\n",
      "change climate climate change specie human ice global year increase cause\n",
      "Topic  6\n",
      "system new virus study human researcher use material solar find\n",
      "Topic  7\n",
      "virus protein antibody vaccine zika structure infect zika virus infection hiv\n",
      "Topic  8\n",
      "system protein new solar ice surface pluto immune complex present\n",
      "Topic  9\n",
      "carbon year c plant new reaction bond catalyst researcher enzyme\n",
      "\n",
      "\n",
      "-------NMF------\n",
      "\n",
      "\n",
      "Topic  0\n",
      "material researcher potential information offer laboratory interest roundup newly apparatus\n",
      "Topic  1\n",
      "human study new year gene disease genome genetic researcher find\n",
      "Topic  2\n",
      "cell t t cell immune cancer tumor mouse stem tissue stem cell\n",
      "Topic  3\n",
      "use state material quantum electron optical atom field magnetic device\n",
      "Topic  4\n",
      "protein gene structure complex dna rna function bind expression enzyme\n",
      "Topic  5\n",
      "change climate climate change global ice increase specie impact temperature year\n",
      "Topic  6\n",
      "science research new world u.s scientist year national scientific institute\n",
      "Topic  7\n",
      "virus vaccine zika antibody infect health zika virus infection hiv disease\n",
      "Topic  8\n",
      "system surface new solar pluto solar system datum horizon new horizon present\n",
      "Topic  9\n",
      "reaction carbon bond c catalyst use metal report plant molecule\n",
      "\n",
      "\n",
      "-------LDA------\n",
      "\n",
      "\n",
      "Topic  0\n",
      "growth hormone consolation kathmandu nepal hormone resistance undernutrition unstressed partner unstressed stressed partner prairie\n",
      "Topic  1\n",
      "cuprate cdw order cdw cuprate nematicity datum tackle jam poverty beautifully animate expert hour commentary creator expert\n",
      "Topic  2\n",
      "frequency comb optical frequency δf commitment aaas cuban scientist partnership cuban foster partnership long commitment reflect decade project reflect\n",
      "Topic  3\n",
      "refuge election term follow result term begin result election begin february lateral root archean cockroach devita\n",
      "Topic  4\n",
      "science new year research scientist world human study use change\n",
      "Topic  5\n",
      "decomposition news mitigate migraine corpse decomposition clock corpse week mitigate migraine clock news roundup corpse caste decomposition\n",
      "Topic  6\n",
      "camel supernovae causation exosphere cov human infection dromedary mer cov mite koch\n",
      "Topic  7\n",
      "cell use protein material gene potential structure system information perspective\n",
      "Topic  8\n",
      "new horizon pluto outer n nuclear envelope white dwarf intake normal gut h− interstellar\n",
      "Topic  9\n",
      "philip r. scientist strive retrace road treatment providingsuggestion disease arise chronicle quest awry reilly strive improve road successful\n"
     ]
    }
   ],
   "source": [
    "use_vectorizer(cv_vect3, cv_vect3_transformed)"
   ]
  },
  {
   "cell_type": "markdown",
   "metadata": {},
   "source": [
    "### Lets try tfidf vectorizer to compare"
   ]
  },
  {
   "cell_type": "markdown",
   "metadata": {},
   "source": [
    "tfidf vectorizer 1"
   ]
  },
  {
   "cell_type": "code",
   "execution_count": 25,
   "metadata": {
    "collapsed": true
   },
   "outputs": [],
   "source": [
    "tf_vect1, tf_vect1_transformed = tfidf_vectorizer(spacy_tokenizer_3, 5000, all_descriptions)"
   ]
  },
  {
   "cell_type": "code",
   "execution_count": 26,
   "metadata": {},
   "outputs": [
    {
     "name": "stdout",
     "output_type": "stream",
     "text": [
      "\n",
      "\n",
      "-------LSA------\n",
      "\n",
      "\n",
      "Topic  0\n",
      "apparatus laboratory weekly roundup laboratory material potential interest instrumentation apparatus offer instrumentation interest researcher weekly newly offer information newly\n",
      "Topic  1\n",
      "cell science new use human research year study change gene\n",
      "Topic  2\n",
      "cell protein gene t t cell immune tumor dna expression cancer\n",
      "Topic  3\n",
      "cell science cancer t t cell immune research disease tumor virus\n",
      "Topic  4\n",
      "cell science t t cell quantum material solar atom state research\n",
      "Topic  5\n",
      "climate change cell climate change ice t t cell global impact immune\n",
      "Topic  6\n",
      "virus zika vaccine antibody zika virus infect hiv infection viral ebola\n",
      "Topic  7\n",
      "carbon reaction c bond catalyst protein science enzyme plant climate\n",
      "Topic  8\n",
      "plant year reaction star gravitational planet carbon new researcher wave\n",
      "Topic  9\n",
      "protein ice planet surface year dna earth structure climate rna\n",
      "\n",
      "\n",
      "-------NMF------\n",
      "\n",
      "\n",
      "Topic  0\n",
      "instrumentation apparatus roundup information weekly laboratory material newly offer information newly interest researcher offer instrumentation apparatus laboratory potential interest\n",
      "Topic  1\n",
      "science research new u.s world scientist national university institute researcher\n",
      "Topic  2\n",
      "cell t t cell immune tumor cancer tissue immune cell stem mouse\n",
      "Topic  3\n",
      "quantum electron material atom optical state magnetic use device particle\n",
      "Topic  4\n",
      "surface solar ice system pluto crater solar system moon new horizon planet\n",
      "Topic  5\n",
      "climate change climate change specie global plant ecosystem temperature increase impact\n",
      "Topic  6\n",
      "virus vaccine zika antibody zika virus infect infection hiv health viral\n",
      "Topic  7\n",
      "reaction carbon bond catalyst c metal molecule methane organic enzyme\n",
      "Topic  8\n",
      "gravitational wave star year gravitational wave galaxy black ligo hole black hole\n",
      "Topic  9\n",
      "gene protein dna rna genome genetic human complex expression function\n",
      "\n",
      "\n",
      "-------LDA------\n",
      "\n",
      "\n",
      "Topic  0\n",
      "ice oligodendrocyte climate c ice sheet sheet gordon change climate change erosion\n",
      "Topic  1\n",
      "reaction bond catalyst carbon metal molecule nanoparticle c radical organic\n",
      "Topic  2\n",
      "ki karolinska karolinska institute slip event slow slip macchiarini paolo paolo macchiarini surgeon paolo surgeon\n",
      "Topic  3\n",
      "roundup instrumentation material potential weekly potential interest weekly roundup roundup information laboratory material newly offer instrumentation apparatus\n",
      "Topic  4\n",
      "science new year use research change scientist world study human\n",
      "Topic  5\n",
      "ligo frb interferometer pluto wave observatory interferometer gravitational laser interferometer frbs new horizon observatory ligo\n",
      "Topic  6\n",
      "causation innovation research science postulate produce spar grassland energy produce climate science\n",
      "Topic  7\n",
      "comb stool reimer neoantigen inorganic organic organic perovskite frequency comb neural crest crest crest cell\n",
      "Topic  8\n",
      "hcn nitrile olefin forest muscle tropical protein tropical forest cell mitochondrial\n",
      "Topic  9\n",
      "cell protein gene dna immune rna cancer disease mouse tumor\n"
     ]
    }
   ],
   "source": [
    "use_vectorizer(tf_vect1, tf_vect1_transformed)"
   ]
  },
  {
   "cell_type": "markdown",
   "metadata": {},
   "source": [
    "tfidf vectorizer 2"
   ]
  },
  {
   "cell_type": "markdown",
   "metadata": {},
   "source": [
    "### WORKS GOOD"
   ]
  },
  {
   "cell_type": "code",
   "execution_count": 27,
   "metadata": {
    "collapsed": true
   },
   "outputs": [],
   "source": [
    "tf_vect2, tf_vect2_transformed = tfidf_vectorizer(spacy_tokenizer_3, 5000, all_descriptions, ngram_stop=3)"
   ]
  },
  {
   "cell_type": "code",
   "execution_count": 28,
   "metadata": {},
   "outputs": [
    {
     "name": "stdout",
     "output_type": "stream",
     "text": [
      "\n",
      "\n",
      "-------LSA------\n",
      "\n",
      "\n",
      "Topic  0\n",
      "offer instrumentation apparatus material potential interest newly offer instrumentation newly offer apparatus laboratory material apparatus laboratory instrumentation apparatus instrumentation apparatus laboratory roundup information newly roundup information\n",
      "Topic  1\n",
      "cell science new use human research year study change gene\n",
      "Topic  2\n",
      "cell protein gene t t cell immune tumor dna expression rna\n",
      "Topic  3\n",
      "cell science cancer t t cell immune research disease tumor virus\n",
      "Topic  4\n",
      "cell science t t cell quantum material atom solar state electron\n",
      "Topic  5\n",
      "protein dna science gene rna structure complex genome research enzyme\n",
      "Topic  6\n",
      "virus vaccine zika antibody zika virus infect hiv infection viral ebola\n",
      "Topic  7\n",
      "carbon reaction c bond catalyst protein plant enzyme science climate\n",
      "Topic  8\n",
      "plant year reaction carbon gravitational star researcher new wave catalyst\n",
      "Topic  9\n",
      "ice protein dna year earth planet surface crater climate star\n",
      "\n",
      "\n",
      "-------NMF------\n",
      "\n",
      "\n",
      "Topic  0\n",
      "weekly roundup information offer instrumentation apparatus laboratory apparatus laboratory material instrumentation apparatus laboratory interest researcher material potential interest instrumentation apparatus potential interest researcher weekly roundup\n",
      "Topic  1\n",
      "planet star earth gravitational year wave galaxy solar surface ice\n",
      "Topic  2\n",
      "cell t t cell immune tumor cancer tissue stem immune cell stem cell\n",
      "Topic  3\n",
      "quantum electron material atom optical state magnetic use device particle\n",
      "Topic  4\n",
      "science research new u.s world scientist national university institute year\n",
      "Topic  5\n",
      "climate change climate change global specie ecosystem temperature ice increase policy\n",
      "Topic  6\n",
      "virus vaccine zika antibody zika virus infect infection hiv health viral\n",
      "Topic  7\n",
      "reaction carbon bond catalyst c metal molecule methane organic use\n",
      "Topic  8\n",
      "plant specie crop soil growth yield light sugar bacteria pathway\n",
      "Topic  9\n",
      "gene protein dna rna genome genetic human complex expression function\n",
      "\n",
      "\n",
      "-------LDA------\n",
      "\n",
      "\n",
      "Topic  0\n",
      "pluto migraine new horizon horizon horizon spacecraft fly pluto modify space evidence tectonic glacial system high bright surface bagenal space environment include\n",
      "Topic  1\n",
      "science use new year research change human study state scientist\n",
      "Topic  2\n",
      "slow slip slow slip event slip event ki earthquake slip protein material large periodic\n",
      "Topic  3\n",
      "ant camel refuge mer beetle coronavirus cystic virus fibrosis cystic fibrosis\n",
      "Topic  4\n",
      "capsid env hiv leucine strand protease nitride cryo nematicity spliceosome\n",
      "Topic  5\n",
      "ligo interferometer laser interferometer wave observatory interferometer gravitational wave gravitational wave observatory laser interferometer gravitational interferometer gravitational gravitational observatory ligo\n",
      "Topic  6\n",
      "apparatus roundup instrumentation material potential offer instrumentation apparatus information newly offer interest researcher potential interest weekly information newly\n",
      "Topic  7\n",
      "cell gene protein rna immune tumor dna cancer expression t\n",
      "Topic  8\n",
      "mtdna actin microtubule hdl myosin yob y chromosome y hcm actin filament\n",
      "Topic  9\n",
      "triplet lymph qpt lymph node node cc arvs richmond magnetic cell\n"
     ]
    }
   ],
   "source": [
    "use_vectorizer(tf_vect2, tf_vect2_transformed)"
   ]
  },
  {
   "cell_type": "markdown",
   "metadata": {},
   "source": [
    "tfidf vectorizer 3"
   ]
  },
  {
   "cell_type": "code",
   "execution_count": 29,
   "metadata": {
    "collapsed": true
   },
   "outputs": [],
   "source": [
    "tf_vect3, tf_vect3_transformed = tfidf_vectorizer(spacy_tokenizer_3, 110000, all_descriptions)"
   ]
  },
  {
   "cell_type": "code",
   "execution_count": 30,
   "metadata": {},
   "outputs": [
    {
     "name": "stdout",
     "output_type": "stream",
     "text": [
      "\n",
      "\n",
      "-------LSA------\n",
      "\n",
      "\n",
      "Topic  0\n",
      "weekly roundup newly offer roundup information laboratory material offer instrumentation instrumentation apparatus information newly potential interest weekly apparatus laboratory\n",
      "Topic  1\n",
      "cell new science use human protein gene change research study\n",
      "Topic  2\n",
      "cell t t cell protein immune gene tumor cancer mouse dna\n",
      "Topic  3\n",
      "pluto surface solar system new horizon material horizon atom electron quantum\n",
      "Topic  4\n",
      "pluto cell new horizon horizon solar system t t cell moon solar system\n",
      "Topic  5\n",
      "virus gene protein antibody rna dna vaccine human zika genome\n",
      "Topic  6\n",
      "virus antibody vaccine zika infect hiv zika virus viral ebola infection\n",
      "Topic  7\n",
      "climate change ice climate change specie plant c global impact temperature\n",
      "Topic  8\n",
      "protein carbon complex leucine reaction mtor c bond enzyme science\n",
      "Topic  9\n",
      "flow fluid electron plant protein immune graphene response t t cell\n",
      "\n",
      "\n",
      "-------NMF------\n",
      "\n",
      "\n",
      "Topic  0\n",
      "potential interest instrumentation apparatus newly offer laboratory material weekly roundup apparatus laboratory interest researcher roundup information information newly weekly\n",
      "Topic  1\n",
      "science research new u.s world scientist year national researcher institute\n",
      "Topic  2\n",
      "cell t t cell immune tumor cancer immune cell tissue stem stem cell\n",
      "Topic  3\n",
      "quantum atom optical material magnetic electron state device light use\n",
      "Topic  4\n",
      "pluto new horizon horizon system solar surface moon solar system analysis present\n",
      "Topic  5\n",
      "gene protein dna rna genome complex expression structure genetic human\n",
      "Topic  6\n",
      "virus antibody vaccine zika infect hiv zika virus viral ebola infection\n",
      "Topic  7\n",
      "climate change climate change ice specie global impact plant temperature increase\n",
      "Topic  8\n",
      "reaction bond carbon catalyst c metal methane organic molecule radical\n",
      "Topic  9\n",
      "flow fluid electron graphene like describe flow water graphene electron transport counterexample perspective\n",
      "\n",
      "\n",
      "-------LDA------\n",
      "\n",
      "\n",
      "Topic  0\n",
      "phase transition kathmandu nepal quantum phase quark metabolic disorder darpa senior scientist zero temperature earthquake trigger\n",
      "Topic  1\n",
      "ki mtap dystrophy muscular dystrophy dystrophin zf ln ppgpp tuft cell cuba\n",
      "Topic  2\n",
      "comb frequency comb hdl c migraine wimp dhb aggression term begin result election begin february\n",
      "Topic  3\n",
      "hcn kra refuge nitrile lateral root iress viscosity electron effect flow form viscous thermal transport\n",
      "Topic  4\n",
      "consolation csiro disinfectant tyr innocent people innocent oligodendrocyte precursor torero ais plasmon\n",
      "Topic  5\n",
      "mtor leucine sestri mc kinase complex mtor protein histone acetylation multipotent decomposition news clock corpse\n",
      "Topic  6\n",
      "camel mer valley supernovae cov human infection mer cov dromedary exosphere mite\n",
      "Topic  7\n",
      "roundup material potential potential interest weekly laboratory material weekly roundup information newly apparatus laboratory instrumentation apparatus offer instrumentation\n",
      "Topic  8\n",
      "cell science use new human year change protein study research\n",
      "Topic  9\n",
      "groundwater storage protein translocation emit light stretch emit pollinator diversity folic acid folic double helix signal sequence dna allow\n"
     ]
    }
   ],
   "source": [
    "use_vectorizer(tf_vect3, tf_vect3_transformed)"
   ]
  },
  {
   "cell_type": "markdown",
   "metadata": {},
   "source": [
    "# test with tokenizer 1"
   ]
  },
  {
   "cell_type": "markdown",
   "metadata": {},
   "source": [
    "count vectorizer 1"
   ]
  },
  {
   "cell_type": "code",
   "execution_count": 31,
   "metadata": {
    "collapsed": true
   },
   "outputs": [],
   "source": [
    "cv_vect1, cv_vect1_transformed = count_vectorizer(spacy_tokenizer_1, 5000, all_descriptions)"
   ]
  },
  {
   "cell_type": "code",
   "execution_count": 32,
   "metadata": {},
   "outputs": [
    {
     "name": "stdout",
     "output_type": "stream",
     "text": [
      "\n",
      "\n",
      "-------LSA------\n",
      "\n",
      "\n",
      "Topic  0\n",
      "cell new use science human researcher study research material change\n",
      "Topic  1\n",
      "material roundup material potential interest researcher offer instrumentation newly offer roundup information instrumentation apparatus apparatus laboratory information newly\n",
      "Topic  2\n",
      "cell protein t immune t cell gene mouse tumor cancer expression\n",
      "Topic  3\n",
      "cell science research new scientist world u.s researcher national cancer\n",
      "Topic  4\n",
      "human gene disease protein genome genetic virus study specie dna\n",
      "Topic  5\n",
      "change climate climate change cell 1 global specie ice 2 impact\n",
      "Topic  6\n",
      "science change protein climate issue 1 climate change 2 complex structure\n",
      "Topic  7\n",
      "issue 1 pageof pageof issue 2 system report 3 science human\n",
      "Topic  8\n",
      "virus protein vaccine zika antibody structure zika virus infection health infect\n",
      "Topic  9\n",
      "carbon plant reaction use bond catalyst c human metal specie\n",
      "\n",
      "\n",
      "-------NMF------\n",
      "\n",
      "\n",
      "Topic  0\n",
      "new study researcher scientist year time work world find life\n",
      "Topic  1\n",
      "material researcher potential information offer laboratory interest roundup newly apparatus\n",
      "Topic  2\n",
      "cell t immune t cell cancer tumor mouse stem stem cell tissue\n",
      "Topic  3\n",
      "use state material quantum system electron field optical magnetic light\n",
      "Topic  4\n",
      "protein gene dna structure complex rna function genome expression bind\n",
      "Topic  5\n",
      "change climate climate change global ice increase impact temperature policy ecosystem\n",
      "Topic  6\n",
      "science research u.s world national scientist scientific institute agency government\n",
      "Topic  7\n",
      "1 issue pageof pageof issue 2 3 report specie system 4\n",
      "Topic  8\n",
      "human virus disease vaccine health cause zika infection genetic animal\n",
      "Topic  9\n",
      "reaction carbon bond catalyst c molecule metal use form high\n",
      "\n",
      "\n",
      "-------LDA------\n",
      "\n",
      "\n",
      "Topic  0\n",
      "cell use new human study change system state 1 find\n",
      "Topic  1\n",
      "science research u.s new scientist national world university institute scientific\n",
      "Topic  2\n",
      "pluto new horizon horizon examine small haze environment include download increase understanding include evidence moore present\n",
      "Topic  3\n",
      "offer potential apparatus roundup instrumentation material potential laboratory newly material interest\n",
      "Topic  4\n",
      "gene edit edit dystrophy muscular dystrophy dystrophin muscular slip event crispr cas9 skeletal nelson\n",
      "Topic  5\n",
      "protein enzyme rna structure complex dna gene cell bind membrane\n",
      "Topic  6\n",
      "cell learn book earthquake like niche human leucine new portal\n",
      "Topic  7\n",
      "dna cell rna research science light use energy state solar\n",
      "Topic  8\n",
      "use cell change human temperature gene ice genetic surface water\n",
      "Topic  9\n",
      "ice human partner cap fluorescence hole black hole occur thousand year\n"
     ]
    }
   ],
   "source": [
    "use_vectorizer(cv_vect1, cv_vect1_transformed)"
   ]
  },
  {
   "cell_type": "markdown",
   "metadata": {},
   "source": [
    "count vectorizer 2"
   ]
  },
  {
   "cell_type": "code",
   "execution_count": 33,
   "metadata": {
    "collapsed": true
   },
   "outputs": [],
   "source": [
    "cv_vect2, cv_vect2_transformed = count_vectorizer(spacy_tokenizer_1, 5000, all_descriptions, ngram_stop=3)"
   ]
  },
  {
   "cell_type": "code",
   "execution_count": 34,
   "metadata": {},
   "outputs": [
    {
     "name": "stdout",
     "output_type": "stream",
     "text": [
      "\n",
      "\n",
      "-------LSA------\n",
      "\n",
      "\n",
      "Topic  0\n",
      "cell new use science human study research researcher change protein\n",
      "Topic  1\n",
      "material roundup material potential material potential interest instrumentation apparatus laboratory apparatus laboratory apparatus laboratory material weekly roundup information weekly roundup weekly\n",
      "Topic  2\n",
      "cell protein t immune gene t cell mouse tumor cancer expression\n",
      "Topic  3\n",
      "cell science research new scientist world u.s researcher national cancer\n",
      "Topic  4\n",
      "human gene disease protein genome genetic study virus specie dna\n",
      "Topic  5\n",
      "change climate climate change 1 cell global specie 2 ice issue\n",
      "Topic  6\n",
      "science change protein climate issue 1 2 climate change complex structure\n",
      "Topic  7\n",
      "issue 1 pageof pageof issue 2 system report 3 human science\n",
      "Topic  8\n",
      "virus protein vaccine zika antibody structure zika virus infection health infect\n",
      "Topic  9\n",
      "carbon plant reaction use bond catalyst new c human metal\n",
      "\n",
      "\n",
      "-------NMF------\n",
      "\n",
      "\n",
      "Topic  0\n",
      "new study researcher scientist year time work find world life\n",
      "Topic  1\n",
      "material researcher potential information offer laboratory interest roundup newly apparatus\n",
      "Topic  2\n",
      "cell t immune t cell cancer tumor mouse stem stem cell tissue\n",
      "Topic  3\n",
      "use state material quantum electron system field optical magnetic light\n",
      "Topic  4\n",
      "protein gene dna structure rna complex function genome expression bind\n",
      "Topic  5\n",
      "change climate climate change global ice increase impact temperature policy ecosystem\n",
      "Topic  6\n",
      "science research u.s world national scientist scientific institute agency government\n",
      "Topic  7\n",
      "1 issue pageof pageof issue 2 3 report specie system 4\n",
      "Topic  8\n",
      "human virus disease vaccine health cause zika infection genetic animal\n",
      "Topic  9\n",
      "reaction carbon bond catalyst c molecule metal use form high\n",
      "\n",
      "\n",
      "-------LDA------\n",
      "\n",
      "\n",
      "Topic  0\n",
      "migraine cell complex cancer metabolic root grow progenitor climate issue\n",
      "Topic  1\n",
      "ebola ebola virus gp preprint outbreak server monoclonal antibody monoclonal ebolavirus virus outbreak\n",
      "Topic  2\n",
      "material use graphene human laser magnetic long new time strain\n",
      "Topic  3\n",
      "refuge decomposition migraine mitigate clock science research new way use\n",
      "Topic  4\n",
      "pluto new horizon horizon moon slow slip slip event slow slip event analysis new environment include download\n",
      "Topic  5\n",
      "science new research researcher scientist world year health human u.s\n",
      "Topic  6\n",
      "protein structure cell human membrane component enzyme dna disease ice\n",
      "Topic  7\n",
      "admission selective cell stem hair stem cell science classic new develop\n",
      "Topic  8\n",
      "valley water electron temperature quantum flow find phase cause transition\n",
      "Topic  9\n",
      "cell use protein system change gene 1 human study perspective\n"
     ]
    }
   ],
   "source": [
    "use_vectorizer(cv_vect2, cv_vect2_transformed)"
   ]
  },
  {
   "cell_type": "markdown",
   "metadata": {},
   "source": [
    "count vectorizer 3"
   ]
  },
  {
   "cell_type": "code",
   "execution_count": 35,
   "metadata": {
    "collapsed": true
   },
   "outputs": [],
   "source": [
    "cv_vect3, cv_vect3_transformed = count_vectorizer(spacy_tokenizer_1, 110000, all_descriptions)"
   ]
  },
  {
   "cell_type": "code",
   "execution_count": 36,
   "metadata": {},
   "outputs": [
    {
     "name": "stdout",
     "output_type": "stream",
     "text": [
      "\n",
      "\n",
      "-------LSA------\n",
      "\n",
      "\n",
      "Topic  0\n",
      "material researcher potential information offer laboratory interest newly apparatus roundup\n",
      "Topic  1\n",
      "cell new use science human study protein change research system\n",
      "Topic  2\n",
      "cell t t cell protein immune tumor mouse gene cancer tissue\n",
      "Topic  3\n",
      "science cell research new world scientist u.s researcher national institute\n",
      "Topic  4\n",
      "gene human protein disease genome genetic dna virus rna study\n",
      "Topic  5\n",
      "change climate climate change specie human global 1 ice increase cause\n",
      "Topic  6\n",
      "system new virus study human researcher solar surface find use\n",
      "Topic  7\n",
      "virus protein antibody zika vaccine structure zika virus infect infection viral\n",
      "Topic  8\n",
      "issue 1 pageof pageof issue system 2 science report 3 immune\n",
      "Topic  9\n",
      "system protein new change ice surface solar climate pluto year\n",
      "\n",
      "\n",
      "-------NMF------\n",
      "\n",
      "\n",
      "Topic  0\n",
      "material researcher potential information offer laboratory interest roundup newly apparatus\n",
      "Topic  1\n",
      "gene human genome dna genetic study disease expression rna mutation\n",
      "Topic  2\n",
      "cell t t cell immune cancer tumor mouse stem stem cell tissue\n",
      "Topic  3\n",
      "use material state electron atom quantum reaction high carbon light\n",
      "Topic  4\n",
      "protein structure complex bind function rna site enzyme membrane dna\n",
      "Topic  5\n",
      "change climate climate change global ice increase impact temperature carbon model\n",
      "Topic  6\n",
      "science research new world scientist u.s national researcher university institute\n",
      "Topic  7\n",
      "virus vaccine zika antibody human health zika virus infection infect disease\n",
      "Topic  8\n",
      "1 issue pageof pageof issue 2 3 report specie 4 provide\n",
      "Topic  9\n",
      "system new surface solar pluto datum solar system horizon present new horizon\n",
      "\n",
      "\n",
      "-------LDA------\n",
      "\n",
      "\n",
      "Topic  0\n",
      "camel frequency comb dystrophy muscular dystrophy dystrophin dromedary cov mer cov human infection optical frequency\n",
      "Topic  1\n",
      "roundup researcher material potential laboratory instrumentation material information potential apparatus newly\n",
      "Topic  2\n",
      "tic myosin hcm pili causation metabolic disorder inhibit activity chocolate koch sialic acid\n",
      "Topic  3\n",
      "quark reforestation polymyxin cn group cn lipid carrier arnt grow pattern doodler range product grow\n",
      "Topic  4\n",
      "antiferromagnet adsorption 111 small nanocluster adsorb molecule example dissociate nanocluster stable vacuum pressure surface example carbon water room\n",
      "Topic  5\n",
      "hbf long commitment commitment aaas cuban scientist partnership cuban project reflect aaas foster reflect decade plasmon lead good\n",
      "Topic  6\n",
      "nepal kathmandu socioethical quasi periodic themw 7.8 trigger debris in1255 city pokhara catalog trigger in1255 andc.e\n",
      "Topic  7\n",
      "refuge purinosome consolation bam clock corpse mitigate migraine decomposition news week mitigate corpse decomposition migraine clock\n",
      "Topic  8\n",
      "cell use new science human study change research state system\n",
      "Topic  9\n",
      "supernovae lateral root protein translocation histone acetylation caste remove ubiquitin histone h2b h2b ubiquitin histone signal sequence\n"
     ]
    }
   ],
   "source": [
    "use_vectorizer(cv_vect3, cv_vect3_transformed)"
   ]
  },
  {
   "cell_type": "markdown",
   "metadata": {},
   "source": [
    "### Try TFIDF to compare"
   ]
  },
  {
   "cell_type": "markdown",
   "metadata": {},
   "source": [
    "tfidf vectorizer 1"
   ]
  },
  {
   "cell_type": "code",
   "execution_count": 37,
   "metadata": {
    "collapsed": true
   },
   "outputs": [],
   "source": [
    "tf_vect1, tf_vect1_transformed = tfidf_vectorizer(spacy_tokenizer_1, 5000, all_descriptions)"
   ]
  },
  {
   "cell_type": "markdown",
   "metadata": {},
   "source": [
    "# THIS ONE IS GOOD, the best"
   ]
  },
  {
   "cell_type": "code",
   "execution_count": 38,
   "metadata": {},
   "outputs": [
    {
     "name": "stdout",
     "output_type": "stream",
     "text": [
      "\n",
      "\n",
      "-------LSA------\n",
      "\n",
      "\n",
      "Topic  0\n",
      "apparatus laboratory interest researcher weekly potential interest roundup information offer instrumentation instrumentation apparatus information newly weekly roundup newly offer\n",
      "Topic  1\n",
      "cell science new use human research study change gene protein\n",
      "Topic  2\n",
      "cell protein t gene t cell immune tumor dna expression cancer\n",
      "Topic  3\n",
      "cell science cancer t t cell research immune disease tumor virus\n",
      "Topic  4\n",
      "cell science t t cell quantum material atom research solar electron\n",
      "Topic  5\n",
      "protein dna gene rna structure science complex genome enzyme research\n",
      "Topic  6\n",
      "virus zika vaccine antibody zika virus infect infection viral ebola outbreak\n",
      "Topic  7\n",
      "carbon reaction bond c catalyst plant climate enzyme science methane\n",
      "Topic  8\n",
      "protein change climate structure science policy climate change electron state bind\n",
      "Topic  9\n",
      "protein ice planet earth surface structure year star solar gravitational\n",
      "\n",
      "\n",
      "-------NMF------\n",
      "\n",
      "\n",
      "Topic  0\n",
      "offer instrumentation interest researcher weekly weekly roundup roundup information instrumentation apparatus apparatus laboratory laboratory material information newly newly offer\n",
      "Topic  1\n",
      "gene genome dna human genetic expression disease mutation study rna\n",
      "Topic  2\n",
      "cell t t cell immune tumor cancer tissue immune cell stem mouse\n",
      "Topic  3\n",
      "quantum material electron optical atom system magnetic state light use\n",
      "Topic  4\n",
      "science research new u.s scientist world national university institute researcher\n",
      "Topic  5\n",
      "climate change climate change global ice impact ecosystem specie water temperature\n",
      "Topic  6\n",
      "virus zika vaccine antibody zika virus infect infection health ebola viral\n",
      "Topic  7\n",
      "reaction carbon bond catalyst c metal molecule h hydrogen methane\n",
      "Topic  8\n",
      "plant crop soil growth specie yield light sugar nitrogen pathway\n",
      "Topic  9\n",
      "protein structure complex rna bind membrane enzyme function site dna\n",
      "\n",
      "\n",
      "-------LDA------\n",
      "\n",
      "\n",
      "Topic  0\n",
      "quantum material use carbon atom electron reaction light metal optical\n",
      "Topic  1\n",
      "science new research scientist world year human researcher climate change\n",
      "Topic  2\n",
      "iress suppose darpa flow fluid electron graphene material element find\n",
      "Topic  3\n",
      "roundup material potential interest researcher potential interest weekly roundup offer instrumentation weekly information newly laboratory material apparatus laboratory\n",
      "Topic  4\n",
      "megathrust slow slip slow earthquake slip event zone deformation subduction zone earthquake slip subduction\n",
      "Topic  5\n",
      "cell protein gene dna plant disease genetic complex mouse cancer\n",
      "Topic  6\n",
      "ice cell leucine nucleoid earthquake plateau modification niche portal mtorc1\n",
      "Topic  7\n",
      "neandertal pluto honey new horizon y honey hunter y chromosome bee nest possible cryovolcanoe\n",
      "Topic  8\n",
      "mtdna camel admission purinosome selective master energy source lewis cell ice\n",
      "Topic  9\n",
      "camel cap translation initiation human iress 5′ motif stress mer\n"
     ]
    }
   ],
   "source": [
    "use_vectorizer(tf_vect1, tf_vect1_transformed)"
   ]
  },
  {
   "cell_type": "markdown",
   "metadata": {},
   "source": [
    "tfidf vectorizer 2"
   ]
  },
  {
   "cell_type": "code",
   "execution_count": 39,
   "metadata": {
    "collapsed": true
   },
   "outputs": [],
   "source": [
    "tf_vect2, tf_vect2_transformed = tfidf_vectorizer(spacy_tokenizer_1, 5000, all_descriptions, ngram_stop=4)"
   ]
  },
  {
   "cell_type": "markdown",
   "metadata": {},
   "source": [
    "# THIS ONE IS GOOD"
   ]
  },
  {
   "cell_type": "code",
   "execution_count": 40,
   "metadata": {},
   "outputs": [
    {
     "name": "stdout",
     "output_type": "stream",
     "text": [
      "\n",
      "\n",
      "-------LSA------\n",
      "\n",
      "\n",
      "Topic  0\n",
      "potential interest newly offer instrumentation apparatus instrumentation apparatus weekly roundup instrumentation apparatus laboratory instrumentation apparatus laboratory material information newly offer instrumentation weekly roundup information newly offer instrumentation roundup information newly\n",
      "Topic  1\n",
      "cell science new use human research study change gene protein\n",
      "Topic  2\n",
      "cell protein gene t t cell immune tumor dna expression cancer\n",
      "Topic  3\n",
      "cell science cancer t t cell research immune tumor disease virus\n",
      "Topic  4\n",
      "gene specie human change climate plant genome virus genetic rna\n",
      "Topic  5\n",
      "protein dna gene rna structure science genome complex enzyme research\n",
      "Topic  6\n",
      "virus zika vaccine antibody zika virus infect infection viral ebola outbreak\n",
      "Topic  7\n",
      "carbon reaction bond c catalyst plant enzyme climate protein science\n",
      "Topic  8\n",
      "protein change climate structure science climate change policy bind electron rna\n",
      "Topic  9\n",
      "ice protein planet earth year gravitational star surface wave crater\n",
      "\n",
      "\n",
      "-------NMF------\n",
      "\n",
      "\n",
      "Topic  0\n",
      "roundup information newly offer laboratory material offer instrumentation apparatus laboratory offer instrumentation apparatus offer instrumentation interest researcher laboratory material potential interest laboratory material potential roundup information instrumentation apparatus laboratory material\n",
      "Topic  1\n",
      "gene genome human genetic dna expression plant disease evolution mutation\n",
      "Topic  2\n",
      "cell t t cell immune tumor cancer immune cell tissue mouse stem\n",
      "Topic  3\n",
      "quantum electron material optical atom state magnetic device use particle\n",
      "Topic  4\n",
      "science research new u.s world scientist national university institute researcher\n",
      "Topic  5\n",
      "climate change climate change global specie ecosystem temperature impact increase water\n",
      "Topic  6\n",
      "virus zika vaccine antibody zika virus infect infection health ebola viral\n",
      "Topic  7\n",
      "reaction carbon bond catalyst c metal molecule methane hydrogen organic\n",
      "Topic  8\n",
      "protein structure complex rna bind dna enzyme membrane function site\n",
      "Topic  9\n",
      "star planet earth gravitational wave galaxy year solar surface gravitational wave\n",
      "\n",
      "\n",
      "-------LDA------\n",
      "\n",
      "\n",
      "Topic  0\n",
      "ki iress macchiarini implant root overstate game karolinska institute database scandal\n",
      "Topic  1\n",
      "catalyst bond reaction c metal oxide platinum chiral h alloy\n",
      "Topic  2\n",
      "darpa α-syn pff α-syn pff pd science teacher human schedule u.s\n",
      "Topic  3\n",
      "gravitational black hole ligo gravitational wave black physicist richmond interferometer wave detector\n",
      "Topic  4\n",
      "science family family journal science family journal megathrust advancement science american association advancement science american association advancement association advancement association advancement science aaas\n",
      "Topic  5\n",
      "oligodendrocyte neuron brain learn learning radio cell reward type star\n",
      "Topic  6\n",
      "roundup instrumentation material potential offer instrumentation apparatus material potential interest researcher newly offer roundup information newly offer instrumentation information newly apparatus laboratory\n",
      "Topic  7\n",
      "perovskite nanocrystal solar cell comb plasmonic recombination nonlinear spo11 y wave function\n",
      "Topic  8\n",
      "mtdna pluto admission new horizon horizon high speed moore present complex underpin analysis new horizon fly pluto system environment include interaction\n",
      "Topic  9\n",
      "cell science use new human change research study state protein\n"
     ]
    }
   ],
   "source": [
    "use_vectorizer(tf_vect2, tf_vect2_transformed)"
   ]
  },
  {
   "cell_type": "code",
   "execution_count": 41,
   "metadata": {
    "collapsed": true
   },
   "outputs": [],
   "source": [
    "tf_vect2, tf_vect2_transformed = tfidf_vectorizer(spacy_tokenizer_1, 5000, all_descriptions, ngram_stop=3)"
   ]
  },
  {
   "cell_type": "markdown",
   "metadata": {},
   "source": [
    "# THIS ONE IS THE BEST"
   ]
  },
  {
   "cell_type": "code",
   "execution_count": 42,
   "metadata": {},
   "outputs": [
    {
     "name": "stdout",
     "output_type": "stream",
     "text": [
      "\n",
      "\n",
      "-------LSA------\n",
      "\n",
      "\n",
      "Topic  0\n",
      "newly offer instrumentation apparatus apparatus laboratory material laboratory material potential laboratory material roundup information newly roundup information potential interest researcher interest researcher offer instrumentation\n",
      "Topic  1\n",
      "cell science new use human research study change gene protein\n",
      "Topic  2\n",
      "cell protein gene t t cell immune tumor dna expression cancer\n",
      "Topic  3\n",
      "cell science cancer t t cell research immune tumor disease virus\n",
      "Topic  4\n",
      "cell science t t cell quantum material atom research electron state\n",
      "Topic  5\n",
      "protein dna gene rna structure science genome complex enzyme research\n",
      "Topic  6\n",
      "virus zika vaccine antibody zika virus infect infection viral ebola zikv\n",
      "Topic  7\n",
      "carbon reaction bond c catalyst plant climate enzyme science protein\n",
      "Topic  8\n",
      "protein change climate structure science policy climate change electron state bind\n",
      "Topic  9\n",
      "protein ice planet earth star year gravitational surface structure solar\n",
      "\n",
      "\n",
      "-------NMF------\n",
      "\n",
      "\n",
      "Topic  0\n",
      "information newly offer instrumentation apparatus laboratory laboratory material potential laboratory material potential interest apparatus laboratory interest researcher material potential interest roundup information newly newly offer instrumentation\n",
      "Topic  1\n",
      "star planet earth gravitational wave galaxy year solar surface crater\n",
      "Topic  2\n",
      "cell t t cell immune tumor cancer tissue immune cell mouse stem\n",
      "Topic  3\n",
      "quantum electron material optical atom state magnetic use device particle\n",
      "Topic  4\n",
      "science research new u.s world scientist national university institute researcher\n",
      "Topic  5\n",
      "climate change climate change global specie ecosystem temperature impact policy increase\n",
      "Topic  6\n",
      "virus zika vaccine antibody zika virus infect infection health viral ebola\n",
      "Topic  7\n",
      "reaction carbon bond catalyst c metal molecule methane hydrogen organic\n",
      "Topic  8\n",
      "plant crop soil growth specie yield light sugar pathway bacteria\n",
      "Topic  9\n",
      "gene protein dna rna genome genetic human expression complex function\n",
      "\n",
      "\n",
      "-------LDA------\n",
      "\n",
      "\n",
      "Topic  0\n",
      "migraine root module complex economy microbe cell grow biden antigen\n",
      "Topic  1\n",
      "antibody ebola virus ebola virus science family gp sci hub preprint macaque science family journal\n",
      "Topic  2\n",
      "ice sheet graphene ice sheet flint laser teacher mid sediment strain\n",
      "Topic  3\n",
      "refuge cuba migraine decomposition mitigate yield conservation reef news new\n",
      "Topic  4\n",
      "subduction zone subduction pluto megathrust new horizon horizon slow slip zone valley deformation\n",
      "Topic  5\n",
      "science new human research cell researcher scientist world study change\n",
      "Topic  6\n",
      "richmond schedule community microbial community gut sexual version microbial growth hormone kingdom\n",
      "Topic  7\n",
      "admission exosphere babylonian hair follicle hair follicle cell stem cell stem reactor\n",
      "Topic  8\n",
      "camel neural crest cell crest cell mer neural crest crest coronavirus temperature canal ratio\n",
      "Topic  9\n",
      "cell protein use structure quantum electron material molecule complex reaction\n"
     ]
    }
   ],
   "source": [
    "use_vectorizer(tf_vect2, tf_vect2_transformed)"
   ]
  },
  {
   "cell_type": "code",
   "execution_count": null,
   "metadata": {
    "collapsed": true
   },
   "outputs": [],
   "source": []
  },
  {
   "cell_type": "markdown",
   "metadata": {},
   "source": [
    "tfidf vectorizer 3"
   ]
  },
  {
   "cell_type": "code",
   "execution_count": 43,
   "metadata": {
    "collapsed": true
   },
   "outputs": [],
   "source": [
    "tf_vect3, tf_vect3_transformed = tfidf_vectorizer(spacy_tokenizer_1, 110000, all_descriptions)"
   ]
  },
  {
   "cell_type": "code",
   "execution_count": 44,
   "metadata": {},
   "outputs": [
    {
     "name": "stdout",
     "output_type": "stream",
     "text": [
      "\n",
      "\n",
      "-------LSA------\n",
      "\n",
      "\n",
      "Topic  0\n",
      "offer instrumentation apparatus laboratory newly offer instrumentation apparatus weekly roundup weekly potential interest information newly interest researcher roundup information\n",
      "Topic  1\n",
      "cell new science use human protein gene change system study\n",
      "Topic  2\n",
      "cell t t cell immune protein gene tumor cancer mouse tissue\n",
      "Topic  3\n",
      "surface pluto solar system material new horizon atom horizon electron quantum\n",
      "Topic  4\n",
      "pluto cell new horizon horizon solar system surface moon solar system t\n",
      "Topic  5\n",
      "gene protein virus rna antibody dna human vaccine genome zika\n",
      "Topic  6\n",
      "virus antibody zika vaccine infect zika virus viral ebola ebola virus infection\n",
      "Topic  7\n",
      "climate change ice climate change specie plant global co2 impact increase\n",
      "Topic  8\n",
      "carbon bond c reaction h catalyst – enzyme c – complex\n",
      "Topic  9\n",
      "protein structure leucine mtorc1 electron climate change bind complex t\n",
      "\n",
      "\n",
      "-------NMF------\n",
      "\n",
      "\n",
      "Topic  0\n",
      "offer instrumentation weekly roundup laboratory material instrumentation apparatus potential interest information newly interest researcher roundup information apparatus laboratory weekly\n",
      "Topic  1\n",
      "science research new u.s world scientist national researcher institute university\n",
      "Topic  2\n",
      "cell t t cell immune tumor cancer immune cell stem cell stem tissue\n",
      "Topic  3\n",
      "quantum electron atom optical material magnetic state device use light\n",
      "Topic  4\n",
      "pluto new horizon horizon system solar surface moon solar system analysis present\n",
      "Topic  5\n",
      "gene dna genome rna genetic expression mutation human crispr disease\n",
      "Topic  6\n",
      "virus antibody zika vaccine infect zika virus viral ebola infection ebola virus\n",
      "Topic  7\n",
      "climate change climate change ice specie plant global impact temperature ecosystem\n",
      "Topic  8\n",
      "bond reaction c carbon catalyst h metal – c – h bond\n",
      "Topic  9\n",
      "protein structure complex leucine mtorc1 bind sestrin2 enzyme function membrane\n",
      "\n",
      "\n",
      "-------LDA------\n",
      "\n",
      "\n",
      "Topic  0\n",
      "camel ubiquitin frequency comb comb dystrophy muscular dystrophy dystrophin bam germinal germinal center\n",
      "Topic  1\n",
      "roundup material potential apparatus laboratory roundup information information newly laboratory material weekly offer instrumentation weekly roundup potential interest\n",
      "Topic  2\n",
      "gp akt asd tic tumor cell lymph lncrna autism sperm mtap\n",
      "Topic  3\n",
      "overtax planet urbanization overtax overtax rapid urbanization quark reforestation grassland torero land spar transmetallation\n",
      "Topic  4\n",
      "pnecs histone acetylation caste carbon fragment chiral ligand antiferromagnet spintronic adsorption 111 small nanocluster example dissociate\n",
      "Topic  5\n",
      "hbf plasmon hemoglobinopathy cockroach lead good guliya time prosperous prosperous sulfate medial prefrontal\n",
      "Topic  6\n",
      "salinity nepal kathmandu groundwater storage incandescent multipotent socioethical landslide quasi periodic signal mtorc1\n",
      "Topic  7\n",
      "refuge purinosome consolation csiro clock corpse mitigate migraine decomposition news corpse decomposition week mitigate migraine clock\n",
      "Topic  8\n",
      "cell science use new human change protein study research state\n",
      "Topic  9\n",
      "supernovae lateral root iress protein translocation pollinator diversity sine signal sequence archean control methane methane discharge\n"
     ]
    }
   ],
   "source": [
    "use_vectorizer(tf_vect3, tf_vect3_transformed)"
   ]
  },
  {
   "cell_type": "markdown",
   "metadata": {},
   "source": [
    "# THIS ONE IS THE BEST, try TSNE"
   ]
  },
  {
   "cell_type": "code",
   "execution_count": 45,
   "metadata": {
    "collapsed": true
   },
   "outputs": [],
   "source": [
    "tf_vect2, tf_vect2_transformed = tfidf_vectorizer(spacy_tokenizer_1, 5000, all_descriptions, ngram_stop=3)\n",
    "norm = Normalizer()\n",
    "vect_normalized = norm.fit_transform(tf_vect2_transformed)\n",
    "model, model_transformed = nmf_tfidf(vect_normalized, n_comp=10)"
   ]
  },
  {
   "cell_type": "code",
   "execution_count": 46,
   "metadata": {},
   "outputs": [
    {
     "name": "stdout",
     "output_type": "stream",
     "text": [
      "[t-SNE] Computing 31 nearest neighbors...\n",
      "[t-SNE] Indexed 1877 samples in 0.002s...\n",
      "[t-SNE] Computed neighbors for 1877 samples in 0.064s...\n",
      "[t-SNE] Computed conditional probabilities for sample 1000 / 1877\n",
      "[t-SNE] Computed conditional probabilities for sample 1877 / 1877\n",
      "[t-SNE] Mean sigma: 0.000000\n",
      "[t-SNE] Computed conditional probabilities in 0.031s\n",
      "[t-SNE] Iteration 50: error = 85.8360062, gradient norm = 0.1425831 (50 iterations in 2.419s)\n",
      "[t-SNE] Iteration 100: error = 74.6411667, gradient norm = 0.0480437 (50 iterations in 1.648s)\n",
      "[t-SNE] Iteration 150: error = 72.3865204, gradient norm = 0.0350002 (50 iterations in 1.517s)\n",
      "[t-SNE] Iteration 200: error = 71.5413818, gradient norm = 0.0195318 (50 iterations in 1.632s)\n",
      "[t-SNE] Iteration 250: error = 71.1872025, gradient norm = 0.0154876 (50 iterations in 1.314s)\n",
      "[t-SNE] KL divergence after 250 iterations with early exaggeration: 71.187202\n",
      "[t-SNE] Iteration 300: error = 1.4056250, gradient norm = 0.0012930 (50 iterations in 1.413s)\n",
      "[t-SNE] Iteration 350: error = 1.1228786, gradient norm = 0.0005543 (50 iterations in 1.300s)\n",
      "[t-SNE] Iteration 400: error = 1.0182509, gradient norm = 0.0003456 (50 iterations in 1.253s)\n",
      "[t-SNE] Iteration 450: error = 0.9666080, gradient norm = 0.0002596 (50 iterations in 1.127s)\n",
      "[t-SNE] Iteration 500: error = 0.9364619, gradient norm = 0.0002083 (50 iterations in 1.129s)\n",
      "[t-SNE] Iteration 550: error = 0.9180083, gradient norm = 0.0001876 (50 iterations in 1.112s)\n",
      "[t-SNE] Iteration 600: error = 0.9056329, gradient norm = 0.0001599 (50 iterations in 1.104s)\n",
      "[t-SNE] Iteration 650: error = 0.8965161, gradient norm = 0.0001486 (50 iterations in 1.110s)\n",
      "[t-SNE] Iteration 700: error = 0.8894835, gradient norm = 0.0001404 (50 iterations in 1.116s)\n",
      "[t-SNE] Iteration 750: error = 0.8835644, gradient norm = 0.0001324 (50 iterations in 1.136s)\n",
      "[t-SNE] Iteration 800: error = 0.8785322, gradient norm = 0.0001274 (50 iterations in 1.257s)\n",
      "[t-SNE] Iteration 850: error = 0.8750197, gradient norm = 0.0001272 (50 iterations in 1.243s)\n",
      "[t-SNE] Iteration 900: error = 0.8722135, gradient norm = 0.0001178 (50 iterations in 1.122s)\n",
      "[t-SNE] Iteration 950: error = 0.8693478, gradient norm = 0.0001111 (50 iterations in 1.245s)\n",
      "[t-SNE] Iteration 1000: error = 0.8663734, gradient norm = 0.0001172 (50 iterations in 1.254s)\n",
      "[t-SNE] Error after 1000 iterations: 0.866373\n"
     ]
    },
    {
     "data": {
      "image/png": "[encoded data removed]",
      "text/plain": [
       "<matplotlib.figure.Figure at 0x15e9b8eb8>"
      ]
     },
     "metadata": {},
     "output_type": "display_data"
    }
   ],
   "source": [
    "from sklearn.manifold import TSNE\n",
    "import matplotlib.pyplot as plt\n",
    "%matplotlib inline\n",
    "\n",
    "tsne_model = TSNE(n_components=2, random_state=0,verbose=2, perplexity=10)\n",
    "low_data = tsne_model.fit_transform(model_transformed)\n",
    "\n",
    "# num_points = 1877\n",
    "# num_clust = 10\n",
    "\n",
    "# colorize = []\n",
    "# for i in range(num_clust):\n",
    "#   for _ in range(num_points):\n",
    "#        colorize.append(plt.cm.rainbow(i*20))\n",
    "        \n",
    "x,y = zip(*low_data)\n",
    "plt.scatter(x, y, s=40);"
   ]
  },
  {
   "cell_type": "code",
   "execution_count": null,
   "metadata": {
    "collapsed": true
   },
   "outputs": [],
   "source": []
  },
  {
   "cell_type": "code",
   "execution_count": null,
   "metadata": {
    "collapsed": true
   },
   "outputs": [],
   "source": []
  },
  {
   "cell_type": "code",
   "execution_count": null,
   "metadata": {
    "collapsed": true
   },
   "outputs": [],
   "source": []
  },
  {
   "cell_type": "code",
   "execution_count": 528,
   "metadata": {
    "collapsed": true
   },
   "outputs": [],
   "source": [
    "model, model_transformed = nmf_cv(tf_vect2_transformed, n_comp=10)"
   ]
  },
  {
   "cell_type": "code",
   "execution_count": 529,
   "metadata": {},
   "outputs": [
    {
     "name": "stdout",
     "output_type": "stream",
     "text": [
      "[t-SNE] Computing 91 nearest neighbors...\n",
      "[t-SNE] Indexed 1877 samples in 0.002s...\n",
      "[t-SNE] Computed neighbors for 1877 samples in 0.087s...\n",
      "[t-SNE] Computed conditional probabilities for sample 1000 / 1877\n",
      "[t-SNE] Computed conditional probabilities for sample 1877 / 1877\n",
      "[t-SNE] Mean sigma: 0.000000\n",
      "[t-SNE] Computed conditional probabilities in 0.085s\n",
      "[t-SNE] Iteration 50: error = 71.5460434, gradient norm = 0.1214279 (50 iterations in 2.368s)\n",
      "[t-SNE] Iteration 100: error = 65.5536423, gradient norm = 0.0198547 (50 iterations in 1.681s)\n",
      "[t-SNE] Iteration 150: error = 65.1880341, gradient norm = 0.0022966 (50 iterations in 1.649s)\n",
      "[t-SNE] Iteration 200: error = 65.1220245, gradient norm = 0.0041442 (50 iterations in 1.653s)\n",
      "[t-SNE] Iteration 250: error = 65.0985565, gradient norm = 0.0020528 (50 iterations in 1.705s)\n",
      "[t-SNE] KL divergence after 250 iterations with early exaggeration: 65.098557\n",
      "[t-SNE] Iteration 300: error = 0.9929306, gradient norm = 0.0008400 (50 iterations in 1.590s)\n",
      "[t-SNE] Iteration 350: error = 0.8461261, gradient norm = 0.0003076 (50 iterations in 1.613s)\n",
      "[t-SNE] Iteration 400: error = 0.8022178, gradient norm = 0.0001961 (50 iterations in 1.684s)\n",
      "[t-SNE] Iteration 450: error = 0.7860662, gradient norm = 0.0001550 (50 iterations in 1.696s)\n",
      "[t-SNE] Iteration 500: error = 0.7780254, gradient norm = 0.0001251 (50 iterations in 1.713s)\n",
      "[t-SNE] Iteration 550: error = 0.7730266, gradient norm = 0.0001210 (50 iterations in 1.744s)\n",
      "[t-SNE] Iteration 600: error = 0.7694838, gradient norm = 0.0001270 (50 iterations in 1.724s)\n",
      "[t-SNE] Iteration 650: error = 0.7672606, gradient norm = 0.0001403 (50 iterations in 1.616s)\n",
      "[t-SNE] Iteration 700: error = 0.7657434, gradient norm = 0.0001151 (50 iterations in 1.758s)\n",
      "[t-SNE] Iteration 750: error = 0.7647524, gradient norm = 0.0001002 (50 iterations in 1.738s)\n",
      "[t-SNE] Iteration 800: error = 0.7635471, gradient norm = 0.0000788 (50 iterations in 1.720s)\n",
      "[t-SNE] Iteration 850: error = 0.7621616, gradient norm = 0.0000984 (50 iterations in 1.687s)\n",
      "[t-SNE] Iteration 900: error = 0.7611578, gradient norm = 0.0001000 (50 iterations in 1.726s)\n",
      "[t-SNE] Iteration 950: error = 0.7601472, gradient norm = 0.0000993 (50 iterations in 1.654s)\n",
      "[t-SNE] Iteration 1000: error = 0.7595984, gradient norm = 0.0000810 (50 iterations in 1.676s)\n",
      "[t-SNE] Error after 1000 iterations: 0.759598\n"
     ]
    },
    {
     "data": {
      "image/png": "[encoded data removed]",
      "text/plain": [
       "<matplotlib.figure.Figure at 0x1643907b8>"
      ]
     },
     "metadata": {},
     "output_type": "display_data"
    }
   ],
   "source": [
    "tsne_model = TSNE(n_components=2, random_state=0,verbose=2)\n",
    "low_data = tsne_model.fit_transform(model_transformed)\n",
    "\n",
    "num_points = 1877\n",
    "num_clust = 12\n",
    "\n",
    "colorize = []\n",
    "for i in range(num_clust):\n",
    "    for _ in range(num_points):\n",
    "        colorize.append(plt.cm.rainbow(i*20))\n",
    "x,y = zip(*low_data)\n",
    "plt.scatter(x, y, c=colorize, s=40);"
   ]
  },
  {
   "cell_type": "code",
   "execution_count": 524,
   "metadata": {},
   "outputs": [
    {
     "name": "stdout",
     "output_type": "stream",
     "text": [
      "\n",
      "\n",
      "-------LSA------\n",
      "\n",
      "\n",
      "Topic  0\n",
      "offer instrumentation apparatus material potential interest newly offer instrumentation newly offer apparatus laboratory material apparatus laboratory instrumentation apparatus instrumentation apparatus laboratory roundup information newly roundup information\n",
      "Topic  1\n",
      "cell science new use human research year study change gene\n",
      "Topic  2\n",
      "cell protein gene t t cell immune tumor dna expression rna\n",
      "Topic  3\n",
      "cell science cancer t t cell immune research disease tumor virus\n",
      "Topic  4\n",
      "cell science t t cell quantum material atom solar state electron\n",
      "Topic  5\n",
      "protein dna science gene rna structure complex genome research enzyme\n",
      "Topic  6\n",
      "virus vaccine zika antibody zika virus infect hiv infection viral ebola\n",
      "Topic  7\n",
      "carbon reaction c bond catalyst protein plant enzyme science climate\n",
      "Topic  8\n",
      "plant year reaction carbon gravitational star researcher new wave catalyst\n",
      "Topic  9\n",
      "ice protein dna year earth planet surface crater climate star\n",
      "\n",
      "\n",
      "-------NMF------\n",
      "\n",
      "\n",
      "Topic  0\n",
      "weekly roundup information offer instrumentation apparatus laboratory apparatus laboratory material instrumentation apparatus laboratory interest researcher material potential interest instrumentation apparatus potential interest researcher weekly roundup\n",
      "Topic  1\n",
      "planet star earth gravitational year wave galaxy solar surface ice\n",
      "Topic  2\n",
      "cell t t cell immune tumor cancer tissue stem immune cell stem cell\n",
      "Topic  3\n",
      "quantum electron material atom optical state magnetic use device particle\n",
      "Topic  4\n",
      "science research new u.s world scientist national university institute year\n",
      "Topic  5\n",
      "climate change climate change global specie ecosystem temperature ice increase policy\n",
      "Topic  6\n",
      "virus vaccine zika antibody zika virus infect infection hiv health viral\n",
      "Topic  7\n",
      "reaction carbon bond catalyst c metal molecule methane organic use\n",
      "Topic  8\n",
      "plant specie crop soil growth yield light sugar bacteria pathway\n",
      "Topic  9\n",
      "gene protein dna rna genome genetic human complex expression function\n",
      "\n",
      "\n",
      "-------LDA------\n",
      "\n",
      "\n",
      "Topic  0\n",
      "pluto migraine new horizon horizon horizon spacecraft fly pluto modify space evidence tectonic glacial system high bright surface bagenal space environment include\n",
      "Topic  1\n",
      "science use new year research change human study state scientist\n",
      "Topic  2\n",
      "slow slip slow slip event slip event ki earthquake slip protein material large periodic\n",
      "Topic  3\n",
      "ant camel refuge mer beetle coronavirus cystic virus fibrosis cystic fibrosis\n",
      "Topic  4\n",
      "capsid env hiv leucine strand protease nitride cryo nematicity spliceosome\n",
      "Topic  5\n",
      "ligo interferometer laser interferometer wave observatory interferometer gravitational wave gravitational wave observatory laser interferometer gravitational interferometer gravitational gravitational observatory ligo\n",
      "Topic  6\n",
      "apparatus roundup instrumentation material potential offer instrumentation apparatus information newly offer interest researcher potential interest weekly information newly\n",
      "Topic  7\n",
      "cell gene protein rna immune tumor dna cancer expression t\n",
      "Topic  8\n",
      "mtdna actin microtubule hdl myosin yob y chromosome y hcm actin filament\n",
      "Topic  9\n",
      "triplet lymph qpt lymph node node cc arvs richmond magnetic cell\n"
     ]
    }
   ],
   "source": [
    "use_vectorizer(tf_vect2, tf_vect2_transformed)"
   ]
  },
  {
   "cell_type": "code",
   "execution_count": 461,
   "metadata": {},
   "outputs": [
    {
     "data": {
      "text/plain": [
       "array([[ 0.03606022,  0.01463753,  0.13978575],\n",
       "       [ 0.00702094,  0.01942883,  0.11309704],\n",
       "       [ 0.01095464,  0.19735347,  0.17891467],\n",
       "       ..., \n",
       "       [ 0.14641721,  0.03204007,  0.41867172],\n",
       "       [ 0.0773476 ,  0.        ,  0.50839933],\n",
       "       [ 0.02032465,  0.        ,  0.        ]])"
      ]
     },
     "execution_count": 461,
     "metadata": {},
     "output_type": "execute_result"
    }
   ],
   "source": [
    "model_transformed"
   ]
  },
  {
   "cell_type": "code",
   "execution_count": 472,
   "metadata": {},
   "outputs": [
    {
     "name": "stdout",
     "output_type": "stream",
     "text": [
      "[0.014637531137500425, 0.036060217374697466] [0.0070209400416933725, 0.019428830908441649] [0.010954642979389383, 0.17891467207042108] <class 'int'>\n"
     ]
    }
   ],
   "source": [
    "y = [sorted(model_transformed[0])[0], sorted(model_transformed[0])[1]]\n",
    "y2 = [sorted(model_transformed[1])[0], sorted(model_transformed[1])[1]]\n",
    "y3 = [sorted(model_transformed[2])[0], sorted(model_transformed[2])[1]]\n",
    "print(y, y2, y3, type(int(y[0])))"
   ]
  },
  {
   "cell_type": "code",
   "execution_count": 488,
   "metadata": {},
   "outputs": [
    {
     "data": {
      "text/plain": [
       "array([0, 0, 0, ..., 0, 0, 0])"
      ]
     },
     "execution_count": 488,
     "metadata": {},
     "output_type": "execute_result"
    }
   ],
   "source": [
    "x1 = model_transformed[:, 0].astype(np.int64)\n",
    "x1"
   ]
  },
  {
   "cell_type": "code",
   "execution_count": 517,
   "metadata": {
    "collapsed": true
   },
   "outputs": [],
   "source": [
    "import matplotlib.pyplot as plt\n",
    "from mpl_toolkits.mplot3d import Axes3D\n",
    "import numpy as np\n",
    "plt.style.use(\"seaborn-poster\")\n",
    "%matplotlib inline"
   ]
  },
  {
   "cell_type": "code",
   "execution_count": 66,
   "metadata": {
    "collapsed": true
   },
   "outputs": [],
   "source": [
    "tf_vect2, tf_vect2_transformed = tfidf_vectorizer(spacy_tokenizer_1, 5000, all_descriptions, ngram_stop=3)\n",
    "norm = Normalizer()\n",
    "vect_normalized = norm.fit_transform(tf_vect2_transformed)\n",
    "model, model_transformed = lda_tfidf(vect_normalized, n_comp=3)"
   ]
  },
  {
   "cell_type": "code",
   "execution_count": null,
   "metadata": {
    "collapsed": true
   },
   "outputs": [],
   "source": []
  },
  {
   "cell_type": "code",
   "execution_count": 67,
   "metadata": {},
   "outputs": [
    {
     "data": {
      "text/plain": [
       "<matplotlib.text.Text at 0x162dfdcc0>"
      ]
     },
     "execution_count": 67,
     "metadata": {},
     "output_type": "execute_result"
    },
    {
     "data": {
      "image/png": "[encoded data removed]",
      "text/plain": [
       "<matplotlib.figure.Figure at 0x16009cd30>"
      ]
     },
     "metadata": {},
     "output_type": "display_data"
    }
   ],
   "source": [
    "import matplotlib.pyplot as plt\n",
    "from mpl_toolkits.mplot3d import Axes3D\n",
    "import numpy as np\n",
    "plt.style.use(\"seaborn-poster\")\n",
    "%matplotlib inline\n",
    "\n",
    "fig = plt.figure(1, figsize=(13, 10))\n",
    "ax = Axes3D(fig, elev=-150, azim=110)\n",
    "#y = range(sorted(model_transformed[0])[0], sorted(model_transformed[0])[-1])\n",
    "# plot transformed values (the three features that we have decomposed to) , colors correspond to target values\n",
    "# c=y, cmap=plt.cm.cool, \n",
    "ax.scatter(model_transformed[:, 0], model_transformed[:, 1], model_transformed[:, 2], edgecolor='k', s=50)\n",
    "ax.set_title(\"First three PCA directions\", fontsize=16)\n",
    "ax.set_xlabel(\"1st eigenvector\",fontsize=16)\n",
    "ax.set_ylabel(\"2nd eigenvector\",fontsize=16)\n",
    "ax.set_zlabel(\"3rd eigenvector\",fontsize=16)"
   ]
  },
  {
   "cell_type": "code",
   "execution_count": 500,
   "metadata": {},
   "outputs": [
    {
     "ename": "TypeError",
     "evalue": "sparse matrix length is ambiguous; use getnnz() or shape[0]",
     "output_type": "error",
     "traceback": [
      "\u001b[0;31m---------------------------------------------------------------------------\u001b[0m",
      "\u001b[0;31mAttributeError\u001b[0m                            Traceback (most recent call last)",
      "\u001b[0;32m~/anaconda3/lib/python3.6/site-packages/matplotlib/units.py\u001b[0m in \u001b[0;36mget_converter\u001b[0;34m(self, x)\u001b[0m\n\u001b[1;32m    144\u001b[0m                 \u001b[0;31m# get_converter\u001b[0m\u001b[0;34m\u001b[0m\u001b[0;34m\u001b[0m\u001b[0m\n\u001b[0;32m--> 145\u001b[0;31m                 \u001b[0;32mif\u001b[0m \u001b[0;32mnot\u001b[0m \u001b[0mnp\u001b[0m\u001b[0;34m.\u001b[0m\u001b[0mall\u001b[0m\u001b[0;34m(\u001b[0m\u001b[0mxravel\u001b[0m\u001b[0;34m.\u001b[0m\u001b[0mmask\u001b[0m\u001b[0;34m)\u001b[0m\u001b[0;34m:\u001b[0m\u001b[0;34m\u001b[0m\u001b[0m\n\u001b[0m\u001b[1;32m    146\u001b[0m                     \u001b[0;31m# some elements are not masked\u001b[0m\u001b[0;34m\u001b[0m\u001b[0;34m\u001b[0m\u001b[0m\n",
      "\u001b[0;31mAttributeError\u001b[0m: 'numpy.ndarray' object has no attribute 'mask'",
      "\nDuring handling of the above exception, another exception occurred:\n",
      "\u001b[0;31mTypeError\u001b[0m                                 Traceback (most recent call last)",
      "\u001b[0;32m<ipython-input-500-c7d96f18423b>\u001b[0m in \u001b[0;36m<module>\u001b[0;34m()\u001b[0m\n\u001b[1;32m     10\u001b[0m \u001b[0;31m# plot transformed values (the three features that we have decomposed to) , colors correspond to target values\u001b[0m\u001b[0;34m\u001b[0m\u001b[0;34m\u001b[0m\u001b[0m\n\u001b[1;32m     11\u001b[0m \u001b[0;31m# c=y, cmap=plt.cm.cool,\u001b[0m\u001b[0;34m\u001b[0m\u001b[0;34m\u001b[0m\u001b[0m\n\u001b[0;32m---> 12\u001b[0;31m \u001b[0max\u001b[0m\u001b[0;34m.\u001b[0m\u001b[0mscatter\u001b[0m\u001b[0;34m(\u001b[0m\u001b[0mcv_vect1_transformed\u001b[0m\u001b[0;34m[\u001b[0m\u001b[0;34m:\u001b[0m\u001b[0;34m,\u001b[0m \u001b[0;36m0\u001b[0m\u001b[0;34m]\u001b[0m\u001b[0;34m,\u001b[0m \u001b[0mcv_vect1_transformed\u001b[0m\u001b[0;34m[\u001b[0m\u001b[0;34m:\u001b[0m\u001b[0;34m,\u001b[0m \u001b[0;36m1\u001b[0m\u001b[0;34m]\u001b[0m\u001b[0;34m,\u001b[0m \u001b[0mcv_vect1_transformed\u001b[0m\u001b[0;34m[\u001b[0m\u001b[0;34m:\u001b[0m\u001b[0;34m,\u001b[0m \u001b[0;36m2\u001b[0m\u001b[0;34m]\u001b[0m\u001b[0;34m,\u001b[0m \u001b[0medgecolor\u001b[0m\u001b[0;34m=\u001b[0m\u001b[0;34m'k'\u001b[0m\u001b[0;34m,\u001b[0m \u001b[0ms\u001b[0m\u001b[0;34m=\u001b[0m\u001b[0;36m50\u001b[0m\u001b[0;34m)\u001b[0m\u001b[0;34m\u001b[0m\u001b[0m\n\u001b[0m\u001b[1;32m     13\u001b[0m \u001b[0max\u001b[0m\u001b[0;34m.\u001b[0m\u001b[0mset_title\u001b[0m\u001b[0;34m(\u001b[0m\u001b[0;34m\"First three PCA directions\"\u001b[0m\u001b[0;34m,\u001b[0m \u001b[0mfontsize\u001b[0m\u001b[0;34m=\u001b[0m\u001b[0;36m16\u001b[0m\u001b[0;34m)\u001b[0m\u001b[0;34m\u001b[0m\u001b[0m\n\u001b[1;32m     14\u001b[0m \u001b[0max\u001b[0m\u001b[0;34m.\u001b[0m\u001b[0mset_xlabel\u001b[0m\u001b[0;34m(\u001b[0m\u001b[0;34m\"1st eigenvector\"\u001b[0m\u001b[0;34m,\u001b[0m\u001b[0mfontsize\u001b[0m\u001b[0;34m=\u001b[0m\u001b[0;36m16\u001b[0m\u001b[0;34m)\u001b[0m\u001b[0;34m\u001b[0m\u001b[0m\n",
      "\u001b[0;32m~/anaconda3/lib/python3.6/site-packages/mpl_toolkits/mplot3d/axes3d.py\u001b[0m in \u001b[0;36mscatter\u001b[0;34m(self, xs, ys, zs, zdir, s, c, depthshade, *args, **kwargs)\u001b[0m\n\u001b[1;32m   2350\u001b[0m             \u001b[0mxs\u001b[0m\u001b[0;34m,\u001b[0m \u001b[0mys\u001b[0m\u001b[0;34m,\u001b[0m \u001b[0mzs\u001b[0m\u001b[0;34m,\u001b[0m \u001b[0ms\u001b[0m \u001b[0;34m=\u001b[0m \u001b[0mcbook\u001b[0m\u001b[0;34m.\u001b[0m\u001b[0mdelete_masked_points\u001b[0m\u001b[0;34m(\u001b[0m\u001b[0mxs\u001b[0m\u001b[0;34m,\u001b[0m \u001b[0mys\u001b[0m\u001b[0;34m,\u001b[0m \u001b[0mzs\u001b[0m\u001b[0;34m,\u001b[0m \u001b[0ms\u001b[0m\u001b[0;34m)\u001b[0m\u001b[0;34m\u001b[0m\u001b[0m\n\u001b[1;32m   2351\u001b[0m \u001b[0;34m\u001b[0m\u001b[0m\n\u001b[0;32m-> 2352\u001b[0;31m         \u001b[0mpatches\u001b[0m \u001b[0;34m=\u001b[0m \u001b[0mAxes\u001b[0m\u001b[0;34m.\u001b[0m\u001b[0mscatter\u001b[0m\u001b[0;34m(\u001b[0m\u001b[0mself\u001b[0m\u001b[0;34m,\u001b[0m \u001b[0mxs\u001b[0m\u001b[0;34m,\u001b[0m \u001b[0mys\u001b[0m\u001b[0;34m,\u001b[0m \u001b[0ms\u001b[0m\u001b[0;34m=\u001b[0m\u001b[0ms\u001b[0m\u001b[0;34m,\u001b[0m \u001b[0mc\u001b[0m\u001b[0;34m=\u001b[0m\u001b[0mc\u001b[0m\u001b[0;34m,\u001b[0m \u001b[0;34m*\u001b[0m\u001b[0margs\u001b[0m\u001b[0;34m,\u001b[0m \u001b[0;34m**\u001b[0m\u001b[0mkwargs\u001b[0m\u001b[0;34m)\u001b[0m\u001b[0;34m\u001b[0m\u001b[0m\n\u001b[0m\u001b[1;32m   2353\u001b[0m         \u001b[0;32mif\u001b[0m \u001b[0;32mnot\u001b[0m \u001b[0mcbook\u001b[0m\u001b[0;34m.\u001b[0m\u001b[0miterable\u001b[0m\u001b[0;34m(\u001b[0m\u001b[0mzs\u001b[0m\u001b[0;34m)\u001b[0m\u001b[0;34m:\u001b[0m\u001b[0;34m\u001b[0m\u001b[0m\n\u001b[1;32m   2354\u001b[0m             \u001b[0mis_2d\u001b[0m \u001b[0;34m=\u001b[0m \u001b[0;32mTrue\u001b[0m\u001b[0;34m\u001b[0m\u001b[0m\n",
      "\u001b[0;32m~/anaconda3/lib/python3.6/site-packages/matplotlib/__init__.py\u001b[0m in \u001b[0;36minner\u001b[0;34m(ax, *args, **kwargs)\u001b[0m\n\u001b[1;32m   1896\u001b[0m                     warnings.warn(msg % (label_namer, func.__name__),\n\u001b[1;32m   1897\u001b[0m                                   RuntimeWarning, stacklevel=2)\n\u001b[0;32m-> 1898\u001b[0;31m             \u001b[0;32mreturn\u001b[0m \u001b[0mfunc\u001b[0m\u001b[0;34m(\u001b[0m\u001b[0max\u001b[0m\u001b[0;34m,\u001b[0m \u001b[0;34m*\u001b[0m\u001b[0margs\u001b[0m\u001b[0;34m,\u001b[0m \u001b[0;34m**\u001b[0m\u001b[0mkwargs\u001b[0m\u001b[0;34m)\u001b[0m\u001b[0;34m\u001b[0m\u001b[0m\n\u001b[0m\u001b[1;32m   1899\u001b[0m         \u001b[0mpre_doc\u001b[0m \u001b[0;34m=\u001b[0m \u001b[0minner\u001b[0m\u001b[0;34m.\u001b[0m\u001b[0m__doc__\u001b[0m\u001b[0;34m\u001b[0m\u001b[0m\n\u001b[1;32m   1900\u001b[0m         \u001b[0;32mif\u001b[0m \u001b[0mpre_doc\u001b[0m \u001b[0;32mis\u001b[0m \u001b[0;32mNone\u001b[0m\u001b[0;34m:\u001b[0m\u001b[0;34m\u001b[0m\u001b[0m\n",
      "\u001b[0;32m~/anaconda3/lib/python3.6/site-packages/matplotlib/axes/_axes.py\u001b[0m in \u001b[0;36mscatter\u001b[0;34m(self, x, y, s, c, marker, cmap, norm, vmin, vmax, alpha, linewidths, verts, edgecolors, **kwargs)\u001b[0m\n\u001b[1;32m   3953\u001b[0m             \u001b[0medgecolors\u001b[0m \u001b[0;34m=\u001b[0m \u001b[0;34m'face'\u001b[0m\u001b[0;34m\u001b[0m\u001b[0m\n\u001b[1;32m   3954\u001b[0m \u001b[0;34m\u001b[0m\u001b[0m\n\u001b[0;32m-> 3955\u001b[0;31m         \u001b[0mself\u001b[0m\u001b[0;34m.\u001b[0m\u001b[0m_process_unit_info\u001b[0m\u001b[0;34m(\u001b[0m\u001b[0mxdata\u001b[0m\u001b[0;34m=\u001b[0m\u001b[0mx\u001b[0m\u001b[0;34m,\u001b[0m \u001b[0mydata\u001b[0m\u001b[0;34m=\u001b[0m\u001b[0my\u001b[0m\u001b[0;34m,\u001b[0m \u001b[0mkwargs\u001b[0m\u001b[0;34m=\u001b[0m\u001b[0mkwargs\u001b[0m\u001b[0;34m)\u001b[0m\u001b[0;34m\u001b[0m\u001b[0m\n\u001b[0m\u001b[1;32m   3956\u001b[0m         \u001b[0mx\u001b[0m \u001b[0;34m=\u001b[0m \u001b[0mself\u001b[0m\u001b[0;34m.\u001b[0m\u001b[0mconvert_xunits\u001b[0m\u001b[0;34m(\u001b[0m\u001b[0mx\u001b[0m\u001b[0;34m)\u001b[0m\u001b[0;34m\u001b[0m\u001b[0m\n\u001b[1;32m   3957\u001b[0m         \u001b[0my\u001b[0m \u001b[0;34m=\u001b[0m \u001b[0mself\u001b[0m\u001b[0;34m.\u001b[0m\u001b[0mconvert_yunits\u001b[0m\u001b[0;34m(\u001b[0m\u001b[0my\u001b[0m\u001b[0;34m)\u001b[0m\u001b[0;34m\u001b[0m\u001b[0m\n",
      "\u001b[0;32m~/anaconda3/lib/python3.6/site-packages/mpl_toolkits/mplot3d/axes3d.py\u001b[0m in \u001b[0;36m_process_unit_info\u001b[0;34m(self, xdata, ydata, zdata, kwargs)\u001b[0m\n\u001b[1;32m    157\u001b[0m \u001b[0;34m\u001b[0m\u001b[0m\n\u001b[1;32m    158\u001b[0m         \"\"\"\n\u001b[0;32m--> 159\u001b[0;31m         \u001b[0mAxes\u001b[0m\u001b[0;34m.\u001b[0m\u001b[0m_process_unit_info\u001b[0m\u001b[0;34m(\u001b[0m\u001b[0mself\u001b[0m\u001b[0;34m,\u001b[0m \u001b[0mxdata\u001b[0m\u001b[0;34m=\u001b[0m\u001b[0mxdata\u001b[0m\u001b[0;34m,\u001b[0m \u001b[0mydata\u001b[0m\u001b[0;34m=\u001b[0m\u001b[0mydata\u001b[0m\u001b[0;34m,\u001b[0m \u001b[0mkwargs\u001b[0m\u001b[0;34m=\u001b[0m\u001b[0mkwargs\u001b[0m\u001b[0;34m)\u001b[0m\u001b[0;34m\u001b[0m\u001b[0m\n\u001b[0m\u001b[1;32m    160\u001b[0m \u001b[0;34m\u001b[0m\u001b[0m\n\u001b[1;32m    161\u001b[0m         \u001b[0;32mif\u001b[0m \u001b[0mself\u001b[0m\u001b[0;34m.\u001b[0m\u001b[0mxaxis\u001b[0m \u001b[0;32mis\u001b[0m \u001b[0;32mNone\u001b[0m \u001b[0;32mor\u001b[0m \u001b[0mself\u001b[0m\u001b[0;34m.\u001b[0m\u001b[0myaxis\u001b[0m \u001b[0;32mis\u001b[0m \u001b[0;32mNone\u001b[0m \u001b[0;32mor\u001b[0m \u001b[0mself\u001b[0m\u001b[0;34m.\u001b[0m\u001b[0mzaxis\u001b[0m \u001b[0;32mis\u001b[0m \u001b[0;32mNone\u001b[0m\u001b[0;34m:\u001b[0m\u001b[0;34m\u001b[0m\u001b[0m\n",
      "\u001b[0;32m~/anaconda3/lib/python3.6/site-packages/matplotlib/axes/_base.py\u001b[0m in \u001b[0;36m_process_unit_info\u001b[0;34m(self, xdata, ydata, kwargs)\u001b[0m\n\u001b[1;32m   1994\u001b[0m             \u001b[0;31m# we only need to update if there is nothing set yet.\u001b[0m\u001b[0;34m\u001b[0m\u001b[0;34m\u001b[0m\u001b[0m\n\u001b[1;32m   1995\u001b[0m             \u001b[0;32mif\u001b[0m \u001b[0;32mnot\u001b[0m \u001b[0mself\u001b[0m\u001b[0;34m.\u001b[0m\u001b[0mxaxis\u001b[0m\u001b[0;34m.\u001b[0m\u001b[0mhave_units\u001b[0m\u001b[0;34m(\u001b[0m\u001b[0;34m)\u001b[0m\u001b[0;34m:\u001b[0m\u001b[0;34m\u001b[0m\u001b[0m\n\u001b[0;32m-> 1996\u001b[0;31m                 \u001b[0mself\u001b[0m\u001b[0;34m.\u001b[0m\u001b[0mxaxis\u001b[0m\u001b[0;34m.\u001b[0m\u001b[0mupdate_units\u001b[0m\u001b[0;34m(\u001b[0m\u001b[0mxdata\u001b[0m\u001b[0;34m)\u001b[0m\u001b[0;34m\u001b[0m\u001b[0m\n\u001b[0m\u001b[1;32m   1997\u001b[0m \u001b[0;34m\u001b[0m\u001b[0m\n\u001b[1;32m   1998\u001b[0m         \u001b[0;32mif\u001b[0m \u001b[0mydata\u001b[0m \u001b[0;32mis\u001b[0m \u001b[0;32mnot\u001b[0m \u001b[0;32mNone\u001b[0m\u001b[0;34m:\u001b[0m\u001b[0;34m\u001b[0m\u001b[0m\n",
      "\u001b[0;32m~/anaconda3/lib/python3.6/site-packages/matplotlib/axis.py\u001b[0m in \u001b[0;36mupdate_units\u001b[0;34m(self, data)\u001b[0m\n\u001b[1;32m   1411\u001b[0m         \"\"\"\n\u001b[1;32m   1412\u001b[0m \u001b[0;34m\u001b[0m\u001b[0m\n\u001b[0;32m-> 1413\u001b[0;31m         \u001b[0mconverter\u001b[0m \u001b[0;34m=\u001b[0m \u001b[0mmunits\u001b[0m\u001b[0;34m.\u001b[0m\u001b[0mregistry\u001b[0m\u001b[0;34m.\u001b[0m\u001b[0mget_converter\u001b[0m\u001b[0;34m(\u001b[0m\u001b[0mdata\u001b[0m\u001b[0;34m)\u001b[0m\u001b[0;34m\u001b[0m\u001b[0m\n\u001b[0m\u001b[1;32m   1414\u001b[0m         \u001b[0;32mif\u001b[0m \u001b[0mconverter\u001b[0m \u001b[0;32mis\u001b[0m \u001b[0;32mNone\u001b[0m\u001b[0;34m:\u001b[0m\u001b[0;34m\u001b[0m\u001b[0m\n\u001b[1;32m   1415\u001b[0m             \u001b[0;32mreturn\u001b[0m \u001b[0;32mFalse\u001b[0m\u001b[0;34m\u001b[0m\u001b[0m\n",
      "\u001b[0;32m~/anaconda3/lib/python3.6/site-packages/matplotlib/units.py\u001b[0m in \u001b[0;36mget_converter\u001b[0;34m(self, x)\u001b[0m\n\u001b[1;32m    156\u001b[0m                 if (not isinstance(next_item, np.ndarray) or\n\u001b[1;32m    157\u001b[0m                     next_item.shape != x.shape):\n\u001b[0;32m--> 158\u001b[0;31m                     \u001b[0mconverter\u001b[0m \u001b[0;34m=\u001b[0m \u001b[0mself\u001b[0m\u001b[0;34m.\u001b[0m\u001b[0mget_converter\u001b[0m\u001b[0;34m(\u001b[0m\u001b[0mnext_item\u001b[0m\u001b[0;34m)\u001b[0m\u001b[0;34m\u001b[0m\u001b[0m\n\u001b[0m\u001b[1;32m    159\u001b[0m                 \u001b[0;32mreturn\u001b[0m \u001b[0mconverter\u001b[0m\u001b[0;34m\u001b[0m\u001b[0m\n\u001b[1;32m    160\u001b[0m \u001b[0;34m\u001b[0m\u001b[0m\n",
      "\u001b[0;32m~/anaconda3/lib/python3.6/site-packages/matplotlib/units.py\u001b[0m in \u001b[0;36mget_converter\u001b[0;34m(self, x)\u001b[0m\n\u001b[1;32m    159\u001b[0m                 \u001b[0;32mreturn\u001b[0m \u001b[0mconverter\u001b[0m\u001b[0;34m\u001b[0m\u001b[0m\n\u001b[1;32m    160\u001b[0m \u001b[0;34m\u001b[0m\u001b[0m\n\u001b[0;32m--> 161\u001b[0;31m         \u001b[0;32mif\u001b[0m \u001b[0mconverter\u001b[0m \u001b[0;32mis\u001b[0m \u001b[0;32mNone\u001b[0m \u001b[0;32mand\u001b[0m \u001b[0miterable\u001b[0m\u001b[0;34m(\u001b[0m\u001b[0mx\u001b[0m\u001b[0;34m)\u001b[0m \u001b[0;32mand\u001b[0m \u001b[0;34m(\u001b[0m\u001b[0mlen\u001b[0m\u001b[0;34m(\u001b[0m\u001b[0mx\u001b[0m\u001b[0;34m)\u001b[0m \u001b[0;34m>\u001b[0m \u001b[0;36m0\u001b[0m\u001b[0;34m)\u001b[0m\u001b[0;34m:\u001b[0m\u001b[0;34m\u001b[0m\u001b[0m\n\u001b[0m\u001b[1;32m    162\u001b[0m             \u001b[0mthisx\u001b[0m \u001b[0;34m=\u001b[0m \u001b[0msafe_first_element\u001b[0m\u001b[0;34m(\u001b[0m\u001b[0mx\u001b[0m\u001b[0;34m)\u001b[0m\u001b[0;34m\u001b[0m\u001b[0m\n\u001b[1;32m    163\u001b[0m             \u001b[0;32mif\u001b[0m \u001b[0mclassx\u001b[0m \u001b[0;32mand\u001b[0m \u001b[0mclassx\u001b[0m \u001b[0;34m!=\u001b[0m \u001b[0mgetattr\u001b[0m\u001b[0;34m(\u001b[0m\u001b[0mthisx\u001b[0m\u001b[0;34m,\u001b[0m \u001b[0;34m'__class__'\u001b[0m\u001b[0;34m,\u001b[0m \u001b[0;32mNone\u001b[0m\u001b[0;34m)\u001b[0m\u001b[0;34m:\u001b[0m\u001b[0;34m\u001b[0m\u001b[0m\n",
      "\u001b[0;32m~/anaconda3/lib/python3.6/site-packages/scipy/sparse/base.py\u001b[0m in \u001b[0;36m__len__\u001b[0;34m(self)\u001b[0m\n\u001b[1;32m    244\u001b[0m     \u001b[0;31m# non-zeros is more important.  For now, raise an exception!\u001b[0m\u001b[0;34m\u001b[0m\u001b[0;34m\u001b[0m\u001b[0m\n\u001b[1;32m    245\u001b[0m     \u001b[0;32mdef\u001b[0m \u001b[0m__len__\u001b[0m\u001b[0;34m(\u001b[0m\u001b[0mself\u001b[0m\u001b[0;34m)\u001b[0m\u001b[0;34m:\u001b[0m\u001b[0;34m\u001b[0m\u001b[0m\n\u001b[0;32m--> 246\u001b[0;31m         raise TypeError(\"sparse matrix length is ambiguous; use getnnz()\"\n\u001b[0m\u001b[1;32m    247\u001b[0m                         \" or shape[0]\")\n\u001b[1;32m    248\u001b[0m \u001b[0;34m\u001b[0m\u001b[0m\n",
      "\u001b[0;31mTypeError\u001b[0m: sparse matrix length is ambiguous; use getnnz() or shape[0]"
     ]
    },
    {
     "data": {
      "image/png": "[encoded data removed]",
      "text/plain": [
       "<matplotlib.figure.Figure at 0x124788358>"
      ]
     },
     "metadata": {},
     "output_type": "display_data"
    }
   ],
   "source": [
    "import matplotlib.pyplot as plt\n",
    "from mpl_toolkits.mplot3d import Axes3D\n",
    "import numpy as np\n",
    "plt.style.use(\"seaborn-poster\")\n",
    "%matplotlib inline\n",
    "\n",
    "fig = plt.figure(1, figsize=(13, 10))\n",
    "ax = Axes3D(fig, elev=-150, azim=110)\n",
    "#y = range(sorted(model_transformed[0])[0], sorted(model_transformed[0])[-1])\n",
    "# plot transformed values (the three features that we have decomposed to) , colors correspond to target values\n",
    "# c=y, cmap=plt.cm.cool, \n",
    "ax.scatter(cv_vect1_transformed[:, 0], cv_vect1_transformed[:, 1], cv_vect1_transformed[:, 2], edgecolor='k', s=50)\n",
    "ax.set_title(\"First three PCA directions\", fontsize=16)\n",
    "ax.set_xlabel(\"1st eigenvector\",fontsize=16)\n",
    "ax.set_ylabel(\"2nd eigenvector\",fontsize=16)\n",
    "ax.set_zlabel(\"3rd eigenvector\",fontsize=16)"
   ]
  },
  {
   "cell_type": "code",
   "execution_count": 518,
   "metadata": {},
   "outputs": [
    {
     "name": "stdout",
     "output_type": "stream",
     "text": [
      "1877 1877 1877\n"
     ]
    }
   ],
   "source": [
    "print(len(model_transformed[:,0]), len(model_transformed[:,1]), len(model_transformed[:,2]))"
   ]
  },
  {
   "cell_type": "code",
   "execution_count": 520,
   "metadata": {
    "scrolled": true
   },
   "outputs": [
    {
     "name": "stdout",
     "output_type": "stream",
     "text": [
      "[t-SNE] Computing 91 nearest neighbors...\n",
      "[t-SNE] Indexed 1877 samples in 0.003s...\n",
      "[t-SNE] Computed neighbors for 1877 samples in 0.104s...\n",
      "[t-SNE] Computed conditional probabilities for sample 1000 / 1877\n",
      "[t-SNE] Computed conditional probabilities for sample 1877 / 1877\n",
      "[t-SNE] Mean sigma: 0.000000\n",
      "[t-SNE] Computed conditional probabilities in 0.075s\n",
      "[t-SNE] Iteration 50: error = 75.7101517, gradient norm = 0.0706795 (50 iterations in 2.637s)\n",
      "[t-SNE] Iteration 100: error = 69.3957520, gradient norm = 0.0164440 (50 iterations in 1.939s)\n",
      "[t-SNE] Iteration 150: error = 69.2752991, gradient norm = 0.0079197 (50 iterations in 1.876s)\n",
      "[t-SNE] Iteration 200: error = 69.2555923, gradient norm = 0.0094416 (50 iterations in 1.905s)\n",
      "[t-SNE] Iteration 250: error = 69.2422943, gradient norm = 0.0088520 (50 iterations in 1.902s)\n",
      "[t-SNE] KL divergence after 250 iterations with early exaggeration: 69.242294\n",
      "[t-SNE] Iteration 300: error = 1.1316512, gradient norm = 0.0008059 (50 iterations in 1.857s)\n",
      "[t-SNE] Iteration 350: error = 0.9873082, gradient norm = 0.0002925 (50 iterations in 1.814s)\n",
      "[t-SNE] Iteration 400: error = 0.9448685, gradient norm = 0.0001806 (50 iterations in 1.833s)\n",
      "[t-SNE] Iteration 450: error = 0.9295228, gradient norm = 0.0001513 (50 iterations in 1.893s)\n",
      "[t-SNE] Iteration 500: error = 0.9224707, gradient norm = 0.0001136 (50 iterations in 1.885s)\n",
      "[t-SNE] Iteration 550: error = 0.9178591, gradient norm = 0.0000992 (50 iterations in 1.868s)\n",
      "[t-SNE] Iteration 600: error = 0.9139785, gradient norm = 0.0001043 (50 iterations in 1.914s)\n",
      "[t-SNE] Iteration 650: error = 0.9117037, gradient norm = 0.0000859 (50 iterations in 1.933s)\n",
      "[t-SNE] Iteration 700: error = 0.9094567, gradient norm = 0.0000776 (50 iterations in 1.943s)\n",
      "[t-SNE] Iteration 750: error = 0.9083086, gradient norm = 0.0000671 (50 iterations in 2.068s)\n",
      "[t-SNE] Iteration 800: error = 0.9071037, gradient norm = 0.0000744 (50 iterations in 1.962s)\n",
      "[t-SNE] Iteration 850: error = 0.9061361, gradient norm = 0.0000722 (50 iterations in 2.129s)\n",
      "[t-SNE] Iteration 900: error = 0.9052837, gradient norm = 0.0000598 (50 iterations in 2.031s)\n",
      "[t-SNE] Iteration 950: error = 0.9045647, gradient norm = 0.0000606 (50 iterations in 1.959s)\n",
      "[t-SNE] Iteration 1000: error = 0.9033809, gradient norm = 0.0000745 (50 iterations in 2.073s)\n",
      "[t-SNE] Error after 1000 iterations: 0.903381\n"
     ]
    },
    {
     "data": {
      "image/png": "[encoded data removed]",
      "text/plain": [
       "<matplotlib.figure.Figure at 0x1515d67f0>"
      ]
     },
     "metadata": {},
     "output_type": "display_data"
    }
   ],
   "source": [
    "from sklearn.manifold import TSNE\n",
    "tsne_model = TSNE(n_components=2, random_state=0,verbose=2)\n",
    "low_data = tsne_model.fit_transform(model_transformed)\n",
    "\n",
    "num_points = 1877\n",
    "num_clust = 12\n",
    "\n",
    "colorize = []\n",
    "for i in range(num_clust):\n",
    "    for _ in range(num_points):\n",
    "        colorize.append(plt.cm.rainbow(i*20))\n",
    "x,y = zip(*low_data)\n",
    "plt.scatter(x, y, c=plt.cm.rainbow(low_data[:,1]*20), s=40);"
   ]
  },
  {
   "cell_type": "code",
   "execution_count": 515,
   "metadata": {},
   "outputs": [
    {
     "data": {
      "text/plain": [
       "[(0.5, 0.0, 1.0, 1.0),\n",
       " (0.5, 0.0, 1.0, 1.0),\n",
       " (0.5, 0.0, 1.0, 1.0),\n",
       " (0.5, 0.0, 1.0, 1.0),\n",
       " (0.5, 0.0, 1.0, 1.0),\n",
       " (0.5, 0.0, 1.0, 1.0),\n",
       " (0.5, 0.0, 1.0, 1.0),\n",
       " (0.5, 0.0, 1.0, 1.0),\n",
       " (0.5, 0.0, 1.0, 1.0),\n",
       " (0.5, 0.0, 1.0, 1.0),\n",
       " (0.5, 0.0, 1.0, 1.0),\n",
       " (0.5, 0.0, 1.0, 1.0),\n",
       " (0.5, 0.0, 1.0, 1.0),\n",
       " (0.5, 0.0, 1.0, 1.0),\n",
       " (0.5, 0.0, 1.0, 1.0),\n",
       " (0.5, 0.0, 1.0, 1.0),\n",
       " (0.5, 0.0, 1.0, 1.0),\n",
       " (0.5, 0.0, 1.0, 1.0),\n",
       " (0.5, 0.0, 1.0, 1.0),\n",
       " (0.5, 0.0, 1.0, 1.0),\n",
       " (0.5, 0.0, 1.0, 1.0),\n",
       " (0.5, 0.0, 1.0, 1.0),\n",
       " (0.5, 0.0, 1.0, 1.0),\n",
       " (0.5, 0.0, 1.0, 1.0),\n",
       " (0.5, 0.0, 1.0, 1.0),\n",
       " (0.5, 0.0, 1.0, 1.0),\n",
       " (0.5, 0.0, 1.0, 1.0),\n",
       " (0.5, 0.0, 1.0, 1.0),\n",
       " (0.5, 0.0, 1.0, 1.0),\n",
       " (0.5, 0.0, 1.0, 1.0),\n",
       " (0.5, 0.0, 1.0, 1.0),\n",
       " (0.5, 0.0, 1.0, 1.0),\n",
       " (0.5, 0.0, 1.0, 1.0),\n",
       " (0.5, 0.0, 1.0, 1.0),\n",
       " (0.5, 0.0, 1.0, 1.0),\n",
       " (0.5, 0.0, 1.0, 1.0),\n",
       " (0.5, 0.0, 1.0, 1.0),\n",
       " (0.5, 0.0, 1.0, 1.0),\n",
       " (0.5, 0.0, 1.0, 1.0),\n",
       " (0.5, 0.0, 1.0, 1.0),\n",
       " (0.5, 0.0, 1.0, 1.0),\n",
       " (0.5, 0.0, 1.0, 1.0),\n",
       " (0.5, 0.0, 1.0, 1.0),\n",
       " (0.5, 0.0, 1.0, 1.0),\n",
       " (0.5, 0.0, 1.0, 1.0),\n",
       " (0.5, 0.0, 1.0, 1.0),\n",
       " (0.5, 0.0, 1.0, 1.0),\n",
       " (0.5, 0.0, 1.0, 1.0),\n",
       " (0.5, 0.0, 1.0, 1.0),\n",
       " (0.5, 0.0, 1.0, 1.0),\n",
       " (0.5, 0.0, 1.0, 1.0),\n",
       " (0.5, 0.0, 1.0, 1.0),\n",
       " (0.5, 0.0, 1.0, 1.0),\n",
       " (0.5, 0.0, 1.0, 1.0),\n",
       " (0.5, 0.0, 1.0, 1.0),\n",
       " (0.5, 0.0, 1.0, 1.0),\n",
       " (0.5, 0.0, 1.0, 1.0),\n",
       " (0.5, 0.0, 1.0, 1.0),\n",
       " (0.5, 0.0, 1.0, 1.0),\n",
       " (0.5, 0.0, 1.0, 1.0),\n",
       " (0.5, 0.0, 1.0, 1.0),\n",
       " (0.5, 0.0, 1.0, 1.0),\n",
       " (0.5, 0.0, 1.0, 1.0),\n",
       " (0.5, 0.0, 1.0, 1.0),\n",
       " (0.5, 0.0, 1.0, 1.0),\n",
       " (0.5, 0.0, 1.0, 1.0),\n",
       " (0.5, 0.0, 1.0, 1.0),\n",
       " (0.5, 0.0, 1.0, 1.0),\n",
       " (0.5, 0.0, 1.0, 1.0),\n",
       " (0.5, 0.0, 1.0, 1.0),\n",
       " (0.5, 0.0, 1.0, 1.0),\n",
       " (0.5, 0.0, 1.0, 1.0),\n",
       " (0.5, 0.0, 1.0, 1.0),\n",
       " (0.5, 0.0, 1.0, 1.0),\n",
       " (0.5, 0.0, 1.0, 1.0),\n",
       " (0.5, 0.0, 1.0, 1.0),\n",
       " (0.5, 0.0, 1.0, 1.0),\n",
       " (0.34313725490196079, 0.24391372010837714, 0.99242050967193574, 1.0),\n",
       " (0.34313725490196079, 0.24391372010837714, 0.99242050967193574, 1.0),\n",
       " (0.34313725490196079, 0.24391372010837714, 0.99242050967193574, 1.0),\n",
       " (0.34313725490196079, 0.24391372010837714, 0.99242050967193574, 1.0),\n",
       " (0.34313725490196079, 0.24391372010837714, 0.99242050967193574, 1.0),\n",
       " (0.34313725490196079, 0.24391372010837714, 0.99242050967193574, 1.0),\n",
       " (0.34313725490196079, 0.24391372010837714, 0.99242050967193574, 1.0),\n",
       " (0.34313725490196079, 0.24391372010837714, 0.99242050967193574, 1.0),\n",
       " (0.34313725490196079, 0.24391372010837714, 0.99242050967193574, 1.0),\n",
       " (0.34313725490196079, 0.24391372010837714, 0.99242050967193574, 1.0),\n",
       " (0.34313725490196079, 0.24391372010837714, 0.99242050967193574, 1.0),\n",
       " (0.34313725490196079, 0.24391372010837714, 0.99242050967193574, 1.0),\n",
       " (0.34313725490196079, 0.24391372010837714, 0.99242050967193574, 1.0),\n",
       " (0.34313725490196079, 0.24391372010837714, 0.99242050967193574, 1.0),\n",
       " (0.34313725490196079, 0.24391372010837714, 0.99242050967193574, 1.0),\n",
       " (0.34313725490196079, 0.24391372010837714, 0.99242050967193574, 1.0),\n",
       " (0.34313725490196079, 0.24391372010837714, 0.99242050967193574, 1.0),\n",
       " (0.34313725490196079, 0.24391372010837714, 0.99242050967193574, 1.0),\n",
       " (0.34313725490196079, 0.24391372010837714, 0.99242050967193574, 1.0),\n",
       " (0.34313725490196079, 0.24391372010837714, 0.99242050967193574, 1.0),\n",
       " (0.34313725490196079, 0.24391372010837714, 0.99242050967193574, 1.0),\n",
       " (0.34313725490196079, 0.24391372010837714, 0.99242050967193574, 1.0),\n",
       " (0.34313725490196079, 0.24391372010837714, 0.99242050967193574, 1.0),\n",
       " (0.34313725490196079, 0.24391372010837714, 0.99242050967193574, 1.0),\n",
       " (0.34313725490196079, 0.24391372010837714, 0.99242050967193574, 1.0),\n",
       " (0.34313725490196079, 0.24391372010837714, 0.99242050967193574, 1.0),\n",
       " (0.34313725490196079, 0.24391372010837714, 0.99242050967193574, 1.0),\n",
       " (0.34313725490196079, 0.24391372010837714, 0.99242050967193574, 1.0),\n",
       " (0.34313725490196079, 0.24391372010837714, 0.99242050967193574, 1.0),\n",
       " (0.34313725490196079, 0.24391372010837714, 0.99242050967193574, 1.0),\n",
       " (0.34313725490196079, 0.24391372010837714, 0.99242050967193574, 1.0),\n",
       " (0.34313725490196079, 0.24391372010837714, 0.99242050967193574, 1.0),\n",
       " (0.34313725490196079, 0.24391372010837714, 0.99242050967193574, 1.0),\n",
       " (0.34313725490196079, 0.24391372010837714, 0.99242050967193574, 1.0),\n",
       " (0.34313725490196079, 0.24391372010837714, 0.99242050967193574, 1.0),\n",
       " (0.34313725490196079, 0.24391372010837714, 0.99242050967193574, 1.0),\n",
       " (0.34313725490196079, 0.24391372010837714, 0.99242050967193574, 1.0),\n",
       " (0.34313725490196079, 0.24391372010837714, 0.99242050967193574, 1.0),\n",
       " (0.34313725490196079, 0.24391372010837714, 0.99242050967193574, 1.0),\n",
       " (0.34313725490196079, 0.24391372010837714, 0.99242050967193574, 1.0),\n",
       " (0.34313725490196079, 0.24391372010837714, 0.99242050967193574, 1.0),\n",
       " (0.34313725490196079, 0.24391372010837714, 0.99242050967193574, 1.0),\n",
       " (0.34313725490196079, 0.24391372010837714, 0.99242050967193574, 1.0),\n",
       " (0.34313725490196079, 0.24391372010837714, 0.99242050967193574, 1.0),\n",
       " (0.34313725490196079, 0.24391372010837714, 0.99242050967193574, 1.0),\n",
       " (0.34313725490196079, 0.24391372010837714, 0.99242050967193574, 1.0),\n",
       " (0.34313725490196079, 0.24391372010837714, 0.99242050967193574, 1.0),\n",
       " (0.34313725490196079, 0.24391372010837714, 0.99242050967193574, 1.0),\n",
       " (0.34313725490196079, 0.24391372010837714, 0.99242050967193574, 1.0),\n",
       " (0.34313725490196079, 0.24391372010837714, 0.99242050967193574, 1.0)]"
      ]
     },
     "execution_count": 515,
     "metadata": {},
     "output_type": "execute_result"
    },
    {
     "data": {
      "image/png": "[encoded data removed]",
      "text/plain": [
       "<matplotlib.figure.Figure at 0x15780b2b0>"
      ]
     },
     "metadata": {},
     "output_type": "display_data"
    }
   ],
   "source": [
    "colorize = []\n",
    "for i in range(num_clust):\n",
    "    for _ in range(num_points):\n",
    "        colorize.append(plt.cm.rainbow(i*20))\n",
    "plt.scatter(x, y, c=colorize, s=40);\n",
    "colorize[1800:1927]"
   ]
  },
  {
   "cell_type": "code",
   "execution_count": null,
   "metadata": {
    "collapsed": true
   },
   "outputs": [],
   "source": [
    "df_count_vect = pd.DataFrame(cv_data.toarray(), columns=count_vectorizer.get_feature_names())\n",
    "df_count_vect.shape"
   ]
  },
  {
   "cell_type": "code",
   "execution_count": 455,
   "metadata": {},
   "outputs": [
    {
     "ename": "AttributeError",
     "evalue": "'NMF' object has no attribute 'explained_variance_ratio_'",
     "output_type": "error",
     "traceback": [
      "\u001b[0;31m---------------------------------------------------------------------------\u001b[0m",
      "\u001b[0;31mAttributeError\u001b[0m                            Traceback (most recent call last)",
      "\u001b[0;32m<ipython-input-455-3048bde307c9>\u001b[0m in \u001b[0;36m<module>\u001b[0;34m()\u001b[0m\n\u001b[0;32m----> 1\u001b[0;31m \u001b[0mmodel\u001b[0m\u001b[0;34m.\u001b[0m\u001b[0mexplained_variance_ratio_\u001b[0m\u001b[0;34m\u001b[0m\u001b[0m\n\u001b[0m",
      "\u001b[0;31mAttributeError\u001b[0m: 'NMF' object has no attribute 'explained_variance_ratio_'"
     ]
    }
   ],
   "source": [
    "model.explained_variance_ratio_"
   ]
  },
  {
   "cell_type": "markdown",
   "metadata": {},
   "source": [
    "for 2016, the best topics were obtained from cv vect 1, features 5000, tokenizer 3:\n",
    "\n",
    "-------NMF------\n",
    "\n",
    "\n",
    "Topic  0\n",
    "science research u.s new national world scientist institute health scientific\n",
    "Topic  1\n",
    "cell t t cell immune cancer stem mouse stem cell tumor tissue\n",
    "Topic  2\n",
    "state quantum electron atom magnetic field optical system material structure\n",
    "Topic  3\n",
    "system surface pluto solar new horizon new horizon datum solar system present\n",
    "Topic  4\n",
    "gene dna genome disease genetic human expression rna mutation cancer\n",
    "Topic  5\n",
    "change climate climate change global ice impact policy temperature increase model\n",
    "Topic  6\n",
    "virus zika vaccine antibody infect zika virus health human infection disease\n",
    "Topic  7\n",
    "material researcher information potential offer laboratory interest newly apparatus material potential\n",
    "Topic  8\n",
    "protein structure complex bind function site target rna membrane enzyme\n",
    "Topic  9\n",
    "new year study researcher human time scientist work people find\n",
    "Topic  10\n",
    "use reaction carbon c bond material high enzyme catalyst metal\n",
    "Topic  11\n",
    "issue page plant page issue specie system report response immune mechanism"
   ]
  },
  {
   "cell_type": "markdown",
   "metadata": {},
   "source": [
    "# end!! end end end end"
   ]
  },
  {
   "cell_type": "code",
   "execution_count": null,
   "metadata": {
    "collapsed": true
   },
   "outputs": [],
   "source": []
  },
  {
   "cell_type": "code",
   "execution_count": null,
   "metadata": {
    "collapsed": true
   },
   "outputs": [],
   "source": []
  },
  {
   "cell_type": "code",
   "execution_count": null,
   "metadata": {
    "collapsed": true
   },
   "outputs": [],
   "source": []
  },
  {
   "cell_type": "markdown",
   "metadata": {},
   "source": [
    "## Testing functions to reproduce above results"
   ]
  },
  {
   "cell_type": "code",
   "execution_count": 236,
   "metadata": {
    "collapsed": true
   },
   "outputs": [],
   "source": [
    "vect, vect_transformed = count_vectorizer(spacy_tokenizer, 5000, all_descriptions)"
   ]
  },
  {
   "cell_type": "code",
   "execution_count": 237,
   "metadata": {
    "collapsed": true
   },
   "outputs": [],
   "source": [
    "model, lda = LDA_options(vectorizer, 10)"
   ]
  },
  {
   "cell_type": "code",
   "execution_count": 238,
   "metadata": {},
   "outputs": [
    {
     "data": {
      "text/plain": [
       "array([[ 0.00232595,  0.00232564,  0.00232618,  0.00232725,  0.00232609,\n",
       "         0.97906605,  0.0023256 ,  0.00232587,  0.00232564,  0.00232574],\n",
       "       [ 0.00312508,  0.00312504,  0.00312527,  0.82336822,  0.00312502,\n",
       "         0.00312575,  0.003125  ,  0.15163022,  0.00312527,  0.00312513],\n",
       "       [ 0.00125006,  0.00125002,  0.0012501 ,  0.98874822,  0.00125   ,\n",
       "         0.00125038,  0.00125   ,  0.00125019,  0.00125056,  0.00125047]])"
      ]
     },
     "execution_count": 238,
     "metadata": {},
     "output_type": "execute_result"
    }
   ],
   "source": [
    "lda[:3]"
   ]
  },
  {
   "cell_type": "code",
   "execution_count": 223,
   "metadata": {},
   "outputs": [
    {
     "data": {
      "text/plain": [
       "5000"
      ]
     },
     "execution_count": 223,
     "metadata": {},
     "output_type": "execute_result"
    }
   ],
   "source": [
    "len(vect.get_feature_names())"
   ]
  },
  {
   "cell_type": "code",
   "execution_count": 224,
   "metadata": {},
   "outputs": [
    {
     "data": {
      "text/plain": [
       "118353"
      ]
     },
     "execution_count": 224,
     "metadata": {},
     "output_type": "execute_result"
    }
   ],
   "source": [
    "len(topic)"
   ]
  },
  {
   "cell_type": "code",
   "execution_count": 225,
   "metadata": {},
   "outputs": [
    {
     "data": {
      "text/plain": [
       "5000"
      ]
     },
     "execution_count": 225,
     "metadata": {},
     "output_type": "execute_result"
    }
   ],
   "source": [
    "len(vect.get_feature_names())"
   ]
  },
  {
   "cell_type": "code",
   "execution_count": 228,
   "metadata": {},
   "outputs": [
    {
     "ename": "IndexError",
     "evalue": "list index out of range",
     "output_type": "error",
     "traceback": [
      "\u001b[0;31m---------------------------------------------------------------------------\u001b[0m",
      "\u001b[0;31mIndexError\u001b[0m                                Traceback (most recent call last)",
      "\u001b[0;32m<ipython-input-228-877b45dca774>\u001b[0m in \u001b[0;36m<module>\u001b[0;34m()\u001b[0m\n\u001b[0;32m----> 1\u001b[0;31m \u001b[0ma\u001b[0m \u001b[0;34m=\u001b[0m \u001b[0;34m[\u001b[0m\u001b[0mvect\u001b[0m\u001b[0;34m.\u001b[0m\u001b[0mget_feature_names\u001b[0m\u001b[0;34m(\u001b[0m\u001b[0;34m)\u001b[0m\u001b[0;34m[\u001b[0m\u001b[0mi\u001b[0m\u001b[0;34m]\u001b[0m \u001b[0;32mfor\u001b[0m \u001b[0mi\u001b[0m \u001b[0;32min\u001b[0m \u001b[0mtopic\u001b[0m\u001b[0;34m.\u001b[0m\u001b[0margsort\u001b[0m\u001b[0;34m(\u001b[0m\u001b[0;34m)\u001b[0m\u001b[0;34m[\u001b[0m\u001b[0;34m:\u001b[0m\u001b[0;34m-\u001b[0m\u001b[0;36m10\u001b[0m \u001b[0;34m-\u001b[0m \u001b[0;36m1\u001b[0m\u001b[0;34m:\u001b[0m\u001b[0;34m-\u001b[0m\u001b[0;36m1\u001b[0m\u001b[0;34m]\u001b[0m\u001b[0;34m]\u001b[0m\u001b[0;34m\u001b[0m\u001b[0m\n\u001b[0m",
      "\u001b[0;32m<ipython-input-228-877b45dca774>\u001b[0m in \u001b[0;36m<listcomp>\u001b[0;34m(.0)\u001b[0m\n\u001b[0;32m----> 1\u001b[0;31m \u001b[0ma\u001b[0m \u001b[0;34m=\u001b[0m \u001b[0;34m[\u001b[0m\u001b[0mvect\u001b[0m\u001b[0;34m.\u001b[0m\u001b[0mget_feature_names\u001b[0m\u001b[0;34m(\u001b[0m\u001b[0;34m)\u001b[0m\u001b[0;34m[\u001b[0m\u001b[0mi\u001b[0m\u001b[0;34m]\u001b[0m \u001b[0;32mfor\u001b[0m \u001b[0mi\u001b[0m \u001b[0;32min\u001b[0m \u001b[0mtopic\u001b[0m\u001b[0;34m.\u001b[0m\u001b[0margsort\u001b[0m\u001b[0;34m(\u001b[0m\u001b[0;34m)\u001b[0m\u001b[0;34m[\u001b[0m\u001b[0;34m:\u001b[0m\u001b[0;34m-\u001b[0m\u001b[0;36m10\u001b[0m \u001b[0;34m-\u001b[0m \u001b[0;36m1\u001b[0m\u001b[0;34m:\u001b[0m\u001b[0;34m-\u001b[0m\u001b[0;36m1\u001b[0m\u001b[0;34m]\u001b[0m\u001b[0;34m]\u001b[0m\u001b[0;34m\u001b[0m\u001b[0m\n\u001b[0m",
      "\u001b[0;31mIndexError\u001b[0m: list index out of range"
     ]
    }
   ],
   "source": [
    "a = [vect.get_feature_names()[i] for i in topic.argsort()[:-10 - 1:-1]]"
   ]
  },
  {
   "cell_type": "code",
   "execution_count": 241,
   "metadata": {
    "collapsed": true
   },
   "outputs": [],
   "source": [
    "for ix, topic in enumerate(model.components_):\n",
    "    b = \" \".join([vect.get_feature_names()[i] for i in topic.argsort()[:-10 - 1:-1]])"
   ]
  },
  {
   "cell_type": "code",
   "execution_count": 240,
   "metadata": {
    "scrolled": true
   },
   "outputs": [
    {
     "name": "stdout",
     "output_type": "stream",
     "text": [
      "Topic  0\n",
      "cell cancer t tumor t cell memory immune ray protein tissue\n",
      "Topic  1\n",
      "wave gravitational channel gravitational wave peptide physicist 3d hole calcium heart\n",
      "Topic  2\n",
      "science new research scientist world researcher human health year u.s\n",
      "Topic  3\n",
      "cell gene dna disease human mouse protein rna genetic genome\n",
      "Topic  4\n",
      "laboratory researcher information potential offer material apparatus newly instrumentation interest\n",
      "Topic  5\n",
      "use change 1 plant 2 issue protein model pageof issue pageof\n",
      "Topic  6\n",
      "system obama pluto new horizon new horizon barack obama president barack barack solar\n",
      "Topic  7\n",
      "use material quantum reaction light electron atom high metal molecule\n",
      "Topic  8\n",
      "earth ice surface ocean space planet year star gas large\n",
      "Topic  9\n",
      "virus antibody translation viral mrna partner hiv-1 envelope codon vaccine\n"
     ]
    }
   ],
   "source": [
    "display_topics(model, vect.get_feature_names(),10)"
   ]
  },
  {
   "cell_type": "code",
   "execution_count": 158,
   "metadata": {},
   "outputs": [
    {
     "name": "stdout",
     "output_type": "stream",
     "text": [
      "Topic  0\n",
      "cell cancer t tumor t cell memory immune ray protein tissue\n",
      "Topic  1\n",
      "wave gravitational channel gravitational wave peptide physicist 3d hole calcium heart\n",
      "Topic  2\n",
      "science new research scientist world researcher human health year u.s\n",
      "Topic  3\n",
      "cell gene dna disease human mouse protein rna genetic genome\n",
      "Topic  4\n",
      "laboratory researcher information potential offer material apparatus newly instrumentation interest\n",
      "Topic  5\n",
      "use change 1 plant 2 issue protein model pageof issue pageof\n",
      "Topic  6\n",
      "system obama pluto new horizon new horizon barack obama president barack barack solar\n",
      "Topic  7\n",
      "use material quantum reaction light electron atom high metal molecule\n",
      "Topic  8\n",
      "earth ice surface ocean space planet year star gas large\n",
      "Topic  9\n",
      "virus antibody translation viral mrna partner hiv-1 envelope codon vaccine\n"
     ]
    }
   ],
   "source": [
    "display_topics(model, vect.get_feature_names(),10)"
   ]
  },
  {
   "cell_type": "code",
   "execution_count": 153,
   "metadata": {},
   "outputs": [
    {
     "name": "stdout",
     "output_type": "stream",
     "text": [
      "Topic  0\n",
      "center cardiovascular target tunneling targeting metastatic importance real time provision tomography\n",
      "Topic  1\n",
      "wavelength growth factor chinese growth hormone persistent placoderm absorption house representative capable heterogeneity\n",
      "Topic  2\n",
      "scientific community new zealand resemble seasonal world large resistant hydrocarbon helminth year ago u.s science\n",
      "Topic  3\n",
      "center geneticist dopamine neuron distribute hydrocarbon muscular provision rocky geology pluto girl\n",
      "Topic  4\n",
      "lastyear resistant injection precise onset mechanical army nix intensity inthe\n",
      "Topic  5\n",
      "use new chimpanzee 1 play key 2–4 julythe new provision molecule paper publish paper new\n",
      "Topic  6\n",
      "tackle occurrence pollinator new zealand human body news belt prime belong song\n",
      "Topic  7\n",
      "use new mechanical r&d rearrange liquid embrace avenue historically mice morgan\n",
      "Topic  8\n",
      "edge image surveillance ongoing sparsely play central year ago stellar genetic engineering latitudinal\n",
      "Topic  9\n",
      "visible approval transplant virus outbreak mutagenesis pathogenesis hour epoch colonize valley\n"
     ]
    }
   ],
   "source": [
    "display_topics(model, vect.get_feature_names(),10)"
   ]
  },
  {
   "cell_type": "code",
   "execution_count": 148,
   "metadata": {},
   "outputs": [
    {
     "name": "stdout",
     "output_type": "stream",
     "text": [
      "Topic  0\n",
      "center cardiovascular target tunneling targeting metastatic importance real time provision tomography\n",
      "Topic  1\n",
      "wavelength growth factor chinese growth hormone persistent placoderm absorption house representative capable heterogeneity\n",
      "Topic  2\n",
      "scientific community new zealand resemble seasonal world large resistant hydrocarbon helminth year ago u.s science\n",
      "Topic  3\n",
      "center geneticist dopamine neuron distribute hydrocarbon muscular provision rocky geology pluto girl\n",
      "Topic  4\n",
      "lastyear resistant injection precise onset mechanical army nix intensity inthe\n",
      "Topic  5\n",
      "use new chimpanzee 1 play key 2–4 julythe new provision molecule paper publish paper new\n",
      "Topic  6\n",
      "tackle occurrence pollinator new zealand human body news belt prime belong song\n",
      "Topic  7\n",
      "use new mechanical r&d rearrange liquid embrace avenue historically mice morgan\n",
      "Topic  8\n",
      "edge image surveillance ongoing sparsely play central year ago stellar genetic engineering latitudinal\n",
      "Topic  9\n",
      "visible approval transplant virus outbreak mutagenesis pathogenesis hour epoch colonize valley\n"
     ]
    }
   ],
   "source": [
    "display_topics(model, vect.get_feature_names(),10)"
   ]
  },
  {
   "cell_type": "code",
   "execution_count": null,
   "metadata": {
    "collapsed": true
   },
   "outputs": [],
   "source": []
  },
  {
   "cell_type": "code",
   "execution_count": 182,
   "metadata": {
    "collapsed": true
   },
   "outputs": [],
   "source": [
    "vect, vect_transformed = count_vectorizer(spacy_tokenizer, 111971, all_descriptions)"
   ]
  },
  {
   "cell_type": "code",
   "execution_count": 183,
   "metadata": {
    "collapsed": true
   },
   "outputs": [],
   "source": [
    "model, lda = LDA_options(vectorizer, 10)"
   ]
  },
  {
   "cell_type": "code",
   "execution_count": 184,
   "metadata": {},
   "outputs": [
    {
     "data": {
      "text/plain": [
       "array([[ 0.00232595,  0.00232564,  0.00232618,  0.00232725,  0.00232609,\n",
       "         0.97906605,  0.0023256 ,  0.00232587,  0.00232564,  0.00232574],\n",
       "       [ 0.00312508,  0.00312504,  0.00312527,  0.82336822,  0.00312502,\n",
       "         0.00312575,  0.003125  ,  0.15163022,  0.00312527,  0.00312513],\n",
       "       [ 0.00125006,  0.00125002,  0.0012501 ,  0.98874822,  0.00125   ,\n",
       "         0.00125038,  0.00125   ,  0.00125019,  0.00125056,  0.00125047]])"
      ]
     },
     "execution_count": 184,
     "metadata": {},
     "output_type": "execute_result"
    }
   ],
   "source": [
    "lda[:3]"
   ]
  },
  {
   "cell_type": "code",
   "execution_count": 185,
   "metadata": {},
   "outputs": [
    {
     "name": "stdout",
     "output_type": "stream",
     "text": [
      "Topic  0\n",
      "36)is 3 little amyotrophic lateral ancestral early anabolic advance synthetic activity ultimately akhmediev aim design analysis trend\n",
      "Topic  1\n",
      "animal association activate n 4 provide activate nuclease agent purge aggressively judge 1 application activity deep 3 demonstrate active material\n",
      "Topic  2\n",
      "alloy catalyst afflict neurodegenerative alkama allure paleontologist animal robust alkyl arylamine activity likely active climate animal victimize ancient collagen\n",
      "Topic  3\n",
      "36)is act like abundant seafloor absurdity classical activity likely affect accord aim design allow distant act reduce act terminate\n",
      "Topic  4\n",
      "address legislation alkyl arylamine adapt agree design age 3 advance clock 1)their aficionado convince adaptation possibility adaptively alter\n",
      "Topic  5\n",
      "andean 4 polycrystalline 'll restore ago contrast -ryanodol addition organic aim design advocate offer agency esa agency endanger\n",
      "Topic  6\n",
      "amyloid associate aftermath sputnik ago large afflict neurodegenerative activity east affluent 2 continent agricultural resource 2 conflict alzheimer live\n",
      "Topic  7\n",
      "andean advance clock air conditioning akiyama adjust structure access knowledge 1–3 remain activitiesfrom advanced nuclear aegypti infect\n",
      "Topic  8\n",
      "accelerator activity profile amphibian agar art amazon researcher ago cihr animal victimize american applicant act force address state\n",
      "Topic  9\n",
      "andyear later 1 venture analyze treat andyear affect behavior agency roscosmos activity decline accord fractal 60-subunit self andmeter high\n"
     ]
    }
   ],
   "source": [
    "display_topics(model, vect.get_feature_names(), 10)"
   ]
  },
  {
   "cell_type": "code",
   "execution_count": 180,
   "metadata": {},
   "outputs": [
    {
     "name": "stdout",
     "output_type": "stream",
     "text": [
      "Topic  0\n",
      "2 essa 2 achieve alarm house allosterically alarm morning activate nuclease access carbohydrate aeruginosa vogeley adversary align graphene\n",
      "Topic  1\n",
      "alter neural abscission schardon 2 policy absence adenosylmethionine sam administer 5% 1 achieve academic researcher 1–4 light abundance conventional\n",
      "Topic  2\n",
      "agency funder actually amplify africa million agency maximize alternative process africa startlingly accelerate fifth abu dis altitude allow darpa\n",
      "Topic  3\n",
      "2 essa abnormal meiotic 40-year 4-hectare accelerate fifth activity dependent adversary age incandescent abolish aboutbc reconcile\n",
      "Topic  4\n",
      "achieve bulk africa startlingly accompany increase adsorption 111 adaptation tissue action individual 1.3 actuator account baseline accounting open\n",
      "Topic  5\n",
      "allow switching 2 phenomenon 'll restore administration speak -ryanodol accurate enzymatic adversary active site additional impact additional gorilla\n",
      "Topic  6\n",
      "alain adaptation diverse admit wait actually amplify academy art actually crystal 14th advance creationist 14c datum ago u.s\n",
      "Topic  7\n",
      "allow switching action individual advocate offer affect acid precursor 59-triphosphate atp 100% ownership ac activate stable activitiesdiscipline\n",
      "Topic  8\n",
      "5-year development accept great airline adaptation shed agree paper administration regulate altitude ahead u.k able use achieve food\n",
      "Topic  9\n",
      "almostyear researcher 1-cubic allegation almostyear activity differ address long academic publisher 650 million 2000–2010 ouyang allowingor encouragingfarmland\n"
     ]
    }
   ],
   "source": [
    "display_topics(model, vect.get_feature_names(), 10)"
   ]
  },
  {
   "cell_type": "code",
   "execution_count": null,
   "metadata": {
    "collapsed": true
   },
   "outputs": [],
   "source": []
  },
  {
   "cell_type": "code",
   "execution_count": null,
   "metadata": {
    "collapsed": true
   },
   "outputs": [],
   "source": []
  },
  {
   "cell_type": "markdown",
   "metadata": {},
   "source": [
    "### Workflow for getting issues from each year"
   ]
  },
  {
   "cell_type": "code",
   "execution_count": null,
   "metadata": {
    "collapsed": true
   },
   "outputs": [],
   "source": [
    "url = 'http://science.sciencemag.org/content/by/year/2017'\n",
    "\n",
    "response = requests.get(url)\n",
    "page = response.text\n",
    "soup = BeautifulSoup(page,\"html5lib\")"
   ]
  },
  {
   "cell_type": "code",
   "execution_count": null,
   "metadata": {
    "collapsed": true
   },
   "outputs": [],
   "source": [
    "link_search = soup.find_all(class_ = \"highlight-image-linked\")\n",
    "link_search"
   ]
  },
  {
   "cell_type": "code",
   "execution_count": null,
   "metadata": {
    "collapsed": true
   },
   "outputs": [],
   "source": [
    "issues2 = []\n",
    "for link in link_search:\n",
    "    a = link.get('href')\n",
    "    issues2.append(a)"
   ]
  },
  {
   "cell_type": "code",
   "execution_count": null,
   "metadata": {
    "collapsed": true,
    "scrolled": true
   },
   "outputs": [],
   "source": [
    "len(issues)"
   ]
  },
  {
   "cell_type": "code",
   "execution_count": null,
   "metadata": {
    "collapsed": true
   },
   "outputs": [],
   "source": [
    "url = 'http://science.sciencemag.org/content/by/year/2016'\n",
    "\n",
    "response = requests.get(url)\n",
    "page = response.text\n",
    "soup = BeautifulSoup(page,\"html5lib\")"
   ]
  },
  {
   "cell_type": "code",
   "execution_count": null,
   "metadata": {
    "collapsed": true
   },
   "outputs": [],
   "source": [
    "link_search = soup.find_all(class_ = \"highlight-image-linked\")\n",
    "link_search"
   ]
  },
  {
   "cell_type": "markdown",
   "metadata": {},
   "source": [
    "### Find workflow for getting the links to articles from each issue"
   ]
  },
  {
   "cell_type": "code",
   "execution_count": null,
   "metadata": {
    "collapsed": true
   },
   "outputs": [],
   "source": [
    "path = 'http://science.sciencemag.org'\n",
    "response = requests.get(path + issues2[0])\n",
    "page = response.text\n",
    "soup = BeautifulSoup(page,\"html5lib\")"
   ]
  },
  {
   "cell_type": "code",
   "execution_count": null,
   "metadata": {
    "collapsed": true
   },
   "outputs": [],
   "source": [
    "classes = ['abstract first', 'editor-summary first', 'summary first']\n",
    "i = 1\n",
    "article_content_links = []\n",
    "for entry in classes:\n",
    "    search = soup.find_all(class_ = entry)\n",
    "    for item in search:\n",
    "        article_content_links.append(item.find('a').get('href'))"
   ]
  },
  {
   "cell_type": "code",
   "execution_count": null,
   "metadata": {
    "collapsed": true
   },
   "outputs": [],
   "source": [
    "article_content_links"
   ]
  },
  {
   "cell_type": "markdown",
   "metadata": {},
   "source": [
    "### workflow "
   ]
  },
  {
   "cell_type": "code",
   "execution_count": null,
   "metadata": {
    "collapsed": true
   },
   "outputs": [],
   "source": [
    "content_classes = ['section editor-summary', 'section summary', 'section abstract']"
   ]
  },
  {
   "cell_type": "code",
   "execution_count": null,
   "metadata": {
    "collapsed": true
   },
   "outputs": [],
   "source": [
    "article_content_links[0]"
   ]
  },
  {
   "cell_type": "code",
   "execution_count": null,
   "metadata": {
    "collapsed": true
   },
   "outputs": [],
   "source": [
    "path = 'http://science.sciencemag.org'\n",
    "response = requests.get(path + article_content_links[0])\n",
    "page = response.text\n",
    "soup = BeautifulSoup(page,\"html5lib\")\n",
    "title = soup.find(class_ = 'highwire-cite-title').text\n",
    "print(title)\n",
    "for entry in content_classes:\n",
    "    a = soup.find(class_ = entry)\n",
    "    if a:\n",
    "        # print(a.text)\n",
    "        print(a.find('p').text)"
   ]
  },
  {
   "cell_type": "code",
   "execution_count": null,
   "metadata": {
    "collapsed": true
   },
   "outputs": [],
   "source": [
    "test = 'http://science.sciencemag.org/content/308/5719'\n",
    "response = requests.get(test)\n",
    "page = response.text\n",
    "soup = BeautifulSoup(page,\"html5lib\")"
   ]
  },
  {
   "cell_type": "code",
   "execution_count": null,
   "metadata": {
    "collapsed": true
   },
   "outputs": [],
   "source": [
    "'abstract first', 'editor-summary first'\n",
    "title_ref = soup.find_all(class_ = 'summary first')\n",
    "title_ref"
   ]
  },
  {
   "cell_type": "code",
   "execution_count": null,
   "metadata": {
    "collapsed": true
   },
   "outputs": [],
   "source": [
    " next_base = 'http://science.sciencemag.org/'"
   ]
  },
  {
   "cell_type": "code",
   "execution_count": null,
   "metadata": {
    "collapsed": true
   },
   "outputs": [],
   "source": []
  },
  {
   "cell_type": "code",
   "execution_count": 137,
   "metadata": {},
   "outputs": [
    {
     "data": {
      "text/plain": [
       "'H2O exists in two spin isomers, ortho and para, in a ratio of 3:1 at room temperature. Some astronomical observations have found water with a ratio of less than 3, thought to be due to water being photodesorbed from ice that had been formed at very low temperatures (≾30 K). Hama et al. tested this idea in the laboratory, by forming water ice at low temperature and then photodesorbing it to measure the ortho:para ratio. They found a ratio of 3, even at 10 K. Thus, another explanation for the low ratios in some astronomical objects must be found.'"
      ]
     },
     "execution_count": 137,
     "metadata": {},
     "output_type": "execute_result"
    }
   ],
   "source": [
    "all_descriptions[8]"
   ]
  },
  {
   "cell_type": "code",
   "execution_count": 138,
   "metadata": {
    "collapsed": true
   },
   "outputs": [],
   "source": [
    "doctest = re.sub('\\s\\d+(\\s)?(,)?', '', all_descriptions[8])"
   ]
  },
  {
   "cell_type": "code",
   "execution_count": 139,
   "metadata": {},
   "outputs": [
    {
     "data": {
      "text/plain": [
       "'H2O exists in two spin isomers, ortho and para, in a ratio of:1 at room temperature. Some astronomical observations have found water with a ratio of less than thought to be due to water being photodesorbed from ice that had been formed at very low temperatures (≾30 K). Hama et al. tested this idea in the laboratory, by forming water ice at low temperature and then photodesorbing it to measure the ortho:para ratio. They found a ratio of even atK. Thus, another explanation for the low ratios in some astronomical objects must be found.'"
      ]
     },
     "execution_count": 139,
     "metadata": {},
     "output_type": "execute_result"
    }
   ],
   "source": [
    "doctest"
   ]
  },
  {
   "cell_type": "code",
   "execution_count": null,
   "metadata": {
    "collapsed": true
   },
   "outputs": [],
   "source": []
  }
 ],
 "metadata": {
  "kernelspec": {
   "display_name": "Python [conda root]",
   "language": "python",
   "name": "conda-root-py"
  },
  "language_info": {
   "codemirror_mode": {
    "name": "ipython",
    "version": 3
   },
   "file_extension": ".py",
   "mimetype": "text/x-python",
   "name": "python",
   "nbconvert_exporter": "python",
   "pygments_lexer": "ipython3",
   "version": "3.6.2"
  }
 },
 "nbformat": 4,
 "nbformat_minor": 2
}
