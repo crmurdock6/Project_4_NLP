{
 "cells": [
  {
   "cell_type": "markdown",
   "metadata": {},
   "source": [
    "### Imports"
   ]
  },
  {
   "cell_type": "code",
   "execution_count": 2,
   "metadata": {
    "collapsed": true
   },
   "outputs": [],
   "source": [
    "import pandas as pd\n",
    "import re\n",
    "from pymongo import MongoClient\n",
    "from sklearn.feature_extraction.text import CountVectorizer, TfidfVectorizer\n",
    "from sklearn.decomposition import LatentDirichletAllocation"
   ]
  },
  {
   "cell_type": "markdown",
   "metadata": {},
   "source": [
    "### Connect to MongoDB"
   ]
  },
  {
   "cell_type": "code",
   "execution_count": 3,
   "metadata": {
    "collapsed": true
   },
   "outputs": [],
   "source": [
    "client = MongoClient()\n",
    "sci = client.metis_p4_db.science"
   ]
  },
  {
   "cell_type": "code",
   "execution_count": 24,
   "metadata": {
    "collapsed": true
   },
   "outputs": [],
   "source": [
    "tenyears = sci.find({'year': { \"$gt\": 2000, \"$lt\": 2017 } })\n"
   ]
  },
  {
   "cell_type": "code",
   "execution_count": 25,
   "metadata": {},
   "outputs": [
    {
     "data": {
      "text/plain": [
       "\"Antibiotic resistance threatens to put modern medicine into reverse. But we are not at the end of our options for currently available drugs. Baym et al. review what can be done by using combinations of antibiotics to circumvent bacteria's evolutionary strategies. For instance, resistance to one drug may cause sensitivity to another, the effectiveness of two drugs can be synergized by a resistance mutation, and some negative drug interactions may even be beneficial in selecting against resistance. Although not simple to assess, drug combinations still have something to offer for the development of sorely needed anti-infectives.\""
      ]
     },
     "execution_count": 25,
     "metadata": {},
     "output_type": "execute_result"
    }
   ],
   "source": [
    "tenyears[0]['description']"
   ]
  },
  {
   "cell_type": "code",
   "execution_count": 26,
   "metadata": {
    "collapsed": true
   },
   "outputs": [],
   "source": [
    "all_descriptions = []\n",
    "\n",
    "for record in tenyears:\n",
    "    all_descriptions.append(record['description'])"
   ]
  },
  {
   "cell_type": "code",
   "execution_count": 27,
   "metadata": {},
   "outputs": [
    {
     "data": {
      "text/plain": [
       "[\"Antibiotic resistance threatens to put modern medicine into reverse. But we are not at the end of our options for currently available drugs. Baym et al. review what can be done by using combinations of antibiotics to circumvent bacteria's evolutionary strategies. For instance, resistance to one drug may cause sensitivity to another, the effectiveness of two drugs can be synergized by a resistance mutation, and some negative drug interactions may even be beneficial in selecting against resistance. Although not simple to assess, drug combinations still have something to offer for the development of sorely needed anti-infectives.\",\n",
       " 'In carpenter ants, separate behavioral classes, known as castes, are determined by the epigenetic regulation of genes. Simola et al. treated ants of different castes with drugs that affected histone acetylation. Reducing histone acetylation stimulated scouting and foraging behavior. The foraging and scouting behaviors of young ants were permanently changed by directly injecting their brains with histone acetylation inhibitors.']"
      ]
     },
     "execution_count": 27,
     "metadata": {},
     "output_type": "execute_result"
    }
   ],
   "source": [
    "all_descriptions[:2]"
   ]
  },
  {
   "cell_type": "code",
   "execution_count": 28,
   "metadata": {},
   "outputs": [
    {
     "data": {
      "text/plain": [
       "32950"
      ]
     },
     "execution_count": 28,
     "metadata": {},
     "output_type": "execute_result"
    }
   ],
   "source": [
    "len(all_descriptions)"
   ]
  },
  {
   "cell_type": "markdown",
   "metadata": {},
   "source": [
    "## Workflow"
   ]
  },
  {
   "cell_type": "markdown",
   "metadata": {},
   "source": [
    "#### Write function for tokenizer"
   ]
  },
  {
   "cell_type": "code",
   "execution_count": 73,
   "metadata": {
    "collapsed": true
   },
   "outputs": [],
   "source": [
    "from spacy.en import STOP_WORDS as stopwords\n",
    "import string\n",
    "import spacy\n",
    "nlp = spacy.load('en')\n",
    "stopwords.update(['et', 'al', \"'s\", \"—\", '-', 'pp', 'pp.', 'p.'])\n",
    "punctuations = string.punctuation"
   ]
  },
  {
   "cell_type": "code",
   "execution_count": 30,
   "metadata": {
    "collapsed": true
   },
   "outputs": [],
   "source": [
    "def spacy_tokenizer_1(doc):\n",
    "    doc = doc.replace('—', '').replace(',', '').replace(\"'s\", '')\n",
    "    doc = re.sub('\\s\\d+\\s', '', doc)\n",
    "    tokens = nlp(doc)\n",
    "    tokens = [tok.lemma_.lower().strip() if tok.lemma_ != \"-PRON-\" else tok.lower_ for tok in tokens]\n",
    "    tokens = [tok for tok in tokens if (tok not in stopwords and tok not in punctuations)]     \n",
    "    return tokens"
   ]
  },
  {
   "cell_type": "code",
   "execution_count": 31,
   "metadata": {
    "collapsed": true
   },
   "outputs": [],
   "source": [
    "def spacy_tokenizer_2(doc):\n",
    "    doc = doc.replace('—', '').replace(',', '').replace(\"'s\", '')\n",
    "    doc = re.sub('\\s\\d+(\\s)?', '', doc)\n",
    "    tokens = nlp(doc)\n",
    "    tokens = [tok.lemma_.lower().strip() if tok.lemma_ != \"-PRON-\" else tok.lower_ for tok in tokens]\n",
    "    tokens = [tok for tok in tokens if (tok not in stopwords and tok not in punctuations)]     \n",
    "    return tokens"
   ]
  },
  {
   "cell_type": "code",
   "execution_count": 32,
   "metadata": {
    "collapsed": true
   },
   "outputs": [],
   "source": [
    "def spacy_tokenizer_3(doc):\n",
    "    doc = doc.replace('—', '').replace(',', '').replace(\"'s\", '')\n",
    "    # doc = re.sub('\\s\\d+(\\s)?(,)?', ' ', doc)\n",
    "    doc = re.sub('\\D\\d+(\\D)?', ' ', doc)\n",
    "    doc = doc.replace('–', '')\n",
    "    tokens = nlp(doc)\n",
    "    tokens = [tok.lemma_.lower().strip() if tok.lemma_ != \"-PRON-\" else tok.lower_ for tok in tokens]\n",
    "    tokens = [tok for tok in tokens if (tok not in stopwords and tok not in punctuations)]     \n",
    "    return tokens"
   ]
  },
  {
   "cell_type": "markdown",
   "metadata": {},
   "source": [
    "#### Functions for vectorizing"
   ]
  },
  {
   "cell_type": "code",
   "execution_count": 33,
   "metadata": {
    "collapsed": true
   },
   "outputs": [],
   "source": [
    "def count_vectorizer(tokenizer, max_feat, X, ngram_start=1, ngram_stop=2, max_df=0.6):\n",
    "\n",
    "    vectorizer = CountVectorizer(tokenizer = tokenizer,\n",
    "                                 ngram_range=(ngram_start, ngram_stop),\n",
    "                                 max_df = max_df,\n",
    "                                 max_features=max_feat)\n",
    "    return vectorizer, vectorizer.fit_transform(X)"
   ]
  },
  {
   "cell_type": "code",
   "execution_count": 34,
   "metadata": {
    "collapsed": true
   },
   "outputs": [],
   "source": [
    "def tfidf_vectorizer(tokenizer, max_feat, X, ngram_start=1, ngram_stop=2, max_df=0.6):\n",
    "\n",
    "    vectorizer = TfidfVectorizer(tokenizer = tokenizer,\n",
    "                                 ngram_range=(ngram_start, ngram_stop),\n",
    "                                 max_df = max_df,\n",
    "                                 max_features=max_feat)\n",
    "    return vectorizer, vectorizer.fit_transform(X)"
   ]
  },
  {
   "cell_type": "markdown",
   "metadata": {},
   "source": [
    "#### Write functions for models"
   ]
  },
  {
   "cell_type": "code",
   "execution_count": 35,
   "metadata": {
    "collapsed": true
   },
   "outputs": [],
   "source": [
    "from sklearn.decomposition import NMF, TruncatedSVD"
   ]
  },
  {
   "cell_type": "code",
   "execution_count": 44,
   "metadata": {
    "collapsed": true
   },
   "outputs": [],
   "source": [
    "def lda_cv(X, n_comp, n_iter = 10):\n",
    "    lda = LatentDirichletAllocation(n_components=n_comp,\n",
    "                                    max_iter=n_iter,\n",
    "                                    random_state=42,\n",
    "                                    learning_method='online')\n",
    "    return lda, lda.fit_transform(X)\n",
    "\n",
    "def lda_tfidf(X, n_comp, n_iter = 10):\n",
    "    lda = LatentDirichletAllocation(n_components=n_comp,\n",
    "                                    max_iter=n_iter,\n",
    "                                    random_state=42,\n",
    "                                    learning_method='online')\n",
    "    return lda, lda.fit_transform(X)"
   ]
  },
  {
   "cell_type": "code",
   "execution_count": 37,
   "metadata": {
    "collapsed": true
   },
   "outputs": [],
   "source": [
    "def lsa_tfidf(X, n_comp):\n",
    "    lsa = TruncatedSVD(n_components=n_comp, random_state=42)\n",
    "    return lsa, lsa.fit_transform(X)\n",
    "def lsa_cv(X, n_comp):\n",
    "    lsa = TruncatedSVD(n_components=n_comp, random_state=42)\n",
    "    return lsa, lsa.fit_transform(X)\n",
    "def nmf_tfidf(X, n_comp):\n",
    "    nmf = NMF(n_components=n_comp, random_state=42)\n",
    "    return nmf, nmf.fit_transform(X)\n",
    "def nmf_cv(X, n_comp):\n",
    "    nmf = NMF(n_components=n_comp, random_state=42)\n",
    "    return nmf, nmf.fit_transform(X)"
   ]
  },
  {
   "cell_type": "markdown",
   "metadata": {},
   "source": [
    "#### function for displaying topics"
   ]
  },
  {
   "cell_type": "code",
   "execution_count": 38,
   "metadata": {
    "collapsed": true
   },
   "outputs": [],
   "source": [
    "def display_topics(model, feature_names, no_top_words):\n",
    "    for ix, topic in enumerate(model.components_):\n",
    "        print(\"Topic \", ix)\n",
    "        print(\" \".join([feature_names[i]\n",
    "                        for i in topic.argsort()[:-no_top_words - 1:-1]]))"
   ]
  },
  {
   "cell_type": "markdown",
   "metadata": {},
   "source": [
    "#### Function to display modeling results"
   ]
  },
  {
   "cell_type": "code",
   "execution_count": 42,
   "metadata": {
    "collapsed": true
   },
   "outputs": [],
   "source": [
    "def use_vectorizer(cv_vect, cv_vect_trans, n_comp=10):\n",
    "    models = [lsa_cv, nmf_cv, lda_tfidf]\n",
    "    names = ['LSA', 'NMF', 'LDA']\n",
    "    i = 0\n",
    "    for item in models:\n",
    "        model, model_transformed = item(cv_vect_trans, n_comp=n_comp)\n",
    "        print('\\n\\n-------' + names[i] + '------\\n\\n')\n",
    "        display_topics(model, cv_vect.get_feature_names(), 10)\n",
    "        i += 1"
   ]
  },
  {
   "cell_type": "markdown",
   "metadata": {},
   "source": [
    "# Make different vectorizers and test models (LSA, NMF, LDA)"
   ]
  },
  {
   "cell_type": "markdown",
   "metadata": {},
   "source": [
    "#### Start with tokenizer 3 as this worked best for a single year"
   ]
  },
  {
   "cell_type": "code",
   "execution_count": 74,
   "metadata": {
    "collapsed": true
   },
   "outputs": [],
   "source": [
    "cv_vect1, cv_vect1_transformed = count_vectorizer(spacy_tokenizer_3, 5000, all_descriptions)"
   ]
  },
  {
   "cell_type": "code",
   "execution_count": 75,
   "metadata": {},
   "outputs": [
    {
     "name": "stdout",
     "output_type": "stream",
     "text": [
      "\n",
      "\n",
      "-------LSA------\n",
      "\n",
      "\n",
      "Topic  0\n",
      "cell protein use gene human new system study signal year\n",
      "Topic  1\n",
      "cell t t cell stem cell stem signal immune mouse receptor protein\n",
      "Topic  2\n",
      "protein gene rna bind complex structure dna function expression signal\n",
      "Topic  3\n",
      "gene science human research new protein genome disease year dna\n",
      "Topic  4\n",
      "protein science research structure new state membrane bind complex national\n",
      "Topic  5\n",
      "protein year change climate ice c ocean global water climate change\n",
      "Topic  6\n",
      "human c t disease t cell response virus infection receptor immune\n",
      "Topic  7\n",
      "science gene c t change t cell climate expression response carbon\n",
      "Topic  8\n",
      "c year t t cell publish online star million publish online dna\n",
      "Topic  9\n",
      "dna use structure human rna change c genome complex climate\n",
      "\n",
      "\n",
      "-------NMF------\n",
      "\n",
      "\n",
      "Topic  0\n",
      "cell stem stem cell signal tissue type cancer mouse tumor development\n",
      "Topic  1\n",
      "use state system quantum high electron energy material structure surface\n",
      "Topic  2\n",
      "protein bind signal complex membrane receptor structure function pathway domain\n",
      "Topic  3\n",
      "gene expression genome gene expression genetic identify transcription mutation plant function\n",
      "Topic  4\n",
      "science research new scientist u.s national week world researcher scientific\n",
      "Topic  5\n",
      "year million ago year ago million year early earth time past old\n",
      "Topic  6\n",
      "human disease study brain virus new genetic use specie mouse\n",
      "Topic  7\n",
      "change climate ice global ocean climate change water increase carbon specie\n",
      "Topic  8\n",
      "t c t cell response c t infection immune cell virus receptor\n",
      "Topic  9\n",
      "dna rna genome sequence strand complex structure bind site replication\n",
      "\n",
      "\n",
      "-------LDA------\n",
      "\n",
      "\n",
      "Topic  0\n",
      "light particle star time ray x wave image space system\n",
      "Topic  1\n",
      "new isbn health drug university institute 95 week press cancer\n",
      "Topic  2\n",
      "water year earth ocean climate ice carbon change surface sea\n",
      "Topic  3\n",
      "specie plant human year virus ago animal evolution population year ago\n",
      "Topic  4\n",
      "use study new provide system datum human information recent model\n",
      "Topic  5\n",
      "science research scientist new researcher year week -- u.s world\n",
      "Topic  6\n",
      "change increase publish online publish online effect rate reduce climate change use\n",
      "Topic  7\n",
      "protein structure molecule complex rna dna bind molecular use membrane\n",
      "Topic  8\n",
      "material energy temperature state quantum electron use high phase surface\n",
      "Topic  9\n",
      "cell gene signal protein receptor mouse response expression human function\n"
     ]
    }
   ],
   "source": [
    "use_vectorizer(cv_vect1, cv_vect1_transformed)"
   ]
  },
  {
   "cell_type": "markdown",
   "metadata": {},
   "source": [
    "count vectorizer 2"
   ]
  },
  {
   "cell_type": "code",
   "execution_count": 76,
   "metadata": {
    "collapsed": true
   },
   "outputs": [],
   "source": [
    "cv_vect2, cv_vect2_transformed = count_vectorizer(spacy_tokenizer_3, 5000, all_descriptions, ngram_stop=4)"
   ]
  },
  {
   "cell_type": "code",
   "execution_count": 77,
   "metadata": {},
   "outputs": [
    {
     "name": "stdout",
     "output_type": "stream",
     "text": [
      "\n",
      "\n",
      "-------LSA------\n",
      "\n",
      "\n",
      "Topic  0\n",
      "cell protein use gene human new system study signal year\n",
      "Topic  1\n",
      "cell t t cell stem cell stem signal immune mouse receptor protein\n",
      "Topic  2\n",
      "protein gene rna bind complex structure dna function expression signal\n",
      "Topic  3\n",
      "gene science human research protein new genome disease year dna\n",
      "Topic  4\n",
      "protein science research structure new state membrane bind complex material\n",
      "Topic  5\n",
      "gene material researcher information potential offer laboratory interest newly roundup\n",
      "Topic  6\n",
      "year protein change climate ice c ocean water global ago\n",
      "Topic  7\n",
      "c t t cell response human virus infection disease immune receptor\n",
      "Topic  8\n",
      "science gene c change climate t expression t cell rna carbon\n",
      "Topic  9\n",
      "c year t t cell dna gene star ray publish online\n",
      "\n",
      "\n",
      "-------NMF------\n",
      "\n",
      "\n",
      "Topic  0\n",
      "cell stem stem cell signal tissue type cancer mouse tumor development\n",
      "Topic  1\n",
      "use state system quantum high electron structure energy material surface\n",
      "Topic  2\n",
      "protein bind complex signal structure membrane receptor rna domain function\n",
      "Topic  3\n",
      "human disease study brain virus new genetic use specie mouse\n",
      "Topic  4\n",
      "science research new scientist u.s national week world scientific university\n",
      "Topic  5\n",
      "material researcher information potential offer laboratory interest newly roundup apparatus\n",
      "Topic  6\n",
      "change climate ice global ocean climate change water increase carbon specie\n",
      "Topic  7\n",
      "t c t cell response c t infection c t cell immune cell virus\n",
      "Topic  8\n",
      "gene expression genome dna rna sequence transcription genetic gene expression identify\n",
      "Topic  9\n",
      "year million ago year ago million year early earth time million year ago past\n",
      "\n",
      "\n",
      "-------LDA------\n",
      "\n",
      "\n",
      "Topic  0\n",
      "use state electron quantum material structure energy light molecule reaction\n",
      "Topic  1\n",
      "cell gene mouse response expression signal t brain receptor disease\n",
      "Topic  2\n",
      "protein complex rna bind dna structure membrane function mechanism pathway\n",
      "Topic  3\n",
      "science new research researcher scientist week year u.s -- national\n",
      "Topic  4\n",
      "isbn 95 roundup newly 95 isbn university science apparatus laboratory story\n",
      "Topic  5\n",
      "year ago early year ago million age human analysis million year suggest\n",
      "Topic  6\n",
      "specie human genome gene population virus genetic plant evolution animal\n",
      "Topic  7\n",
      "model surface high temperature earth large water low datum system\n",
      "Topic  8\n",
      "change climate global ocean ice carbon increase sea water year\n",
      "Topic  9\n",
      "publish online drug new publish online press social china hiv vaccine\n"
     ]
    }
   ],
   "source": [
    "use_vectorizer(cv_vect2, cv_vect2_transformed)"
   ]
  },
  {
   "cell_type": "markdown",
   "metadata": {},
   "source": [
    "#### Try to lower ngram range to 3 instead of 4"
   ]
  },
  {
   "cell_type": "code",
   "execution_count": 86,
   "metadata": {
    "collapsed": true
   },
   "outputs": [],
   "source": [
    "cv_vect2, cv_vect2_transformed = count_vectorizer(spacy_tokenizer_3, 5000, all_descriptions, ngram_stop=3)"
   ]
  },
  {
   "cell_type": "code",
   "execution_count": 87,
   "metadata": {},
   "outputs": [
    {
     "name": "stdout",
     "output_type": "stream",
     "text": [
      "\n",
      "\n",
      "-------LSA------\n",
      "\n",
      "\n",
      "Topic  0\n",
      "cell protein use gene human new system study signal year\n",
      "Topic  1\n",
      "cell t t cell stem cell stem signal immune mouse receptor protein\n",
      "Topic  2\n",
      "protein gene rna bind complex structure dna function expression signal\n",
      "Topic  3\n",
      "gene science human research new protein genome disease year dna\n",
      "Topic  4\n",
      "protein science research structure new state bind membrane complex national\n",
      "Topic  5\n",
      "protein year change climate ice c ocean global water ago\n",
      "Topic  6\n",
      "researcher material potential information offer laboratory newly interest apparatus material potential\n",
      "Topic  7\n",
      "c t t cell response human virus infection disease receptor immune\n",
      "Topic  8\n",
      "science gene c change t climate t cell expression temperature ice\n",
      "Topic  9\n",
      "year c t t cell dna gene million ago year ago star\n",
      "\n",
      "\n",
      "-------NMF------\n",
      "\n",
      "\n",
      "Topic  0\n",
      "cell stem stem cell signal tissue type cancer mouse tumor development\n",
      "Topic  1\n",
      "use state system quantum high electron structure energy material surface\n",
      "Topic  2\n",
      "protein bind complex signal structure membrane receptor rna domain function\n",
      "Topic  3\n",
      "human disease study virus brain new genetic use specie mouse\n",
      "Topic  4\n",
      "science research new scientist u.s national week world scientific university\n",
      "Topic  5\n",
      "change climate ice global ocean climate change water increase carbon specie\n",
      "Topic  6\n",
      "material researcher information potential offer laboratory interest newly roundup apparatus\n",
      "Topic  7\n",
      "t c t cell response c t infection c t cell immune cell virus\n",
      "Topic  8\n",
      "gene expression genome dna rna sequence transcription genetic gene expression identify\n",
      "Topic  9\n",
      "year million ago year ago million year early earth time million year ago past\n",
      "\n",
      "\n",
      "-------LDA------\n",
      "\n",
      "\n",
      "Topic  0\n",
      "roundup newly apparatus offer potential material interest laboratory researcher information\n",
      "Topic  1\n",
      "science research new scientist week researcher year world u.s --\n",
      "Topic  2\n",
      "cell protein gene signal receptor rna function mouse dna bind\n",
      "Topic  3\n",
      "specie human virus population animal immune host response infection disease\n",
      "Topic  4\n",
      "reaction surface molecule chemical energy c use high carbon metal\n",
      "Topic  5\n",
      "plant temperature magnetic observe field publish particle online publish online model\n",
      "Topic  6\n",
      "brain neuron isbn new 95 university association activity president cortex\n",
      "Topic  7\n",
      "human genome study new drug use sequence read disease gene\n",
      "Topic  8\n",
      "year climate change ocean earth water ice large global star\n",
      "Topic  9\n",
      "use structure quantum electron system material state single control light\n"
     ]
    }
   ],
   "source": [
    "use_vectorizer(cv_vect2, cv_vect2_transformed)"
   ]
  },
  {
   "cell_type": "markdown",
   "metadata": {},
   "source": [
    "count vectorizer 3"
   ]
  },
  {
   "cell_type": "code",
   "execution_count": 78,
   "metadata": {
    "collapsed": true
   },
   "outputs": [],
   "source": [
    "cv_vect3, cv_vect3_transformed = count_vectorizer(spacy_tokenizer_3, 110000, all_descriptions)"
   ]
  },
  {
   "cell_type": "code",
   "execution_count": 79,
   "metadata": {},
   "outputs": [
    {
     "name": "stdout",
     "output_type": "stream",
     "text": [
      "\n",
      "\n",
      "-------LSA------\n",
      "\n",
      "\n",
      "Topic  0\n",
      "cell protein use gene human new system study signal year\n",
      "Topic  1\n",
      "cell t t cell stem stem cell signal immune mouse receptor protein\n",
      "Topic  2\n",
      "protein gene rna bind complex structure dna function expression signal\n",
      "Topic  3\n",
      "gene science human research new protein genome disease year dna\n",
      "Topic  4\n",
      "protein science research structure new state bind membrane complex national\n",
      "Topic  5\n",
      "protein year change climate ice c ocean global water sea\n",
      "Topic  6\n",
      "c t human t cell disease response virus infection immune receptor\n",
      "Topic  7\n",
      "science gene c change climate t t cell expression response signal\n",
      "Topic  8\n",
      "c t year t cell rna gene structure dna publish c t\n",
      "Topic  9\n",
      "dna use structure human change rna molecule genome c water\n",
      "\n",
      "\n",
      "-------NMF------\n",
      "\n",
      "\n",
      "Topic  0\n",
      "cell stem stem cell cancer tissue type tumor division b mouse\n",
      "Topic  1\n",
      "use high structure material surface energy form molecule report large\n",
      "Topic  2\n",
      "protein bind complex structure membrane rna domain dna function site\n",
      "Topic  3\n",
      "human disease study virus genome new genetic specie population use\n",
      "Topic  4\n",
      "science research new scientist u.s week national year researcher world\n",
      "Topic  5\n",
      "year change climate ice ocean global million increase ago climate change\n",
      "Topic  6\n",
      "signal receptor response pathway neuron system activity control mouse factor\n",
      "Topic  7\n",
      "gene expression genome dna rna sequence genetic transcription gene expression identify\n",
      "Topic  8\n",
      "t c t cell c t infection response immune cell virus antigen\n",
      "Topic  9\n",
      "quantum state spin system electron field atom magnetic control single\n",
      "\n",
      "\n",
      "-------LDA------\n",
      "\n",
      "\n",
      "Topic  0\n",
      "water solar surface observation form star model earth earthquake region\n",
      "Topic  1\n",
      "electron state high material surface light molecule energy atom temperature\n",
      "Topic  2\n",
      "cell gene human genome plant genetic study sequence specie suggest\n",
      "Topic  3\n",
      "year change climate ocean ago ice year ago carbon million global\n",
      "Topic  4\n",
      "science research new scientist week researcher year u.s university world\n",
      "Topic  5\n",
      "brain neuron activity memory resistance reaction behavior online response compound\n",
      "Topic  6\n",
      "virus cell t disease response human immune specie infection host\n",
      "Topic  7\n",
      "use system new time provide model method information base approach\n",
      "Topic  8\n",
      "protein cell signal rna bind complex dna structure receptor pathway\n",
      "Topic  9\n",
      "cancer disease isbn 95 tumor mouse researcher patient potential drug\n"
     ]
    }
   ],
   "source": [
    "use_vectorizer(cv_vect3, cv_vect3_transformed)"
   ]
  },
  {
   "cell_type": "markdown",
   "metadata": {},
   "source": [
    "#### Try tokenizer 2 as 3 did not work quite as well"
   ]
  },
  {
   "cell_type": "code",
   "execution_count": 80,
   "metadata": {
    "collapsed": true
   },
   "outputs": [],
   "source": [
    "cv_vect1, cv_vect1_transformed = count_vectorizer(spacy_tokenizer_2, 5000, all_descriptions)"
   ]
  },
  {
   "cell_type": "code",
   "execution_count": 81,
   "metadata": {},
   "outputs": [
    {
     "name": "stdout",
     "output_type": "stream",
     "text": [
      "\n",
      "\n",
      "-------LSA------\n",
      "\n",
      "\n",
      "Topic  0\n",
      "cell protein use gene human new system signal study change\n",
      "Topic  1\n",
      "cell t t cell stem stem cell signal immune mouse receptor tissue\n",
      "Topic  2\n",
      "protein gene bind rna dna complex structure function signal expression\n",
      "Topic  3\n",
      "gene science research human new protein genome disease scientist dna\n",
      "Topic  4\n",
      "protein science research structure bind new membrane state complex national\n",
      "Topic  5\n",
      "change climate protein ice ocean year global water climate change increase\n",
      "Topic  6\n",
      "human disease virus study brain system infection immune response drug\n",
      "Topic  7\n",
      "quantum signal state system response change science receptor gene control\n",
      "Topic  8\n",
      "use change human climate state dna quantum climate change research cell\n",
      "Topic  9\n",
      "t science t cell dna structure virus response infection bind human\n",
      "\n",
      "\n",
      "-------NMF------\n",
      "\n",
      "\n",
      "Topic  0\n",
      "cell stem stem cell signal tissue cancer type tumor division mouse\n",
      "Topic  1\n",
      "use structure material high molecule surface energy reaction electron process\n",
      "Topic  2\n",
      "gene dna expression genome rna sequence transcription genetic gene expression identify\n",
      "Topic  3\n",
      "science research new scientist u.s national week researcher world scientific\n",
      "Topic  4\n",
      "protein bind signal complex receptor membrane structure rna domain function\n",
      "Topic  5\n",
      "change climate ice ocean global climate change increase carbon water specie\n",
      "Topic  6\n",
      "human disease study brain virus new genetic specie genome population\n",
      "Topic  7\n",
      "quantum state spin electron system field magnetic atom control information\n",
      "Topic  8\n",
      "system star year solar earth planet large form ray new\n",
      "Topic  9\n",
      "t t cell cell response immune infection cd8 mouse receptor cd8 t\n",
      "\n",
      "\n",
      "-------LDA------\n",
      "\n",
      "\n",
      "Topic  0\n",
      "specie plant population evolution 1 issue change provide animal 2\n",
      "Topic  1\n",
      "new researcher scientist science year world research -- human week\n",
      "Topic  2\n",
      "use structure state electron quantum system energy molecule atom high\n",
      "Topic  3\n",
      "climate water change temperature carbon ocean high increase global large\n",
      "Topic  4\n",
      "cell protein bind complex – structure t site membrane domain\n",
      "Topic  5\n",
      "cell receptor response disease signal drug cancer mouse virus protein\n",
      "Topic  6\n",
      "science research university national u.s new week institute press program\n",
      "Topic  7\n",
      "star ray space earth solar planet system x mass observation\n",
      "Topic  8\n",
      "material magnetic surface metal reaction spin field potential channel electronic\n",
      "Topic  9\n",
      "gene dna genome genetic rna human sequence expression protein brain\n"
     ]
    }
   ],
   "source": [
    "use_vectorizer(cv_vect1, cv_vect1_transformed)"
   ]
  },
  {
   "cell_type": "code",
   "execution_count": 82,
   "metadata": {
    "collapsed": true
   },
   "outputs": [],
   "source": [
    "cv_vect2, cv_vect2_transformed = count_vectorizer(spacy_tokenizer_2, 5000, all_descriptions, ngram_stop=4)"
   ]
  },
  {
   "cell_type": "code",
   "execution_count": 83,
   "metadata": {},
   "outputs": [
    {
     "name": "stdout",
     "output_type": "stream",
     "text": [
      "\n",
      "\n",
      "-------LSA------\n",
      "\n",
      "\n",
      "Topic  0\n",
      "cell protein use gene human new system signal study change\n",
      "Topic  1\n",
      "cell t t cell stem stem cell signal immune mouse receptor tissue\n",
      "Topic  2\n",
      "protein gene bind rna complex dna structure function signal expression\n",
      "Topic  3\n",
      "gene science research human new protein genome disease dna scientist\n",
      "Topic  4\n",
      "protein science research structure bind membrane state new complex material\n",
      "Topic  5\n",
      "material gene researcher information potential offer laboratory interest newly roundup\n",
      "Topic  6\n",
      "change climate protein ice ocean year global climate change water carbon\n",
      "Topic  7\n",
      "human disease virus new study brain infection receptor drug immune\n",
      "Topic  8\n",
      "signal quantum response state change receptor gene control system t\n",
      "Topic  9\n",
      "use change human climate protein quantum state dna research cell\n",
      "\n",
      "\n",
      "-------NMF------\n",
      "\n",
      "\n",
      "Topic  0\n",
      "cell t t cell stem stem cell signal immune response mouse tissue\n",
      "Topic  1\n",
      "use structure high molecule material surface energy reaction electron process\n",
      "Topic  2\n",
      "gene dna expression genome rna sequence transcription genetic gene expression mutation\n",
      "Topic  3\n",
      "science research new scientist u.s national week world researcher scientific\n",
      "Topic  4\n",
      "protein bind signal complex receptor membrane structure rna domain function\n",
      "Topic  5\n",
      "material researcher information potential offer laboratory interest newly roundup apparatus\n",
      "Topic  6\n",
      "change climate ice ocean global climate change increase carbon water specie\n",
      "Topic  7\n",
      "human disease study virus brain new genetic mouse specie population\n",
      "Topic  8\n",
      "quantum state spin electron system field magnetic atom control information\n",
      "Topic  9\n",
      "system star year solar earth planet large form ray new\n",
      "\n",
      "\n",
      "-------LDA------\n",
      "\n",
      "\n",
      "Topic  0\n",
      "roundup newly apparatus science information laboratory new york.pp york.pp potential interest\n",
      "Topic  1\n",
      "science new research week scientist researcher u.s university national --\n",
      "Topic  2\n",
      "disease human virus host use cause infection vaccine bacteria new\n",
      "Topic  3\n",
      "human year evidence datum ice study evolution suggest ago new\n",
      "Topic  4\n",
      "protein signal complex bind structure receptor dna mechanism activity function\n",
      "Topic  5\n",
      "gene rna protein site genome mutation dependent acid dna sequence\n",
      "Topic  6\n",
      "change climate increase global ocean plant carbon water specie high\n",
      "Topic  7\n",
      "system particle surface earth star solar ray x model high\n",
      "Topic  8\n",
      "cell mouse t stem tissue development response cancer stem cell immune\n",
      "Topic  9\n",
      "use state electron quantum material structure molecule reaction high single\n"
     ]
    }
   ],
   "source": [
    "use_vectorizer(cv_vect2, cv_vect2_transformed)"
   ]
  },
  {
   "cell_type": "code",
   "execution_count": 84,
   "metadata": {
    "collapsed": true
   },
   "outputs": [],
   "source": [
    "cv_vect3, cv_vect3_transformed = count_vectorizer(spacy_tokenizer_2, 110000, all_descriptions)"
   ]
  },
  {
   "cell_type": "code",
   "execution_count": 85,
   "metadata": {},
   "outputs": [
    {
     "name": "stdout",
     "output_type": "stream",
     "text": [
      "\n",
      "\n",
      "-------LSA------\n",
      "\n",
      "\n",
      "Topic  0\n",
      "cell protein use gene human new system signal study change\n",
      "Topic  1\n",
      "cell t t cell stem stem cell signal immune mouse receptor tissue\n",
      "Topic  2\n",
      "protein gene bind rna complex dna structure function signal expression\n",
      "Topic  3\n",
      "gene science research human new protein genome disease scientist dna\n",
      "Topic  4\n",
      "protein science research structure bind new membrane state complex national\n",
      "Topic  5\n",
      "change climate protein ice ocean year global water climate change sea\n",
      "Topic  6\n",
      "human disease virus brain study infection system new immune drug\n",
      "Topic  7\n",
      "quantum signal state system response change gene science receptor control\n",
      "Topic  8\n",
      "change use dna human state climate quantum climate change genome carbon\n",
      "Topic  9\n",
      "t t cell structure rna response dna virus science infection bind\n",
      "\n",
      "\n",
      "-------NMF------\n",
      "\n",
      "\n",
      "Topic  0\n",
      "cell stem stem cell signal tissue cancer type tumor mouse division\n",
      "Topic  1\n",
      "use structure material high molecule surface reaction energy electron process\n",
      "Topic  2\n",
      "gene dna expression genome rna sequence transcription genetic gene expression identify\n",
      "Topic  3\n",
      "science research new scientist u.s national week researcher world year\n",
      "Topic  4\n",
      "protein bind signal complex receptor membrane structure rna domain function\n",
      "Topic  5\n",
      "change climate ice ocean global climate change increase water carbon specie\n",
      "Topic  6\n",
      "human disease study brain virus new genetic specie genome population\n",
      "Topic  7\n",
      "quantum state spin electron system field magnetic atom control information\n",
      "Topic  8\n",
      "system star solar year earth planet large form ray mass\n",
      "Topic  9\n",
      "t t cell cell response immune infection cd8 cd8 t mouse antigen\n",
      "\n",
      "\n",
      "-------LDA------\n",
      "\n",
      "\n",
      "Topic  0\n",
      "earth star ray space solar system mass surface planet large\n",
      "Topic  1\n",
      "cell protein signal receptor rna bind complex pathway function dna\n",
      "Topic  2\n",
      "gene genome genetic plant dna human mutation expression identify genomic\n",
      "Topic  3\n",
      "brain human study neuron animal behavior use evolution activity suggest\n",
      "Topic  4\n",
      "male new university female university press sex york.pp new york.pp paper sequence\n",
      "Topic  5\n",
      "science research new researcher week scientist u.s year world --\n",
      "Topic  6\n",
      "change climate specie global ocean year increase population large ice\n",
      "Topic  7\n",
      "molecule use reaction chemical energy form high surface carbon structure\n",
      "Topic  8\n",
      "state use quantum electron field magnetic material structure single system\n",
      "Topic  9\n",
      "cell disease virus human host stem infection stem cell cause pathogen\n"
     ]
    }
   ],
   "source": [
    "use_vectorizer(cv_vect3, cv_vect3_transformed)"
   ]
  },
  {
   "cell_type": "code",
   "execution_count": null,
   "metadata": {
    "collapsed": true
   },
   "outputs": [],
   "source": []
  },
  {
   "cell_type": "code",
   "execution_count": null,
   "metadata": {
    "collapsed": true
   },
   "outputs": [],
   "source": []
  },
  {
   "cell_type": "markdown",
   "metadata": {},
   "source": [
    "### This worked well! So lets try tfidf vectorizer to compare\n",
    "tfidf vectorizer 1"
   ]
  },
  {
   "cell_type": "code",
   "execution_count": 62,
   "metadata": {
    "collapsed": true
   },
   "outputs": [],
   "source": [
    "tf_vect1, tf_vect1_transformed = tfidf_vectorizer(spacy_tokenizer_2, 5000, all_descriptions)"
   ]
  },
  {
   "cell_type": "code",
   "execution_count": 63,
   "metadata": {},
   "outputs": [
    {
     "name": "stdout",
     "output_type": "stream",
     "text": [
      "\n",
      "\n",
      "-------LSA------\n",
      "\n",
      "\n",
      "Topic  0\n",
      "cell protein new science gene use human research researcher study\n",
      "Topic  1\n",
      "potential interest offer instrumentation apparatus laboratory instrumentation apparatus information newly newly offer weekly roundup roundup information interest researcher laboratory material\n",
      "Topic  2\n",
      "cell protein gene signal receptor rna t bind expression function\n",
      "Topic  3\n",
      "cell science week research stem stem cell roundup gene story national\n",
      "Topic  4\n",
      "week story entire section roundup week link roundup follow link download pdf science download pdf entire pdf story science\n",
      "Topic  5\n",
      "cell stem stem cell quantum t state t cell electron energy material\n",
      "Topic  6\n",
      "£ press university university press isbn new york.pp york.pp cambridge press new new\n",
      "Topic  7\n",
      "science protein structure rna advancement science association advancement american association publisher science publisher advancement\n",
      "Topic  8\n",
      "science american association association advancement advancement science science publisher roundup recent monthly roundup news project publisher american recent news\n",
      "Topic  9\n",
      "protein climate change bind membrane national ice receptor climate change signal\n",
      "\n",
      "\n",
      "-------NMF------\n",
      "\n",
      "\n",
      "Topic  0\n",
      "climate change ocean ice water climate change global year carbon sea\n",
      "Topic  1\n",
      "potential interest newly offer roundup information weekly roundup information newly apparatus laboratory offer instrumentation instrumentation apparatus interest researcher laboratory material\n",
      "Topic  2\n",
      "science research u.s national week scientist new health institute researcher\n",
      "Topic  3\n",
      "cell stem stem cell t t cell immune mouse tissue cancer tumor\n",
      "Topic  4\n",
      "week story science download follow link link roundup download pdf entire section roundup week pdf entire story science pdf\n",
      "Topic  5\n",
      "gene human genome dna genetic sequence disease expression mutation specie\n",
      "Topic  6\n",
      "£ press university university press isbn new york.pp york.pp cambridge press new new\n",
      "Topic  7\n",
      "quantum electron use material energy state atom system field magnetic\n",
      "Topic  8\n",
      "science american association association advancement advancement science science publisher advancement publisher news project monthly roundup roundup recent\n",
      "Topic  9\n",
      "protein bind signal rna receptor complex membrane structure domain pathway\n",
      "\n",
      "\n",
      "-------LDA------\n",
      "\n",
      "\n",
      "Topic  0\n",
      "male female coral reef w. nobel faculty malaria mosquito supernova\n",
      "Topic  1\n",
      "science new research year researcher scientist week -- university read\n",
      "Topic  2\n",
      "american association advancement publisher association advancement science 29.95 association advancement science science publisher prion\n",
      "Topic  3\n",
      "newly apparatus instrumentation weekly interest researcher material potential laboratory material weekly roundup roundup information apparatus laboratory\n",
      "Topic  4\n",
      "star solar ice earth galaxy planet ray mantle earthquake observation\n",
      "Topic  5\n",
      "cell protein gene signal receptor dna mouse rna human function\n",
      "Topic  6\n",
      "university press new york.pp york.pp isbn press new ma.pp cambridge ma.pp press cambridge oxford university 24.95\n",
      "Topic  7\n",
      "story roundup comet week section lunar story science pdf download week story\n",
      "Topic  8\n",
      "quantum spin magnetic state field electron atom resonance electronic superconductor\n",
      "Topic  9\n",
      "use structure material molecule reaction surface high metal energy electron\n"
     ]
    }
   ],
   "source": [
    "use_vectorizer(tf_vect1, tf_vect1_transformed)"
   ]
  },
  {
   "cell_type": "markdown",
   "metadata": {},
   "source": [
    "tfidf vectorizer 2"
   ]
  },
  {
   "cell_type": "code",
   "execution_count": 64,
   "metadata": {
    "collapsed": true
   },
   "outputs": [],
   "source": [
    "tf_vect2, tf_vect2_transformed = tfidf_vectorizer(spacy_tokenizer_2, 5000, all_descriptions, ngram_stop=4)"
   ]
  },
  {
   "cell_type": "code",
   "execution_count": 65,
   "metadata": {},
   "outputs": [
    {
     "name": "stdout",
     "output_type": "stream",
     "text": [
      "\n",
      "\n",
      "-------LSA------\n",
      "\n",
      "\n",
      "Topic  0\n",
      "cell protein new science gene use human research study change\n",
      "Topic  1\n",
      "offer instrumentation apparatus laboratory weekly roundup information newly instrumentation apparatus laboratory material instrumentation apparatus offer instrumentation apparatus roundup information newly offer information newly offer instrumentation information newly offer information newly weekly roundup\n",
      "Topic  2\n",
      "cell protein gene signal receptor rna t bind expression mouse\n",
      "Topic  3\n",
      "cell science research week stem stem cell national u.s cancer university\n",
      "Topic  4\n",
      "week story story science download story science download pdf science download pdf entire science download pdf science download entire section roundup week story science roundup week story roundup week\n",
      "Topic  5\n",
      "cell quantum stem stem cell electron state t energy t cell material\n",
      "Topic  6\n",
      "£ university press university press isbn protein york.pp new york.pp cambridge new\n",
      "Topic  7\n",
      "£ cell press university university press climate isbn change new york.pp york.pp\n",
      "Topic  8\n",
      "science american association association advancement science american association advancement science american association advancement association advancement advancement science science publisher advancement publisher\n",
      "Topic  9\n",
      "protein climate change bind receptor signal membrane ocean ice national\n",
      "\n",
      "\n",
      "-------NMF------\n",
      "\n",
      "\n",
      "Topic  0\n",
      "quantum electron use material energy state atom system field magnetic\n",
      "Topic  1\n",
      "apparatus laboratory material potential information newly offer laboratory material potential laboratory material potential interest roundup information roundup information newly roundup information newly offer information newly information newly offer instrumentation newly offer\n",
      "Topic  2\n",
      "science research week scientist u.s national new researcher health institute\n",
      "Topic  3\n",
      "cell stem stem cell t t cell immune mouse tissue cancer tumor\n",
      "Topic  4\n",
      "week story week story science download pdf entire science download pdf entire science download pdf science download story science download story science download pdf roundup week story science entire section\n",
      "Topic  5\n",
      "gene human genome dna genetic sequence disease expression mutation specie\n",
      "Topic  6\n",
      "£ press university university press isbn new york.pp york.pp cambridge new press new\n",
      "Topic  7\n",
      "climate change ocean ice water global climate change year carbon sea\n",
      "Topic  8\n",
      "science american association association advancement science american association advancement science american association advancement association advancement advancement science science publisher advancement publisher\n",
      "Topic  9\n",
      "protein bind rna signal receptor complex membrane structure domain pathway\n",
      "\n",
      "\n",
      "-------LDA------\n",
      "\n",
      "\n",
      "Topic  0\n",
      "carbon change water climate ice ocean large year star model\n",
      "Topic  1\n",
      "science new research week scientist researcher -- university read year\n",
      "Topic  2\n",
      "earthquake mantle earth rock solar system planetary seismic fault asteroid planet\n",
      "Topic  3\n",
      "specie virus forest bird ecosystem influenza ecological tree population extinction\n",
      "Topic  4\n",
      "quantum electron material atom use molecule state structure spin magnetic\n",
      "Topic  5\n",
      "cell protein gene signal dna receptor rna mouse human function\n",
      "Topic  6\n",
      "roundup story story science section chromosomal pdf download week story week story science follow link roundup\n",
      "Topic  7\n",
      "stem cell stem york.pp new york.pp solar cell isbn press new ma.pp embryonic stem\n",
      "Topic  8\n",
      "instrumentation weekly interest researcher material potential laboratory material material potential interest instrumentation apparatus instrumentation apparatus laboratory material weekly roundup offer instrumentation\n",
      "Topic  9\n",
      "male female oxford university oxford university press sex r science publisher monthly isbn-19 nucleation\n"
     ]
    }
   ],
   "source": [
    "use_vectorizer(tf_vect2, tf_vect2_transformed)"
   ]
  },
  {
   "cell_type": "markdown",
   "metadata": {},
   "source": [
    "tfidf vectorizer 3"
   ]
  },
  {
   "cell_type": "code",
   "execution_count": 66,
   "metadata": {
    "collapsed": true
   },
   "outputs": [],
   "source": [
    "tf_vect3, tf_vect3_transformed = tfidf_vectorizer(spacy_tokenizer_2, 110000, all_descriptions)"
   ]
  },
  {
   "cell_type": "code",
   "execution_count": 67,
   "metadata": {},
   "outputs": [
    {
     "name": "stdout",
     "output_type": "stream",
     "text": [
      "\n",
      "\n",
      "-------LSA------\n",
      "\n",
      "\n",
      "Topic  0\n",
      "apparatus laboratory weekly roundup newly offer instrumentation apparatus roundup information information newly potential interest offer instrumentation laboratory material interest researcher\n",
      "Topic  1\n",
      "cell science new protein use gene human research change study\n",
      "Topic  2\n",
      "link roundup pdf entire science download download pdf entire section roundup week follow link week story pdf story science\n",
      "Topic  3\n",
      "science roundup recent monthly roundup news project publisher american recent news project science science publisher association advancement advancement science\n",
      "Topic  4\n",
      "cell protein news project monthly roundup roundup recent publisher american recent news project science science publisher monthly\n",
      "Topic  5\n",
      "cell research science national stem stem cell u.s week scientist new\n",
      "Topic  6\n",
      "cell quantum stem stem cell state electron energy spin atom t\n",
      "Topic  7\n",
      "cell climate ice change ocean climate change global sea water stem cell\n",
      "Topic  8\n",
      "£ press university university press isbn princeton york.pp new york.pp cell cambridge\n",
      "Topic  9\n",
      "protein science climate national bind membrane rna ice structure water\n",
      "\n",
      "\n",
      "-------NMF------\n",
      "\n",
      "\n",
      "Topic  0\n",
      "apparatus laboratory potential interest offer instrumentation instrumentation apparatus roundup information weekly roundup newly offer information newly laboratory material interest researcher\n",
      "Topic  1\n",
      "gene human genome genetic dna disease sequence specie study brain\n",
      "Topic  2\n",
      "follow link science download pdf entire download pdf link roundup entire section roundup week week story pdf story science\n",
      "Topic  3\n",
      "science roundup recent monthly roundup news project publisher american recent news project science science publisher association advancement monthly\n",
      "Topic  4\n",
      "cell stem stem cell t t cell immune tissue mouse cancer tumor\n",
      "Topic  5\n",
      "quantum electron use state material energy atom system field spin\n",
      "Topic  6\n",
      "science research national u.s week scientist new health institute world\n",
      "Topic  7\n",
      "climate change ice ocean water climate change global carbon year sea\n",
      "Topic  8\n",
      "£ press university university press isbn princeton new york.pp york.pp cambridge press new\n",
      "Topic  9\n",
      "protein rna bind membrane signal structure complex receptor pathway domain\n",
      "\n",
      "\n",
      "-------LDA------\n",
      "\n",
      "\n",
      "Topic  0\n",
      "publisher american association advancement science association advancement advancement science publisher monthly science recent news project science\n",
      "Topic  1\n",
      "instrumentation interest researcher weekly material potential laboratory material roundup information weekly roundup instrumentation apparatus newly offer apparatus laboratory\n",
      "Topic  2\n",
      "structure quantum protein electron material single crystal domain membrane light\n",
      "Topic  3\n",
      "isbn-19 oxford university neandertal oxford.pp press oxford.pp 27.95 press new thaliana 49.95 arabidopsis thaliana\n",
      "Topic  4\n",
      "star surface reaction energy particle solar atom temperature metal carbon\n",
      "Topic  5\n",
      "nih daily news 29.95 health nih nj.pp press princeton isbn-691 princeton nj.pp roundup daily 29.95 £\n",
      "Topic  6\n",
      "york.pp new york.pp isbn roundup story science pdf week story download follow link pdf entire\n",
      "Topic  7\n",
      "cell protein gene receptor signal mouse pathway expression rna factor\n",
      "Topic  8\n",
      "proteasome codon trna h3 symposium histone h3 fork mtorc1 mrnas methylat\n",
      "Topic  9\n",
      "new science research human year week study change researcher scientist\n"
     ]
    }
   ],
   "source": [
    "use_vectorizer(tf_vect3, tf_vect3_transformed)"
   ]
  },
  {
   "cell_type": "markdown",
   "metadata": {
    "collapsed": true
   },
   "source": [
    "#### Try tfidf with tokenizer 3 to make sure we get the best choice"
   ]
  },
  {
   "cell_type": "code",
   "execution_count": 69,
   "metadata": {},
   "outputs": [],
   "source": [
    "tf_vect1, tf_vect1_transformed = tfidf_vectorizer(spacy_tokenizer_3, 5000, all_descriptions)"
   ]
  },
  {
   "cell_type": "code",
   "execution_count": 70,
   "metadata": {},
   "outputs": [
    {
     "name": "stdout",
     "output_type": "stream",
     "text": [
      "\n",
      "\n",
      "-------LSA------\n",
      "\n",
      "\n",
      "Topic  0\n",
      "cell new science protein gene year use human research researcher\n",
      "Topic  1\n",
      "weekly roundup newly offer instrumentation apparatus information newly offer instrumentation roundup information apparatus laboratory potential interest interest researcher laboratory material\n",
      "Topic  2\n",
      "cell protein gene signal receptor rna t bind expression function\n",
      "Topic  3\n",
      "isbn 95 pp cell press pp 95 95 isbn university university press york\n",
      "Topic  4\n",
      "cell science week research stem roundup stem cell story national week story\n",
      "Topic  5\n",
      "week story download pdf follow link link roundup science download roundup week pdf entire entire section pdf story science\n",
      "Topic  6\n",
      "gene genome human dna sequence specie genetic rna protein disease\n",
      "Topic  7\n",
      "science protein rna gene structure dna quantum bind advancement science association advancement\n",
      "Topic  8\n",
      "science american association association advancement advancement science science publisher monthly roundup news project roundup recent publisher american recent news\n",
      "Topic  9\n",
      "protein climate change bind national membrane research receptor c signal\n",
      "\n",
      "\n",
      "-------NMF------\n",
      "\n",
      "\n",
      "Topic  0\n",
      "cell stem t stem cell t cell immune mouse tissue cancer tumor\n",
      "Topic  1\n",
      "instrumentation apparatus information newly weekly roundup roundup information newly offer offer instrumentation apparatus laboratory potential interest interest researcher laboratory material\n",
      "Topic  2\n",
      "science research u.s scientist national week new year health institute\n",
      "Topic  3\n",
      "isbn 95 pp press pp 95 95 isbn university university press york new york\n",
      "Topic  4\n",
      "quantum use electron material energy state atom system field magnetic\n",
      "Topic  5\n",
      "week story science download pdf entire link roundup follow link roundup week download pdf entire section pdf story science\n",
      "Topic  6\n",
      "gene genome human dna genetic sequence disease expression specie mutation\n",
      "Topic  7\n",
      "climate change year ocean ice water global climate change carbon sea\n",
      "Topic  8\n",
      "science american association association advancement advancement science science publisher news project monthly roundup roundup recent advancement publisher american\n",
      "Topic  9\n",
      "protein bind rna signal complex membrane receptor structure domain pathway\n",
      "\n",
      "\n",
      "-------LDA------\n",
      "\n",
      "\n",
      "Topic  0\n",
      "isbn pp 95 95 isbn pp 95 university press university york pp pp isbn cambridge\n",
      "Topic  1\n",
      "new year researcher science human read -- study scientist world\n",
      "Topic  2\n",
      "research science u.s national week institute university government scientist health\n",
      "Topic  3\n",
      "cell disease mouse immune virus t cancer tumor stem infection\n",
      "Topic  4\n",
      "quantum electron material use structure surface atom energy molecule high\n",
      "Topic  5\n",
      "strand ribosome prion cleavage ubiquitin helix virulence cholesterol collider sciencenow\n",
      "Topic  6\n",
      "earthquake roundup story science fault news section story science pdf association advancement\n",
      "Topic  7\n",
      "protein cell gene signal rna dna bind pathway expression function\n",
      "Topic  8\n",
      "newly instrumentation weekly interest researcher material potential laboratory material newly offer offer instrumentation apparatus laboratory instrumentation apparatus\n",
      "Topic  9\n",
      "climate ice ocean carbon water change earth sea year atmospheric\n"
     ]
    }
   ],
   "source": [
    "use_vectorizer(tf_vect1, tf_vect1_transformed)"
   ]
  },
  {
   "cell_type": "markdown",
   "metadata": {},
   "source": [
    "tfidf vectorizer 2"
   ]
  },
  {
   "cell_type": "code",
   "execution_count": 71,
   "metadata": {},
   "outputs": [
    {
     "ename": "KeyboardInterrupt",
     "evalue": "",
     "output_type": "error",
     "traceback": [
      "\u001b[0;31m---------------------------------------------------------------------------\u001b[0m",
      "\u001b[0;31mKeyboardInterrupt\u001b[0m                         Traceback (most recent call last)",
      "\u001b[0;32m<ipython-input-71-bbbde178c9de>\u001b[0m in \u001b[0;36m<module>\u001b[0;34m()\u001b[0m\n\u001b[0;32m----> 1\u001b[0;31m \u001b[0mtf_vect2\u001b[0m\u001b[0;34m,\u001b[0m \u001b[0mtf_vect2_transformed\u001b[0m \u001b[0;34m=\u001b[0m \u001b[0mtfidf_vectorizer\u001b[0m\u001b[0;34m(\u001b[0m\u001b[0mspacy_tokenizer_2\u001b[0m\u001b[0;34m,\u001b[0m \u001b[0;36m5000\u001b[0m\u001b[0;34m,\u001b[0m \u001b[0mall_descriptions\u001b[0m\u001b[0;34m,\u001b[0m \u001b[0mngram_stop\u001b[0m\u001b[0;34m=\u001b[0m\u001b[0;36m4\u001b[0m\u001b[0;34m)\u001b[0m\u001b[0;34m\u001b[0m\u001b[0m\n\u001b[0m",
      "\u001b[0;32m<ipython-input-34-18c4c38c7f81>\u001b[0m in \u001b[0;36mtfidf_vectorizer\u001b[0;34m(tokenizer, max_feat, X, ngram_start, ngram_stop, max_df)\u001b[0m\n\u001b[1;32m      5\u001b[0m                                  \u001b[0mmax_df\u001b[0m \u001b[0;34m=\u001b[0m \u001b[0mmax_df\u001b[0m\u001b[0;34m,\u001b[0m\u001b[0;34m\u001b[0m\u001b[0m\n\u001b[1;32m      6\u001b[0m                                  max_features=max_feat)\n\u001b[0;32m----> 7\u001b[0;31m     \u001b[0;32mreturn\u001b[0m \u001b[0mvectorizer\u001b[0m\u001b[0;34m,\u001b[0m \u001b[0mvectorizer\u001b[0m\u001b[0;34m.\u001b[0m\u001b[0mfit_transform\u001b[0m\u001b[0;34m(\u001b[0m\u001b[0mX\u001b[0m\u001b[0;34m)\u001b[0m\u001b[0;34m\u001b[0m\u001b[0m\n\u001b[0m",
      "\u001b[0;32m~/anaconda3/lib/python3.6/site-packages/sklearn/feature_extraction/text.py\u001b[0m in \u001b[0;36mfit_transform\u001b[0;34m(self, raw_documents, y)\u001b[0m\n\u001b[1;32m   1379\u001b[0m             \u001b[0mTf\u001b[0m\u001b[0;34m-\u001b[0m\u001b[0midf\u001b[0m\u001b[0;34m-\u001b[0m\u001b[0mweighted\u001b[0m \u001b[0mdocument\u001b[0m\u001b[0;34m-\u001b[0m\u001b[0mterm\u001b[0m \u001b[0mmatrix\u001b[0m\u001b[0;34m.\u001b[0m\u001b[0;34m\u001b[0m\u001b[0m\n\u001b[1;32m   1380\u001b[0m         \"\"\"\n\u001b[0;32m-> 1381\u001b[0;31m         \u001b[0mX\u001b[0m \u001b[0;34m=\u001b[0m \u001b[0msuper\u001b[0m\u001b[0;34m(\u001b[0m\u001b[0mTfidfVectorizer\u001b[0m\u001b[0;34m,\u001b[0m \u001b[0mself\u001b[0m\u001b[0;34m)\u001b[0m\u001b[0;34m.\u001b[0m\u001b[0mfit_transform\u001b[0m\u001b[0;34m(\u001b[0m\u001b[0mraw_documents\u001b[0m\u001b[0;34m)\u001b[0m\u001b[0;34m\u001b[0m\u001b[0m\n\u001b[0m\u001b[1;32m   1382\u001b[0m         \u001b[0mself\u001b[0m\u001b[0;34m.\u001b[0m\u001b[0m_tfidf\u001b[0m\u001b[0;34m.\u001b[0m\u001b[0mfit\u001b[0m\u001b[0;34m(\u001b[0m\u001b[0mX\u001b[0m\u001b[0;34m)\u001b[0m\u001b[0;34m\u001b[0m\u001b[0m\n\u001b[1;32m   1383\u001b[0m         \u001b[0;31m# X is already a transformed view of raw_documents so\u001b[0m\u001b[0;34m\u001b[0m\u001b[0;34m\u001b[0m\u001b[0m\n",
      "\u001b[0;32m~/anaconda3/lib/python3.6/site-packages/sklearn/feature_extraction/text.py\u001b[0m in \u001b[0;36mfit_transform\u001b[0;34m(self, raw_documents, y)\u001b[0m\n\u001b[1;32m    867\u001b[0m \u001b[0;34m\u001b[0m\u001b[0m\n\u001b[1;32m    868\u001b[0m         vocabulary, X = self._count_vocab(raw_documents,\n\u001b[0;32m--> 869\u001b[0;31m                                           self.fixed_vocabulary_)\n\u001b[0m\u001b[1;32m    870\u001b[0m \u001b[0;34m\u001b[0m\u001b[0m\n\u001b[1;32m    871\u001b[0m         \u001b[0;32mif\u001b[0m \u001b[0mself\u001b[0m\u001b[0;34m.\u001b[0m\u001b[0mbinary\u001b[0m\u001b[0;34m:\u001b[0m\u001b[0;34m\u001b[0m\u001b[0m\n",
      "\u001b[0;32m~/anaconda3/lib/python3.6/site-packages/sklearn/feature_extraction/text.py\u001b[0m in \u001b[0;36m_count_vocab\u001b[0;34m(self, raw_documents, fixed_vocab)\u001b[0m\n\u001b[1;32m    790\u001b[0m         \u001b[0;32mfor\u001b[0m \u001b[0mdoc\u001b[0m \u001b[0;32min\u001b[0m \u001b[0mraw_documents\u001b[0m\u001b[0;34m:\u001b[0m\u001b[0;34m\u001b[0m\u001b[0m\n\u001b[1;32m    791\u001b[0m             \u001b[0mfeature_counter\u001b[0m \u001b[0;34m=\u001b[0m \u001b[0;34m{\u001b[0m\u001b[0;34m}\u001b[0m\u001b[0;34m\u001b[0m\u001b[0m\n\u001b[0;32m--> 792\u001b[0;31m             \u001b[0;32mfor\u001b[0m \u001b[0mfeature\u001b[0m \u001b[0;32min\u001b[0m \u001b[0manalyze\u001b[0m\u001b[0;34m(\u001b[0m\u001b[0mdoc\u001b[0m\u001b[0;34m)\u001b[0m\u001b[0;34m:\u001b[0m\u001b[0;34m\u001b[0m\u001b[0m\n\u001b[0m\u001b[1;32m    793\u001b[0m                 \u001b[0;32mtry\u001b[0m\u001b[0;34m:\u001b[0m\u001b[0;34m\u001b[0m\u001b[0m\n\u001b[1;32m    794\u001b[0m                     \u001b[0mfeature_idx\u001b[0m \u001b[0;34m=\u001b[0m \u001b[0mvocabulary\u001b[0m\u001b[0;34m[\u001b[0m\u001b[0mfeature\u001b[0m\u001b[0;34m]\u001b[0m\u001b[0;34m\u001b[0m\u001b[0m\n",
      "\u001b[0;32m~/anaconda3/lib/python3.6/site-packages/sklearn/feature_extraction/text.py\u001b[0m in \u001b[0;36m<lambda>\u001b[0;34m(doc)\u001b[0m\n\u001b[1;32m    264\u001b[0m \u001b[0;34m\u001b[0m\u001b[0m\n\u001b[1;32m    265\u001b[0m             return lambda doc: self._word_ngrams(\n\u001b[0;32m--> 266\u001b[0;31m                 tokenize(preprocess(self.decode(doc))), stop_words)\n\u001b[0m\u001b[1;32m    267\u001b[0m \u001b[0;34m\u001b[0m\u001b[0m\n\u001b[1;32m    268\u001b[0m         \u001b[0;32melse\u001b[0m\u001b[0;34m:\u001b[0m\u001b[0;34m\u001b[0m\u001b[0m\n",
      "\u001b[0;32m<ipython-input-31-5d66b16f4baa>\u001b[0m in \u001b[0;36mspacy_tokenizer_2\u001b[0;34m(doc)\u001b[0m\n\u001b[1;32m      2\u001b[0m     \u001b[0mdoc\u001b[0m \u001b[0;34m=\u001b[0m \u001b[0mdoc\u001b[0m\u001b[0;34m.\u001b[0m\u001b[0mreplace\u001b[0m\u001b[0;34m(\u001b[0m\u001b[0;34m'—'\u001b[0m\u001b[0;34m,\u001b[0m \u001b[0;34m''\u001b[0m\u001b[0;34m)\u001b[0m\u001b[0;34m.\u001b[0m\u001b[0mreplace\u001b[0m\u001b[0;34m(\u001b[0m\u001b[0;34m','\u001b[0m\u001b[0;34m,\u001b[0m \u001b[0;34m''\u001b[0m\u001b[0;34m)\u001b[0m\u001b[0;34m.\u001b[0m\u001b[0mreplace\u001b[0m\u001b[0;34m(\u001b[0m\u001b[0;34m\"'s\"\u001b[0m\u001b[0;34m,\u001b[0m \u001b[0;34m''\u001b[0m\u001b[0;34m)\u001b[0m\u001b[0;34m\u001b[0m\u001b[0m\n\u001b[1;32m      3\u001b[0m     \u001b[0mdoc\u001b[0m \u001b[0;34m=\u001b[0m \u001b[0mre\u001b[0m\u001b[0;34m.\u001b[0m\u001b[0msub\u001b[0m\u001b[0;34m(\u001b[0m\u001b[0;34m'\\s\\d+(\\s)?'\u001b[0m\u001b[0;34m,\u001b[0m \u001b[0;34m''\u001b[0m\u001b[0;34m,\u001b[0m \u001b[0mdoc\u001b[0m\u001b[0;34m)\u001b[0m\u001b[0;34m\u001b[0m\u001b[0m\n\u001b[0;32m----> 4\u001b[0;31m     \u001b[0mtokens\u001b[0m \u001b[0;34m=\u001b[0m \u001b[0mnlp\u001b[0m\u001b[0;34m(\u001b[0m\u001b[0mdoc\u001b[0m\u001b[0;34m)\u001b[0m\u001b[0;34m\u001b[0m\u001b[0m\n\u001b[0m\u001b[1;32m      5\u001b[0m     \u001b[0mtokens\u001b[0m \u001b[0;34m=\u001b[0m \u001b[0;34m[\u001b[0m\u001b[0mtok\u001b[0m\u001b[0;34m.\u001b[0m\u001b[0mlemma_\u001b[0m\u001b[0;34m.\u001b[0m\u001b[0mlower\u001b[0m\u001b[0;34m(\u001b[0m\u001b[0;34m)\u001b[0m\u001b[0;34m.\u001b[0m\u001b[0mstrip\u001b[0m\u001b[0;34m(\u001b[0m\u001b[0;34m)\u001b[0m \u001b[0;32mif\u001b[0m \u001b[0mtok\u001b[0m\u001b[0;34m.\u001b[0m\u001b[0mlemma_\u001b[0m \u001b[0;34m!=\u001b[0m \u001b[0;34m\"-PRON-\"\u001b[0m \u001b[0;32melse\u001b[0m \u001b[0mtok\u001b[0m\u001b[0;34m.\u001b[0m\u001b[0mlower_\u001b[0m \u001b[0;32mfor\u001b[0m \u001b[0mtok\u001b[0m \u001b[0;32min\u001b[0m \u001b[0mtokens\u001b[0m\u001b[0;34m]\u001b[0m\u001b[0;34m\u001b[0m\u001b[0m\n\u001b[1;32m      6\u001b[0m     \u001b[0mtokens\u001b[0m \u001b[0;34m=\u001b[0m \u001b[0;34m[\u001b[0m\u001b[0mtok\u001b[0m \u001b[0;32mfor\u001b[0m \u001b[0mtok\u001b[0m \u001b[0;32min\u001b[0m \u001b[0mtokens\u001b[0m \u001b[0;32mif\u001b[0m \u001b[0;34m(\u001b[0m\u001b[0mtok\u001b[0m \u001b[0;32mnot\u001b[0m \u001b[0;32min\u001b[0m \u001b[0mstopwords\u001b[0m \u001b[0;32mand\u001b[0m \u001b[0mtok\u001b[0m \u001b[0;32mnot\u001b[0m \u001b[0;32min\u001b[0m \u001b[0mpunctuations\u001b[0m\u001b[0;34m)\u001b[0m\u001b[0;34m]\u001b[0m\u001b[0;34m\u001b[0m\u001b[0m\n",
      "\u001b[0;32m~/anaconda3/lib/python3.6/site-packages/spacy/language.py\u001b[0m in \u001b[0;36m__call__\u001b[0;34m(self, text, tag, parse, entity)\u001b[0m\n\u001b[1;32m    327\u001b[0m         \u001b[0;32mfor\u001b[0m \u001b[0mproc\u001b[0m \u001b[0;32min\u001b[0m \u001b[0mself\u001b[0m\u001b[0;34m.\u001b[0m\u001b[0mpipeline\u001b[0m\u001b[0;34m:\u001b[0m\u001b[0;34m\u001b[0m\u001b[0m\n\u001b[1;32m    328\u001b[0m             \u001b[0;32mif\u001b[0m \u001b[0mproc\u001b[0m \u001b[0;32mand\u001b[0m \u001b[0;32mnot\u001b[0m \u001b[0mskip\u001b[0m\u001b[0;34m.\u001b[0m\u001b[0mget\u001b[0m\u001b[0;34m(\u001b[0m\u001b[0mproc\u001b[0m\u001b[0;34m)\u001b[0m\u001b[0;34m:\u001b[0m\u001b[0;34m\u001b[0m\u001b[0m\n\u001b[0;32m--> 329\u001b[0;31m                 \u001b[0mproc\u001b[0m\u001b[0;34m(\u001b[0m\u001b[0mdoc\u001b[0m\u001b[0;34m)\u001b[0m\u001b[0;34m\u001b[0m\u001b[0m\n\u001b[0m\u001b[1;32m    330\u001b[0m         \u001b[0;32mreturn\u001b[0m \u001b[0mdoc\u001b[0m\u001b[0;34m\u001b[0m\u001b[0m\n\u001b[1;32m    331\u001b[0m \u001b[0;34m\u001b[0m\u001b[0m\n",
      "\u001b[0;32m~/anaconda3/lib/python3.6/site-packages/spacy/syntax/parser.pyx\u001b[0m in \u001b[0;36mspacy.syntax.parser.Parser.__call__ (spacy/syntax/parser.cpp:7941)\u001b[0;34m()\u001b[0m\n",
      "\u001b[0;31mKeyboardInterrupt\u001b[0m: "
     ]
    }
   ],
   "source": [
    "tf_vect2, tf_vect2_transformed = tfidf_vectorizer(spacy_tokenizer_2, 5000, all_descriptions, ngram_stop=4)"
   ]
  },
  {
   "cell_type": "code",
   "execution_count": null,
   "metadata": {},
   "outputs": [],
   "source": [
    "use_vectorizer(tf_vect2, tf_vect2_transformed)"
   ]
  },
  {
   "cell_type": "markdown",
   "metadata": {},
   "source": [
    "tfidf vectorizer 3"
   ]
  },
  {
   "cell_type": "code",
   "execution_count": 66,
   "metadata": {
    "collapsed": true
   },
   "outputs": [],
   "source": [
    "tf_vect3, tf_vect3_transformed = tfidf_vectorizer(spacy_tokenizer_2, 110000, all_descriptions)"
   ]
  },
  {
   "cell_type": "code",
   "execution_count": 67,
   "metadata": {},
   "outputs": [
    {
     "name": "stdout",
     "output_type": "stream",
     "text": [
      "\n",
      "\n",
      "-------LSA------\n",
      "\n",
      "\n",
      "Topic  0\n",
      "apparatus laboratory weekly roundup newly offer instrumentation apparatus roundup information information newly potential interest offer instrumentation laboratory material interest researcher\n",
      "Topic  1\n",
      "cell science new protein use gene human research change study\n",
      "Topic  2\n",
      "link roundup pdf entire science download download pdf entire section roundup week follow link week story pdf story science\n",
      "Topic  3\n",
      "science roundup recent monthly roundup news project publisher american recent news project science science publisher association advancement advancement science\n",
      "Topic  4\n",
      "cell protein news project monthly roundup roundup recent publisher american recent news project science science publisher monthly\n",
      "Topic  5\n",
      "cell research science national stem stem cell u.s week scientist new\n",
      "Topic  6\n",
      "cell quantum stem stem cell state electron energy spin atom t\n",
      "Topic  7\n",
      "cell climate ice change ocean climate change global sea water stem cell\n",
      "Topic  8\n",
      "£ press university university press isbn princeton york.pp new york.pp cell cambridge\n",
      "Topic  9\n",
      "protein science climate national bind membrane rna ice structure water\n",
      "\n",
      "\n",
      "-------NMF------\n",
      "\n",
      "\n",
      "Topic  0\n",
      "apparatus laboratory potential interest offer instrumentation instrumentation apparatus roundup information weekly roundup newly offer information newly laboratory material interest researcher\n",
      "Topic  1\n",
      "gene human genome genetic dna disease sequence specie study brain\n",
      "Topic  2\n",
      "follow link science download pdf entire download pdf link roundup entire section roundup week week story pdf story science\n",
      "Topic  3\n",
      "science roundup recent monthly roundup news project publisher american recent news project science science publisher association advancement monthly\n",
      "Topic  4\n",
      "cell stem stem cell t t cell immune tissue mouse cancer tumor\n",
      "Topic  5\n",
      "quantum electron use state material energy atom system field spin\n",
      "Topic  6\n",
      "science research national u.s week scientist new health institute world\n",
      "Topic  7\n",
      "climate change ice ocean water climate change global carbon year sea\n",
      "Topic  8\n",
      "£ press university university press isbn princeton new york.pp york.pp cambridge press new\n",
      "Topic  9\n",
      "protein rna bind membrane signal structure complex receptor pathway domain\n",
      "\n",
      "\n",
      "-------LDA------\n",
      "\n",
      "\n",
      "Topic  0\n",
      "publisher american association advancement science association advancement advancement science publisher monthly science recent news project science\n",
      "Topic  1\n",
      "instrumentation interest researcher weekly material potential laboratory material roundup information weekly roundup instrumentation apparatus newly offer apparatus laboratory\n",
      "Topic  2\n",
      "structure quantum protein electron material single crystal domain membrane light\n",
      "Topic  3\n",
      "isbn-19 oxford university neandertal oxford.pp press oxford.pp 27.95 press new thaliana 49.95 arabidopsis thaliana\n",
      "Topic  4\n",
      "star surface reaction energy particle solar atom temperature metal carbon\n",
      "Topic  5\n",
      "nih daily news 29.95 health nih nj.pp press princeton isbn-691 princeton nj.pp roundup daily 29.95 £\n",
      "Topic  6\n",
      "york.pp new york.pp isbn roundup story science pdf week story download follow link pdf entire\n",
      "Topic  7\n",
      "cell protein gene receptor signal mouse pathway expression rna factor\n",
      "Topic  8\n",
      "proteasome codon trna h3 symposium histone h3 fork mtorc1 mrnas methylat\n",
      "Topic  9\n",
      "new science research human year week study change researcher scientist\n"
     ]
    }
   ],
   "source": [
    "use_vectorizer(tf_vect3, tf_vect3_transformed)"
   ]
  },
  {
   "cell_type": "code",
   "execution_count": null,
   "metadata": {
    "collapsed": true
   },
   "outputs": [],
   "source": []
  },
  {
   "cell_type": "code",
   "execution_count": null,
   "metadata": {
    "collapsed": true
   },
   "outputs": [],
   "source": []
  },
  {
   "cell_type": "code",
   "execution_count": 49,
   "metadata": {},
   "outputs": [
    {
     "name": "stdout",
     "output_type": "stream",
     "text": [
      "\n",
      "\n",
      "-------LSA------\n",
      "\n",
      "\n",
      "Topic  0\n",
      "cell protein use gene human new system signal study change\n",
      "Topic  1\n",
      "cell t t cell stem stem cell signal immune mouse receptor tissue\n",
      "Topic  2\n",
      "protein gene bind rna dna complex structure function signal expression\n",
      "Topic  3\n",
      "science gene research human new protein genome disease scientist dna\n",
      "Topic  4\n",
      "protein science research structure bind new state membrane complex national\n",
      "Topic  5\n",
      "change climate protein ice ocean global climate change water year increase\n",
      "Topic  6\n",
      "human disease system virus study immune new infection brain drug\n",
      "Topic  7\n",
      "quantum state signal system change gene response receptor control climate\n",
      "Topic  8\n",
      "change use dna climate human state quantum specie climate change cell\n",
      "Topic  9\n",
      "t t cell virus response rna infection immune dna structure science\n",
      "Topic  10\n",
      "state quantum system dna human protein t rna t cell virus\n",
      "\n",
      "\n",
      "-------NMF------\n",
      "\n",
      "\n",
      "Topic  0\n",
      "cell stem stem cell signal tissue cancer type tumor mouse division\n",
      "Topic  1\n",
      "use structure high molecule surface material reaction energy electron process\n",
      "Topic  2\n",
      "gene dna expression genome rna sequence transcription genetic gene expression identify\n",
      "Topic  3\n",
      "science research new scientist u.s national week world scientific university\n",
      "Topic  4\n",
      "protein bind signal complex receptor membrane structure rna domain function\n",
      "Topic  5\n",
      "change climate ice ocean global climate change increase carbon water specie\n",
      "Topic  6\n",
      "human disease study brain virus new genetic specie genome population\n",
      "Topic  7\n",
      "quantum state spin electron system field magnetic atom control information\n",
      "Topic  8\n",
      "system star solar year earth planet form large ray mass\n",
      "Topic  9\n",
      "t t cell cell response immune infection cd8 cd8 t mouse antigen\n",
      "Topic  10\n",
      "material researcher information potential offer laboratory interest newly roundup apparatus\n",
      "\n",
      "\n",
      "-------LDA------\n",
      "\n",
      "\n",
      "Topic  0\n",
      "rna brain gene activity neuron expression dna cancer transcription factor\n",
      "Topic  1\n",
      "change climate ocean year global ice water large carbon sea\n",
      "Topic  2\n",
      "science new researcher scientist week research university -- year work\n",
      "Topic  3\n",
      "study human use specie provide new 1 model issue system\n",
      "Topic  4\n",
      "research health u.s national world state drug government policy country\n",
      "Topic  5\n",
      "plant isbn 0 isbn 0 press roundup newly potential interest offer\n",
      "Topic  6\n",
      "star solar space planet system galaxy earth mass mar observation\n",
      "Topic  7\n",
      "reaction molecule use chemical material form metal surface high molecular\n",
      "Topic  8\n",
      "cell gene genome disease human sequence dna mouse genetic stem\n",
      "Topic  9\n",
      "use state electron quantum energy field light magnetic structure high\n",
      "Topic  10\n",
      "protein cell bind signal receptor complex membrane structure t response\n"
     ]
    }
   ],
   "source": [
    "use_vectorizer(cv_vect3, cv_vect3_transformed, n_comp=11)"
   ]
  },
  {
   "cell_type": "markdown",
   "metadata": {},
   "source": [
    "tfidf vectorizer 1"
   ]
  },
  {
   "cell_type": "code",
   "execution_count": 421,
   "metadata": {
    "collapsed": true
   },
   "outputs": [],
   "source": [
    "tf_vect1, tf_vect1_transformed = tfidf_vectorizer(spacy_tokenizer_1, 5000, all_descriptions)"
   ]
  },
  {
   "cell_type": "code",
   "execution_count": 422,
   "metadata": {},
   "outputs": [
    {
     "name": "stdout",
     "output_type": "stream",
     "text": [
      "\n",
      "\n",
      "-------LSA------\n",
      "\n",
      "\n",
      "Topic  0\n",
      "apparatus laboratory interest researcher weekly potential interest roundup information offer instrumentation instrumentation apparatus information newly weekly roundup newly offer\n",
      "Topic  1\n",
      "cell science new use human research study change gene protein\n",
      "Topic  2\n",
      "cell protein t gene t cell immune tumor dna expression cancer\n",
      "Topic  3\n",
      "cell science cancer t t cell research immune disease tumor virus\n",
      "Topic  4\n",
      "cell science t t cell quantum material atom research solar electron\n",
      "Topic  5\n",
      "protein dna gene rna structure science complex genome enzyme research\n",
      "Topic  6\n",
      "virus zika vaccine antibody zika virus infect infection viral ebola outbreak\n",
      "Topic  7\n",
      "carbon reaction bond c catalyst plant climate enzyme science methane\n",
      "Topic  8\n",
      "protein change climate structure science policy climate change electron state bind\n",
      "Topic  9\n",
      "protein ice planet earth surface structure year star solar gravitational\n",
      "\n",
      "\n",
      "-------NMF------\n",
      "\n",
      "\n",
      "Topic  0\n",
      "offer instrumentation interest researcher weekly weekly roundup roundup information instrumentation apparatus apparatus laboratory laboratory material information newly newly offer\n",
      "Topic  1\n",
      "gene genome dna human genetic expression disease mutation study rna\n",
      "Topic  2\n",
      "cell t t cell immune tumor cancer tissue immune cell stem mouse\n",
      "Topic  3\n",
      "quantum material electron optical atom system magnetic state light use\n",
      "Topic  4\n",
      "science research new u.s scientist world national university institute researcher\n",
      "Topic  5\n",
      "climate change climate change global ice impact ecosystem specie water temperature\n",
      "Topic  6\n",
      "virus zika vaccine antibody zika virus infect infection health ebola viral\n",
      "Topic  7\n",
      "reaction carbon bond catalyst c metal molecule h hydrogen methane\n",
      "Topic  8\n",
      "plant crop soil growth specie yield light sugar nitrogen pathway\n",
      "Topic  9\n",
      "protein structure complex rna bind membrane enzyme function site dna\n",
      "\n",
      "\n",
      "-------LDA------\n",
      "\n",
      "\n",
      "Topic  0\n",
      "quantum material use carbon atom electron reaction light metal optical\n",
      "Topic  1\n",
      "science new research scientist world year human researcher climate change\n",
      "Topic  2\n",
      "iress suppose darpa flow fluid electron graphene material element find\n",
      "Topic  3\n",
      "roundup material potential interest researcher potential interest weekly roundup offer instrumentation weekly information newly laboratory material apparatus laboratory\n",
      "Topic  4\n",
      "megathrust slow slip slow earthquake slip event zone deformation subduction zone earthquake slip subduction\n",
      "Topic  5\n",
      "cell protein gene dna plant disease genetic complex mouse cancer\n",
      "Topic  6\n",
      "ice cell leucine nucleoid earthquake plateau modification niche portal mtorc1\n",
      "Topic  7\n",
      "neandertal pluto honey new horizon y honey hunter y chromosome bee nest possible cryovolcanoe\n",
      "Topic  8\n",
      "mtdna camel admission purinosome selective master energy source lewis cell ice\n",
      "Topic  9\n",
      "camel cap translation initiation human iress 5′ motif stress mer\n"
     ]
    }
   ],
   "source": [
    "use_count_vectorizer(tf_vect1, tf_vect1_transformed)"
   ]
  },
  {
   "cell_type": "markdown",
   "metadata": {},
   "source": [
    "tfidf vectorizer 2"
   ]
  },
  {
   "cell_type": "code",
   "execution_count": 423,
   "metadata": {
    "collapsed": true
   },
   "outputs": [],
   "source": [
    "tf_vect2, tf_vect2_transformed = tfidf_vectorizer(spacy_tokenizer_1, 5000, all_descriptions, ngram_stop=4)"
   ]
  },
  {
   "cell_type": "code",
   "execution_count": 424,
   "metadata": {},
   "outputs": [
    {
     "name": "stdout",
     "output_type": "stream",
     "text": [
      "\n",
      "\n",
      "-------LSA------\n",
      "\n",
      "\n",
      "Topic  0\n",
      "potential interest newly offer instrumentation apparatus instrumentation apparatus weekly roundup instrumentation apparatus laboratory instrumentation apparatus laboratory material information newly offer instrumentation weekly roundup information newly offer instrumentation roundup information newly\n",
      "Topic  1\n",
      "cell science new use human research study change gene protein\n",
      "Topic  2\n",
      "cell protein gene t t cell immune tumor dna expression cancer\n",
      "Topic  3\n",
      "cell science cancer t t cell research immune tumor disease virus\n",
      "Topic  4\n",
      "gene specie human change climate plant genome virus genetic rna\n",
      "Topic  5\n",
      "protein dna gene rna structure science genome complex enzyme research\n",
      "Topic  6\n",
      "virus zika vaccine antibody zika virus infect infection viral ebola outbreak\n",
      "Topic  7\n",
      "carbon reaction bond c catalyst plant enzyme climate protein science\n",
      "Topic  8\n",
      "protein change climate structure science climate change policy bind electron rna\n",
      "Topic  9\n",
      "ice protein planet earth year gravitational star surface wave crater\n",
      "\n",
      "\n",
      "-------NMF------\n",
      "\n",
      "\n",
      "Topic  0\n",
      "roundup information newly offer laboratory material offer instrumentation apparatus laboratory offer instrumentation apparatus offer instrumentation interest researcher laboratory material potential interest laboratory material potential roundup information instrumentation apparatus laboratory material\n",
      "Topic  1\n",
      "gene genome human genetic dna expression plant disease evolution mutation\n",
      "Topic  2\n",
      "cell t t cell immune tumor cancer immune cell tissue mouse stem\n",
      "Topic  3\n",
      "quantum electron material optical atom state magnetic device use particle\n",
      "Topic  4\n",
      "science research new u.s world scientist national university institute researcher\n",
      "Topic  5\n",
      "climate change climate change global specie ecosystem temperature impact increase water\n",
      "Topic  6\n",
      "virus zika vaccine antibody zika virus infect infection health ebola viral\n",
      "Topic  7\n",
      "reaction carbon bond catalyst c metal molecule methane hydrogen organic\n",
      "Topic  8\n",
      "protein structure complex rna bind dna enzyme membrane function site\n",
      "Topic  9\n",
      "star planet earth gravitational wave galaxy year solar surface gravitational wave\n",
      "\n",
      "\n",
      "-------LDA------\n",
      "\n",
      "\n",
      "Topic  0\n",
      "ki iress macchiarini implant root overstate game karolinska institute database scandal\n",
      "Topic  1\n",
      "catalyst bond reaction c metal oxide platinum chiral h alloy\n",
      "Topic  2\n",
      "darpa α-syn pff α-syn pff pd science teacher human schedule u.s\n",
      "Topic  3\n",
      "gravitational black hole ligo gravitational wave black physicist richmond interferometer wave detector\n",
      "Topic  4\n",
      "science family family journal science family journal megathrust advancement science american association advancement science american association advancement association advancement association advancement science aaas\n",
      "Topic  5\n",
      "oligodendrocyte neuron brain learn learning radio cell reward type star\n",
      "Topic  6\n",
      "roundup instrumentation material potential offer instrumentation apparatus material potential interest researcher newly offer roundup information newly offer instrumentation information newly apparatus laboratory\n",
      "Topic  7\n",
      "perovskite nanocrystal solar cell comb plasmonic recombination nonlinear spo11 y wave function\n",
      "Topic  8\n",
      "mtdna pluto admission new horizon horizon high speed moore present complex underpin analysis new horizon fly pluto system environment include interaction\n",
      "Topic  9\n",
      "cell science use new human change research study state protein\n"
     ]
    }
   ],
   "source": [
    "use_count_vectorizer(tf_vect2, tf_vect2_transformed)"
   ]
  },
  {
   "cell_type": "markdown",
   "metadata": {},
   "source": [
    "tfidf vectorizer 3"
   ]
  },
  {
   "cell_type": "code",
   "execution_count": 425,
   "metadata": {
    "collapsed": true
   },
   "outputs": [],
   "source": [
    "tf_vect3, tf_vect3_transformed = tfidf_vectorizer(spacy_tokenizer_1, 110000, all_descriptions)"
   ]
  },
  {
   "cell_type": "code",
   "execution_count": 426,
   "metadata": {},
   "outputs": [
    {
     "name": "stdout",
     "output_type": "stream",
     "text": [
      "\n",
      "\n",
      "-------LSA------\n",
      "\n",
      "\n",
      "Topic  0\n",
      "offer instrumentation apparatus laboratory newly offer instrumentation apparatus weekly roundup weekly potential interest information newly interest researcher roundup information\n",
      "Topic  1\n",
      "cell new science use human protein gene change system study\n",
      "Topic  2\n",
      "cell t t cell immune protein gene tumor cancer mouse tissue\n",
      "Topic  3\n",
      "surface pluto solar system material new horizon atom horizon electron quantum\n",
      "Topic  4\n",
      "pluto cell new horizon horizon solar system surface moon solar system t\n",
      "Topic  5\n",
      "gene protein virus rna antibody dna human vaccine genome zika\n",
      "Topic  6\n",
      "virus antibody zika vaccine infect zika virus viral ebola ebola virus infection\n",
      "Topic  7\n",
      "climate change ice climate change specie plant global co2 impact increase\n",
      "Topic  8\n",
      "carbon bond c reaction h catalyst – enzyme c – complex\n",
      "Topic  9\n",
      "protein structure leucine mtorc1 electron climate change bind complex t\n",
      "\n",
      "\n",
      "-------NMF------\n",
      "\n",
      "\n",
      "Topic  0\n",
      "offer instrumentation weekly roundup laboratory material instrumentation apparatus potential interest information newly interest researcher roundup information apparatus laboratory weekly\n",
      "Topic  1\n",
      "science research new u.s world scientist national researcher institute university\n",
      "Topic  2\n",
      "cell t t cell immune tumor cancer immune cell stem cell stem tissue\n",
      "Topic  3\n",
      "quantum electron atom optical material magnetic state device use light\n",
      "Topic  4\n",
      "pluto new horizon horizon system solar surface moon solar system analysis present\n",
      "Topic  5\n",
      "gene dna genome rna genetic expression mutation human crispr disease\n",
      "Topic  6\n",
      "virus antibody zika vaccine infect zika virus viral ebola infection ebola virus\n",
      "Topic  7\n",
      "climate change climate change ice specie plant global impact temperature ecosystem\n",
      "Topic  8\n",
      "bond reaction c carbon catalyst h metal – c – h bond\n",
      "Topic  9\n",
      "protein structure complex leucine mtorc1 bind sestrin2 enzyme function membrane\n",
      "\n",
      "\n",
      "-------LDA------\n",
      "\n",
      "\n",
      "Topic  0\n",
      "camel ubiquitin frequency comb comb dystrophy muscular dystrophy dystrophin bam germinal germinal center\n",
      "Topic  1\n",
      "roundup material potential apparatus laboratory roundup information information newly laboratory material weekly offer instrumentation weekly roundup potential interest\n",
      "Topic  2\n",
      "gp akt asd tic tumor cell lymph lncrna autism sperm mtap\n",
      "Topic  3\n",
      "overtax planet urbanization overtax overtax rapid urbanization quark reforestation grassland torero land spar transmetallation\n",
      "Topic  4\n",
      "pnecs histone acetylation caste carbon fragment chiral ligand antiferromagnet spintronic adsorption 111 small nanocluster example dissociate\n",
      "Topic  5\n",
      "hbf plasmon hemoglobinopathy cockroach lead good guliya time prosperous prosperous sulfate medial prefrontal\n",
      "Topic  6\n",
      "salinity nepal kathmandu groundwater storage incandescent multipotent socioethical landslide quasi periodic signal mtorc1\n",
      "Topic  7\n",
      "refuge purinosome consolation csiro clock corpse mitigate migraine decomposition news corpse decomposition week mitigate migraine clock\n",
      "Topic  8\n",
      "cell science use new human change protein study research state\n",
      "Topic  9\n",
      "supernovae lateral root iress protein translocation pollinator diversity sine signal sequence archean control methane methane discharge\n"
     ]
    }
   ],
   "source": [
    "use_count_vectorizer(tf_vect3, tf_vect3_transformed)"
   ]
  },
  {
   "cell_type": "markdown",
   "metadata": {},
   "source": [
    "# test with tokenizer 3"
   ]
  },
  {
   "cell_type": "markdown",
   "metadata": {},
   "source": [
    "count vectorizer 1"
   ]
  },
  {
   "cell_type": "code",
   "execution_count": 437,
   "metadata": {
    "collapsed": true
   },
   "outputs": [],
   "source": [
    "cv_vect1, cv_vect1_transformed = count_vectorizer(spacy_tokenizer_3, 5000, all_descriptions)"
   ]
  },
  {
   "cell_type": "code",
   "execution_count": 438,
   "metadata": {},
   "outputs": [
    {
     "name": "stdout",
     "output_type": "stream",
     "text": [
      "\n",
      "\n",
      "-------LSA------\n",
      "\n",
      "\n",
      "Topic  0\n",
      "cell new use science human study year protein research system\n",
      "Topic  1\n",
      "cell t t cell immune protein cancer mouse tumor tissue stem cell\n",
      "Topic  2\n",
      "science cell research new world scientist u.s year national researcher\n",
      "Topic  3\n",
      "system surface solar pluto cell material new new horizon horizon datum\n",
      "Topic  4\n",
      "gene human protein new system disease virus pluto horizon new horizon\n",
      "Topic  5\n",
      "change climate climate change human virus global specie ice cause impact\n",
      "Topic  6\n",
      "virus researcher material potential information offer human laboratory instrumentation roundup\n",
      "Topic  7\n",
      "virus use zika antibody vaccine infect state atom zika virus quantum\n",
      "Topic  8\n",
      "protein virus antibody structure zika vaccine infect science change bind\n",
      "Topic  9\n",
      "state system quantum issue science research united page immune page issue\n",
      "\n",
      "\n",
      "-------NMF------\n",
      "\n",
      "\n",
      "Topic  0\n",
      "science research u.s new national world scientist institute health scientific\n",
      "Topic  1\n",
      "cell t t cell immune cancer stem mouse stem cell tumor tissue\n",
      "Topic  2\n",
      "use state material atom high quantum issue electron page reaction\n",
      "Topic  3\n",
      "system surface pluto solar new horizon new horizon datum solar system present\n",
      "Topic  4\n",
      "gene human dna disease genome genetic expression rna mutation cancer\n",
      "Topic  5\n",
      "change climate climate change global ice impact specie increase policy temperature\n",
      "Topic  6\n",
      "virus zika vaccine antibody infect zika virus human health infection cause\n",
      "Topic  7\n",
      "material researcher potential information offer laboratory interest newly apparatus material potential\n",
      "Topic  8\n",
      "protein structure complex bind function site enzyme target rna membrane\n",
      "Topic  9\n",
      "new year study researcher human time scientist work people wave\n",
      "\n",
      "\n",
      "-------LDA------\n",
      "\n",
      "\n",
      "Topic  0\n",
      "potential offer material information interest laboratory newly researcher apparatus ecosystem\n",
      "Topic  1\n",
      "cell immune tissue stem stem cell system response immune cell signal mouse\n",
      "Topic  2\n",
      "platinum system surface battery fuel cell pluto activity ammonia horizon new\n",
      "Topic  3\n",
      "climate change energy carbon climate change cell fuel increase zika gas\n",
      "Topic  4\n",
      "time year space electron find wave planet star new like\n",
      "Topic  5\n",
      "use material state quantum reaction surface atom form molecule high\n",
      "Topic  6\n",
      "science research new scientist world year researcher u.s united health\n",
      "Topic  7\n",
      "human study brain use new change specie animal time genome\n",
      "Topic  8\n",
      "cell protein gene disease complex function t structure rna expression\n",
      "Topic  9\n",
      "plant dna virus enzyme cancer vaccine human infection disease antibody\n"
     ]
    }
   ],
   "source": [
    "use_count_vectorizer(cv_vect1, cv_vect1_transformed)"
   ]
  },
  {
   "cell_type": "markdown",
   "metadata": {},
   "source": [
    "try fewer topics"
   ]
  },
  {
   "cell_type": "code",
   "execution_count": 439,
   "metadata": {},
   "outputs": [
    {
     "name": "stdout",
     "output_type": "stream",
     "text": [
      "\n",
      "\n",
      "-------LSA------\n",
      "\n",
      "\n",
      "Topic  0\n",
      "cell new use science human study year protein research system\n",
      "Topic  1\n",
      "cell t t cell immune protein cancer mouse tumor tissue stem cell\n",
      "Topic  2\n",
      "science cell research new world scientist u.s year national researcher\n",
      "Topic  3\n",
      "system surface solar pluto cell material new new horizon horizon datum\n",
      "Topic  4\n",
      "gene system protein human new disease virus pluto horizon new horizon\n",
      "Topic  5\n",
      "change climate climate change human global virus specie ice cause impact\n",
      "Topic  6\n",
      "virus researcher material potential information human offer laboratory instrumentation roundup\n",
      "Topic  7\n",
      "virus use zika vaccine antibody state infect atom quantum zika virus\n",
      "Topic  8\n",
      "protein virus structure antibody zika vaccine change bind science infect\n",
      "Topic  9\n",
      "year carbon protein earth new wave gravitational form ice scientist\n",
      "Topic  10\n",
      "state protein quantum time brain study electron change wave year\n",
      "Topic  11\n",
      "immune t issue system page t cell page issue human science response\n",
      "\n",
      "\n",
      "-------NMF------\n",
      "\n",
      "\n",
      "Topic  0\n",
      "science research u.s new national world scientist institute health scientific\n",
      "Topic  1\n",
      "cell t t cell immune cancer stem mouse stem cell tumor tissue\n",
      "Topic  2\n",
      "state quantum electron atom magnetic field optical system material structure\n",
      "Topic  3\n",
      "system surface pluto solar new horizon new horizon datum solar system present\n",
      "Topic  4\n",
      "gene dna genome disease genetic human expression rna mutation cancer\n",
      "Topic  5\n",
      "change climate climate change global ice impact policy temperature increase model\n",
      "Topic  6\n",
      "virus zika vaccine antibody infect zika virus health human infection disease\n",
      "Topic  7\n",
      "material researcher information potential offer laboratory interest newly apparatus material potential\n",
      "Topic  8\n",
      "protein structure complex bind function site target rna membrane enzyme\n",
      "Topic  9\n",
      "new year study researcher human time scientist work people find\n",
      "Topic  10\n",
      "use reaction carbon c bond material high enzyme catalyst metal\n",
      "Topic  11\n",
      "issue page plant page issue specie system report response immune mechanism\n",
      "\n",
      "\n",
      "-------LDA------\n",
      "\n",
      "\n",
      "Topic  0\n",
      "potential offer material information interest laboratory newly researcher apparatus ecosystem\n",
      "Topic  1\n",
      "cell immune tissue stem stem cell system response immune cell signal mouse\n",
      "Topic  2\n",
      "platinum system surface battery fuel cell pluto activity ammonia horizon new\n",
      "Topic  3\n",
      "climate change energy carbon climate change cell fuel increase zika gas\n",
      "Topic  4\n",
      "time year space electron find wave planet star new like\n",
      "Topic  5\n",
      "use material state quantum reaction surface atom form molecule high\n",
      "Topic  6\n",
      "science research new scientist world year researcher u.s united health\n",
      "Topic  7\n",
      "human study brain use new change specie animal time genome\n",
      "Topic  8\n",
      "cell protein gene disease complex function t structure rna expression\n",
      "Topic  9\n",
      "plant dna virus enzyme cancer vaccine human infection disease antibody\n"
     ]
    }
   ],
   "source": [
    "use_count_vectorizer(cv_vect1, cv_vect1_transformed, n_comp=12)"
   ]
  },
  {
   "cell_type": "markdown",
   "metadata": {},
   "source": [
    "count vectorizer 2"
   ]
  },
  {
   "cell_type": "code",
   "execution_count": 442,
   "metadata": {
    "collapsed": true
   },
   "outputs": [],
   "source": [
    "cv_vect2, cv_vect2_transformed = count_vectorizer(spacy_tokenizer_3, 5000, all_descriptions, ngram_stop=4)"
   ]
  },
  {
   "cell_type": "code",
   "execution_count": 443,
   "metadata": {},
   "outputs": [
    {
     "name": "stdout",
     "output_type": "stream",
     "text": [
      "\n",
      "\n",
      "-------LSA------\n",
      "\n",
      "\n",
      "Topic  0\n",
      "cell new use science human study year protein research system\n",
      "Topic  1\n",
      "cell t t cell immune protein cancer mouse tumor tissue stem cell\n",
      "Topic  2\n",
      "system material surface pluto solar use new horizon horizon complex protein\n",
      "Topic  3\n",
      "system pluto surface solar new horizon horizon present solar system include complex\n",
      "Topic  4\n",
      "cell science new research system pluto solar horizon year new horizon\n",
      "Topic  5\n",
      "gene protein human disease virus dna genome new rna genetic\n",
      "Topic  6\n",
      "change climate virus human climate change specie global cause ice increase\n",
      "Topic  7\n",
      "virus use zika study vaccine infect antibody zika virus atom infection\n",
      "Topic  8\n",
      "protein virus antibody structure zika vaccine infect bind zika virus hiv\n",
      "Topic  9\n",
      "year carbon protein c new wave gravitational ice earth plant\n",
      "\n",
      "\n",
      "-------NMF------\n",
      "\n",
      "\n",
      "Topic  0\n",
      "use state material atom high quantum issue electron page page issue\n",
      "Topic  1\n",
      "cell t t cell immune cancer stem mouse stem cell tumor tissue\n",
      "Topic  2\n",
      "system pluto surface solar new horizon new horizon datum solar system present\n",
      "Topic  3\n",
      "material researcher potential information offer laboratory interest newly apparatus material potential\n",
      "Topic  4\n",
      "science research u.s new national world scientist institute health scientific\n",
      "Topic  5\n",
      "gene human dna disease genome genetic expression rna mutation cancer\n",
      "Topic  6\n",
      "change climate climate change global ice impact specie increase policy carbon\n",
      "Topic  7\n",
      "protein structure complex bind function site enzyme target rna membrane\n",
      "Topic  8\n",
      "virus zika vaccine antibody infect human zika virus health infection cause\n",
      "Topic  9\n",
      "new year study researcher time human scientist work wave people\n",
      "\n",
      "\n",
      "-------LDA------\n",
      "\n",
      "\n",
      "Topic  0\n",
      "apparatus newly instrumentation potential interest researcher laboratory material potential roundup information\n",
      "Topic  1\n",
      "use change high issue page state plant carbon page issue energy\n",
      "Topic  2\n",
      "virus infection resistance pathogen bacteria cause spread host human gut\n",
      "Topic  3\n",
      "ocean earth social rock million impact conservation year ecosystem biodiversity\n",
      "Topic  4\n",
      "system pluto horizon new horizon surface new solar include solar system analysis\n",
      "Topic  5\n",
      "protein cell structure enzyme complex rna t t cell bind target\n",
      "Topic  6\n",
      "science new research year scientist world researcher health human u.s\n",
      "Topic  7\n",
      "cell gene disease dna genetic mouse brain human cancer immune\n",
      "Topic  8\n",
      "quantum magnetic electron surface earthquake material system field atom use\n",
      "Topic  9\n",
      "optical wave science light year space gravitational new solar time\n"
     ]
    }
   ],
   "source": [
    "use_count_vectorizer(cv_vect2, cv_vect2_transformed)"
   ]
  },
  {
   "cell_type": "markdown",
   "metadata": {},
   "source": [
    "count vectorizer 3"
   ]
  },
  {
   "cell_type": "code",
   "execution_count": 444,
   "metadata": {
    "collapsed": true
   },
   "outputs": [],
   "source": [
    "cv_vect3, cv_vect3_transformed = count_vectorizer(spacy_tokenizer_3, 110000, all_descriptions)"
   ]
  },
  {
   "cell_type": "code",
   "execution_count": 445,
   "metadata": {},
   "outputs": [
    {
     "name": "stdout",
     "output_type": "stream",
     "text": [
      "\n",
      "\n",
      "-------LSA------\n",
      "\n",
      "\n",
      "Topic  0\n",
      "cell new use science human study year protein research system\n",
      "Topic  1\n",
      "cell t t cell immune protein cancer mouse tumor tissue stem cell\n",
      "Topic  2\n",
      "science cell research new world scientist u.s year national researcher\n",
      "Topic  3\n",
      "system surface solar cell material pluto new horizon horizon datum ice\n",
      "Topic  4\n",
      "system new gene human disease pluto protein virus horizon new horizon\n",
      "Topic  5\n",
      "change climate virus climate change human specie global cause ice impact\n",
      "Topic  6\n",
      "virus researcher material use study information human zika potential vaccine\n",
      "Topic  7\n",
      "virus antibody protein zika vaccine structure infect zika virus hiv infection\n",
      "Topic  8\n",
      "protein change potential climate interest material newly offer material potential apparatus\n",
      "Topic  9\n",
      "state system quantum issue science research immune united page page issue\n",
      "\n",
      "\n",
      "-------NMF------\n",
      "\n",
      "\n",
      "Topic  0\n",
      "science research new u.s national world scientist institute health scientific\n",
      "Topic  1\n",
      "cell t t cell immune cancer stem mouse stem cell tumor tissue\n",
      "Topic  2\n",
      "use state material atom high quantum electron issue page magnetic\n",
      "Topic  3\n",
      "system surface pluto solar new horizon new horizon datum solar system present\n",
      "Topic  4\n",
      "protein structure complex bind function site enzyme target rna control\n",
      "Topic  5\n",
      "change climate climate change global ice impact specie policy increase carbon\n",
      "Topic  6\n",
      "virus zika vaccine antibody infect zika virus human health infection cause\n",
      "Topic  7\n",
      "gene human disease dna genome genetic expression rna mutation cancer\n",
      "Topic  8\n",
      "material researcher potential information offer laboratory interest newly apparatus material potential\n",
      "Topic  9\n",
      "new year study human researcher time scientist work people wave\n",
      "\n",
      "\n",
      "-------LDA------\n",
      "\n",
      "\n",
      "Topic  0\n",
      "earthquake seismic zone fault large subduction perovskite subduction zone resistance seismicity\n",
      "Topic  1\n",
      "plant forest tree comb insect repeat soil gut lichen form\n",
      "Topic  2\n",
      "dopamine neuron cancer metabolic neural capsid reward learn song neural crest crest\n",
      "Topic  3\n",
      "male female cf sex centriole y precursor axial ratio chromosome\n",
      "Topic  4\n",
      "new material year researcher earth laboratory magnetic surface field system\n",
      "Topic  5\n",
      "codon ribosome α-synuclein ant niche motif stop codon mrna hsc neuron\n",
      "Topic  6\n",
      "cell human disease virus study new specie health brain cause\n",
      "Topic  7\n",
      "carbon use bond reaction high c catalyst metal organic oxygen\n",
      "Topic  8\n",
      "science research year new scientist climate u.s world change national\n",
      "Topic  9\n",
      "cell protein use structure gene dna complex state system page\n"
     ]
    }
   ],
   "source": [
    "use_count_vectorizer(cv_vect3, cv_vect3_transformed)"
   ]
  },
  {
   "cell_type": "markdown",
   "metadata": {},
   "source": [
    "tfidf vectorizer 1"
   ]
  },
  {
   "cell_type": "code",
   "execution_count": 446,
   "metadata": {
    "collapsed": true
   },
   "outputs": [],
   "source": [
    "tf_vect1, tf_vect1_transformed = tfidf_vectorizer(spacy_tokenizer_3, 5000, all_descriptions)"
   ]
  },
  {
   "cell_type": "code",
   "execution_count": 447,
   "metadata": {},
   "outputs": [
    {
     "name": "stdout",
     "output_type": "stream",
     "text": [
      "\n",
      "\n",
      "-------LSA------\n",
      "\n",
      "\n",
      "Topic  0\n",
      "apparatus laboratory weekly roundup laboratory material potential interest instrumentation apparatus offer instrumentation interest researcher weekly newly offer information newly\n",
      "Topic  1\n",
      "cell science new use human research year study change gene\n",
      "Topic  2\n",
      "cell protein gene t t cell immune tumor dna expression cancer\n",
      "Topic  3\n",
      "cell science cancer t t cell immune research disease tumor virus\n",
      "Topic  4\n",
      "cell science t t cell quantum material solar atom state research\n",
      "Topic  5\n",
      "climate change cell climate change ice t t cell global impact immune\n",
      "Topic  6\n",
      "virus zika vaccine antibody zika virus infect hiv infection viral ebola\n",
      "Topic  7\n",
      "carbon reaction c bond catalyst protein science enzyme plant climate\n",
      "Topic  8\n",
      "plant year reaction star gravitational planet carbon new researcher wave\n",
      "Topic  9\n",
      "protein ice planet surface year dna earth structure climate rna\n",
      "\n",
      "\n",
      "-------NMF------\n",
      "\n",
      "\n",
      "Topic  0\n",
      "instrumentation apparatus roundup information weekly laboratory material newly offer information newly interest researcher offer instrumentation apparatus laboratory potential interest\n",
      "Topic  1\n",
      "science research new u.s world scientist national university institute researcher\n",
      "Topic  2\n",
      "cell t t cell immune tumor cancer tissue immune cell stem mouse\n",
      "Topic  3\n",
      "quantum electron material atom optical state magnetic use device particle\n",
      "Topic  4\n",
      "surface solar ice system pluto crater solar system moon new horizon planet\n",
      "Topic  5\n",
      "climate change climate change specie global plant ecosystem temperature increase impact\n",
      "Topic  6\n",
      "virus vaccine zika antibody zika virus infect infection hiv health viral\n",
      "Topic  7\n",
      "reaction carbon bond catalyst c metal molecule methane organic enzyme\n",
      "Topic  8\n",
      "gravitational wave star year gravitational wave galaxy black ligo hole black hole\n",
      "Topic  9\n",
      "gene protein dna rna genome genetic human complex expression function\n",
      "\n",
      "\n",
      "-------LDA------\n",
      "\n",
      "\n",
      "Topic  0\n",
      "ice oligodendrocyte climate c ice sheet sheet gordon change climate change erosion\n",
      "Topic  1\n",
      "reaction bond catalyst carbon metal molecule nanoparticle c radical organic\n",
      "Topic  2\n",
      "ki karolinska karolinska institute slip event slow slip macchiarini paolo paolo macchiarini surgeon paolo surgeon\n",
      "Topic  3\n",
      "roundup instrumentation material potential weekly potential interest weekly roundup roundup information laboratory material newly offer instrumentation apparatus\n",
      "Topic  4\n",
      "science new year use research change scientist world study human\n",
      "Topic  5\n",
      "ligo frb interferometer pluto wave observatory interferometer gravitational laser interferometer frbs new horizon observatory ligo\n",
      "Topic  6\n",
      "causation innovation research science postulate produce spar grassland energy produce climate science\n",
      "Topic  7\n",
      "comb stool reimer neoantigen inorganic organic organic perovskite frequency comb neural crest crest crest cell\n",
      "Topic  8\n",
      "hcn nitrile olefin forest muscle tropical protein tropical forest cell mitochondrial\n",
      "Topic  9\n",
      "cell protein gene dna immune rna cancer disease mouse tumor\n"
     ]
    }
   ],
   "source": [
    "use_count_vectorizer(tf_vect1, tf_vect1_transformed)"
   ]
  },
  {
   "cell_type": "markdown",
   "metadata": {},
   "source": [
    "tfidf vectorizer 2"
   ]
  },
  {
   "cell_type": "code",
   "execution_count": 448,
   "metadata": {
    "collapsed": true
   },
   "outputs": [],
   "source": [
    "tf_vect2, tf_vect2_transformed = tfidf_vectorizer(spacy_tokenizer_3, 5000, all_descriptions, ngram_stop=4)"
   ]
  },
  {
   "cell_type": "code",
   "execution_count": 449,
   "metadata": {},
   "outputs": [
    {
     "name": "stdout",
     "output_type": "stream",
     "text": [
      "\n",
      "\n",
      "-------LSA------\n",
      "\n",
      "\n",
      "Topic  0\n",
      "instrumentation apparatus laboratory instrumentation apparatus laboratory material laboratory material potential interest newly offer instrumentation material potential interest researcher apparatus laboratory material potential information newly offer information newly offer instrumentation material potential interest laboratory material potential\n",
      "Topic  1\n",
      "cell science new use human research year study change gene\n",
      "Topic  2\n",
      "cell protein gene t t cell immune tumor dna expression cancer\n",
      "Topic  3\n",
      "cell science cancer t t cell immune research tumor disease virus\n",
      "Topic  4\n",
      "cell science t t cell quantum material atom research solar state\n",
      "Topic  5\n",
      "climate change cell climate change ice t t cell global impact immune\n",
      "Topic  6\n",
      "virus zika vaccine antibody zika virus infect hiv infection viral ebola\n",
      "Topic  7\n",
      "carbon reaction c bond catalyst protein enzyme plant science climate\n",
      "Topic  8\n",
      "protein change climate science structure policy state climate change electron quantum\n",
      "Topic  9\n",
      "ice protein year planet earth dna surface star crater structure\n",
      "\n",
      "\n",
      "-------NMF------\n",
      "\n",
      "\n",
      "Topic  0\n",
      "potential interest researcher offer instrumentation apparatus laboratory laboratory material potential interest laboratory material potential roundup information newly roundup information laboratory material potential interest interest researcher instrumentation apparatus laboratory material\n",
      "Topic  1\n",
      "planet star earth gravitational year wave galaxy solar gravitational wave surface\n",
      "Topic  2\n",
      "cell t t cell immune tumor cancer tissue immune cell stem stem cell\n",
      "Topic  3\n",
      "quantum electron material atom optical state magnetic use device particle\n",
      "Topic  4\n",
      "science research new u.s world scientist national university institute researcher\n",
      "Topic  5\n",
      "climate change climate change global specie ecosystem temperature ice impact increase\n",
      "Topic  6\n",
      "virus vaccine zika antibody zika virus infect infection hiv health viral\n",
      "Topic  7\n",
      "reaction carbon bond catalyst c metal molecule methane organic use\n",
      "Topic  8\n",
      "plant specie crop soil growth yield light sugar bacteria pathway\n",
      "Topic  9\n",
      "gene protein dna rna genome genetic human expression complex function\n",
      "\n",
      "\n",
      "-------LDA------\n",
      "\n",
      "\n",
      "Topic  0\n",
      "oligodendrocyte salinity iress ice cas cell progenitor crispr cas rna dna\n",
      "Topic  1\n",
      "cell science use new human year change research study protein\n",
      "Topic  2\n",
      "roundup instrumentation material potential weekly roundup information offer instrumentation apparatus laboratory apparatus laboratory information newly offer instrumentation weekly roundup information newly newly offer instrumentation newly offer\n",
      "Topic  3\n",
      "refuge radical sam enzyme migraine decomposition sam sam enzyme mitigate radical sam dna chemical\n",
      "Topic  4\n",
      "mtor leucine sestri kra cell growth spliceosome å resolution report structure histone intron\n",
      "Topic  5\n",
      "ligo gravitational interferometer gravitational wave laser interferometer gravitational wave laser interferometer gravitational gravitational wave observatory laser interferometer interferometer gravitational wave interferometer gravitational wave observatory\n",
      "Topic  6\n",
      "hsc hscs hematopoietic stem hematopoietic stem cell portal meiotic recombination meiotic recombination sp partner\n",
      "Topic  7\n",
      "pluto new horizon organic perovskite inorganic organic inorganic organic perovskite horizon organic perovskite solar organic perovskite solar cell inorganic organic perovskite solar perovskite solar\n",
      "Topic  8\n",
      "qpt camel megathrust slow slip slow earthquake slip event slow slip event earthquake slip mer\n",
      "Topic  9\n",
      "triplet migraine neural crest crest crest cell neural crest cell ant initiation comb acetylation\n"
     ]
    }
   ],
   "source": [
    "use_count_vectorizer(tf_vect2, tf_vect2_transformed)"
   ]
  },
  {
   "cell_type": "code",
   "execution_count": 88,
   "metadata": {
    "collapsed": true
   },
   "outputs": [],
   "source": [
    "tf_vect2, tf_vect2_transformed = tfidf_vectorizer(spacy_tokenizer_3, 5000, all_descriptions, ngram_stop=3)"
   ]
  },
  {
   "cell_type": "code",
   "execution_count": 89,
   "metadata": {},
   "outputs": [
    {
     "ename": "NameError",
     "evalue": "name 'use_count_vectorizer' is not defined",
     "output_type": "error",
     "traceback": [
      "\u001b[0;31m---------------------------------------------------------------------------\u001b[0m",
      "\u001b[0;31mNameError\u001b[0m                                 Traceback (most recent call last)",
      "\u001b[0;32m<ipython-input-89-9166a3cbc5e7>\u001b[0m in \u001b[0;36m<module>\u001b[0;34m()\u001b[0m\n\u001b[0;32m----> 1\u001b[0;31m \u001b[0muse_count_vectorizer\u001b[0m\u001b[0;34m(\u001b[0m\u001b[0mtf_vect2\u001b[0m\u001b[0;34m,\u001b[0m \u001b[0mtf_vect2_transformed\u001b[0m\u001b[0;34m)\u001b[0m\u001b[0;34m\u001b[0m\u001b[0m\n\u001b[0m",
      "\u001b[0;31mNameError\u001b[0m: name 'use_count_vectorizer' is not defined"
     ]
    }
   ],
   "source": [
    "use_count_vectorizer(tf_vect2, tf_vect2_transformed)"
   ]
  },
  {
   "cell_type": "markdown",
   "metadata": {},
   "source": [
    "tfidf vectorizer 3"
   ]
  },
  {
   "cell_type": "code",
   "execution_count": 450,
   "metadata": {
    "collapsed": true
   },
   "outputs": [],
   "source": [
    "tf_vect3, tf_vect3_transformed = tfidf_vectorizer(spacy_tokenizer_3, 110000, all_descriptions)"
   ]
  },
  {
   "cell_type": "code",
   "execution_count": 451,
   "metadata": {},
   "outputs": [
    {
     "name": "stdout",
     "output_type": "stream",
     "text": [
      "\n",
      "\n",
      "-------LSA------\n",
      "\n",
      "\n",
      "Topic  0\n",
      "weekly roundup newly offer roundup information laboratory material offer instrumentation instrumentation apparatus information newly potential interest weekly apparatus laboratory\n",
      "Topic  1\n",
      "cell new science use human protein gene change research study\n",
      "Topic  2\n",
      "cell t t cell protein immune gene tumor cancer mouse dna\n",
      "Topic  3\n",
      "pluto surface solar system new horizon material horizon atom electron quantum\n",
      "Topic  4\n",
      "pluto cell new horizon horizon solar system t t cell moon solar system\n",
      "Topic  5\n",
      "virus gene protein antibody rna dna vaccine human zika genome\n",
      "Topic  6\n",
      "virus antibody vaccine zika infect hiv zika virus viral ebola infection\n",
      "Topic  7\n",
      "climate change ice climate change specie plant c global impact temperature\n",
      "Topic  8\n",
      "protein carbon complex leucine reaction mtor c bond enzyme science\n",
      "Topic  9\n",
      "flow fluid electron plant protein immune graphene response t t cell\n",
      "\n",
      "\n",
      "-------NMF------\n",
      "\n",
      "\n",
      "Topic  0\n",
      "potential interest instrumentation apparatus newly offer laboratory material weekly roundup apparatus laboratory interest researcher roundup information information newly weekly\n",
      "Topic  1\n",
      "science research new u.s world scientist year national researcher institute\n",
      "Topic  2\n",
      "cell t t cell immune tumor cancer immune cell tissue stem stem cell\n",
      "Topic  3\n",
      "quantum atom optical material magnetic electron state device light use\n",
      "Topic  4\n",
      "pluto new horizon horizon system solar surface moon solar system analysis present\n",
      "Topic  5\n",
      "gene protein dna rna genome complex expression structure genetic human\n",
      "Topic  6\n",
      "virus antibody vaccine zika infect hiv zika virus viral ebola infection\n",
      "Topic  7\n",
      "climate change climate change ice specie global impact plant temperature increase\n",
      "Topic  8\n",
      "reaction bond carbon catalyst c metal methane organic molecule radical\n",
      "Topic  9\n",
      "flow fluid electron graphene like describe flow water graphene electron transport counterexample perspective\n",
      "\n",
      "\n",
      "-------LDA------\n",
      "\n",
      "\n",
      "Topic  0\n",
      "phase transition kathmandu nepal quantum phase quark metabolic disorder darpa senior scientist zero temperature earthquake trigger\n",
      "Topic  1\n",
      "ki mtap dystrophy muscular dystrophy dystrophin zf ln ppgpp tuft cell cuba\n",
      "Topic  2\n",
      "comb frequency comb hdl c migraine wimp dhb aggression term begin result election begin february\n",
      "Topic  3\n",
      "hcn kra refuge nitrile lateral root iress viscosity electron effect flow form viscous thermal transport\n",
      "Topic  4\n",
      "consolation csiro disinfectant tyr innocent people innocent oligodendrocyte precursor torero ais plasmon\n",
      "Topic  5\n",
      "mtor leucine sestri mc kinase complex mtor protein histone acetylation multipotent decomposition news clock corpse\n",
      "Topic  6\n",
      "camel mer valley supernovae cov human infection mer cov dromedary exosphere mite\n",
      "Topic  7\n",
      "roundup material potential potential interest weekly laboratory material weekly roundup information newly apparatus laboratory instrumentation apparatus offer instrumentation\n",
      "Topic  8\n",
      "cell science use new human year change protein study research\n",
      "Topic  9\n",
      "groundwater storage protein translocation emit light stretch emit pollinator diversity folic acid folic double helix signal sequence dna allow\n"
     ]
    }
   ],
   "source": [
    "use_count_vectorizer(tf_vect3, tf_vect3_transformed)"
   ]
  },
  {
   "cell_type": "code",
   "execution_count": null,
   "metadata": {
    "collapsed": true
   },
   "outputs": [],
   "source": []
  },
  {
   "cell_type": "markdown",
   "metadata": {},
   "source": [
    "for 2016, the best topics were obtained from cv vect 1:\n",
    "\n",
    "-------NMF------\n",
    "\n",
    "\n",
    "Topic  0\n",
    "science research u.s new national world scientist institute health scientific\n",
    "Topic  1\n",
    "cell t t cell immune cancer stem mouse stem cell tumor tissue\n",
    "Topic  2\n",
    "state quantum electron atom magnetic field optical system material structure\n",
    "Topic  3\n",
    "system surface pluto solar new horizon new horizon datum solar system present\n",
    "Topic  4\n",
    "gene dna genome disease genetic human expression rna mutation cancer\n",
    "Topic  5\n",
    "change climate climate change global ice impact policy temperature increase model\n",
    "Topic  6\n",
    "virus zika vaccine antibody infect zika virus health human infection disease\n",
    "Topic  7\n",
    "material researcher information potential offer laboratory interest newly apparatus material potential\n",
    "Topic  8\n",
    "protein structure complex bind function site target rna membrane enzyme\n",
    "Topic  9\n",
    "new year study researcher human time scientist work people find\n",
    "Topic  10\n",
    "use reaction carbon c bond material high enzyme catalyst metal\n",
    "Topic  11\n",
    "issue page plant page issue specie system report response immune mechanism"
   ]
  },
  {
   "cell_type": "markdown",
   "metadata": {},
   "source": [
    "# end!!"
   ]
  },
  {
   "cell_type": "code",
   "execution_count": null,
   "metadata": {
    "collapsed": true
   },
   "outputs": [],
   "source": []
  },
  {
   "cell_type": "markdown",
   "metadata": {},
   "source": [
    "### Test LSA / tune parameters with tokenizer 1"
   ]
  },
  {
   "cell_type": "markdown",
   "metadata": {},
   "source": [
    "Different vectorizers"
   ]
  },
  {
   "cell_type": "code",
   "execution_count": 397,
   "metadata": {
    "collapsed": true
   },
   "outputs": [],
   "source": [
    "lsa_cv_vect, lsa_cv_vect_transformed = count_vectorizer(spacy_tokenizer_1, 5000, all_descriptions)"
   ]
  },
  {
   "cell_type": "code",
   "execution_count": 306,
   "metadata": {
    "collapsed": true
   },
   "outputs": [],
   "source": [
    "lsa_cv_vect2, lsa_cv_vect_transformed2 = count_vectorizer(spacy_tokenizer_1, 5000, all_descriptions, ngram_stop=4)"
   ]
  },
  {
   "cell_type": "code",
   "execution_count": 307,
   "metadata": {
    "collapsed": true
   },
   "outputs": [],
   "source": [
    "lsa_cv_vect3, lsa_cv_vect_transformed3 = count_vectorizer(spacy_tokenizer_1, 110000, all_descriptions, ngram_stop=4)"
   ]
  },
  {
   "cell_type": "code",
   "execution_count": 308,
   "metadata": {
    "collapsed": true
   },
   "outputs": [],
   "source": [
    "lsa_tf_vect, lsa_tf_vect_transformed = tfidf_vectorizer(spacy_tokenizer_1, 5000, all_descriptions)"
   ]
  },
  {
   "cell_type": "code",
   "execution_count": 309,
   "metadata": {
    "collapsed": true
   },
   "outputs": [],
   "source": [
    "lsa_tf_vect2, lsa_tf_vect_transformed2 = tfidf_vectorizer(spacy_tokenizer_1, 5000, all_descriptions, ngram_stop=4)"
   ]
  },
  {
   "cell_type": "code",
   "execution_count": 310,
   "metadata": {
    "collapsed": true
   },
   "outputs": [],
   "source": [
    "lsa_tf_vect3, lsa_tf_vect_transformed3 = tfidf_vectorizer(spacy_tokenizer_1, 110000, all_descriptions, ngram_stop=4)"
   ]
  },
  {
   "cell_type": "markdown",
   "metadata": {},
   "source": [
    "Different models"
   ]
  },
  {
   "cell_type": "code",
   "execution_count": 311,
   "metadata": {
    "collapsed": true
   },
   "outputs": [],
   "source": [
    "lsa_cv1_model, lsa_cv1_model_transformed = lsa_cv(lsa_cv_vect_transformed, n_comp=10)"
   ]
  },
  {
   "cell_type": "code",
   "execution_count": 312,
   "metadata": {},
   "outputs": [
    {
     "name": "stdout",
     "output_type": "stream",
     "text": [
      "Topic  0\n",
      "cell new use human science study protein research system disease\n",
      "Topic  1\n",
      "cell t t cell immune protein cancer mouse tumor tissue stem cell\n",
      "Topic  2\n",
      "science research cell new world scientist u.s national researcher institute\n",
      "Topic  3\n",
      "system surface solar pluto new material new horizon horizon cell datum\n",
      "Topic  4\n",
      "gene protein human disease new virus system dna rna genome\n",
      "Topic  5\n",
      "change climate climate change human virus global specie ice cause impact\n",
      "Topic  6\n",
      "virus researcher material information potential offer human laboratory instrumentation roundup\n",
      "Topic  7\n",
      "virus zika vaccine antibody infect use zika virus infection atom report\n",
      "Topic  8\n",
      "protein virus structure antibody change climate zika bind vaccine science\n",
      "Topic  9\n",
      "1 issue 2 pageof pageof issue science 3 system report immune\n"
     ]
    }
   ],
   "source": [
    "display_topics(lsa_cv1_model, lsa_cv_vect.get_feature_names(),10)"
   ]
  },
  {
   "cell_type": "code",
   "execution_count": 313,
   "metadata": {
    "collapsed": true
   },
   "outputs": [],
   "source": [
    "lsa_cv1_model2, lsa_cv1_model_transformed2 = lsa_cv(lsa_cv_vect_transformed2, n_comp=10)"
   ]
  },
  {
   "cell_type": "code",
   "execution_count": 314,
   "metadata": {},
   "outputs": [
    {
     "name": "stdout",
     "output_type": "stream",
     "text": [
      "Topic  0\n",
      "cell new use human science study protein research system disease\n",
      "Topic  1\n",
      "cell t t cell immune protein cancer mouse tumor tissue stem cell\n",
      "Topic  2\n",
      "system surface material pluto solar new horizon horizon solar system complex present\n",
      "Topic  3\n",
      "researcher material information potential offer laboratory interest newly apparatus material potential\n",
      "Topic  4\n",
      "science cell new research system pluto solar researcher horizon new horizon\n",
      "Topic  5\n",
      "gene protein human disease virus dna rna genome genetic new\n",
      "Topic  6\n",
      "change climate human virus climate change specie global cause ice response\n",
      "Topic  7\n",
      "virus zika vaccine study use infect antibody zika virus human infection\n",
      "Topic  8\n",
      "protein virus antibody structure zika vaccine carbon bind complex science\n",
      "Topic  9\n",
      "1 issue 2 pageof pageof issue science 3 report system immune\n"
     ]
    }
   ],
   "source": [
    "display_topics(lsa_cv1_model2, lsa_cv_vect2.get_feature_names(),10)"
   ]
  },
  {
   "cell_type": "code",
   "execution_count": 315,
   "metadata": {
    "collapsed": true
   },
   "outputs": [],
   "source": [
    "lsa_cv1_model3, lsa_cv1_model_transformed3 = lsa_cv(lsa_cv_vect_transformed3, n_comp=10)"
   ]
  },
  {
   "cell_type": "code",
   "execution_count": 316,
   "metadata": {},
   "outputs": [
    {
     "name": "stdout",
     "output_type": "stream",
     "text": [
      "Topic  0\n",
      "cell new use human science study protein system research disease\n",
      "Topic  1\n",
      "cell t t cell immune protein cancer mouse tumor tissue stem cell\n",
      "Topic  2\n",
      "system pluto surface solar new horizon horizon solar system present moon analysis\n",
      "Topic  3\n",
      "science cell research new world scientist u.s national t institute\n",
      "Topic  4\n",
      "researcher material information laboratory offer potential interest apparatus newly roundup\n",
      "Topic  5\n",
      "protein gene human disease rna virus dna new genome genetic\n",
      "Topic  6\n",
      "science protein structure complex research use state new atom material\n",
      "Topic  7\n",
      "change climate protein climate change leucine complex structure mtorc1 science policy\n",
      "Topic  8\n",
      "gene science dna expression mutation genome change genetic climate crispr\n",
      "Topic  9\n",
      "state human leucine study mtorc1 gene growth time find electron\n"
     ]
    }
   ],
   "source": [
    "display_topics(lsa_cv1_model3, lsa_cv_vect3.get_feature_names(),10)"
   ]
  },
  {
   "cell_type": "code",
   "execution_count": 317,
   "metadata": {
    "collapsed": true
   },
   "outputs": [],
   "source": [
    "lsa_tf_model1, lsa_tf_model_transformed1 = lsa_tfidf(lsa_tf_vect_transformed, n_comp=10)"
   ]
  },
  {
   "cell_type": "code",
   "execution_count": 318,
   "metadata": {},
   "outputs": [
    {
     "name": "stdout",
     "output_type": "stream",
     "text": [
      "Topic  0\n",
      "apparatus laboratory interest researcher weekly potential interest roundup information offer instrumentation instrumentation apparatus information newly weekly roundup newly offer\n",
      "Topic  1\n",
      "cell science new use human research study change gene protein\n",
      "Topic  2\n",
      "cell protein t gene t cell immune tumor dna expression cancer\n",
      "Topic  3\n",
      "cell science cancer t t cell research immune disease tumor virus\n",
      "Topic  4\n",
      "cell science t t cell quantum material atom research solar electron\n",
      "Topic  5\n",
      "protein dna gene rna structure science complex genome enzyme research\n",
      "Topic  6\n",
      "virus zika vaccine antibody zika virus infect infection viral ebola outbreak\n",
      "Topic  7\n",
      "carbon reaction bond c catalyst plant climate enzyme science methane\n",
      "Topic  8\n",
      "protein change climate structure science policy climate change electron state bind\n",
      "Topic  9\n",
      "protein ice planet earth surface structure year star solar gravitational\n"
     ]
    }
   ],
   "source": [
    "display_topics(lsa_tf_model1, lsa_tf_vect.get_feature_names(),10)"
   ]
  },
  {
   "cell_type": "code",
   "execution_count": 319,
   "metadata": {
    "collapsed": true
   },
   "outputs": [],
   "source": [
    "lsa_tf_model2, lsa_tf_model_transformed2 = lsa_tfidf(lsa_tf_vect_transformed2, n_comp=10)"
   ]
  },
  {
   "cell_type": "code",
   "execution_count": 320,
   "metadata": {},
   "outputs": [
    {
     "name": "stdout",
     "output_type": "stream",
     "text": [
      "Topic  0\n",
      "potential interest newly offer instrumentation apparatus instrumentation apparatus weekly roundup instrumentation apparatus laboratory instrumentation apparatus laboratory material information newly offer instrumentation weekly roundup information newly offer instrumentation roundup information newly\n",
      "Topic  1\n",
      "cell science new use human research study change gene protein\n",
      "Topic  2\n",
      "cell protein gene t t cell immune tumor dna expression cancer\n",
      "Topic  3\n",
      "cell science cancer t t cell research immune tumor disease virus\n",
      "Topic  4\n",
      "gene specie human change climate plant genome virus genetic rna\n",
      "Topic  5\n",
      "protein dna gene rna structure science genome complex enzyme research\n",
      "Topic  6\n",
      "virus zika vaccine antibody zika virus infect infection viral ebola outbreak\n",
      "Topic  7\n",
      "carbon reaction bond c catalyst plant enzyme climate protein science\n",
      "Topic  8\n",
      "protein change climate structure science climate change policy bind electron rna\n",
      "Topic  9\n",
      "ice protein planet earth year gravitational star surface wave crater\n"
     ]
    }
   ],
   "source": [
    "display_topics(lsa_tf_model2, lsa_tf_vect2.get_feature_names(),10)"
   ]
  },
  {
   "cell_type": "code",
   "execution_count": 321,
   "metadata": {
    "collapsed": true
   },
   "outputs": [],
   "source": [
    "lsa_tf_model3, lsa_tf_model_transformed3 = lsa_tfidf(lsa_tf_vect_transformed3, n_comp=10)"
   ]
  },
  {
   "cell_type": "code",
   "execution_count": 322,
   "metadata": {
    "scrolled": true
   },
   "outputs": [
    {
     "name": "stdout",
     "output_type": "stream",
     "text": [
      "Topic  0\n",
      "interest researcher newly offer instrumentation apparatus material potential interest potential interest researcher material potential interest researcher weekly roundup information newly information newly offer roundup information apparatus laboratory material potential\n",
      "Topic  1\n",
      "cell science new human use research change study gene protein\n",
      "Topic  2\n",
      "cell t t cell immune protein gene tumor dna cancer expression\n",
      "Topic  3\n",
      "pluto surface solar system material carbon new horizon horizon quantum atom\n",
      "Topic  4\n",
      "cell pluto new horizon horizon t t cell science solar system new\n",
      "Topic  5\n",
      "cell t t cell science quantum material solar atom light state\n",
      "Topic  6\n",
      "climate change climate change ice t t cell global specie impact cell\n",
      "Topic  7\n",
      "virus zika antibody vaccine zika virus infect infection viral zikv ebola\n",
      "Topic  8\n",
      "carbon bond c reaction – protein h c – catalyst enzyme\n",
      "Topic  9\n",
      "protein structure climate ice change bind leucine gravitational rna mtorc1\n"
     ]
    }
   ],
   "source": [
    "display_topics(lsa_tf_model3, lsa_tf_vect3.get_feature_names(),10)"
   ]
  },
  {
   "cell_type": "markdown",
   "metadata": {},
   "source": [
    "### Test LSA / tune parameters with tokenizer 2"
   ]
  },
  {
   "cell_type": "markdown",
   "metadata": {},
   "source": [
    "Different vectorizers"
   ]
  },
  {
   "cell_type": "code",
   "execution_count": 324,
   "metadata": {
    "collapsed": true
   },
   "outputs": [],
   "source": [
    "lsa_cv_vect, lsa_cv_vect_transformed = count_vectorizer(spacy_tokenizer_2, 5000, all_descriptions)"
   ]
  },
  {
   "cell_type": "code",
   "execution_count": 325,
   "metadata": {
    "collapsed": true
   },
   "outputs": [],
   "source": [
    "lsa_cv_vect2, lsa_cv_vect_transformed2 = count_vectorizer(spacy_tokenizer_2, 5000, all_descriptions, ngram_stop=4)"
   ]
  },
  {
   "cell_type": "code",
   "execution_count": 326,
   "metadata": {
    "collapsed": true
   },
   "outputs": [],
   "source": [
    "lsa_cv_vect3, lsa_cv_vect_transformed3 = count_vectorizer(spacy_tokenizer_2, 110000, all_descriptions, ngram_stop=4)"
   ]
  },
  {
   "cell_type": "code",
   "execution_count": 327,
   "metadata": {
    "collapsed": true
   },
   "outputs": [],
   "source": [
    "lsa_tf_vect, lsa_tf_vect_transformed = tfidf_vectorizer(spacy_tokenizer_2, 5000, all_descriptions)"
   ]
  },
  {
   "cell_type": "code",
   "execution_count": 328,
   "metadata": {
    "collapsed": true
   },
   "outputs": [],
   "source": [
    "lsa_tf_vect2, lsa_tf_vect_transformed2 = tfidf_vectorizer(spacy_tokenizer_2, 5000, all_descriptions, ngram_stop=4)"
   ]
  },
  {
   "cell_type": "code",
   "execution_count": 329,
   "metadata": {
    "collapsed": true
   },
   "outputs": [],
   "source": [
    "lsa_tf_vect3, lsa_tf_vect_transformed3 = tfidf_vectorizer(spacy_tokenizer_2, 110000, all_descriptions, ngram_stop=4)"
   ]
  },
  {
   "cell_type": "markdown",
   "metadata": {},
   "source": [
    "Different models"
   ]
  },
  {
   "cell_type": "code",
   "execution_count": 330,
   "metadata": {
    "collapsed": true
   },
   "outputs": [],
   "source": [
    "lsa_cv1_model, lsa_cv1_model_transformed = lsa_cv(lsa_cv_vect_transformed, n_comp=10)"
   ]
  },
  {
   "cell_type": "code",
   "execution_count": 331,
   "metadata": {},
   "outputs": [
    {
     "name": "stdout",
     "output_type": "stream",
     "text": [
      "Topic  0\n",
      "cell new use human science study protein research system disease\n",
      "Topic  1\n",
      "cell t t cell immune protein cancer mouse tumor tissue stem cell\n",
      "Topic  2\n",
      "science cell research new world scientist u.s national researcher institute\n",
      "Topic  3\n",
      "system surface solar pluto new material cell new horizon horizon datum\n",
      "Topic  4\n",
      "gene protein human disease new virus system dna rna pluto\n",
      "Topic  5\n",
      "change climate climate change human virus global specie ice cause impact\n",
      "Topic  6\n",
      "virus researcher material information potential offer human laboratory instrumentation roundup\n",
      "Topic  7\n",
      "virus zika vaccine antibody infect use zika virus infection atom report\n",
      "Topic  8\n",
      "protein virus antibody structure change climate zika science bind vaccine\n",
      "Topic  9\n",
      "issue 1 pageof pageof issue 2 science system 3 immune report\n"
     ]
    }
   ],
   "source": [
    "display_topics(lsa_cv1_model, lsa_cv_vect.get_feature_names(),10)"
   ]
  },
  {
   "cell_type": "code",
   "execution_count": 332,
   "metadata": {
    "collapsed": true
   },
   "outputs": [],
   "source": [
    "lsa_cv1_model2, lsa_cv1_model_transformed2 = lsa_cv(lsa_cv_vect_transformed2, n_comp=10)"
   ]
  },
  {
   "cell_type": "code",
   "execution_count": 333,
   "metadata": {},
   "outputs": [
    {
     "name": "stdout",
     "output_type": "stream",
     "text": [
      "Topic  0\n",
      "cell new use science human study protein research system disease\n",
      "Topic  1\n",
      "cell t t cell immune protein cancer mouse tumor tissue stem cell\n",
      "Topic  2\n",
      "system surface pluto solar new horizon horizon material solar system present moon\n",
      "Topic  3\n",
      "material researcher information potential offer interest laboratory newly apparatus material potential\n",
      "Topic  4\n",
      "science cell new research researcher scientist world u.s pluto national\n",
      "Topic  5\n",
      "gene protein human disease virus dna rna genome genetic new\n",
      "Topic  6\n",
      "change climate human virus climate change specie global cause ice increase\n",
      "Topic  7\n",
      "virus zika vaccine study use infect antibody zika virus human infection\n",
      "Topic  8\n",
      "protein virus antibody structure zika vaccine science bind carbon complex\n",
      "Topic  9\n",
      "issue 1 pageof pageof issue 2 – science 3 bond report\n"
     ]
    }
   ],
   "source": [
    "display_topics(lsa_cv1_model2, lsa_cv_vect2.get_feature_names(),10)"
   ]
  },
  {
   "cell_type": "code",
   "execution_count": 334,
   "metadata": {
    "collapsed": true
   },
   "outputs": [],
   "source": [
    "lsa_cv1_model3, lsa_cv1_model_transformed3 = lsa_cv(lsa_cv_vect_transformed3, n_comp=10)"
   ]
  },
  {
   "cell_type": "code",
   "execution_count": 335,
   "metadata": {},
   "outputs": [
    {
     "name": "stdout",
     "output_type": "stream",
     "text": [
      "Topic  0\n",
      "cell new use human science study protein system research disease\n",
      "Topic  1\n",
      "cell t t cell immune protein cancer mouse tumor tissue stem cell\n",
      "Topic  2\n",
      "system pluto surface solar new horizon horizon solar system present moon analysis\n",
      "Topic  3\n",
      "science cell research new world scientist u.s national t year\n",
      "Topic  4\n",
      "researcher material information laboratory offer potential interest apparatus roundup instrumentation\n",
      "Topic  5\n",
      "protein gene human disease rna virus dna new genome genetic\n",
      "Topic  6\n",
      "science protein structure complex research use state new atom material\n",
      "Topic  7\n",
      "change climate protein climate change leucine complex structure mtorc1 science policy\n",
      "Topic  8\n",
      "gene science change dna expression mutation genome climate genetic crispr\n",
      "Topic  9\n",
      "state human leucine study mtorc1 growth gene time electron sestrin2\n"
     ]
    }
   ],
   "source": [
    "display_topics(lsa_cv1_model3, lsa_cv_vect3.get_feature_names(),10)"
   ]
  },
  {
   "cell_type": "code",
   "execution_count": 336,
   "metadata": {
    "collapsed": true
   },
   "outputs": [],
   "source": [
    "lsa_tf_model1, lsa_tf_model_transformed1 = lsa_tfidf(lsa_tf_vect_transformed, n_comp=10)"
   ]
  },
  {
   "cell_type": "code",
   "execution_count": 337,
   "metadata": {},
   "outputs": [
    {
     "name": "stdout",
     "output_type": "stream",
     "text": [
      "Topic  0\n",
      "potential interest weekly newly offer weekly roundup laboratory material apparatus laboratory offer instrumentation roundup information information newly instrumentation apparatus\n",
      "Topic  1\n",
      "cell science new use human research study change gene protein\n",
      "Topic  2\n",
      "cell protein gene t t cell immune tumor dna expression cancer\n",
      "Topic  3\n",
      "cell science cancer t t cell research immune disease tumor virus\n",
      "Topic  4\n",
      "cell science t t cell quantum material atom research solar electron\n",
      "Topic  5\n",
      "protein dna gene rna structure science genome complex enzyme research\n",
      "Topic  6\n",
      "virus zika vaccine antibody zika virus infect infection viral ebola outbreak\n",
      "Topic  7\n",
      "carbon reaction bond c catalyst climate plant science enzyme methane\n",
      "Topic  8\n",
      "protein change climate science structure policy climate change electron state bind\n",
      "Topic  9\n",
      "protein ice planet earth surface year structure star solar crater\n"
     ]
    }
   ],
   "source": [
    "display_topics(lsa_tf_model1, lsa_tf_vect.get_feature_names(),10)"
   ]
  },
  {
   "cell_type": "code",
   "execution_count": 338,
   "metadata": {
    "collapsed": true
   },
   "outputs": [],
   "source": [
    "lsa_tf_model2, lsa_tf_model_transformed2 = lsa_tfidf(lsa_tf_vect_transformed2, n_comp=10)"
   ]
  },
  {
   "cell_type": "code",
   "execution_count": 339,
   "metadata": {},
   "outputs": [
    {
     "name": "stdout",
     "output_type": "stream",
     "text": [
      "Topic  0\n",
      "apparatus laboratory material information newly offer instrumentation potential interest researcher material potential interest newly offer interest researcher apparatus laboratory material potential material potential interest researcher apparatus laboratory newly offer instrumentation\n",
      "Topic  1\n",
      "cell science new use human research study change gene protein\n",
      "Topic  2\n",
      "cell protein gene t t cell immune tumor dna cancer expression\n",
      "Topic  3\n",
      "cell science cancer t t cell research immune tumor disease virus\n",
      "Topic  4\n",
      "cell science t t cell quantum material atom research electron state\n",
      "Topic  5\n",
      "protein dna gene rna structure science genome complex enzyme research\n",
      "Topic  6\n",
      "virus zika vaccine antibody zika virus infect infection viral ebola outbreak\n",
      "Topic  7\n",
      "carbon reaction bond c catalyst plant climate enzyme protein science\n",
      "Topic  8\n",
      "protein change climate structure science climate change policy bind electron state\n",
      "Topic  9\n",
      "ice protein planet earth year star gravitational surface wave crater\n"
     ]
    }
   ],
   "source": [
    "display_topics(lsa_tf_model2, lsa_tf_vect2.get_feature_names(),10)"
   ]
  },
  {
   "cell_type": "code",
   "execution_count": 340,
   "metadata": {
    "collapsed": true
   },
   "outputs": [],
   "source": [
    "lsa_tf_model3, lsa_tf_model_transformed3 = lsa_tfidf(lsa_tf_vect_transformed3, n_comp=10)"
   ]
  },
  {
   "cell_type": "code",
   "execution_count": 341,
   "metadata": {
    "scrolled": true
   },
   "outputs": [
    {
     "name": "stdout",
     "output_type": "stream",
     "text": [
      "Topic  0\n",
      "potential interest offer instrumentation material potential interest researcher information newly offer instrumentation apparatus laboratory material instrumentation apparatus laboratory laboratory material potential interest information newly interest researcher instrumentation apparatus\n",
      "Topic  1\n",
      "cell science new human use research change study gene protein\n",
      "Topic  2\n",
      "cell t t cell protein immune gene tumor dna cancer expression\n",
      "Topic  3\n",
      "pluto surface solar system material new horizon carbon horizon quantum atom\n",
      "Topic  4\n",
      "cell pluto new horizon t horizon t cell science solar immune system\n",
      "Topic  5\n",
      "cell t t cell science quantum material solar light atom state\n",
      "Topic  6\n",
      "climate change climate change ice t t cell global virus specie impact\n",
      "Topic  7\n",
      "virus zika antibody vaccine zika virus infect viral infection ebola zikv\n",
      "Topic  8\n",
      "carbon bond c reaction protein – h c – enzyme science\n",
      "Topic  9\n",
      "protein structure climate ice change bind leucine rna antibody mtorc1\n"
     ]
    }
   ],
   "source": [
    "display_topics(lsa_tf_model3, lsa_tf_vect3.get_feature_names(),10)"
   ]
  },
  {
   "cell_type": "markdown",
   "metadata": {},
   "source": [
    "### Test LSA / tune parameters with tokenizer 3"
   ]
  },
  {
   "cell_type": "markdown",
   "metadata": {},
   "source": [
    "Different vectorizers"
   ]
  },
  {
   "cell_type": "code",
   "execution_count": 343,
   "metadata": {
    "collapsed": true
   },
   "outputs": [],
   "source": [
    "lsa_cv_vect, lsa_cv_vect_transformed = count_vectorizer(spacy_tokenizer_3, 5000, all_descriptions)"
   ]
  },
  {
   "cell_type": "code",
   "execution_count": 344,
   "metadata": {
    "collapsed": true
   },
   "outputs": [],
   "source": [
    "lsa_cv_vect2, lsa_cv_vect_transformed2 = count_vectorizer(spacy_tokenizer_3, 5000, all_descriptions, ngram_stop=4)"
   ]
  },
  {
   "cell_type": "code",
   "execution_count": 345,
   "metadata": {
    "collapsed": true
   },
   "outputs": [],
   "source": [
    "lsa_cv_vect3, lsa_cv_vect_transformed3 = count_vectorizer(spacy_tokenizer_3, 110000, all_descriptions)"
   ]
  },
  {
   "cell_type": "code",
   "execution_count": 346,
   "metadata": {
    "collapsed": true
   },
   "outputs": [],
   "source": [
    "lsa_tf_vect, lsa_tf_vect_transformed = tfidf_vectorizer(spacy_tokenizer_3, 5000, all_descriptions)"
   ]
  },
  {
   "cell_type": "code",
   "execution_count": 347,
   "metadata": {
    "collapsed": true
   },
   "outputs": [],
   "source": [
    "lsa_tf_vect2, lsa_tf_vect_transformed2 = tfidf_vectorizer(spacy_tokenizer_3, 5000, all_descriptions, ngram_stop=4)"
   ]
  },
  {
   "cell_type": "code",
   "execution_count": 348,
   "metadata": {
    "collapsed": true
   },
   "outputs": [],
   "source": [
    "lsa_tf_vect3, lsa_tf_vect_transformed3 = tfidf_vectorizer(spacy_tokenizer_3, 110000, all_descriptions)"
   ]
  },
  {
   "cell_type": "markdown",
   "metadata": {},
   "source": [
    "Different models"
   ]
  },
  {
   "cell_type": "code",
   "execution_count": 349,
   "metadata": {
    "collapsed": true
   },
   "outputs": [],
   "source": [
    "lsa_cv1_model, lsa_cv1_model_transformed = lsa_cv(lsa_cv_vect_transformed, n_comp=10)"
   ]
  },
  {
   "cell_type": "code",
   "execution_count": 350,
   "metadata": {},
   "outputs": [
    {
     "name": "stdout",
     "output_type": "stream",
     "text": [
      "Topic  0\n",
      "cell new use science human study protein research year system\n",
      "Topic  1\n",
      "cell t t cell immune protein cancer mouse tumor tissue stem cell\n",
      "Topic  2\n",
      "science cell research new scientist world u.s researcher national year\n",
      "Topic  3\n",
      "system surface solar pluto material new cell new horizon horizon datum\n",
      "Topic  4\n",
      "gene protein human disease new system virus pluto dna rna\n",
      "Topic  5\n",
      "change climate climate change human virus global specie ice cause impact\n",
      "Topic  6\n",
      "researcher virus material information potential offer laboratory instrumentation roundup human\n",
      "Topic  7\n",
      "virus zika antibody vaccine infect use zika virus infection atom report\n",
      "Topic  8\n",
      "protein virus antibody structure change climate zika science vaccine bind\n",
      "Topic  9\n",
      "issue 1 page page issue 2 science system 3 report immune\n"
     ]
    }
   ],
   "source": [
    "display_topics(lsa_cv1_model, lsa_cv_vect.get_feature_names(),10)"
   ]
  },
  {
   "cell_type": "code",
   "execution_count": 351,
   "metadata": {
    "collapsed": true
   },
   "outputs": [],
   "source": [
    "lsa_cv1_model2, lsa_cv1_model_transformed2 = lsa_cv(lsa_cv_vect_transformed2, n_comp=10)"
   ]
  },
  {
   "cell_type": "code",
   "execution_count": 352,
   "metadata": {},
   "outputs": [
    {
     "name": "stdout",
     "output_type": "stream",
     "text": [
      "Topic  0\n",
      "cell new use science human study protein research system year\n",
      "Topic  1\n",
      "cell t t cell immune protein cancer mouse tumor tissue stem cell\n",
      "Topic  2\n",
      "system material surface use solar pluto protein complex new horizon page\n",
      "Topic  3\n",
      "researcher information potential offer laboratory interest material newly apparatus roundup\n",
      "Topic  4\n",
      "cell new science system pluto solar research horizon new horizon surface\n",
      "Topic  5\n",
      "gene protein human disease virus dna rna genome genetic new\n",
      "Topic  6\n",
      "change climate human virus climate change specie global cause ice response\n",
      "Topic  7\n",
      "virus zika use study vaccine infect antibody zika virus human researcher\n",
      "Topic  8\n",
      "virus protein antibody structure zika vaccine science infect zika virus bind\n",
      "Topic  9\n",
      "issue 1 page page issue 2 science system 3 report immune\n"
     ]
    }
   ],
   "source": [
    "display_topics(lsa_cv1_model2, lsa_cv_vect2.get_feature_names(),10)"
   ]
  },
  {
   "cell_type": "code",
   "execution_count": 353,
   "metadata": {
    "collapsed": true
   },
   "outputs": [],
   "source": [
    "lsa_cv1_model3, lsa_cv1_model_transformed3 = lsa_cv(lsa_cv_vect_transformed3, n_comp=10)"
   ]
  },
  {
   "cell_type": "code",
   "execution_count": 354,
   "metadata": {},
   "outputs": [
    {
     "name": "stdout",
     "output_type": "stream",
     "text": [
      "Topic  0\n",
      "cell new use science human study protein research system year\n",
      "Topic  1\n",
      "cell t t cell immune protein cancer mouse tumor tissue stem cell\n",
      "Topic  2\n",
      "system pluto surface solar new horizon horizon solar system present moon analysis\n",
      "Topic  3\n",
      "science cell research new scientist world u.s year national t\n",
      "Topic  4\n",
      "researcher material information potential offer laboratory interest apparatus newly instrumentation\n",
      "Topic  5\n",
      "protein gene human disease rna dna virus new genome genetic\n",
      "Topic  6\n",
      "science protein structure complex research state use new atom material\n",
      "Topic  7\n",
      "change climate protein climate change leucine complex structure mtorc1 science policy\n",
      "Topic  8\n",
      "gene science expression mutation genome dna change genetic climate crispr\n",
      "Topic  9\n",
      "state human leucine study mtorc1 year find growth gene time\n"
     ]
    }
   ],
   "source": [
    "display_topics(lsa_cv1_model3, lsa_cv_vect3.get_feature_names(),10)"
   ]
  },
  {
   "cell_type": "code",
   "execution_count": 355,
   "metadata": {
    "collapsed": true
   },
   "outputs": [],
   "source": [
    "lsa_tf_model1, lsa_tf_model_transformed1 = lsa_tfidf(lsa_tf_vect_transformed, n_comp=10)"
   ]
  },
  {
   "cell_type": "code",
   "execution_count": 356,
   "metadata": {},
   "outputs": [
    {
     "name": "stdout",
     "output_type": "stream",
     "text": [
      "Topic  0\n",
      "weekly roundup information newly potential interest interest researcher newly offer instrumentation apparatus apparatus laboratory roundup information offer instrumentation weekly\n",
      "Topic  1\n",
      "cell science new use human research study change gene year\n",
      "Topic  2\n",
      "cell protein gene t t cell immune tumor dna cancer expression\n",
      "Topic  3\n",
      "cell science cancer t t cell immune research disease tumor virus\n",
      "Topic  4\n",
      "cell science t t cell quantum material atom research solar electron\n",
      "Topic  5\n",
      "protein dna gene science structure rna complex genome enzyme research\n",
      "Topic  6\n",
      "virus zika vaccine antibody zika virus infect infection viral ebola outbreak\n",
      "Topic  7\n",
      "carbon reaction bond c catalyst climate plant science enzyme methane\n",
      "Topic  8\n",
      "protein change climate science structure policy climate change electron state bind\n",
      "Topic  9\n",
      "protein ice planet year earth surface structure solar star crater\n"
     ]
    }
   ],
   "source": [
    "display_topics(lsa_tf_model1, lsa_tf_vect.get_feature_names(),10)"
   ]
  },
  {
   "cell_type": "code",
   "execution_count": 357,
   "metadata": {
    "collapsed": true
   },
   "outputs": [],
   "source": [
    "lsa_tf_model2, lsa_tf_model_transformed2 = lsa_tfidf(lsa_tf_vect_transformed2, n_comp=10)"
   ]
  },
  {
   "cell_type": "code",
   "execution_count": 358,
   "metadata": {},
   "outputs": [
    {
     "name": "stdout",
     "output_type": "stream",
     "text": [
      "Topic  0\n",
      "information newly offer instrumentation material potential interest apparatus laboratory material newly offer instrumentation apparatus newly offer instrumentation potential interest researcher offer instrumentation apparatus laboratory newly offer roundup information newly offer instrumentation apparatus laboratory\n",
      "Topic  1\n",
      "cell science new use human research study change gene year\n",
      "Topic  2\n",
      "cell protein gene t t cell immune tumor dna expression cancer\n",
      "Topic  3\n",
      "cell science cancer t t cell immune research disease tumor virus\n",
      "Topic  4\n",
      "cell science t t cell quantum material atom research electron state\n",
      "Topic  5\n",
      "protein dna gene science rna structure complex genome enzyme research\n",
      "Topic  6\n",
      "virus zika antibody vaccine zika virus infect infection viral ebola outbreak\n",
      "Topic  7\n",
      "carbon reaction bond c catalyst plant climate enzyme protein science\n",
      "Topic  8\n",
      "protein change climate science structure policy climate change electron bind state\n",
      "Topic  9\n",
      "ice protein year planet earth dna surface star gravitational crater\n"
     ]
    }
   ],
   "source": [
    "display_topics(lsa_tf_model2, lsa_tf_vect2.get_feature_names(),10)"
   ]
  },
  {
   "cell_type": "code",
   "execution_count": 359,
   "metadata": {
    "collapsed": true
   },
   "outputs": [],
   "source": [
    "lsa_tf_model3, lsa_tf_model_transformed3 = lsa_tfidf(lsa_tf_vect_transformed3, n_comp=10)"
   ]
  },
  {
   "cell_type": "code",
   "execution_count": 360,
   "metadata": {
    "scrolled": false
   },
   "outputs": [
    {
     "name": "stdout",
     "output_type": "stream",
     "text": [
      "Topic  0\n",
      "offer instrumentation apparatus information newly offer instrumentation material potential interest researcher material potential interest roundup information newly offer roundup information newly information newly information newly offer weekly roundup information newly apparatus laboratory material\n",
      "Topic  1\n",
      "cell science new human use research change gene year study\n",
      "Topic  2\n",
      "cell t t cell protein immune gene tumor dna expression cancer\n",
      "Topic  3\n",
      "surface pluto solar system material carbon new horizon atom horizon quantum\n",
      "Topic  4\n",
      "cell pluto new horizon horizon t t cell solar science system immune\n",
      "Topic  5\n",
      "cell t t cell quantum science material solar atom light state\n",
      "Topic  6\n",
      "climate change climate change ice t global t cell specie virus impact\n",
      "Topic  7\n",
      "virus antibody zika vaccine zika virus infect viral infection ebola zikv\n",
      "Topic  8\n",
      "carbon bond c reaction protein – h enzyme c – science\n",
      "Topic  9\n",
      "gene bond c specie – h c – sleep atom health\n"
     ]
    }
   ],
   "source": [
    "display_topics(lsa_tf_model3, lsa_tf_vect3.get_feature_names(),10)"
   ]
  },
  {
   "cell_type": "code",
   "execution_count": null,
   "metadata": {
    "collapsed": true
   },
   "outputs": [],
   "source": []
  },
  {
   "cell_type": "code",
   "execution_count": null,
   "metadata": {
    "collapsed": true
   },
   "outputs": [],
   "source": []
  },
  {
   "cell_type": "markdown",
   "metadata": {},
   "source": [
    "# Test NMF / tune parameters with tokenizer 1"
   ]
  },
  {
   "cell_type": "markdown",
   "metadata": {},
   "source": [
    "Different vectorizers"
   ]
  },
  {
   "cell_type": "code",
   "execution_count": 362,
   "metadata": {
    "collapsed": true
   },
   "outputs": [],
   "source": [
    "nmf_cv_vect, nmf_cv_vect_transformed = count_vectorizer(spacy_tokenizer_1, 5000, all_descriptions)"
   ]
  },
  {
   "cell_type": "code",
   "execution_count": 363,
   "metadata": {
    "collapsed": true
   },
   "outputs": [],
   "source": [
    "nmf_cv_vect2, nmf_cv_vect_transformed2 = count_vectorizer(spacy_tokenizer_1, 5000, all_descriptions, ngram_stop=4)"
   ]
  },
  {
   "cell_type": "code",
   "execution_count": 364,
   "metadata": {
    "collapsed": true
   },
   "outputs": [],
   "source": [
    "nmf_cv_vect3, nmf_cv_vect_transformed3 = count_vectorizer(spacy_tokenizer_1, 110000, all_descriptions)"
   ]
  },
  {
   "cell_type": "code",
   "execution_count": 365,
   "metadata": {
    "collapsed": true
   },
   "outputs": [],
   "source": [
    "nmf_tf_vect, nmf_tf_vect_transformed = tfidf_vectorizer(spacy_tokenizer_1, 5000, all_descriptions)"
   ]
  },
  {
   "cell_type": "code",
   "execution_count": 366,
   "metadata": {
    "collapsed": true
   },
   "outputs": [],
   "source": [
    "nmf_tf_vect2, nmf_tf_vect_transformed2 = tfidf_vectorizer(spacy_tokenizer_1, 5000, all_descriptions, ngram_stop=4)"
   ]
  },
  {
   "cell_type": "code",
   "execution_count": 367,
   "metadata": {
    "collapsed": true
   },
   "outputs": [],
   "source": [
    "nmf_tf_vect3, nmf_tf_vect_transformed3 = tfidf_vectorizer(spacy_tokenizer_1, 110000, all_descriptions)"
   ]
  },
  {
   "cell_type": "markdown",
   "metadata": {},
   "source": [
    "Different models"
   ]
  },
  {
   "cell_type": "code",
   "execution_count": 368,
   "metadata": {
    "collapsed": true
   },
   "outputs": [],
   "source": [
    "nmf_cv1_model, nmf_cv1_model_transformed = nmf_cv(nmf_cv_vect_transformed, n_comp=10)"
   ]
  },
  {
   "cell_type": "code",
   "execution_count": 369,
   "metadata": {},
   "outputs": [
    {
     "name": "stdout",
     "output_type": "stream",
     "text": [
      "Topic  0\n",
      "use state material atom high electron quantum carbon reaction light\n",
      "Topic  1\n",
      "cell t t cell immune cancer stem mouse stem cell tumor tissue\n",
      "Topic  2\n",
      "science research new world scientist u.s national researcher institute university\n",
      "Topic  3\n",
      "system surface pluto new solar horizon new horizon datum solar system present\n",
      "Topic  4\n",
      "gene human dna genome genetic disease study rna expression mutation\n",
      "Topic  5\n",
      "change climate climate change global ice impact increase carbon model temperature\n",
      "Topic  6\n",
      "virus zika vaccine human antibody infect zika virus health infection cause\n",
      "Topic  7\n",
      "material researcher information potential offer laboratory interest newly apparatus material potential\n",
      "Topic  8\n",
      "protein structure complex bind function site enzyme target rna membrane\n",
      "Topic  9\n",
      "1 issue 2 pageof pageof issue 3 report 4 specie system\n"
     ]
    }
   ],
   "source": [
    "display_topics(nmf_cv1_model, nmf_cv_vect.get_feature_names(),10)"
   ]
  },
  {
   "cell_type": "code",
   "execution_count": 371,
   "metadata": {
    "collapsed": true
   },
   "outputs": [],
   "source": [
    "nmf_cv1_model2, nmf_cv1_model_transformed2 = nmf_cv(nmf_cv_vect_transformed2, n_comp=10)"
   ]
  },
  {
   "cell_type": "code",
   "execution_count": 372,
   "metadata": {},
   "outputs": [
    {
     "name": "stdout",
     "output_type": "stream",
     "text": [
      "Topic  0\n",
      "use material state atom high electron quantum light carbon reaction\n",
      "Topic  1\n",
      "cell t t cell immune cancer mouse stem stem cell tumor tissue\n",
      "Topic  2\n",
      "system pluto surface new solar horizon new horizon datum solar system present\n",
      "Topic  3\n",
      "material researcher information potential offer laboratory interest newly apparatus material potential\n",
      "Topic  4\n",
      "science research new world scientist u.s national researcher institute university\n",
      "Topic  5\n",
      "gene human dna genome genetic disease study rna expression mutation\n",
      "Topic  6\n",
      "change climate climate change global ice impact increase carbon model temperature\n",
      "Topic  7\n",
      "virus zika vaccine human antibody infect zika virus health infection cause\n",
      "Topic  8\n",
      "protein structure complex bind function site enzyme target rna membrane\n",
      "Topic  9\n",
      "1 issue 2 pageof pageof issue 3 report system 4 specie\n"
     ]
    }
   ],
   "source": [
    "display_topics(nmf_cv1_model2, nmf_cv_vect2.get_feature_names(),10)"
   ]
  },
  {
   "cell_type": "code",
   "execution_count": 373,
   "metadata": {
    "collapsed": true
   },
   "outputs": [],
   "source": [
    "nmf_cv1_model3, nmf_cv1_model_transformed3 = nmf_cv(nmf_cv_vect_transformed3, n_comp=10)"
   ]
  },
  {
   "cell_type": "code",
   "execution_count": 374,
   "metadata": {},
   "outputs": [
    {
     "name": "stdout",
     "output_type": "stream",
     "text": [
      "Topic  0\n",
      "use state material atom electron quantum high reaction magnetic carbon\n",
      "Topic  1\n",
      "cell t t cell immune cancer mouse stem stem cell tumor tissue\n",
      "Topic  2\n",
      "science research new world scientist u.s national researcher university institute\n",
      "Topic  3\n",
      "system surface pluto new solar horizon new horizon datum solar system present\n",
      "Topic  4\n",
      "gene human dna genome genetic disease study rna expression mutation\n",
      "Topic  5\n",
      "change climate climate change global ice impact carbon temperature increase model\n",
      "Topic  6\n",
      "virus zika vaccine human antibody infect zika virus infection health cause\n",
      "Topic  7\n",
      "material researcher information potential offer laboratory interest newly apparatus material potential\n",
      "Topic  8\n",
      "protein structure complex bind function site enzyme target rna membrane\n",
      "Topic  9\n",
      "1 issue 2 pageof pageof issue 3 report 4 specie system\n"
     ]
    }
   ],
   "source": [
    "display_topics(nmf_cv1_model3, nmf_cv_vect3.get_feature_names(),10)"
   ]
  },
  {
   "cell_type": "code",
   "execution_count": 375,
   "metadata": {
    "collapsed": true
   },
   "outputs": [],
   "source": [
    "nmf_tf_model1, nmf_tf_model_transformed1 = nmf_tfidf(nmf_tf_vect_transformed, n_comp=10)"
   ]
  },
  {
   "cell_type": "code",
   "execution_count": 376,
   "metadata": {},
   "outputs": [
    {
     "name": "stdout",
     "output_type": "stream",
     "text": [
      "Topic  0\n",
      "offer instrumentation interest researcher weekly weekly roundup roundup information instrumentation apparatus apparatus laboratory laboratory material information newly newly offer\n",
      "Topic  1\n",
      "gene genome dna human genetic expression disease mutation study rna\n",
      "Topic  2\n",
      "cell t t cell immune tumor cancer tissue immune cell stem mouse\n",
      "Topic  3\n",
      "quantum material electron optical atom system magnetic state light use\n",
      "Topic  4\n",
      "science research new u.s scientist world national university institute researcher\n",
      "Topic  5\n",
      "climate change climate change global ice impact ecosystem specie water temperature\n",
      "Topic  6\n",
      "virus zika vaccine antibody zika virus infect infection health ebola viral\n",
      "Topic  7\n",
      "reaction carbon bond catalyst c metal molecule h hydrogen methane\n",
      "Topic  8\n",
      "plant crop soil growth specie yield light sugar nitrogen pathway\n",
      "Topic  9\n",
      "protein structure complex rna bind membrane enzyme function site dna\n"
     ]
    }
   ],
   "source": [
    "display_topics(nmf_tf_model1, nmf_tf_vect.get_feature_names(),10)"
   ]
  },
  {
   "cell_type": "code",
   "execution_count": 377,
   "metadata": {
    "collapsed": true
   },
   "outputs": [],
   "source": [
    "nmf_tf_model2, nmf_tf_model_transformed2 = nmf_tfidf(nmf_tf_vect_transformed2, n_comp=10)"
   ]
  },
  {
   "cell_type": "code",
   "execution_count": 378,
   "metadata": {},
   "outputs": [
    {
     "name": "stdout",
     "output_type": "stream",
     "text": [
      "Topic  0\n",
      "roundup information newly offer laboratory material offer instrumentation apparatus laboratory offer instrumentation apparatus offer instrumentation interest researcher laboratory material potential interest laboratory material potential roundup information instrumentation apparatus laboratory material\n",
      "Topic  1\n",
      "gene genome human genetic dna expression plant disease evolution mutation\n",
      "Topic  2\n",
      "cell t t cell immune tumor cancer immune cell tissue mouse stem\n",
      "Topic  3\n",
      "quantum electron material optical atom state magnetic device use particle\n",
      "Topic  4\n",
      "science research new u.s world scientist national university institute researcher\n",
      "Topic  5\n",
      "climate change climate change global specie ecosystem temperature impact increase water\n",
      "Topic  6\n",
      "virus zika vaccine antibody zika virus infect infection health ebola viral\n",
      "Topic  7\n",
      "reaction carbon bond catalyst c metal molecule methane hydrogen organic\n",
      "Topic  8\n",
      "protein structure complex rna bind dna enzyme membrane function site\n",
      "Topic  9\n",
      "star planet earth gravitational wave galaxy year solar surface gravitational wave\n"
     ]
    }
   ],
   "source": [
    "display_topics(nmf_tf_model2, nmf_tf_vect2.get_feature_names(),10)"
   ]
  },
  {
   "cell_type": "code",
   "execution_count": 379,
   "metadata": {
    "collapsed": true
   },
   "outputs": [],
   "source": [
    "nmf_tf_model3, nmf_tf_model_transformed3 = nmf_tfidf(nmf_tf_vect_transformed3, n_comp=10)"
   ]
  },
  {
   "cell_type": "code",
   "execution_count": 380,
   "metadata": {
    "scrolled": false
   },
   "outputs": [
    {
     "name": "stdout",
     "output_type": "stream",
     "text": [
      "Topic  0\n",
      "offer instrumentation weekly roundup laboratory material instrumentation apparatus potential interest information newly interest researcher roundup information apparatus laboratory weekly\n",
      "Topic  1\n",
      "science research new u.s world scientist national researcher institute university\n",
      "Topic  2\n",
      "cell t t cell immune tumor cancer immune cell stem cell stem tissue\n",
      "Topic  3\n",
      "quantum electron atom optical material magnetic state device use light\n",
      "Topic  4\n",
      "pluto new horizon horizon system solar surface moon solar system analysis present\n",
      "Topic  5\n",
      "gene dna genome rna genetic expression mutation human crispr disease\n",
      "Topic  6\n",
      "virus antibody zika vaccine infect zika virus viral ebola infection ebola virus\n",
      "Topic  7\n",
      "climate change climate change ice specie plant global impact temperature ecosystem\n",
      "Topic  8\n",
      "bond reaction c carbon catalyst h metal – c – h bond\n",
      "Topic  9\n",
      "protein structure complex leucine mtorc1 bind sestrin2 enzyme function membrane\n"
     ]
    }
   ],
   "source": [
    "display_topics(nmf_tf_model3, nmf_tf_vect3.get_feature_names(),10)"
   ]
  },
  {
   "cell_type": "markdown",
   "metadata": {},
   "source": [
    "# Test NMF / tune parameters with tokenizer 2"
   ]
  },
  {
   "cell_type": "markdown",
   "metadata": {},
   "source": [
    "Different vectorizers"
   ]
  },
  {
   "cell_type": "code",
   "execution_count": 381,
   "metadata": {
    "collapsed": true
   },
   "outputs": [],
   "source": [
    "nmf_cv_vect, nmf_cv_vect_transformed = count_vectorizer(spacy_tokenizer_2, 5000, all_descriptions)"
   ]
  },
  {
   "cell_type": "code",
   "execution_count": 385,
   "metadata": {
    "collapsed": true
   },
   "outputs": [],
   "source": [
    "nmf_cv_vect2, nmf_cv_vect_transformed2 = count_vectorizer(spacy_tokenizer_2, 5000, all_descriptions, ngram_stop=4)"
   ]
  },
  {
   "cell_type": "code",
   "execution_count": 386,
   "metadata": {
    "collapsed": true
   },
   "outputs": [],
   "source": [
    "nmf_cv_vect3, nmf_cv_vect_transformed3 = count_vectorizer(spacy_tokenizer_2, 110000, all_descriptions)"
   ]
  },
  {
   "cell_type": "code",
   "execution_count": 387,
   "metadata": {
    "collapsed": true
   },
   "outputs": [],
   "source": [
    "nmf_tf_vect, nmf_tf_vect_transformed = tfidf_vectorizer(spacy_tokenizer_2, 5000, all_descriptions)"
   ]
  },
  {
   "cell_type": "code",
   "execution_count": 388,
   "metadata": {
    "collapsed": true
   },
   "outputs": [],
   "source": [
    "nmf_tf_vect2, nmf_tf_vect_transformed2 = tfidf_vectorizer(spacy_tokenizer_2, 5000, all_descriptions, ngram_stop=4)"
   ]
  },
  {
   "cell_type": "code",
   "execution_count": 389,
   "metadata": {
    "collapsed": true
   },
   "outputs": [],
   "source": [
    "nmf_tf_vect3, nmf_tf_vect_transformed3 = tfidf_vectorizer(spacy_tokenizer_2, 110000, all_descriptions)"
   ]
  },
  {
   "cell_type": "markdown",
   "metadata": {},
   "source": [
    "Different models"
   ]
  },
  {
   "cell_type": "code",
   "execution_count": 391,
   "metadata": {
    "collapsed": true
   },
   "outputs": [],
   "source": [
    "nmf_cv1_model, nmf_cv1_model_transformed = nmf_cv(nmf_cv_vect_transformed, n_comp=10)"
   ]
  },
  {
   "cell_type": "code",
   "execution_count": 392,
   "metadata": {},
   "outputs": [
    {
     "name": "stdout",
     "output_type": "stream",
     "text": [
      "Topic  0\n",
      "use state material atom electron quantum high reaction light magnetic\n",
      "Topic  1\n",
      "cell t t cell immune cancer mouse stem stem cell tumor tissue\n",
      "Topic  2\n",
      "science research new world scientist u.s national researcher year institute\n",
      "Topic  3\n",
      "system surface pluto new solar horizon new horizon datum solar system present\n",
      "Topic  4\n",
      "virus zika vaccine human antibody infect zika virus health infection cause\n",
      "Topic  5\n",
      "change climate climate change global ice impact carbon increase model temperature\n",
      "Topic  6\n",
      "material researcher information potential offer laboratory interest newly apparatus material potential\n",
      "Topic  7\n",
      "gene human dna genome genetic disease study rna expression mutation\n",
      "Topic  8\n",
      "protein structure complex bind function site enzyme target rna membrane\n",
      "Topic  9\n",
      "1 issue pageof pageof issue 2 3 report specie system plant\n"
     ]
    }
   ],
   "source": [
    "display_topics(nmf_cv1_model, nmf_cv_vect.get_feature_names(),10)"
   ]
  },
  {
   "cell_type": "code",
   "execution_count": 393,
   "metadata": {
    "collapsed": true
   },
   "outputs": [],
   "source": [
    "nmf_cv1_model2, nmf_cv1_model_transformed2 = nmf_cv(nmf_cv_vect_transformed2, n_comp=10)"
   ]
  },
  {
   "cell_type": "code",
   "execution_count": 394,
   "metadata": {},
   "outputs": [
    {
     "name": "stdout",
     "output_type": "stream",
     "text": [
      "Topic  0\n",
      "use state material quantum electron magnetic high light atom energy\n",
      "Topic  1\n",
      "cell t t cell immune cancer stem mouse stem cell tumor tissue\n",
      "Topic  2\n",
      "system pluto surface new solar horizon new horizon solar system datum present\n",
      "Topic  3\n",
      "material researcher potential information offer interest laboratory newly apparatus material potential\n",
      "Topic  4\n",
      "science research new world scientist u.s national researcher year institute\n",
      "Topic  5\n",
      "gene human dna disease genome genetic study expression rna mutation\n",
      "Topic  6\n",
      "change climate climate change global ice impact increase policy specie temperature\n",
      "Topic  7\n",
      "virus zika vaccine human antibody infect zika virus health infection cause\n",
      "Topic  8\n",
      "protein structure complex bind function site enzyme target rna design\n",
      "Topic  9\n",
      "issue 1 bond pageof pageof issue – carbon reaction 2 c\n"
     ]
    }
   ],
   "source": [
    "display_topics(nmf_cv1_model2, nmf_cv_vect2.get_feature_names(),10)"
   ]
  },
  {
   "cell_type": "code",
   "execution_count": 334,
   "metadata": {
    "collapsed": true
   },
   "outputs": [],
   "source": [
    "lsa_cv1_model3, lsa_cv1_model_transformed3 = lsa_cv(lsa_cv_vect_transformed3, n_comp=10)"
   ]
  },
  {
   "cell_type": "code",
   "execution_count": 335,
   "metadata": {},
   "outputs": [
    {
     "name": "stdout",
     "output_type": "stream",
     "text": [
      "Topic  0\n",
      "cell new use human science study protein system research disease\n",
      "Topic  1\n",
      "cell t t cell immune protein cancer mouse tumor tissue stem cell\n",
      "Topic  2\n",
      "system pluto surface solar new horizon horizon solar system present moon analysis\n",
      "Topic  3\n",
      "science cell research new world scientist u.s national t year\n",
      "Topic  4\n",
      "researcher material information laboratory offer potential interest apparatus roundup instrumentation\n",
      "Topic  5\n",
      "protein gene human disease rna virus dna new genome genetic\n",
      "Topic  6\n",
      "science protein structure complex research use state new atom material\n",
      "Topic  7\n",
      "change climate protein climate change leucine complex structure mtorc1 science policy\n",
      "Topic  8\n",
      "gene science change dna expression mutation genome climate genetic crispr\n",
      "Topic  9\n",
      "state human leucine study mtorc1 growth gene time electron sestrin2\n"
     ]
    }
   ],
   "source": [
    "display_topics(lsa_cv1_model3, lsa_cv_vect3.get_feature_names(),10)"
   ]
  },
  {
   "cell_type": "code",
   "execution_count": 336,
   "metadata": {
    "collapsed": true
   },
   "outputs": [],
   "source": [
    "lsa_tf_model1, lsa_tf_model_transformed1 = lsa_tfidf(lsa_tf_vect_transformed, n_comp=10)"
   ]
  },
  {
   "cell_type": "code",
   "execution_count": 337,
   "metadata": {},
   "outputs": [
    {
     "name": "stdout",
     "output_type": "stream",
     "text": [
      "Topic  0\n",
      "potential interest weekly newly offer weekly roundup laboratory material apparatus laboratory offer instrumentation roundup information information newly instrumentation apparatus\n",
      "Topic  1\n",
      "cell science new use human research study change gene protein\n",
      "Topic  2\n",
      "cell protein gene t t cell immune tumor dna expression cancer\n",
      "Topic  3\n",
      "cell science cancer t t cell research immune disease tumor virus\n",
      "Topic  4\n",
      "cell science t t cell quantum material atom research solar electron\n",
      "Topic  5\n",
      "protein dna gene rna structure science genome complex enzyme research\n",
      "Topic  6\n",
      "virus zika vaccine antibody zika virus infect infection viral ebola outbreak\n",
      "Topic  7\n",
      "carbon reaction bond c catalyst climate plant science enzyme methane\n",
      "Topic  8\n",
      "protein change climate science structure policy climate change electron state bind\n",
      "Topic  9\n",
      "protein ice planet earth surface year structure star solar crater\n"
     ]
    }
   ],
   "source": [
    "display_topics(lsa_tf_model1, lsa_tf_vect.get_feature_names(),10)"
   ]
  },
  {
   "cell_type": "code",
   "execution_count": 338,
   "metadata": {
    "collapsed": true
   },
   "outputs": [],
   "source": [
    "lsa_tf_model2, lsa_tf_model_transformed2 = lsa_tfidf(lsa_tf_vect_transformed2, n_comp=10)"
   ]
  },
  {
   "cell_type": "code",
   "execution_count": 339,
   "metadata": {},
   "outputs": [
    {
     "name": "stdout",
     "output_type": "stream",
     "text": [
      "Topic  0\n",
      "apparatus laboratory material information newly offer instrumentation potential interest researcher material potential interest newly offer interest researcher apparatus laboratory material potential material potential interest researcher apparatus laboratory newly offer instrumentation\n",
      "Topic  1\n",
      "cell science new use human research study change gene protein\n",
      "Topic  2\n",
      "cell protein gene t t cell immune tumor dna cancer expression\n",
      "Topic  3\n",
      "cell science cancer t t cell research immune tumor disease virus\n",
      "Topic  4\n",
      "cell science t t cell quantum material atom research electron state\n",
      "Topic  5\n",
      "protein dna gene rna structure science genome complex enzyme research\n",
      "Topic  6\n",
      "virus zika vaccine antibody zika virus infect infection viral ebola outbreak\n",
      "Topic  7\n",
      "carbon reaction bond c catalyst plant climate enzyme protein science\n",
      "Topic  8\n",
      "protein change climate structure science climate change policy bind electron state\n",
      "Topic  9\n",
      "ice protein planet earth year star gravitational surface wave crater\n"
     ]
    }
   ],
   "source": [
    "display_topics(lsa_tf_model2, lsa_tf_vect2.get_feature_names(),10)"
   ]
  },
  {
   "cell_type": "code",
   "execution_count": 340,
   "metadata": {
    "collapsed": true
   },
   "outputs": [],
   "source": [
    "lsa_tf_model3, lsa_tf_model_transformed3 = lsa_tfidf(lsa_tf_vect_transformed3, n_comp=10)"
   ]
  },
  {
   "cell_type": "code",
   "execution_count": 341,
   "metadata": {
    "scrolled": true
   },
   "outputs": [
    {
     "name": "stdout",
     "output_type": "stream",
     "text": [
      "Topic  0\n",
      "potential interest offer instrumentation material potential interest researcher information newly offer instrumentation apparatus laboratory material instrumentation apparatus laboratory laboratory material potential interest information newly interest researcher instrumentation apparatus\n",
      "Topic  1\n",
      "cell science new human use research change study gene protein\n",
      "Topic  2\n",
      "cell t t cell protein immune gene tumor dna cancer expression\n",
      "Topic  3\n",
      "pluto surface solar system material new horizon carbon horizon quantum atom\n",
      "Topic  4\n",
      "cell pluto new horizon t horizon t cell science solar immune system\n",
      "Topic  5\n",
      "cell t t cell science quantum material solar light atom state\n",
      "Topic  6\n",
      "climate change climate change ice t t cell global virus specie impact\n",
      "Topic  7\n",
      "virus zika antibody vaccine zika virus infect viral infection ebola zikv\n",
      "Topic  8\n",
      "carbon bond c reaction protein – h c – enzyme science\n",
      "Topic  9\n",
      "protein structure climate ice change bind leucine rna antibody mtorc1\n"
     ]
    }
   ],
   "source": [
    "display_topics(lsa_tf_model3, lsa_tf_vect3.get_feature_names(),10)"
   ]
  },
  {
   "cell_type": "markdown",
   "metadata": {},
   "source": [
    "### Test LSA / tune parameters with tokenizer 3"
   ]
  },
  {
   "cell_type": "markdown",
   "metadata": {},
   "source": [
    "Different vectorizers"
   ]
  },
  {
   "cell_type": "code",
   "execution_count": 343,
   "metadata": {
    "collapsed": true
   },
   "outputs": [],
   "source": [
    "lsa_cv_vect, lsa_cv_vect_transformed = count_vectorizer(spacy_tokenizer_3, 5000, all_descriptions)"
   ]
  },
  {
   "cell_type": "code",
   "execution_count": 344,
   "metadata": {
    "collapsed": true
   },
   "outputs": [],
   "source": [
    "lsa_cv_vect2, lsa_cv_vect_transformed2 = count_vectorizer(spacy_tokenizer_3, 5000, all_descriptions, ngram_stop=4)"
   ]
  },
  {
   "cell_type": "code",
   "execution_count": 345,
   "metadata": {
    "collapsed": true
   },
   "outputs": [],
   "source": [
    "lsa_cv_vect3, lsa_cv_vect_transformed3 = count_vectorizer(spacy_tokenizer_3, 110000, all_descriptions, ngram_stop=4)"
   ]
  },
  {
   "cell_type": "code",
   "execution_count": 346,
   "metadata": {
    "collapsed": true
   },
   "outputs": [],
   "source": [
    "lsa_tf_vect, lsa_tf_vect_transformed = tfidf_vectorizer(spacy_tokenizer_3, 5000, all_descriptions)"
   ]
  },
  {
   "cell_type": "code",
   "execution_count": 347,
   "metadata": {
    "collapsed": true
   },
   "outputs": [],
   "source": [
    "lsa_tf_vect2, lsa_tf_vect_transformed2 = tfidf_vectorizer(spacy_tokenizer_3, 5000, all_descriptions, ngram_stop=4)"
   ]
  },
  {
   "cell_type": "code",
   "execution_count": 348,
   "metadata": {
    "collapsed": true
   },
   "outputs": [],
   "source": [
    "lsa_tf_vect3, lsa_tf_vect_transformed3 = tfidf_vectorizer(spacy_tokenizer_3, 110000, all_descriptions, ngram_stop=4)"
   ]
  },
  {
   "cell_type": "markdown",
   "metadata": {},
   "source": [
    "Different models"
   ]
  },
  {
   "cell_type": "code",
   "execution_count": 349,
   "metadata": {
    "collapsed": true
   },
   "outputs": [],
   "source": [
    "lsa_cv1_model, lsa_cv1_model_transformed = lsa_cv(lsa_cv_vect_transformed, n_comp=10)"
   ]
  },
  {
   "cell_type": "code",
   "execution_count": 350,
   "metadata": {},
   "outputs": [
    {
     "name": "stdout",
     "output_type": "stream",
     "text": [
      "Topic  0\n",
      "cell new use science human study protein research year system\n",
      "Topic  1\n",
      "cell t t cell immune protein cancer mouse tumor tissue stem cell\n",
      "Topic  2\n",
      "science cell research new scientist world u.s researcher national year\n",
      "Topic  3\n",
      "system surface solar pluto material new cell new horizon horizon datum\n",
      "Topic  4\n",
      "gene protein human disease new system virus pluto dna rna\n",
      "Topic  5\n",
      "change climate climate change human virus global specie ice cause impact\n",
      "Topic  6\n",
      "researcher virus material information potential offer laboratory instrumentation roundup human\n",
      "Topic  7\n",
      "virus zika antibody vaccine infect use zika virus infection atom report\n",
      "Topic  8\n",
      "protein virus antibody structure change climate zika science vaccine bind\n",
      "Topic  9\n",
      "issue 1 page page issue 2 science system 3 report immune\n"
     ]
    }
   ],
   "source": [
    "display_topics(lsa_cv1_model, lsa_cv_vect.get_feature_names(),10)"
   ]
  },
  {
   "cell_type": "code",
   "execution_count": 351,
   "metadata": {
    "collapsed": true
   },
   "outputs": [],
   "source": [
    "lsa_cv1_model2, lsa_cv1_model_transformed2 = lsa_cv(lsa_cv_vect_transformed2, n_comp=10)"
   ]
  },
  {
   "cell_type": "code",
   "execution_count": 352,
   "metadata": {},
   "outputs": [
    {
     "name": "stdout",
     "output_type": "stream",
     "text": [
      "Topic  0\n",
      "cell new use science human study protein research system year\n",
      "Topic  1\n",
      "cell t t cell immune protein cancer mouse tumor tissue stem cell\n",
      "Topic  2\n",
      "system material surface use solar pluto protein complex new horizon page\n",
      "Topic  3\n",
      "researcher information potential offer laboratory interest material newly apparatus roundup\n",
      "Topic  4\n",
      "cell new science system pluto solar research horizon new horizon surface\n",
      "Topic  5\n",
      "gene protein human disease virus dna rna genome genetic new\n",
      "Topic  6\n",
      "change climate human virus climate change specie global cause ice response\n",
      "Topic  7\n",
      "virus zika use study vaccine infect antibody zika virus human researcher\n",
      "Topic  8\n",
      "virus protein antibody structure zika vaccine science infect zika virus bind\n",
      "Topic  9\n",
      "issue 1 page page issue 2 science system 3 report immune\n"
     ]
    }
   ],
   "source": [
    "display_topics(lsa_cv1_model2, lsa_cv_vect2.get_feature_names(),10)"
   ]
  },
  {
   "cell_type": "code",
   "execution_count": 353,
   "metadata": {
    "collapsed": true
   },
   "outputs": [],
   "source": [
    "lsa_cv1_model3, lsa_cv1_model_transformed3 = lsa_cv(lsa_cv_vect_transformed3, n_comp=10)"
   ]
  },
  {
   "cell_type": "code",
   "execution_count": 354,
   "metadata": {},
   "outputs": [
    {
     "name": "stdout",
     "output_type": "stream",
     "text": [
      "Topic  0\n",
      "cell new use science human study protein research system year\n",
      "Topic  1\n",
      "cell t t cell immune protein cancer mouse tumor tissue stem cell\n",
      "Topic  2\n",
      "system pluto surface solar new horizon horizon solar system present moon analysis\n",
      "Topic  3\n",
      "science cell research new scientist world u.s year national t\n",
      "Topic  4\n",
      "researcher material information potential offer laboratory interest apparatus newly instrumentation\n",
      "Topic  5\n",
      "protein gene human disease rna dna virus new genome genetic\n",
      "Topic  6\n",
      "science protein structure complex research state use new atom material\n",
      "Topic  7\n",
      "change climate protein climate change leucine complex structure mtorc1 science policy\n",
      "Topic  8\n",
      "gene science expression mutation genome dna change genetic climate crispr\n",
      "Topic  9\n",
      "state human leucine study mtorc1 year find growth gene time\n"
     ]
    }
   ],
   "source": [
    "display_topics(lsa_cv1_model3, lsa_cv_vect3.get_feature_names(),10)"
   ]
  },
  {
   "cell_type": "code",
   "execution_count": 355,
   "metadata": {
    "collapsed": true
   },
   "outputs": [],
   "source": [
    "lsa_tf_model1, lsa_tf_model_transformed1 = lsa_tfidf(lsa_tf_vect_transformed, n_comp=10)"
   ]
  },
  {
   "cell_type": "code",
   "execution_count": 356,
   "metadata": {},
   "outputs": [
    {
     "name": "stdout",
     "output_type": "stream",
     "text": [
      "Topic  0\n",
      "weekly roundup information newly potential interest interest researcher newly offer instrumentation apparatus apparatus laboratory roundup information offer instrumentation weekly\n",
      "Topic  1\n",
      "cell science new use human research study change gene year\n",
      "Topic  2\n",
      "cell protein gene t t cell immune tumor dna cancer expression\n",
      "Topic  3\n",
      "cell science cancer t t cell immune research disease tumor virus\n",
      "Topic  4\n",
      "cell science t t cell quantum material atom research solar electron\n",
      "Topic  5\n",
      "protein dna gene science structure rna complex genome enzyme research\n",
      "Topic  6\n",
      "virus zika vaccine antibody zika virus infect infection viral ebola outbreak\n",
      "Topic  7\n",
      "carbon reaction bond c catalyst climate plant science enzyme methane\n",
      "Topic  8\n",
      "protein change climate science structure policy climate change electron state bind\n",
      "Topic  9\n",
      "protein ice planet year earth surface structure solar star crater\n"
     ]
    }
   ],
   "source": [
    "display_topics(lsa_tf_model1, lsa_tf_vect.get_feature_names(),10)"
   ]
  },
  {
   "cell_type": "code",
   "execution_count": 357,
   "metadata": {
    "collapsed": true
   },
   "outputs": [],
   "source": [
    "lsa_tf_model2, lsa_tf_model_transformed2 = lsa_tfidf(lsa_tf_vect_transformed2, n_comp=10)"
   ]
  },
  {
   "cell_type": "code",
   "execution_count": 358,
   "metadata": {},
   "outputs": [
    {
     "name": "stdout",
     "output_type": "stream",
     "text": [
      "Topic  0\n",
      "information newly offer instrumentation material potential interest apparatus laboratory material newly offer instrumentation apparatus newly offer instrumentation potential interest researcher offer instrumentation apparatus laboratory newly offer roundup information newly offer instrumentation apparatus laboratory\n",
      "Topic  1\n",
      "cell science new use human research study change gene year\n",
      "Topic  2\n",
      "cell protein gene t t cell immune tumor dna expression cancer\n",
      "Topic  3\n",
      "cell science cancer t t cell immune research disease tumor virus\n",
      "Topic  4\n",
      "cell science t t cell quantum material atom research electron state\n",
      "Topic  5\n",
      "protein dna gene science rna structure complex genome enzyme research\n",
      "Topic  6\n",
      "virus zika antibody vaccine zika virus infect infection viral ebola outbreak\n",
      "Topic  7\n",
      "carbon reaction bond c catalyst plant climate enzyme protein science\n",
      "Topic  8\n",
      "protein change climate science structure policy climate change electron bind state\n",
      "Topic  9\n",
      "ice protein year planet earth dna surface star gravitational crater\n"
     ]
    }
   ],
   "source": [
    "display_topics(lsa_tf_model2, lsa_tf_vect2.get_feature_names(),10)"
   ]
  },
  {
   "cell_type": "code",
   "execution_count": 359,
   "metadata": {
    "collapsed": true
   },
   "outputs": [],
   "source": [
    "lsa_tf_model3, lsa_tf_model_transformed3 = lsa_tfidf(lsa_tf_vect_transformed3, n_comp=10)"
   ]
  },
  {
   "cell_type": "code",
   "execution_count": 360,
   "metadata": {
    "scrolled": false
   },
   "outputs": [
    {
     "name": "stdout",
     "output_type": "stream",
     "text": [
      "Topic  0\n",
      "offer instrumentation apparatus information newly offer instrumentation material potential interest researcher material potential interest roundup information newly offer roundup information newly information newly information newly offer weekly roundup information newly apparatus laboratory material\n",
      "Topic  1\n",
      "cell science new human use research change gene year study\n",
      "Topic  2\n",
      "cell t t cell protein immune gene tumor dna expression cancer\n",
      "Topic  3\n",
      "surface pluto solar system material carbon new horizon atom horizon quantum\n",
      "Topic  4\n",
      "cell pluto new horizon horizon t t cell solar science system immune\n",
      "Topic  5\n",
      "cell t t cell quantum science material solar atom light state\n",
      "Topic  6\n",
      "climate change climate change ice t global t cell specie virus impact\n",
      "Topic  7\n",
      "virus antibody zika vaccine zika virus infect viral infection ebola zikv\n",
      "Topic  8\n",
      "carbon bond c reaction protein – h enzyme c – science\n",
      "Topic  9\n",
      "gene bond c specie – h c – sleep atom health\n"
     ]
    }
   ],
   "source": [
    "display_topics(lsa_tf_model3, lsa_tf_vect3.get_feature_names(),10)"
   ]
  },
  {
   "cell_type": "code",
   "execution_count": null,
   "metadata": {
    "collapsed": true
   },
   "outputs": [],
   "source": []
  },
  {
   "cell_type": "code",
   "execution_count": null,
   "metadata": {
    "collapsed": true
   },
   "outputs": [],
   "source": []
  },
  {
   "cell_type": "code",
   "execution_count": null,
   "metadata": {
    "collapsed": true
   },
   "outputs": [],
   "source": []
  },
  {
   "cell_type": "markdown",
   "metadata": {},
   "source": [
    "## Testing functions to reproduce above results"
   ]
  },
  {
   "cell_type": "code",
   "execution_count": 236,
   "metadata": {
    "collapsed": true
   },
   "outputs": [],
   "source": [
    "vect, vect_transformed = count_vectorizer(spacy_tokenizer, 5000, all_descriptions)"
   ]
  },
  {
   "cell_type": "code",
   "execution_count": 237,
   "metadata": {
    "collapsed": true
   },
   "outputs": [],
   "source": [
    "model, lda = LDA_options(vectorizer, 10)"
   ]
  },
  {
   "cell_type": "code",
   "execution_count": 238,
   "metadata": {},
   "outputs": [
    {
     "data": {
      "text/plain": [
       "array([[ 0.00232595,  0.00232564,  0.00232618,  0.00232725,  0.00232609,\n",
       "         0.97906605,  0.0023256 ,  0.00232587,  0.00232564,  0.00232574],\n",
       "       [ 0.00312508,  0.00312504,  0.00312527,  0.82336822,  0.00312502,\n",
       "         0.00312575,  0.003125  ,  0.15163022,  0.00312527,  0.00312513],\n",
       "       [ 0.00125006,  0.00125002,  0.0012501 ,  0.98874822,  0.00125   ,\n",
       "         0.00125038,  0.00125   ,  0.00125019,  0.00125056,  0.00125047]])"
      ]
     },
     "execution_count": 238,
     "metadata": {},
     "output_type": "execute_result"
    }
   ],
   "source": [
    "lda[:3]"
   ]
  },
  {
   "cell_type": "code",
   "execution_count": 223,
   "metadata": {},
   "outputs": [
    {
     "data": {
      "text/plain": [
       "5000"
      ]
     },
     "execution_count": 223,
     "metadata": {},
     "output_type": "execute_result"
    }
   ],
   "source": [
    "len(vect.get_feature_names())"
   ]
  },
  {
   "cell_type": "code",
   "execution_count": 224,
   "metadata": {},
   "outputs": [
    {
     "data": {
      "text/plain": [
       "118353"
      ]
     },
     "execution_count": 224,
     "metadata": {},
     "output_type": "execute_result"
    }
   ],
   "source": [
    "len(topic)"
   ]
  },
  {
   "cell_type": "code",
   "execution_count": 225,
   "metadata": {},
   "outputs": [
    {
     "data": {
      "text/plain": [
       "5000"
      ]
     },
     "execution_count": 225,
     "metadata": {},
     "output_type": "execute_result"
    }
   ],
   "source": [
    "len(vect.get_feature_names())"
   ]
  },
  {
   "cell_type": "code",
   "execution_count": 228,
   "metadata": {},
   "outputs": [
    {
     "ename": "IndexError",
     "evalue": "list index out of range",
     "output_type": "error",
     "traceback": [
      "\u001b[0;31m---------------------------------------------------------------------------\u001b[0m",
      "\u001b[0;31mIndexError\u001b[0m                                Traceback (most recent call last)",
      "\u001b[0;32m<ipython-input-228-877b45dca774>\u001b[0m in \u001b[0;36m<module>\u001b[0;34m()\u001b[0m\n\u001b[0;32m----> 1\u001b[0;31m \u001b[0ma\u001b[0m \u001b[0;34m=\u001b[0m \u001b[0;34m[\u001b[0m\u001b[0mvect\u001b[0m\u001b[0;34m.\u001b[0m\u001b[0mget_feature_names\u001b[0m\u001b[0;34m(\u001b[0m\u001b[0;34m)\u001b[0m\u001b[0;34m[\u001b[0m\u001b[0mi\u001b[0m\u001b[0;34m]\u001b[0m \u001b[0;32mfor\u001b[0m \u001b[0mi\u001b[0m \u001b[0;32min\u001b[0m \u001b[0mtopic\u001b[0m\u001b[0;34m.\u001b[0m\u001b[0margsort\u001b[0m\u001b[0;34m(\u001b[0m\u001b[0;34m)\u001b[0m\u001b[0;34m[\u001b[0m\u001b[0;34m:\u001b[0m\u001b[0;34m-\u001b[0m\u001b[0;36m10\u001b[0m \u001b[0;34m-\u001b[0m \u001b[0;36m1\u001b[0m\u001b[0;34m:\u001b[0m\u001b[0;34m-\u001b[0m\u001b[0;36m1\u001b[0m\u001b[0;34m]\u001b[0m\u001b[0;34m]\u001b[0m\u001b[0;34m\u001b[0m\u001b[0m\n\u001b[0m",
      "\u001b[0;32m<ipython-input-228-877b45dca774>\u001b[0m in \u001b[0;36m<listcomp>\u001b[0;34m(.0)\u001b[0m\n\u001b[0;32m----> 1\u001b[0;31m \u001b[0ma\u001b[0m \u001b[0;34m=\u001b[0m \u001b[0;34m[\u001b[0m\u001b[0mvect\u001b[0m\u001b[0;34m.\u001b[0m\u001b[0mget_feature_names\u001b[0m\u001b[0;34m(\u001b[0m\u001b[0;34m)\u001b[0m\u001b[0;34m[\u001b[0m\u001b[0mi\u001b[0m\u001b[0;34m]\u001b[0m \u001b[0;32mfor\u001b[0m \u001b[0mi\u001b[0m \u001b[0;32min\u001b[0m \u001b[0mtopic\u001b[0m\u001b[0;34m.\u001b[0m\u001b[0margsort\u001b[0m\u001b[0;34m(\u001b[0m\u001b[0;34m)\u001b[0m\u001b[0;34m[\u001b[0m\u001b[0;34m:\u001b[0m\u001b[0;34m-\u001b[0m\u001b[0;36m10\u001b[0m \u001b[0;34m-\u001b[0m \u001b[0;36m1\u001b[0m\u001b[0;34m:\u001b[0m\u001b[0;34m-\u001b[0m\u001b[0;36m1\u001b[0m\u001b[0;34m]\u001b[0m\u001b[0;34m]\u001b[0m\u001b[0;34m\u001b[0m\u001b[0m\n\u001b[0m",
      "\u001b[0;31mIndexError\u001b[0m: list index out of range"
     ]
    }
   ],
   "source": [
    "a = [vect.get_feature_names()[i] for i in topic.argsort()[:-10 - 1:-1]]"
   ]
  },
  {
   "cell_type": "code",
   "execution_count": 241,
   "metadata": {
    "collapsed": true
   },
   "outputs": [],
   "source": [
    "for ix, topic in enumerate(model.components_):\n",
    "    b = \" \".join([vect.get_feature_names()[i] for i in topic.argsort()[:-10 - 1:-1]])"
   ]
  },
  {
   "cell_type": "code",
   "execution_count": 240,
   "metadata": {
    "scrolled": true
   },
   "outputs": [
    {
     "name": "stdout",
     "output_type": "stream",
     "text": [
      "Topic  0\n",
      "cell cancer t tumor t cell memory immune ray protein tissue\n",
      "Topic  1\n",
      "wave gravitational channel gravitational wave peptide physicist 3d hole calcium heart\n",
      "Topic  2\n",
      "science new research scientist world researcher human health year u.s\n",
      "Topic  3\n",
      "cell gene dna disease human mouse protein rna genetic genome\n",
      "Topic  4\n",
      "laboratory researcher information potential offer material apparatus newly instrumentation interest\n",
      "Topic  5\n",
      "use change 1 plant 2 issue protein model pageof issue pageof\n",
      "Topic  6\n",
      "system obama pluto new horizon new horizon barack obama president barack barack solar\n",
      "Topic  7\n",
      "use material quantum reaction light electron atom high metal molecule\n",
      "Topic  8\n",
      "earth ice surface ocean space planet year star gas large\n",
      "Topic  9\n",
      "virus antibody translation viral mrna partner hiv-1 envelope codon vaccine\n"
     ]
    }
   ],
   "source": [
    "display_topics(model, vect.get_feature_names(),10)"
   ]
  },
  {
   "cell_type": "code",
   "execution_count": 158,
   "metadata": {},
   "outputs": [
    {
     "name": "stdout",
     "output_type": "stream",
     "text": [
      "Topic  0\n",
      "cell cancer t tumor t cell memory immune ray protein tissue\n",
      "Topic  1\n",
      "wave gravitational channel gravitational wave peptide physicist 3d hole calcium heart\n",
      "Topic  2\n",
      "science new research scientist world researcher human health year u.s\n",
      "Topic  3\n",
      "cell gene dna disease human mouse protein rna genetic genome\n",
      "Topic  4\n",
      "laboratory researcher information potential offer material apparatus newly instrumentation interest\n",
      "Topic  5\n",
      "use change 1 plant 2 issue protein model pageof issue pageof\n",
      "Topic  6\n",
      "system obama pluto new horizon new horizon barack obama president barack barack solar\n",
      "Topic  7\n",
      "use material quantum reaction light electron atom high metal molecule\n",
      "Topic  8\n",
      "earth ice surface ocean space planet year star gas large\n",
      "Topic  9\n",
      "virus antibody translation viral mrna partner hiv-1 envelope codon vaccine\n"
     ]
    }
   ],
   "source": [
    "display_topics(model, vect.get_feature_names(),10)"
   ]
  },
  {
   "cell_type": "code",
   "execution_count": 153,
   "metadata": {},
   "outputs": [
    {
     "name": "stdout",
     "output_type": "stream",
     "text": [
      "Topic  0\n",
      "center cardiovascular target tunneling targeting metastatic importance real time provision tomography\n",
      "Topic  1\n",
      "wavelength growth factor chinese growth hormone persistent placoderm absorption house representative capable heterogeneity\n",
      "Topic  2\n",
      "scientific community new zealand resemble seasonal world large resistant hydrocarbon helminth year ago u.s science\n",
      "Topic  3\n",
      "center geneticist dopamine neuron distribute hydrocarbon muscular provision rocky geology pluto girl\n",
      "Topic  4\n",
      "lastyear resistant injection precise onset mechanical army nix intensity inthe\n",
      "Topic  5\n",
      "use new chimpanzee 1 play key 2–4 julythe new provision molecule paper publish paper new\n",
      "Topic  6\n",
      "tackle occurrence pollinator new zealand human body news belt prime belong song\n",
      "Topic  7\n",
      "use new mechanical r&d rearrange liquid embrace avenue historically mice morgan\n",
      "Topic  8\n",
      "edge image surveillance ongoing sparsely play central year ago stellar genetic engineering latitudinal\n",
      "Topic  9\n",
      "visible approval transplant virus outbreak mutagenesis pathogenesis hour epoch colonize valley\n"
     ]
    }
   ],
   "source": [
    "display_topics(model, vect.get_feature_names(),10)"
   ]
  },
  {
   "cell_type": "code",
   "execution_count": 148,
   "metadata": {},
   "outputs": [
    {
     "name": "stdout",
     "output_type": "stream",
     "text": [
      "Topic  0\n",
      "center cardiovascular target tunneling targeting metastatic importance real time provision tomography\n",
      "Topic  1\n",
      "wavelength growth factor chinese growth hormone persistent placoderm absorption house representative capable heterogeneity\n",
      "Topic  2\n",
      "scientific community new zealand resemble seasonal world large resistant hydrocarbon helminth year ago u.s science\n",
      "Topic  3\n",
      "center geneticist dopamine neuron distribute hydrocarbon muscular provision rocky geology pluto girl\n",
      "Topic  4\n",
      "lastyear resistant injection precise onset mechanical army nix intensity inthe\n",
      "Topic  5\n",
      "use new chimpanzee 1 play key 2–4 julythe new provision molecule paper publish paper new\n",
      "Topic  6\n",
      "tackle occurrence pollinator new zealand human body news belt prime belong song\n",
      "Topic  7\n",
      "use new mechanical r&d rearrange liquid embrace avenue historically mice morgan\n",
      "Topic  8\n",
      "edge image surveillance ongoing sparsely play central year ago stellar genetic engineering latitudinal\n",
      "Topic  9\n",
      "visible approval transplant virus outbreak mutagenesis pathogenesis hour epoch colonize valley\n"
     ]
    }
   ],
   "source": [
    "display_topics(model, vect.get_feature_names(),10)"
   ]
  },
  {
   "cell_type": "code",
   "execution_count": null,
   "metadata": {
    "collapsed": true
   },
   "outputs": [],
   "source": []
  },
  {
   "cell_type": "code",
   "execution_count": 182,
   "metadata": {
    "collapsed": true
   },
   "outputs": [],
   "source": [
    "vect, vect_transformed = count_vectorizer(spacy_tokenizer, 111971, all_descriptions)"
   ]
  },
  {
   "cell_type": "code",
   "execution_count": 183,
   "metadata": {
    "collapsed": true
   },
   "outputs": [],
   "source": [
    "model, lda = LDA_options(vectorizer, 10)"
   ]
  },
  {
   "cell_type": "code",
   "execution_count": 184,
   "metadata": {},
   "outputs": [
    {
     "data": {
      "text/plain": [
       "array([[ 0.00232595,  0.00232564,  0.00232618,  0.00232725,  0.00232609,\n",
       "         0.97906605,  0.0023256 ,  0.00232587,  0.00232564,  0.00232574],\n",
       "       [ 0.00312508,  0.00312504,  0.00312527,  0.82336822,  0.00312502,\n",
       "         0.00312575,  0.003125  ,  0.15163022,  0.00312527,  0.00312513],\n",
       "       [ 0.00125006,  0.00125002,  0.0012501 ,  0.98874822,  0.00125   ,\n",
       "         0.00125038,  0.00125   ,  0.00125019,  0.00125056,  0.00125047]])"
      ]
     },
     "execution_count": 184,
     "metadata": {},
     "output_type": "execute_result"
    }
   ],
   "source": [
    "lda[:3]"
   ]
  },
  {
   "cell_type": "code",
   "execution_count": 185,
   "metadata": {},
   "outputs": [
    {
     "name": "stdout",
     "output_type": "stream",
     "text": [
      "Topic  0\n",
      "36)is 3 little amyotrophic lateral ancestral early anabolic advance synthetic activity ultimately akhmediev aim design analysis trend\n",
      "Topic  1\n",
      "animal association activate n 4 provide activate nuclease agent purge aggressively judge 1 application activity deep 3 demonstrate active material\n",
      "Topic  2\n",
      "alloy catalyst afflict neurodegenerative alkama allure paleontologist animal robust alkyl arylamine activity likely active climate animal victimize ancient collagen\n",
      "Topic  3\n",
      "36)is act like abundant seafloor absurdity classical activity likely affect accord aim design allow distant act reduce act terminate\n",
      "Topic  4\n",
      "address legislation alkyl arylamine adapt agree design age 3 advance clock 1)their aficionado convince adaptation possibility adaptively alter\n",
      "Topic  5\n",
      "andean 4 polycrystalline 'll restore ago contrast -ryanodol addition organic aim design advocate offer agency esa agency endanger\n",
      "Topic  6\n",
      "amyloid associate aftermath sputnik ago large afflict neurodegenerative activity east affluent 2 continent agricultural resource 2 conflict alzheimer live\n",
      "Topic  7\n",
      "andean advance clock air conditioning akiyama adjust structure access knowledge 1–3 remain activitiesfrom advanced nuclear aegypti infect\n",
      "Topic  8\n",
      "accelerator activity profile amphibian agar art amazon researcher ago cihr animal victimize american applicant act force address state\n",
      "Topic  9\n",
      "andyear later 1 venture analyze treat andyear affect behavior agency roscosmos activity decline accord fractal 60-subunit self andmeter high\n"
     ]
    }
   ],
   "source": [
    "display_topics(model, vect.get_feature_names(), 10)"
   ]
  },
  {
   "cell_type": "code",
   "execution_count": 180,
   "metadata": {},
   "outputs": [
    {
     "name": "stdout",
     "output_type": "stream",
     "text": [
      "Topic  0\n",
      "2 essa 2 achieve alarm house allosterically alarm morning activate nuclease access carbohydrate aeruginosa vogeley adversary align graphene\n",
      "Topic  1\n",
      "alter neural abscission schardon 2 policy absence adenosylmethionine sam administer 5% 1 achieve academic researcher 1–4 light abundance conventional\n",
      "Topic  2\n",
      "agency funder actually amplify africa million agency maximize alternative process africa startlingly accelerate fifth abu dis altitude allow darpa\n",
      "Topic  3\n",
      "2 essa abnormal meiotic 40-year 4-hectare accelerate fifth activity dependent adversary age incandescent abolish aboutbc reconcile\n",
      "Topic  4\n",
      "achieve bulk africa startlingly accompany increase adsorption 111 adaptation tissue action individual 1.3 actuator account baseline accounting open\n",
      "Topic  5\n",
      "allow switching 2 phenomenon 'll restore administration speak -ryanodol accurate enzymatic adversary active site additional impact additional gorilla\n",
      "Topic  6\n",
      "alain adaptation diverse admit wait actually amplify academy art actually crystal 14th advance creationist 14c datum ago u.s\n",
      "Topic  7\n",
      "allow switching action individual advocate offer affect acid precursor 59-triphosphate atp 100% ownership ac activate stable activitiesdiscipline\n",
      "Topic  8\n",
      "5-year development accept great airline adaptation shed agree paper administration regulate altitude ahead u.k able use achieve food\n",
      "Topic  9\n",
      "almostyear researcher 1-cubic allegation almostyear activity differ address long academic publisher 650 million 2000–2010 ouyang allowingor encouragingfarmland\n"
     ]
    }
   ],
   "source": [
    "display_topics(model, vect.get_feature_names(), 10)"
   ]
  },
  {
   "cell_type": "code",
   "execution_count": null,
   "metadata": {
    "collapsed": true
   },
   "outputs": [],
   "source": []
  },
  {
   "cell_type": "markdown",
   "metadata": {},
   "source": [
    "### Trying LSA!!!"
   ]
  },
  {
   "cell_type": "code",
   "execution_count": 269,
   "metadata": {
    "collapsed": true
   },
   "outputs": [],
   "source": [
    "lsa_vect, lsa_vect_transformed = count_vectorizer(spacy_tokenizer, 5000, all_descriptions)"
   ]
  },
  {
   "cell_type": "code",
   "execution_count": 270,
   "metadata": {},
   "outputs": [
    {
     "data": {
      "text/plain": [
       "CountVectorizer(analyzer='word', binary=False, decode_error='strict',\n",
       "        dtype=<class 'numpy.int64'>, encoding='utf-8', input='content',\n",
       "        lowercase=True, max_df=0.6, max_features=5000, min_df=1,\n",
       "        ngram_range=(1, 2), preprocessor=None, stop_words=None,\n",
       "        strip_accents=None, token_pattern='(?u)\\\\b\\\\w\\\\w+\\\\b',\n",
       "        tokenizer=<function spacy_tokenizer at 0x128885620>,\n",
       "        vocabulary=None)"
      ]
     },
     "execution_count": 270,
     "metadata": {},
     "output_type": "execute_result"
    }
   ],
   "source": [
    "vect"
   ]
  },
  {
   "cell_type": "code",
   "execution_count": 271,
   "metadata": {
    "collapsed": true
   },
   "outputs": [],
   "source": [
    "lsa_model, lsa = lsa_cv(lsa_vect_transformed, 10)"
   ]
  },
  {
   "cell_type": "code",
   "execution_count": 272,
   "metadata": {},
   "outputs": [
    {
     "data": {
      "text/plain": [
       "array([[ 0.94153473, -0.34751925, -0.27912847, -0.47465336,  0.3840288 ,\n",
       "        -0.27063718,  0.3931151 ,  0.17325652, -0.1917408 , -0.43232284],\n",
       "       [ 0.66561169, -0.13334834, -0.31210556, -0.49606575,  0.3804588 ,\n",
       "         0.33364062,  0.02592389, -0.38060436, -0.22006209, -0.21158919],\n",
       "       [ 1.93195539,  0.58805522, -0.25000451, -0.57404095,  0.25727837,\n",
       "         0.89451977,  0.43677663, -0.01895827, -0.03202209,  0.08014516]])"
      ]
     },
     "execution_count": 272,
     "metadata": {},
     "output_type": "execute_result"
    }
   ],
   "source": [
    "lsa[:3]"
   ]
  },
  {
   "cell_type": "code",
   "execution_count": 199,
   "metadata": {},
   "outputs": [
    {
     "data": {
      "text/plain": [
       "['.-',\n",
       " '1',\n",
       " '1 billion',\n",
       " '1 pageof',\n",
       " '1 provide',\n",
       " '1 report',\n",
       " '1–3',\n",
       " '1–4',\n",
       " '2',\n",
       " '2 pageof',\n",
       " '2 provide',\n",
       " '2 report',\n",
       " '2 respectively',\n",
       " '2d',\n",
       " '2–4',\n",
       " '3',\n",
       " '3 pageof',\n",
       " '3 report',\n",
       " '3d',\n",
       " '4',\n",
       " '4 provide',\n",
       " '4 report',\n",
       " '40',\n",
       " '5',\n",
       " '5 pageof',\n",
       " '6',\n",
       " '7',\n",
       " 'aaas',\n",
       " 'abandon',\n",
       " 'ability',\n",
       " 'able',\n",
       " 'abnormality',\n",
       " 'aborigine',\n",
       " 'about%',\n",
       " 'aboutyear',\n",
       " 'aboutyear ago',\n",
       " 'absence',\n",
       " 'absolute',\n",
       " 'absorb',\n",
       " 'absorption',\n",
       " 'abstract',\n",
       " 'abundance',\n",
       " 'abundant',\n",
       " 'academia',\n",
       " 'academic',\n",
       " 'academic researcher',\n",
       " 'academy',\n",
       " 'academy science',\n",
       " 'accelerate',\n",
       " 'accelerator',\n",
       " 'accept',\n",
       " 'access',\n",
       " 'accessible',\n",
       " 'accident',\n",
       " 'accompany',\n",
       " 'accord',\n",
       " 'account',\n",
       " 'accretion',\n",
       " 'accumulate',\n",
       " 'accumulation',\n",
       " 'accuracy',\n",
       " 'accurate',\n",
       " 'accuse',\n",
       " 'acetylation',\n",
       " 'acetylene',\n",
       " 'achieve',\n",
       " 'achieve high',\n",
       " 'acid',\n",
       " 'acidic',\n",
       " 'acknowledge',\n",
       " 'acquire',\n",
       " 'acquisition',\n",
       " 'act',\n",
       " 'actin',\n",
       " 'actin filament',\n",
       " 'action',\n",
       " 'activate',\n",
       " 'activation',\n",
       " 'active',\n",
       " 'active site',\n",
       " 'actively',\n",
       " 'activity',\n",
       " 'activity specific',\n",
       " 'actor',\n",
       " 'actual',\n",
       " 'actually',\n",
       " 'acute',\n",
       " 'ad',\n",
       " 'adapt',\n",
       " 'adaptation',\n",
       " 'adaptive',\n",
       " 'adaptive immune',\n",
       " 'adaptive immunity',\n",
       " 'add',\n",
       " 'addiction',\n",
       " 'addition',\n",
       " 'additional',\n",
       " 'address',\n",
       " 'address question',\n",
       " 'adenosine',\n",
       " 'adequate',\n",
       " 'adjacent',\n",
       " 'administer',\n",
       " 'administration',\n",
       " 'administrator',\n",
       " 'admission',\n",
       " 'adopt',\n",
       " 'adp',\n",
       " 'adsorb',\n",
       " 'adult',\n",
       " 'advance',\n",
       " 'advance understanding',\n",
       " 'advanced',\n",
       " 'advancement',\n",
       " 'advancement science',\n",
       " 'advantage',\n",
       " 'adverse',\n",
       " 'adversely',\n",
       " 'adversely affect',\n",
       " 'advice',\n",
       " 'adviser',\n",
       " 'advisory',\n",
       " 'advocate',\n",
       " 'aerobic',\n",
       " 'aerobic glycolysis',\n",
       " 'aerosol',\n",
       " 'affect',\n",
       " 'affect gene',\n",
       " 'affect human',\n",
       " 'affected',\n",
       " 'affinity',\n",
       " 'africa',\n",
       " 'african',\n",
       " 'aftershock',\n",
       " 'age',\n",
       " 'agency',\n",
       " 'agenda',\n",
       " 'agent',\n",
       " 'aggregate',\n",
       " 'aggregation',\n",
       " 'aggression',\n",
       " 'aging',\n",
       " 'ago',\n",
       " 'agree',\n",
       " 'agreement',\n",
       " 'agricultural',\n",
       " 'agriculture',\n",
       " 'ahead',\n",
       " 'aid',\n",
       " 'aid epidemic',\n",
       " 'aid understanding',\n",
       " 'aim',\n",
       " 'air',\n",
       " 'airway',\n",
       " 'akt',\n",
       " 'alarm',\n",
       " 'albert',\n",
       " 'alert',\n",
       " 'algorithm',\n",
       " 'align',\n",
       " 'alike',\n",
       " 'alkene',\n",
       " 'alkyl',\n",
       " 'allegation',\n",
       " 'allele',\n",
       " 'allow',\n",
       " 'alloy',\n",
       " 'alter',\n",
       " 'alteration',\n",
       " 'alternative',\n",
       " 'altitude',\n",
       " 'alzheimer',\n",
       " 'alzheimer disease',\n",
       " 'amazon',\n",
       " 'ambient',\n",
       " 'ambitious',\n",
       " 'ameliorate',\n",
       " 'amendment',\n",
       " 'america',\n",
       " 'american',\n",
       " 'american association',\n",
       " 'americas',\n",
       " 'amine',\n",
       " 'amino',\n",
       " 'amino acid',\n",
       " 'ammonia',\n",
       " 'amoc',\n",
       " 'ampar',\n",
       " 'amplify',\n",
       " 'amplitude',\n",
       " 'amyloid',\n",
       " 'amyotrophic',\n",
       " 'amyotrophic lateral',\n",
       " 'analog',\n",
       " 'analogous',\n",
       " 'analysis',\n",
       " 'analysis encounter',\n",
       " 'analysis new',\n",
       " 'analysis reveal',\n",
       " 'analyst',\n",
       " 'analyze',\n",
       " 'analyze color',\n",
       " 'ancestor',\n",
       " 'anchor',\n",
       " 'ancient',\n",
       " 'ancient dna',\n",
       " 'and/or',\n",
       " 'angular',\n",
       " 'angular momentum',\n",
       " 'animal',\n",
       " 'animal model',\n",
       " 'announce',\n",
       " 'announce plan',\n",
       " 'announcement',\n",
       " 'annual',\n",
       " 'annual meeting',\n",
       " 'annually',\n",
       " 'answer',\n",
       " 'answer question',\n",
       " 'ant',\n",
       " 'antarctic',\n",
       " 'antarctica',\n",
       " 'antenna',\n",
       " 'anthropocene',\n",
       " 'anthropogenic',\n",
       " 'anthropogenic climate',\n",
       " 'anthropologist',\n",
       " 'anti',\n",
       " 'antibiotic',\n",
       " 'antibiotic resistance',\n",
       " 'antibiotic treatment',\n",
       " 'antibody',\n",
       " 'antibody bind',\n",
       " 'antibody target',\n",
       " 'anticipate',\n",
       " 'antiferromagnetic',\n",
       " 'antigen',\n",
       " 'antigen receptor',\n",
       " 'antimicrobial',\n",
       " 'antiretroviral',\n",
       " 'antiretroviral therapy',\n",
       " 'antisense',\n",
       " 'antitumor',\n",
       " 'antiviral',\n",
       " 'apart',\n",
       " 'ape',\n",
       " 'apparatus',\n",
       " 'apparatus laboratory',\n",
       " 'apparent',\n",
       " 'apparently',\n",
       " 'appear',\n",
       " 'appendage',\n",
       " 'applicant',\n",
       " 'application',\n",
       " 'apply',\n",
       " 'approach',\n",
       " 'approach enable',\n",
       " 'approach use',\n",
       " 'appropriate',\n",
       " 'approval',\n",
       " 'approve',\n",
       " 'aqueous',\n",
       " 'arabidopsis',\n",
       " 'archaea',\n",
       " 'archaeological',\n",
       " 'archaeologist',\n",
       " 'archaic',\n",
       " 'architecture',\n",
       " 'arctic',\n",
       " 'area',\n",
       " 'argue',\n",
       " 'arise',\n",
       " 'arm',\n",
       " 'armed',\n",
       " 'army',\n",
       " 'arrange',\n",
       " 'arrangement',\n",
       " 'array',\n",
       " 'arrest',\n",
       " 'arrive',\n",
       " 'art',\n",
       " 'article',\n",
       " 'articulate',\n",
       " 'artifact',\n",
       " 'artificial',\n",
       " 'artificial intelligence',\n",
       " 'arvs',\n",
       " 'asd',\n",
       " 'asia',\n",
       " 'asian',\n",
       " 'ask',\n",
       " 'aspect',\n",
       " 'assay',\n",
       " 'assemble',\n",
       " 'assembly',\n",
       " 'assess',\n",
       " 'assessment',\n",
       " 'assign',\n",
       " 'assist',\n",
       " 'associate',\n",
       " 'associate increase',\n",
       " 'associated',\n",
       " 'association',\n",
       " 'association advancement',\n",
       " 'assume',\n",
       " 'assumption',\n",
       " 'asteroid',\n",
       " 'astro',\n",
       " 'astro h',\n",
       " 'astrocyte',\n",
       " 'astronomer',\n",
       " 'astronomical',\n",
       " 'astronomy',\n",
       " 'astrophysic',\n",
       " 'asymmetric',\n",
       " 'atlantic',\n",
       " 'atmosphere',\n",
       " 'atmosphere pluto',\n",
       " 'atmospheric',\n",
       " 'atmospheric carbon',\n",
       " 'atmospheric co2',\n",
       " 'atom',\n",
       " 'atomic',\n",
       " 'atomic scale',\n",
       " 'atp',\n",
       " 'attach',\n",
       " 'attack',\n",
       " 'attempt',\n",
       " 'attention',\n",
       " 'attitude',\n",
       " 'attract',\n",
       " 'attractive',\n",
       " 'attribute',\n",
       " 'audience',\n",
       " 'australia',\n",
       " 'australian',\n",
       " 'author',\n",
       " 'authority',\n",
       " 'autism',\n",
       " 'autism spectrum',\n",
       " 'autoimmune',\n",
       " 'autoimmune disease',\n",
       " 'autonomic',\n",
       " 'autonomous',\n",
       " 'autonomous vehicle',\n",
       " 'autophagy',\n",
       " 'availability',\n",
       " 'available',\n",
       " 'avenue',\n",
       " 'average',\n",
       " 'avian',\n",
       " 'avian influenza',\n",
       " 'avoid',\n",
       " 'award',\n",
       " 'away',\n",
       " 'axial',\n",
       " 'axon',\n",
       " 'b',\n",
       " 'b cell',\n",
       " 'baby',\n",
       " 'babylonian',\n",
       " 'backbone',\n",
       " 'background',\n",
       " 'bact',\n",
       " 'bacteria',\n",
       " 'bacterial',\n",
       " 'bacterium',\n",
       " 'bad',\n",
       " 'bagenal',\n",
       " 'bagenal report',\n",
       " 'balance',\n",
       " 'balloon',\n",
       " 'ban',\n",
       " 'band',\n",
       " 'band gap',\n",
       " 'bank',\n",
       " 'bar',\n",
       " 'barack',\n",
       " 'barack obama',\n",
       " 'barcode',\n",
       " 'barrier',\n",
       " 'barrier reef',\n",
       " 'base',\n",
       " 'basic',\n",
       " 'basic research',\n",
       " 'basin',\n",
       " 'basis',\n",
       " 'bat',\n",
       " 'battery',\n",
       " 'battle',\n",
       " 'bay',\n",
       " 'bd',\n",
       " 'beam',\n",
       " 'bear',\n",
       " 'bed',\n",
       " 'bee',\n",
       " 'beetle',\n",
       " 'begin',\n",
       " 'beginning',\n",
       " 'behave',\n",
       " 'behavior',\n",
       " 'behavioral',\n",
       " 'belief',\n",
       " 'believe',\n",
       " 'belong',\n",
       " 'belt',\n",
       " 'beneath',\n",
       " 'beneficial',\n",
       " 'benefit',\n",
       " 'berkeley',\n",
       " 'best',\n",
       " 'best know',\n",
       " 'better',\n",
       " 'better understand',\n",
       " 'bias',\n",
       " 'biden',\n",
       " 'big',\n",
       " 'bill',\n",
       " 'billion',\n",
       " 'billion year',\n",
       " 'binary',\n",
       " 'bind',\n",
       " 'bind protein',\n",
       " 'bind site',\n",
       " 'binding',\n",
       " 'biochemical',\n",
       " 'biochemist',\n",
       " 'biochemistry',\n",
       " 'biodiversity',\n",
       " 'biodiversity loss',\n",
       " 'biofuel',\n",
       " 'biogeochemical',\n",
       " 'biological',\n",
       " 'biological process',\n",
       " 'biologically',\n",
       " 'biologist',\n",
       " 'biology',\n",
       " 'biomarker',\n",
       " 'biomass',\n",
       " 'biomedical',\n",
       " 'biomedical research',\n",
       " 'biosynthesis',\n",
       " 'biotechnology',\n",
       " 'bird',\n",
       " 'birth',\n",
       " 'birth defect',\n",
       " 'bit',\n",
       " 'black',\n",
       " 'black hole',\n",
       " 'blame',\n",
       " 'blast',\n",
       " 'bleaching',\n",
       " 'blend',\n",
       " 'blind',\n",
       " 'block',\n",
       " 'blood',\n",
       " 'blood cell',\n",
       " 'blood vessel',\n",
       " 'bloom',\n",
       " 'blue',\n",
       " 'blue light',\n",
       " 'bnab',\n",
       " 'board',\n",
       " 'bode',\n",
       " 'body',\n",
       " 'body outer',\n",
       " 'body temperature',\n",
       " 'bolster',\n",
       " 'bomb',\n",
       " 'bond',\n",
       " 'bond formation',\n",
       " 'bone',\n",
       " 'bone marrow',\n",
       " 'book',\n",
       " 'boom',\n",
       " 'boost',\n",
       " 'border',\n",
       " 'boron',\n",
       " 'boron nitride',\n",
       " 'borrow',\n",
       " 'boston',\n",
       " 'boundary',\n",
       " 'bowel',\n",
       " 'bowel disease',\n",
       " 'box',\n",
       " 'br',\n",
       " 'brain',\n",
       " 'brain cell',\n",
       " 'brain development',\n",
       " 'brain region',\n",
       " 'brain tissue',\n",
       " 'branch',\n",
       " 'brazil',\n",
       " 'brazilian',\n",
       " 'break',\n",
       " 'breakdown',\n",
       " 'breakthrough',\n",
       " 'breast',\n",
       " 'breeding',\n",
       " 'brexit',\n",
       " 'bridge',\n",
       " 'brief',\n",
       " 'bright',\n",
       " 'bright surface',\n",
       " 'bring',\n",
       " 'british',\n",
       " 'broad',\n",
       " 'broad range',\n",
       " 'broaden',\n",
       " 'broadly',\n",
       " 'broadly neutralize',\n",
       " 'bronze',\n",
       " 'bronze age',\n",
       " 'broockman',\n",
       " 'brown',\n",
       " 'bt',\n",
       " 'budget',\n",
       " 'build',\n",
       " 'building',\n",
       " 'building block',\n",
       " 'buildup',\n",
       " 'bulk',\n",
       " 'bulky',\n",
       " 'burden',\n",
       " 'burn',\n",
       " 'burst',\n",
       " 'business',\n",
       " 'butterfly',\n",
       " 'by%',\n",
       " 'c',\n",
       " 'c c',\n",
       " 'c h',\n",
       " 'c –',\n",
       " 'c.',\n",
       " 'c. rodentium',\n",
       " 'c2c2',\n",
       " 'c9orf72',\n",
       " 'ca2',\n",
       " 'cad',\n",
       " 'cage',\n",
       " 'calcium',\n",
       " 'calcium channel',\n",
       " 'calcium ion',\n",
       " 'calculate',\n",
       " 'calculation',\n",
       " 'california',\n",
       " 'california institute',\n",
       " 'caloric',\n",
       " 'caltech',\n",
       " 'cambridge',\n",
       " 'camel',\n",
       " 'camera',\n",
       " 'campaign',\n",
       " 'campus',\n",
       " 'canada',\n",
       " 'canadian',\n",
       " 'canal',\n",
       " 'cancer',\n",
       " 'cancer cell',\n",
       " 'cancer drug',\n",
       " 'cancer immunotherapy',\n",
       " 'cancer patient',\n",
       " 'cancer research',\n",
       " 'candidate',\n",
       " 'cap',\n",
       " 'capability',\n",
       " 'capable',\n",
       " 'capacity',\n",
       " 'capita',\n",
       " 'capital',\n",
       " 'capsid',\n",
       " 'capture',\n",
       " 'car',\n",
       " 'carbon',\n",
       " 'carbon atom',\n",
       " 'carbon bond',\n",
       " 'carbon carbon',\n",
       " 'carbon center',\n",
       " 'carbon dioxide',\n",
       " 'carbon monoxide',\n",
       " 'cardiac',\n",
       " 'cardiac muscle',\n",
       " 'cardiomyocyte',\n",
       " 'cardiovascular',\n",
       " 'cardiovascular disease',\n",
       " 'care',\n",
       " 'career',\n",
       " 'careful',\n",
       " 'cargo',\n",
       " 'caribbean',\n",
       " 'carrier',\n",
       " 'carry',\n",
       " 'cas',\n",
       " 'cas9',\n",
       " 'cascade',\n",
       " 'case',\n",
       " 'cast',\n",
       " 'cat',\n",
       " 'catalog',\n",
       " 'catalysis',\n",
       " 'catalyst',\n",
       " 'catalytic',\n",
       " 'catalytically',\n",
       " 'catalyze',\n",
       " 'catch',\n",
       " 'cation',\n",
       " 'causal',\n",
       " 'causally',\n",
       " 'cause',\n",
       " 'cause disease',\n",
       " 'cause human',\n",
       " 'cause mutation',\n",
       " 'cave',\n",
       " 'cavity',\n",
       " 'ccamlr',\n",
       " 'cd4',\n",
       " 'cell',\n",
       " 'cell base',\n",
       " 'cell body',\n",
       " 'cell cell',\n",
       " 'cell culture',\n",
       " 'cell death',\n",
       " 'cell die',\n",
       " 'cell distinct',\n",
       " 'cell division',\n",
       " 'cell experience',\n",
       " 'cell find',\n",
       " 'cell form',\n",
       " 'cell growth',\n",
       " 'cell immune',\n",
       " 'cell line',\n",
       " 'cell membrane',\n",
       " 'cell nucleus',\n",
       " 'cell perspective',\n",
       " 'cell respond',\n",
       " 'cell surface',\n",
       " 'cell type',\n",
       " 'cell use',\n",
       " 'cell –',\n",
       " 'cellular',\n",
       " 'cellular process',\n",
       " 'cellulose',\n",
       " 'center',\n",
       " 'centimeter',\n",
       " 'central',\n",
       " 'central nervous',\n",
       " 'central role',\n",
       " 'centriole',\n",
       " 'century',\n",
       " 'cere',\n",
       " 'cern',\n",
       " 'certain',\n",
       " 'cesium',\n",
       " 'cf',\n",
       " 'ch4',\n",
       " 'ch4 co',\n",
       " 'chain',\n",
       " 'challenge',\n",
       " 'challenging',\n",
       " 'chance',\n",
       " 'change',\n",
       " 'change climate',\n",
       " 'channel',\n",
       " 'chaperone',\n",
       " 'character',\n",
       " 'characteristic',\n",
       " 'characterization',\n",
       " 'characterize',\n",
       " 'charge',\n",
       " 'charge carrier',\n",
       " 'charon',\n",
       " 'charon include',\n",
       " 'chat',\n",
       " 'cheap',\n",
       " 'check',\n",
       " 'chemical',\n",
       " 'chemical composition',\n",
       " 'chemical reaction',\n",
       " 'chemical synthesis',\n",
       " 'chemically',\n",
       " 'chemist',\n",
       " 'chemistry',\n",
       " 'chen',\n",
       " 'chicago',\n",
       " 'chief',\n",
       " 'child',\n",
       " 'childhood',\n",
       " 'chimpanzee',\n",
       " 'china',\n",
       " 'chinese',\n",
       " 'chip',\n",
       " 'chiral',\n",
       " 'chlorine',\n",
       " 'chlorophyll',\n",
       " 'choice',\n",
       " 'cholesterol',\n",
       " 'choose',\n",
       " 'chromatin',\n",
       " 'chromosomal',\n",
       " 'chromosome',\n",
       " 'chronic',\n",
       " 'chronic infection',\n",
       " 'chronic pain',\n",
       " 'chuong',\n",
       " 'church',\n",
       " 'churyumov',\n",
       " 'churyumov gerasimenko',\n",
       " 'cilia',\n",
       " 'circadian',\n",
       " 'circadian clock',\n",
       " 'circadian rhythm',\n",
       " 'circuit',\n",
       " 'circuitry',\n",
       " 'circulate',\n",
       " 'circulation',\n",
       " 'circulator',\n",
       " 'citizen',\n",
       " 'city',\n",
       " 'civil',\n",
       " 'claim',\n",
       " 'clarify',\n",
       " 'class',\n",
       " 'classic',\n",
       " 'classical',\n",
       " 'clean',\n",
       " 'clear',\n",
       " 'clearance',\n",
       " 'clearly',\n",
       " 'cleavage',\n",
       " 'cleave',\n",
       " 'clever',\n",
       " 'climate',\n",
       " 'climate change',\n",
       " 'climate model',\n",
       " 'climate science',\n",
       " 'climate warm',\n",
       " 'climatic',\n",
       " 'climb',\n",
       " 'clinical',\n",
       " 'clinical trial',\n",
       " 'clinically',\n",
       " 'clock',\n",
       " 'clone',\n",
       " 'close',\n",
       " 'close look',\n",
       " 'closely',\n",
       " 'closely relate',\n",
       " 'closer',\n",
       " 'cloud',\n",
       " 'clue',\n",
       " 'cluster',\n",
       " 'cluster regularly',\n",
       " 'clustering',\n",
       " 'cns',\n",
       " 'co',\n",
       " 'co n2',\n",
       " 'co2',\n",
       " 'co2 concentration',\n",
       " 'co2 emission',\n",
       " 'coal',\n",
       " 'coast',\n",
       " 'coastal',\n",
       " 'coat',\n",
       " 'coating',\n",
       " 'cobalt',\n",
       " 'cod',\n",
       " 'code',\n",
       " 'coding',\n",
       " 'codon',\n",
       " 'coenzyme',\n",
       " 'coexist',\n",
       " 'cofactor',\n",
       " 'coffee',\n",
       " 'cognitive',\n",
       " 'coherent',\n",
       " 'cohort',\n",
       " 'coin',\n",
       " 'cold',\n",
       " 'cold compact',\n",
       " 'coli',\n",
       " 'collaboration',\n",
       " 'collaborator',\n",
       " 'collapse',\n",
       " 'colleague',\n",
       " 'collect',\n",
       " 'collection',\n",
       " 'collective',\n",
       " 'collectively',\n",
       " 'college',\n",
       " 'collide',\n",
       " 'collider',\n",
       " 'collision',\n",
       " 'colloidal',\n",
       " 'colombia',\n",
       " 'colonization',\n",
       " 'colonize',\n",
       " 'colony',\n",
       " 'color',\n",
       " 'color chemical',\n",
       " 'comb',\n",
       " 'combat',\n",
       " 'combat zika',\n",
       " 'combination',\n",
       " 'combine',\n",
       " 'combined',\n",
       " 'come',\n",
       " 'comet',\n",
       " 'cometp',\n",
       " 'cometp churyumov',\n",
       " 'commensal',\n",
       " 'commerce',\n",
       " 'commercial',\n",
       " 'commercialization',\n",
       " 'commercially',\n",
       " 'commission',\n",
       " 'commit',\n",
       " 'commitment',\n",
       " 'committee',\n",
       " 'commodity',\n",
       " 'common',\n",
       " 'commonly',\n",
       " 'communicate',\n",
       " 'communication',\n",
       " 'community',\n",
       " 'compact',\n",
       " 'compact expect',\n",
       " 'company',\n",
       " 'comparable',\n",
       " 'comparative',\n",
       " 'comparatively',\n",
       " 'compare',\n",
       " 'comparison',\n",
       " 'compartment',\n",
       " 'compete',\n",
       " 'competition',\n",
       " 'competitive',\n",
       " 'complement',\n",
       " 'complementary',\n",
       " 'complete',\n",
       " 'completely',\n",
       " 'completion',\n",
       " 'complex',\n",
       " 'complex surface',\n",
       " 'complexity',\n",
       " 'complicate',\n",
       " 'complicated',\n",
       " 'component',\n",
       " 'compose',\n",
       " 'composite',\n",
       " 'composition',\n",
       " 'composition surface',\n",
       " 'compound',\n",
       " 'comprehensive',\n",
       " 'comprise',\n",
       " 'compromise',\n",
       " 'computation',\n",
       " 'computational',\n",
       " 'computationally',\n",
       " 'computer',\n",
       " 'computing',\n",
       " 'concentration',\n",
       " 'concept',\n",
       " 'conceptual',\n",
       " 'concern',\n",
       " 'concerted',\n",
       " 'conclude',\n",
       " 'conclusion',\n",
       " 'concrete',\n",
       " 'condensation',\n",
       " 'condensed',\n",
       " 'condition',\n",
       " 'conduct',\n",
       " 'conduction',\n",
       " 'conductivity',\n",
       " 'conductor',\n",
       " 'confer',\n",
       " 'conference',\n",
       " 'confidence',\n",
       " 'configuration',\n",
       " 'confine',\n",
       " 'confirm',\n",
       " 'conflict',\n",
       " 'conformation',\n",
       " 'conformational',\n",
       " 'conformational change',\n",
       " 'confront',\n",
       " 'congenital',\n",
       " 'congress',\n",
       " 'connect',\n",
       " 'connection',\n",
       " 'connectivity',\n",
       " 'consequence',\n",
       " 'conservation',\n",
       " 'conserve',\n",
       " 'consider',\n",
       " 'considerable',\n",
       " 'considerably',\n",
       " 'consist',\n",
       " 'consistent',\n",
       " 'consolidation',\n",
       " 'constant',\n",
       " 'constantly',\n",
       " 'constitute',\n",
       " 'constrain',\n",
       " 'constraint',\n",
       " 'construct',\n",
       " 'construction',\n",
       " 'consume',\n",
       " 'consumer',\n",
       " 'consumption',\n",
       " 'contact',\n",
       " 'contain',\n",
       " 'contamination',\n",
       " 'contemporary',\n",
       " 'contend',\n",
       " 'content',\n",
       " 'context',\n",
       " 'continent',\n",
       " 'continental',\n",
       " 'continue',\n",
       " 'continue year',\n",
       " 'continuous',\n",
       " 'contract',\n",
       " 'contrast',\n",
       " 'contribute',\n",
       " 'contribution',\n",
       " 'control',\n",
       " 'controversial',\n",
       " 'controversy',\n",
       " 'convene',\n",
       " 'convention',\n",
       " 'conventional',\n",
       " 'convergence',\n",
       " 'convergent',\n",
       " 'conversation',\n",
       " 'conversion',\n",
       " 'convert',\n",
       " 'convince',\n",
       " 'cook',\n",
       " 'cool',\n",
       " 'cooling',\n",
       " 'cooperation',\n",
       " 'coordinate',\n",
       " 'coordination',\n",
       " 'cope',\n",
       " 'copper',\n",
       " 'copy',\n",
       " 'coral',\n",
       " 'coral reef',\n",
       " 'cord',\n",
       " 'core',\n",
       " 'core formation',\n",
       " 'cornerstone',\n",
       " 'coronavirus',\n",
       " 'corporation',\n",
       " 'correct',\n",
       " 'correlate',\n",
       " 'correlation',\n",
       " 'correspond',\n",
       " 'corresponding',\n",
       " 'cortex',\n",
       " 'cortical',\n",
       " 'cosmic',\n",
       " 'cosmic ray',\n",
       " 'cosmos',\n",
       " 'cost',\n",
       " 'council',\n",
       " 'count',\n",
       " 'counterpart',\n",
       " 'country',\n",
       " 'country world',\n",
       " 'couple',\n",
       " 'coupling',\n",
       " 'course',\n",
       " 'court',\n",
       " 'cousin',\n",
       " 'covalent',\n",
       " 'covalently',\n",
       " 'cover',\n",
       " 'cr',\n",
       " 'crash',\n",
       " 'crater',\n",
       " 'create',\n",
       " 'creation',\n",
       " 'creative',\n",
       " 'creature',\n",
       " 'credit',\n",
       " 'crest',\n",
       " 'crest cell',\n",
       " 'crime',\n",
       " 'criminal',\n",
       " 'crisis',\n",
       " 'crispr',\n",
       " 'crispr cas',\n",
       " 'crispr cas9',\n",
       " 'critic',\n",
       " 'critical',\n",
       " 'critical role',\n",
       " 'critically',\n",
       " 'criticism',\n",
       " ...]"
      ]
     },
     "execution_count": 199,
     "metadata": {},
     "output_type": "execute_result"
    }
   ],
   "source": [
    "vect.get_feature_names()"
   ]
  },
  {
   "cell_type": "code",
   "execution_count": 273,
   "metadata": {},
   "outputs": [
    {
     "name": "stdout",
     "output_type": "stream",
     "text": [
      "Topic  0\n",
      "cell new use human science study protein research system disease\n",
      "Topic  1\n",
      "cell t t cell immune protein cancer mouse tumor tissue stem cell\n",
      "Topic  2\n",
      "science research cell new world scientist u.s national researcher institute\n",
      "Topic  3\n",
      "system surface solar pluto new material new horizon horizon cell datum\n",
      "Topic  4\n",
      "gene protein human disease new virus system dna rna genome\n",
      "Topic  5\n",
      "change climate climate change human virus global specie ice cause impact\n",
      "Topic  6\n",
      "virus researcher material information potential offer human laboratory instrumentation roundup\n",
      "Topic  7\n",
      "virus zika vaccine antibody infect use zika virus infection atom report\n",
      "Topic  8\n",
      "protein virus structure antibody change climate zika bind vaccine science\n",
      "Topic  9\n",
      "1 issue 2 pageof pageof issue science 3 system report immune\n"
     ]
    }
   ],
   "source": [
    "display_topics(lsa_model, lsa_vect.get_feature_names(),10)"
   ]
  },
  {
   "cell_type": "code",
   "execution_count": 262,
   "metadata": {},
   "outputs": [
    {
     "data": {
      "text/plain": [
       "5000"
      ]
     },
     "execution_count": 262,
     "metadata": {},
     "output_type": "execute_result"
    }
   ],
   "source": [
    "len(lsa_vect.get_feature_names())"
   ]
  },
  {
   "cell_type": "code",
   "execution_count": 264,
   "metadata": {
    "scrolled": true
   },
   "outputs": [
    {
     "data": {
      "text/plain": [
       "array([ 5053, 37532, 37533, 16471, 71441, 16284, 56981, 50714, 84717, 75804])"
      ]
     },
     "execution_count": 264,
     "metadata": {},
     "output_type": "execute_result"
    }
   ],
   "source": [
    "test = topic.argsort()[:-10 - 1:-1]\n",
    "test"
   ]
  },
  {
   "cell_type": "code",
   "execution_count": 267,
   "metadata": {},
   "outputs": [
    {
     "ename": "IndexError",
     "evalue": "list index out of range",
     "output_type": "error",
     "traceback": [
      "\u001b[0;31m---------------------------------------------------------------------------\u001b[0m",
      "\u001b[0;31mIndexError\u001b[0m                                Traceback (most recent call last)",
      "\u001b[0;32m<ipython-input-267-959fafc2f5b7>\u001b[0m in \u001b[0;36m<module>\u001b[0;34m()\u001b[0m\n\u001b[0;32m----> 1\u001b[0;31m \u001b[0mlsa_vect\u001b[0m\u001b[0;34m.\u001b[0m\u001b[0mget_feature_names\u001b[0m\u001b[0;34m(\u001b[0m\u001b[0;34m)\u001b[0m\u001b[0;34m[\u001b[0m\u001b[0;36m5053\u001b[0m\u001b[0;34m]\u001b[0m\u001b[0;34m\u001b[0m\u001b[0m\n\u001b[0m",
      "\u001b[0;31mIndexError\u001b[0m: list index out of range"
     ]
    }
   ],
   "source": [
    "lsa_vect.get_feature_names()[5053]"
   ]
  },
  {
   "cell_type": "code",
   "execution_count": 265,
   "metadata": {},
   "outputs": [
    {
     "ename": "IndexError",
     "evalue": "list index out of range",
     "output_type": "error",
     "traceback": [
      "\u001b[0;31m---------------------------------------------------------------------------\u001b[0m",
      "\u001b[0;31mIndexError\u001b[0m                                Traceback (most recent call last)",
      "\u001b[0;32m<ipython-input-265-5de38bbc10bf>\u001b[0m in \u001b[0;36m<module>\u001b[0;34m()\u001b[0m\n\u001b[1;32m      1\u001b[0m \u001b[0;32mfor\u001b[0m \u001b[0mitem\u001b[0m \u001b[0;32min\u001b[0m \u001b[0mtest\u001b[0m\u001b[0;34m:\u001b[0m\u001b[0;34m\u001b[0m\u001b[0m\n\u001b[0;32m----> 2\u001b[0;31m     \u001b[0mprint\u001b[0m\u001b[0;34m(\u001b[0m\u001b[0mitem\u001b[0m\u001b[0;34m,\u001b[0m \u001b[0mlsa_vect\u001b[0m\u001b[0;34m.\u001b[0m\u001b[0mget_feature_names\u001b[0m\u001b[0;34m(\u001b[0m\u001b[0;34m)\u001b[0m\u001b[0;34m[\u001b[0m\u001b[0mitem\u001b[0m\u001b[0;34m]\u001b[0m\u001b[0;34m)\u001b[0m\u001b[0;34m\u001b[0m\u001b[0m\n\u001b[0m",
      "\u001b[0;31mIndexError\u001b[0m: list index out of range"
     ]
    }
   ],
   "source": [
    "for item in test:\n",
    "    print(item, lsa_vect.get_feature_names()[item])"
   ]
  },
  {
   "cell_type": "code",
   "execution_count": 249,
   "metadata": {},
   "outputs": [
    {
     "data": {
      "text/plain": [
       "['.-',\n",
       " '1',\n",
       " '1 2',\n",
       " '1 billion',\n",
       " '1 pageof',\n",
       " '1 report',\n",
       " '1.4',\n",
       " '1.5',\n",
       " '10%',\n",
       " '1960']"
      ]
     },
     "execution_count": 249,
     "metadata": {},
     "output_type": "execute_result"
    }
   ],
   "source": [
    "vect.get_feature_names()"
   ]
  },
  {
   "cell_type": "code",
   "execution_count": 254,
   "metadata": {},
   "outputs": [
    {
     "name": "stdout",
     "output_type": "stream",
     "text": [
      "5000\n"
     ]
    },
    {
     "ename": "IndexError",
     "evalue": "list index out of range",
     "output_type": "error",
     "traceback": [
      "\u001b[0;31m---------------------------------------------------------------------------\u001b[0m",
      "\u001b[0;31mIndexError\u001b[0m                                Traceback (most recent call last)",
      "\u001b[0;32m<ipython-input-254-dcb95c4d3a0d>\u001b[0m in \u001b[0;36m<module>\u001b[0;34m()\u001b[0m\n\u001b[1;32m      1\u001b[0m \u001b[0;32mfor\u001b[0m \u001b[0mix\u001b[0m\u001b[0;34m,\u001b[0m \u001b[0mtopic\u001b[0m \u001b[0;32min\u001b[0m \u001b[0menumerate\u001b[0m\u001b[0;34m(\u001b[0m\u001b[0mlsa_model\u001b[0m\u001b[0;34m.\u001b[0m\u001b[0mcomponents_\u001b[0m\u001b[0;34m)\u001b[0m\u001b[0;34m:\u001b[0m\u001b[0;34m\u001b[0m\u001b[0m\n\u001b[1;32m      2\u001b[0m     \u001b[0mprint\u001b[0m\u001b[0;34m(\u001b[0m\u001b[0mlen\u001b[0m\u001b[0;34m(\u001b[0m\u001b[0mvect\u001b[0m\u001b[0;34m.\u001b[0m\u001b[0mget_feature_names\u001b[0m\u001b[0;34m(\u001b[0m\u001b[0;34m)\u001b[0m\u001b[0;34m)\u001b[0m\u001b[0;34m)\u001b[0m\u001b[0;34m\u001b[0m\u001b[0m\n\u001b[0;32m----> 3\u001b[0;31m     \u001b[0mb\u001b[0m \u001b[0;34m=\u001b[0m \u001b[0;34m\" \"\u001b[0m\u001b[0;34m.\u001b[0m\u001b[0mjoin\u001b[0m\u001b[0;34m(\u001b[0m\u001b[0;34m[\u001b[0m\u001b[0mvect\u001b[0m\u001b[0;34m.\u001b[0m\u001b[0mget_feature_names\u001b[0m\u001b[0;34m(\u001b[0m\u001b[0;34m)\u001b[0m\u001b[0;34m[\u001b[0m\u001b[0mi\u001b[0m\u001b[0;34m]\u001b[0m \u001b[0;32mfor\u001b[0m \u001b[0mi\u001b[0m \u001b[0;32min\u001b[0m \u001b[0mtopic\u001b[0m\u001b[0;34m.\u001b[0m\u001b[0margsort\u001b[0m\u001b[0;34m(\u001b[0m\u001b[0;34m)\u001b[0m\u001b[0;34m[\u001b[0m\u001b[0;34m:\u001b[0m\u001b[0;34m-\u001b[0m\u001b[0;36m10\u001b[0m \u001b[0;34m-\u001b[0m \u001b[0;36m1\u001b[0m\u001b[0;34m:\u001b[0m\u001b[0;34m-\u001b[0m\u001b[0;36m1\u001b[0m\u001b[0;34m]\u001b[0m\u001b[0;34m]\u001b[0m\u001b[0;34m)\u001b[0m\u001b[0;34m\u001b[0m\u001b[0m\n\u001b[0m",
      "\u001b[0;32m<ipython-input-254-dcb95c4d3a0d>\u001b[0m in \u001b[0;36m<listcomp>\u001b[0;34m(.0)\u001b[0m\n\u001b[1;32m      1\u001b[0m \u001b[0;32mfor\u001b[0m \u001b[0mix\u001b[0m\u001b[0;34m,\u001b[0m \u001b[0mtopic\u001b[0m \u001b[0;32min\u001b[0m \u001b[0menumerate\u001b[0m\u001b[0;34m(\u001b[0m\u001b[0mlsa_model\u001b[0m\u001b[0;34m.\u001b[0m\u001b[0mcomponents_\u001b[0m\u001b[0;34m)\u001b[0m\u001b[0;34m:\u001b[0m\u001b[0;34m\u001b[0m\u001b[0m\n\u001b[1;32m      2\u001b[0m     \u001b[0mprint\u001b[0m\u001b[0;34m(\u001b[0m\u001b[0mlen\u001b[0m\u001b[0;34m(\u001b[0m\u001b[0mvect\u001b[0m\u001b[0;34m.\u001b[0m\u001b[0mget_feature_names\u001b[0m\u001b[0;34m(\u001b[0m\u001b[0;34m)\u001b[0m\u001b[0;34m)\u001b[0m\u001b[0;34m)\u001b[0m\u001b[0;34m\u001b[0m\u001b[0m\n\u001b[0;32m----> 3\u001b[0;31m     \u001b[0mb\u001b[0m \u001b[0;34m=\u001b[0m \u001b[0;34m\" \"\u001b[0m\u001b[0;34m.\u001b[0m\u001b[0mjoin\u001b[0m\u001b[0;34m(\u001b[0m\u001b[0;34m[\u001b[0m\u001b[0mvect\u001b[0m\u001b[0;34m.\u001b[0m\u001b[0mget_feature_names\u001b[0m\u001b[0;34m(\u001b[0m\u001b[0;34m)\u001b[0m\u001b[0;34m[\u001b[0m\u001b[0mi\u001b[0m\u001b[0;34m]\u001b[0m \u001b[0;32mfor\u001b[0m \u001b[0mi\u001b[0m \u001b[0;32min\u001b[0m \u001b[0mtopic\u001b[0m\u001b[0;34m.\u001b[0m\u001b[0margsort\u001b[0m\u001b[0;34m(\u001b[0m\u001b[0;34m)\u001b[0m\u001b[0;34m[\u001b[0m\u001b[0;34m:\u001b[0m\u001b[0;34m-\u001b[0m\u001b[0;36m10\u001b[0m \u001b[0;34m-\u001b[0m \u001b[0;36m1\u001b[0m\u001b[0;34m:\u001b[0m\u001b[0;34m-\u001b[0m\u001b[0;36m1\u001b[0m\u001b[0;34m]\u001b[0m\u001b[0;34m]\u001b[0m\u001b[0;34m)\u001b[0m\u001b[0;34m\u001b[0m\u001b[0m\n\u001b[0m",
      "\u001b[0;31mIndexError\u001b[0m: list index out of range"
     ]
    }
   ],
   "source": [
    "for ix, topic in enumerate(lsa_model.components_):\n",
    "    print(len(vect.get_feature_names()))\n",
    "    b = \" \".join([vect.get_feature_names()[i] for i in topic.argsort()[:-10 - 1:-1]])"
   ]
  },
  {
   "cell_type": "code",
   "execution_count": 202,
   "metadata": {},
   "outputs": [
    {
     "data": {
      "text/plain": [
       "array([ 0.01496662,  0.00014335,  0.00027796, ...,  0.00027975,\n",
       "        0.00027975,  0.00027975])"
      ]
     },
     "execution_count": 202,
     "metadata": {},
     "output_type": "execute_result"
    }
   ],
   "source": [
    "topic"
   ]
  },
  {
   "cell_type": "code",
   "execution_count": 209,
   "metadata": {},
   "outputs": [
    {
     "data": {
      "text/plain": [
       "10"
      ]
     },
     "execution_count": 209,
     "metadata": {},
     "output_type": "execute_result"
    }
   ],
   "source": [
    "len(model.components_)"
   ]
  },
  {
   "cell_type": "code",
   "execution_count": 203,
   "metadata": {},
   "outputs": [
    {
     "data": {
      "text/plain": [
       "118353"
      ]
     },
     "execution_count": 203,
     "metadata": {},
     "output_type": "execute_result"
    }
   ],
   "source": [
    "len(topic)"
   ]
  },
  {
   "cell_type": "code",
   "execution_count": 207,
   "metadata": {},
   "outputs": [
    {
     "data": {
      "text/plain": [
       "5000"
      ]
     },
     "execution_count": 207,
     "metadata": {},
     "output_type": "execute_result"
    }
   ],
   "source": [
    "len(topic)\n",
    "len(vect.get_feature_names())"
   ]
  },
  {
   "cell_type": "code",
   "execution_count": null,
   "metadata": {
    "collapsed": true
   },
   "outputs": [],
   "source": [
    "vect.get_feature_names()[]"
   ]
  },
  {
   "cell_type": "code",
   "execution_count": 213,
   "metadata": {},
   "outputs": [
    {
     "data": {
      "text/plain": [
       "array([103417,  39916,  94688, ...,  21371,  31746,  78271])"
      ]
     },
     "execution_count": 213,
     "metadata": {},
     "output_type": "execute_result"
    }
   ],
   "source": [
    "topic.argsort()[:-10]"
   ]
  },
  {
   "cell_type": "code",
   "execution_count": null,
   "metadata": {
    "collapsed": true
   },
   "outputs": [],
   "source": [
    "def display_topics(model, feature_names, no_top_words):\n",
    "    for ix, topic in enumerate(model.components_):\n",
    "        print(\"Topic \", ix)\n",
    "        print(\" \".join([feature_names[i]\n",
    "                        for i in topic.argsort()[:-no_top_words - 1:-1]]))"
   ]
  },
  {
   "cell_type": "code",
   "execution_count": null,
   "metadata": {
    "collapsed": true
   },
   "outputs": [],
   "source": [
    "[:-10:-1]"
   ]
  },
  {
   "cell_type": "code",
   "execution_count": 217,
   "metadata": {},
   "outputs": [
    {
     "ename": "IndexError",
     "evalue": "list index out of range",
     "output_type": "error",
     "traceback": [
      "\u001b[0;31m---------------------------------------------------------------------------\u001b[0m",
      "\u001b[0;31mIndexError\u001b[0m                                Traceback (most recent call last)",
      "\u001b[0;32m<ipython-input-217-37931c018f17>\u001b[0m in \u001b[0;36m<module>\u001b[0;34m()\u001b[0m\n\u001b[0;32m----> 1\u001b[0;31m \u001b[0ma\u001b[0m \u001b[0;34m=\u001b[0m \u001b[0;34m[\u001b[0m\u001b[0mvect\u001b[0m\u001b[0;34m.\u001b[0m\u001b[0mget_feature_names\u001b[0m\u001b[0;34m(\u001b[0m\u001b[0;34m)\u001b[0m\u001b[0;34m[\u001b[0m\u001b[0mi\u001b[0m\u001b[0;34m]\u001b[0m \u001b[0;32mfor\u001b[0m \u001b[0mi\u001b[0m \u001b[0;32min\u001b[0m \u001b[0mtopic\u001b[0m\u001b[0;34m.\u001b[0m\u001b[0margsort\u001b[0m\u001b[0;34m(\u001b[0m\u001b[0;34m)\u001b[0m\u001b[0;34m]\u001b[0m\u001b[0;34m\u001b[0m\u001b[0m\n\u001b[0m",
      "\u001b[0;32m<ipython-input-217-37931c018f17>\u001b[0m in \u001b[0;36m<listcomp>\u001b[0;34m(.0)\u001b[0m\n\u001b[0;32m----> 1\u001b[0;31m \u001b[0ma\u001b[0m \u001b[0;34m=\u001b[0m \u001b[0;34m[\u001b[0m\u001b[0mvect\u001b[0m\u001b[0;34m.\u001b[0m\u001b[0mget_feature_names\u001b[0m\u001b[0;34m(\u001b[0m\u001b[0;34m)\u001b[0m\u001b[0;34m[\u001b[0m\u001b[0mi\u001b[0m\u001b[0;34m]\u001b[0m \u001b[0;32mfor\u001b[0m \u001b[0mi\u001b[0m \u001b[0;32min\u001b[0m \u001b[0mtopic\u001b[0m\u001b[0;34m.\u001b[0m\u001b[0margsort\u001b[0m\u001b[0;34m(\u001b[0m\u001b[0;34m)\u001b[0m\u001b[0;34m]\u001b[0m\u001b[0;34m\u001b[0m\u001b[0m\n\u001b[0m",
      "\u001b[0;31mIndexError\u001b[0m: list index out of range"
     ]
    }
   ],
   "source": [
    "a = [vect.get_feature_names()[i] for i in topic.argsort()]"
   ]
  },
  {
   "cell_type": "code",
   "execution_count": 214,
   "metadata": {},
   "outputs": [
    {
     "name": "stdout",
     "output_type": "stream",
     "text": [
      "Topic  0\n"
     ]
    },
    {
     "ename": "IndexError",
     "evalue": "list index out of range",
     "output_type": "error",
     "traceback": [
      "\u001b[0;31m---------------------------------------------------------------------------\u001b[0m",
      "\u001b[0;31mIndexError\u001b[0m                                Traceback (most recent call last)",
      "\u001b[0;32m<ipython-input-214-a99c9c1efc22>\u001b[0m in \u001b[0;36m<module>\u001b[0;34m()\u001b[0m\n\u001b[1;32m      2\u001b[0m         \u001b[0mprint\u001b[0m\u001b[0;34m(\u001b[0m\u001b[0;34m\"Topic \"\u001b[0m\u001b[0;34m,\u001b[0m \u001b[0mix\u001b[0m\u001b[0;34m)\u001b[0m\u001b[0;34m\u001b[0m\u001b[0m\n\u001b[1;32m      3\u001b[0m         print(\" \".join([vect.get_feature_names()[i]\n\u001b[0;32m----> 4\u001b[0;31m                         for i in topic.argsort()[:-10:-1]]))\n\u001b[0m",
      "\u001b[0;32m<ipython-input-214-a99c9c1efc22>\u001b[0m in \u001b[0;36m<listcomp>\u001b[0;34m(.0)\u001b[0m\n\u001b[1;32m      2\u001b[0m         \u001b[0mprint\u001b[0m\u001b[0;34m(\u001b[0m\u001b[0;34m\"Topic \"\u001b[0m\u001b[0;34m,\u001b[0m \u001b[0mix\u001b[0m\u001b[0;34m)\u001b[0m\u001b[0;34m\u001b[0m\u001b[0m\n\u001b[1;32m      3\u001b[0m         print(\" \".join([vect.get_feature_names()[i]\n\u001b[0;32m----> 4\u001b[0;31m                         for i in topic.argsort()[:-10:-1]]))\n\u001b[0m",
      "\u001b[0;31mIndexError\u001b[0m: list index out of range"
     ]
    }
   ],
   "source": [
    "for ix, topic in enumerate(model.components_):\n",
    "        print(\"Topic \", ix)\n",
    "        print(\" \".join([vect.get_feature_names()[i]\n",
    "                        for i in topic.argsort()[:-10:-1]]))"
   ]
  },
  {
   "cell_type": "code",
   "execution_count": null,
   "metadata": {
    "collapsed": true
   },
   "outputs": [],
   "source": [
    "[:-no_top_words - 1:-1]"
   ]
  },
  {
   "cell_type": "code",
   "execution_count": null,
   "metadata": {
    "collapsed": true
   },
   "outputs": [],
   "source": []
  },
  {
   "cell_type": "code",
   "execution_count": null,
   "metadata": {
    "collapsed": true
   },
   "outputs": [],
   "source": []
  },
  {
   "cell_type": "code",
   "execution_count": null,
   "metadata": {
    "collapsed": true
   },
   "outputs": [],
   "source": []
  },
  {
   "cell_type": "code",
   "execution_count": 87,
   "metadata": {
    "collapsed": true
   },
   "outputs": [],
   "source": [
    "vectorizer = CountVectorizer(tokenizer = spacy_tokenizer, ngram_range=(1,2), max_df = 0.6, max_features=5000)"
   ]
  },
  {
   "cell_type": "code",
   "execution_count": 88,
   "metadata": {
    "collapsed": true
   },
   "outputs": [],
   "source": [
    "X_spacy = vectorizer.fit_transform(all_descriptions)"
   ]
  },
  {
   "cell_type": "code",
   "execution_count": 89,
   "metadata": {},
   "outputs": [
    {
     "data": {
      "text/plain": [
       "(1877, 5000)"
      ]
     },
     "execution_count": 89,
     "metadata": {},
     "output_type": "execute_result"
    }
   ],
   "source": [
    "X_spacy.shape"
   ]
  },
  {
   "cell_type": "code",
   "execution_count": 90,
   "metadata": {},
   "outputs": [
    {
     "data": {
      "text/plain": [
       "array([[ 0.00232632,  0.00232559,  0.00232633,  0.97906561,  0.00232601,\n",
       "         0.00232589,  0.00232612,  0.00232588,  0.00232582,  0.00232642],\n",
       "       [ 0.00312546,  0.003125  ,  0.1815002 ,  0.37891587,  0.20312908,\n",
       "         0.00312537,  0.0031252 ,  0.00312579,  0.00312561,  0.21770241],\n",
       "       [ 0.00131587,  0.00131579,  0.00131595,  0.00131595,  0.04398058,\n",
       "         0.00131592,  0.00131588,  0.00131591,  0.0013158 ,  0.94549233]])"
      ]
     },
     "execution_count": 90,
     "metadata": {},
     "output_type": "execute_result"
    }
   ],
   "source": [
    "n_topics = 10\n",
    "n_iter = 10\n",
    "lda = LatentDirichletAllocation(n_components=n_topics,\n",
    "                                max_iter=n_iter,\n",
    "                                random_state=42,\n",
    "                               learning_method='online')\n",
    "data = lda.fit_transform(X_spacy)\n",
    "data[:3]"
   ]
  },
  {
   "cell_type": "code",
   "execution_count": 91,
   "metadata": {},
   "outputs": [
    {
     "name": "stdout",
     "output_type": "stream",
     "text": [
      "Topic  0\n",
      "science research new scientific scientist human state drug work social\n",
      "Topic  1\n",
      "planet solar star surface system crater ice comet solar system spacecraft\n",
      "Topic  2\n",
      "climate change global year impact climate change world water increase ocean\n",
      "Topic  3\n",
      "protein gene dna rna genetic genome potential use information interest\n",
      "Topic  4\n",
      "cell cancer disease immune t tissue tumor t cell mouse virus\n",
      "Topic  5\n",
      "quantum use material state electron earth system optical atom particle\n",
      "Topic  6\n",
      "new researcher research u.s world year science health scientist national\n",
      "Topic  7\n",
      "reaction carbon molecule use bond metal enzyme complex structure oxygen\n",
      "Topic  8\n",
      "gravitational wave crispr physicist university gravitational wave student muscle career new\n",
      "Topic  9\n",
      "human plant study brain animal 1 specie new page system\n"
     ]
    }
   ],
   "source": [
    "display_topics(lda,vectorizer.get_feature_names(),10)"
   ]
  },
  {
   "cell_type": "code",
   "execution_count": null,
   "metadata": {
    "collapsed": true
   },
   "outputs": [],
   "source": []
  },
  {
   "cell_type": "markdown",
   "metadata": {},
   "source": [
    "### Workflow for getting issues from each year"
   ]
  },
  {
   "cell_type": "code",
   "execution_count": null,
   "metadata": {
    "collapsed": true
   },
   "outputs": [],
   "source": [
    "url = 'http://science.sciencemag.org/content/by/year/2017'\n",
    "\n",
    "response = requests.get(url)\n",
    "page = response.text\n",
    "soup = BeautifulSoup(page,\"html5lib\")"
   ]
  },
  {
   "cell_type": "code",
   "execution_count": null,
   "metadata": {
    "collapsed": true
   },
   "outputs": [],
   "source": [
    "link_search = soup.find_all(class_ = \"highlight-image-linked\")\n",
    "link_search"
   ]
  },
  {
   "cell_type": "code",
   "execution_count": null,
   "metadata": {
    "collapsed": true
   },
   "outputs": [],
   "source": [
    "issues2 = []\n",
    "for link in link_search:\n",
    "    a = link.get('href')\n",
    "    issues2.append(a)"
   ]
  },
  {
   "cell_type": "code",
   "execution_count": null,
   "metadata": {
    "collapsed": true,
    "scrolled": true
   },
   "outputs": [],
   "source": [
    "len(issues)"
   ]
  },
  {
   "cell_type": "code",
   "execution_count": null,
   "metadata": {
    "collapsed": true
   },
   "outputs": [],
   "source": [
    "url = 'http://science.sciencemag.org/content/by/year/2016'\n",
    "\n",
    "response = requests.get(url)\n",
    "page = response.text\n",
    "soup = BeautifulSoup(page,\"html5lib\")"
   ]
  },
  {
   "cell_type": "code",
   "execution_count": null,
   "metadata": {
    "collapsed": true
   },
   "outputs": [],
   "source": [
    "link_search = soup.find_all(class_ = \"highlight-image-linked\")\n",
    "link_search"
   ]
  },
  {
   "cell_type": "markdown",
   "metadata": {},
   "source": [
    "### Find workflow for getting the links to articles from each issue"
   ]
  },
  {
   "cell_type": "code",
   "execution_count": null,
   "metadata": {
    "collapsed": true
   },
   "outputs": [],
   "source": [
    "path = 'http://science.sciencemag.org'\n",
    "response = requests.get(path + issues2[0])\n",
    "page = response.text\n",
    "soup = BeautifulSoup(page,\"html5lib\")"
   ]
  },
  {
   "cell_type": "code",
   "execution_count": null,
   "metadata": {
    "collapsed": true
   },
   "outputs": [],
   "source": [
    "classes = ['abstract first', 'editor-summary first', 'summary first']\n",
    "i = 1\n",
    "article_content_links = []\n",
    "for entry in classes:\n",
    "    search = soup.find_all(class_ = entry)\n",
    "    for item in search:\n",
    "        article_content_links.append(item.find('a').get('href'))"
   ]
  },
  {
   "cell_type": "code",
   "execution_count": null,
   "metadata": {
    "collapsed": true
   },
   "outputs": [],
   "source": [
    "article_content_links"
   ]
  },
  {
   "cell_type": "markdown",
   "metadata": {},
   "source": [
    "### workflow "
   ]
  },
  {
   "cell_type": "code",
   "execution_count": null,
   "metadata": {
    "collapsed": true
   },
   "outputs": [],
   "source": [
    "content_classes = ['section editor-summary', 'section summary', 'section abstract']"
   ]
  },
  {
   "cell_type": "code",
   "execution_count": null,
   "metadata": {
    "collapsed": true
   },
   "outputs": [],
   "source": [
    "article_content_links[0]"
   ]
  },
  {
   "cell_type": "code",
   "execution_count": null,
   "metadata": {
    "collapsed": true
   },
   "outputs": [],
   "source": [
    "path = 'http://science.sciencemag.org'\n",
    "response = requests.get(path + article_content_links[0])\n",
    "page = response.text\n",
    "soup = BeautifulSoup(page,\"html5lib\")\n",
    "title = soup.find(class_ = 'highwire-cite-title').text\n",
    "print(title)\n",
    "for entry in content_classes:\n",
    "    a = soup.find(class_ = entry)\n",
    "    if a:\n",
    "        # print(a.text)\n",
    "        print(a.find('p').text)"
   ]
  },
  {
   "cell_type": "code",
   "execution_count": null,
   "metadata": {
    "collapsed": true
   },
   "outputs": [],
   "source": [
    "test = 'http://science.sciencemag.org/content/308/5719'\n",
    "response = requests.get(test)\n",
    "page = response.text\n",
    "soup = BeautifulSoup(page,\"html5lib\")"
   ]
  },
  {
   "cell_type": "code",
   "execution_count": null,
   "metadata": {
    "collapsed": true
   },
   "outputs": [],
   "source": [
    "'abstract first', 'editor-summary first'\n",
    "title_ref = soup.find_all(class_ = 'summary first')\n",
    "title_ref"
   ]
  },
  {
   "cell_type": "code",
   "execution_count": null,
   "metadata": {
    "collapsed": true
   },
   "outputs": [],
   "source": [
    " next_base = 'http://science.sciencemag.org/'"
   ]
  },
  {
   "cell_type": "code",
   "execution_count": null,
   "metadata": {
    "collapsed": true
   },
   "outputs": [],
   "source": []
  },
  {
   "cell_type": "code",
   "execution_count": 137,
   "metadata": {},
   "outputs": [
    {
     "data": {
      "text/plain": [
       "'H2O exists in two spin isomers, ortho and para, in a ratio of 3:1 at room temperature. Some astronomical observations have found water with a ratio of less than 3, thought to be due to water being photodesorbed from ice that had been formed at very low temperatures (≾30 K). Hama et al. tested this idea in the laboratory, by forming water ice at low temperature and then photodesorbing it to measure the ortho:para ratio. They found a ratio of 3, even at 10 K. Thus, another explanation for the low ratios in some astronomical objects must be found.'"
      ]
     },
     "execution_count": 137,
     "metadata": {},
     "output_type": "execute_result"
    }
   ],
   "source": [
    "all_descriptions[8]"
   ]
  },
  {
   "cell_type": "code",
   "execution_count": 138,
   "metadata": {
    "collapsed": true
   },
   "outputs": [],
   "source": [
    "doctest = re.sub('\\s\\d+(\\s)?(,)?', '', all_descriptions[8])"
   ]
  },
  {
   "cell_type": "code",
   "execution_count": 139,
   "metadata": {},
   "outputs": [
    {
     "data": {
      "text/plain": [
       "'H2O exists in two spin isomers, ortho and para, in a ratio of:1 at room temperature. Some astronomical observations have found water with a ratio of less than thought to be due to water being photodesorbed from ice that had been formed at very low temperatures (≾30 K). Hama et al. tested this idea in the laboratory, by forming water ice at low temperature and then photodesorbing it to measure the ortho:para ratio. They found a ratio of even atK. Thus, another explanation for the low ratios in some astronomical objects must be found.'"
      ]
     },
     "execution_count": 139,
     "metadata": {},
     "output_type": "execute_result"
    }
   ],
   "source": [
    "doctest"
   ]
  },
  {
   "cell_type": "code",
   "execution_count": null,
   "metadata": {
    "collapsed": true
   },
   "outputs": [],
   "source": []
  }
 ],
 "metadata": {
  "kernelspec": {
   "display_name": "Python [conda root]",
   "language": "python",
   "name": "conda-root-py"
  },
  "language_info": {
   "codemirror_mode": {
    "name": "ipython",
    "version": 3
   },
   "file_extension": ".py",
   "mimetype": "text/x-python",
   "name": "python",
   "nbconvert_exporter": "python",
   "pygments_lexer": "ipython3",
   "version": "3.6.2"
  }
 },
 "nbformat": 4,
 "nbformat_minor": 2
}
