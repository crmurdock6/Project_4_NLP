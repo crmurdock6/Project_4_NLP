{
 "cells": [
  {
   "cell_type": "markdown",
   "metadata": {},
   "source": [
    "### Imports"
   ]
  },
  {
   "cell_type": "code",
   "execution_count": 1,
   "metadata": {
    "collapsed": true
   },
   "outputs": [],
   "source": [
    "import requests\n",
    "import pandas as pd\n",
    "import re\n",
    "from bs4 import BeautifulSoup\n",
    "import time\n",
    "from random import randint\n",
    "from pymongo import MongoClient\n",
    "from sklearn.feature_extraction.text import CountVectorizer, TfidfVectorizer\n",
    "from sklearn.decomposition import LatentDirichletAllocation\n",
    "from sklearn.preprocessing import StandardScaler, Normalizer\n",
    "from sklearn.decomposition import NMF, TruncatedSVD"
   ]
  },
  {
   "cell_type": "code",
   "execution_count": 2,
   "metadata": {},
   "outputs": [
    {
     "ename": "SyntaxError",
     "evalue": "invalid syntax (<ipython-input-2-e583078e2367>, line 1)",
     "output_type": "error",
     "traceback": [
      "\u001b[0;36m  File \u001b[0;32m\"<ipython-input-2-e583078e2367>\"\u001b[0;36m, line \u001b[0;32m1\u001b[0m\n\u001b[0;31m    import modules/modeling_module.py as mm\u001b[0m\n\u001b[0m                  ^\u001b[0m\n\u001b[0;31mSyntaxError\u001b[0m\u001b[0;31m:\u001b[0m invalid syntax\n"
     ]
    }
   ],
   "source": [
    "import modules/modeling_module.py as mm"
   ]
  },
  {
   "cell_type": "markdown",
   "metadata": {},
   "source": [
    "### Connect to MongoDB"
   ]
  },
  {
   "cell_type": "code",
   "execution_count": 2,
   "metadata": {
    "collapsed": true
   },
   "outputs": [],
   "source": [
    "client = MongoClient()\n",
    "sci = client.metis_p4_db.science"
   ]
  },
  {
   "cell_type": "code",
   "execution_count": 3,
   "metadata": {
    "collapsed": true
   },
   "outputs": [],
   "source": [
    "year_2017 = sci.find({'year': 2017})"
   ]
  },
  {
   "cell_type": "code",
   "execution_count": 4,
   "metadata": {},
   "outputs": [
    {
     "data": {
      "text/plain": [
       "{'_id': ObjectId('59ff7729127ab46797dafb56'),\n",
       " 'description': 'Producing mass quantities of chemicals has its roots in the industrial revolution. But industrial synthesis leads to sizeable sustainability and socioeconomic challenges. The rapid advances in biotechnology suggest that biological manufacturing may soon be a feasible alternative, but can it produce chemicals at scale? Clomburg et al. review the progress made in industrial biomanufacturing, including the tradeoffs between highly tunable biocatalysts and units of scale. The biological conversion of single-carbon compounds such as methane, for example, has served as a testbed for more sustainable, decentralized production of desirable compounds.',\n",
       " 'title': 'Industrial biomanufacturing: The future of chemical production',\n",
       " 'year': 2017}"
      ]
     },
     "execution_count": 4,
     "metadata": {},
     "output_type": "execute_result"
    }
   ],
   "source": [
    "year_2017[0]"
   ]
  },
  {
   "cell_type": "code",
   "execution_count": 5,
   "metadata": {
    "collapsed": true
   },
   "outputs": [],
   "source": [
    "all_descriptions = []\n",
    "\n",
    "for record in year_2017:\n",
    "    all_descriptions.append(record['description'])"
   ]
  },
  {
   "cell_type": "code",
   "execution_count": 6,
   "metadata": {},
   "outputs": [
    {
     "data": {
      "text/plain": [
       "['Producing mass quantities of chemicals has its roots in the industrial revolution. But industrial synthesis leads to sizeable sustainability and socioeconomic challenges. The rapid advances in biotechnology suggest that biological manufacturing may soon be a feasible alternative, but can it produce chemicals at scale? Clomburg et al. review the progress made in industrial biomanufacturing, including the tradeoffs between highly tunable biocatalysts and units of scale. The biological conversion of single-carbon compounds such as methane, for example, has served as a testbed for more sustainable, decentralized production of desirable compounds.',\n",
       " 'The human genome generates many thousands of long noncoding RNAs (lncRNAs). A very small number of lncRNAs have been shown to be functional. Liu et al. carried out a large-scale CRISPR-based screen to assess the function of ∼17,000 lncRNAs in seven different human cell lines. A considerable number (∼500) of the tested lncRNAs influenced cell growth, suggesting biological function. In almost all cases, though, the function was highly cell type—specific, often limited to just one cell type.']"
      ]
     },
     "execution_count": 6,
     "metadata": {},
     "output_type": "execute_result"
    }
   ],
   "source": [
    "all_descriptions[:2]"
   ]
  },
  {
   "cell_type": "code",
   "execution_count": 7,
   "metadata": {},
   "outputs": [
    {
     "data": {
      "text/plain": [
       "1492"
      ]
     },
     "execution_count": 7,
     "metadata": {},
     "output_type": "execute_result"
    }
   ],
   "source": [
    "len(all_descriptions)"
   ]
  },
  {
   "cell_type": "markdown",
   "metadata": {},
   "source": [
    "## Workflow"
   ]
  },
  {
   "cell_type": "markdown",
   "metadata": {},
   "source": [
    "#### Write function for tokenizer"
   ]
  },
  {
   "cell_type": "code",
   "execution_count": 8,
   "metadata": {
    "collapsed": true
   },
   "outputs": [],
   "source": [
    "from spacy.en import STOP_WORDS as stopwords\n",
    "import string\n",
    "import spacy\n",
    "nlp = spacy.load('en')\n",
    "stopwords.update(['et', 'al', \"'s\", \"—\", '-'])\n",
    "punctuations = string.punctuation"
   ]
  },
  {
   "cell_type": "code",
   "execution_count": 9,
   "metadata": {
    "collapsed": true
   },
   "outputs": [],
   "source": [
    "def spacy_tokenizer_1(doc):\n",
    "    doc = doc.replace('—', '').replace(',', '').replace(\"'s\", '')\n",
    "    doc = re.sub('\\s\\d+\\s', '', doc)\n",
    "    tokens = nlp(doc)\n",
    "    tokens = [tok.lemma_.lower().strip() if tok.lemma_ != \"-PRON-\" else tok.lower_ for tok in tokens]\n",
    "    tokens = [tok for tok in tokens if (tok not in stopwords and tok not in punctuations)]     \n",
    "    return tokens"
   ]
  },
  {
   "cell_type": "code",
   "execution_count": 10,
   "metadata": {
    "collapsed": true
   },
   "outputs": [],
   "source": [
    "def spacy_tokenizer_2(doc):\n",
    "    doc = doc.replace('—', '').replace(',', '').replace(\"'s\", '')\n",
    "    doc = re.sub('\\s\\d+(\\s)?', '', doc)\n",
    "    tokens = nlp(doc)\n",
    "    tokens = [tok.lemma_.lower().strip() if tok.lemma_ != \"-PRON-\" else tok.lower_ for tok in tokens]\n",
    "    tokens = [tok for tok in tokens if (tok not in stopwords and tok not in punctuations)]     \n",
    "    return tokens"
   ]
  },
  {
   "cell_type": "code",
   "execution_count": 11,
   "metadata": {
    "collapsed": true
   },
   "outputs": [],
   "source": [
    "def spacy_tokenizer_3(doc):\n",
    "    doc = doc.replace('—', '').replace(',', '').replace(\"'s\", '')\n",
    "    # doc = re.sub('\\s\\d+(\\s)?(,)?', ' ', doc)\n",
    "    doc = re.sub('\\D\\d+(\\D)?', ' ', doc)\n",
    "    doc = doc.replace('–', '')\n",
    "    tokens = nlp(doc)\n",
    "    tokens = [tok.lemma_.lower().strip() if tok.lemma_ != \"-PRON-\" else tok.lower_ for tok in tokens]\n",
    "    tokens = [tok for tok in tokens if (tok not in stopwords and tok not in punctuations)]     \n",
    "    return tokens"
   ]
  },
  {
   "cell_type": "markdown",
   "metadata": {},
   "source": [
    "#### Functions for vectorizing"
   ]
  },
  {
   "cell_type": "code",
   "execution_count": 12,
   "metadata": {
    "collapsed": true
   },
   "outputs": [],
   "source": [
    "def count_vectorizer(tokenizer, max_feat, X, ngram_start=1, ngram_stop=2, max_df=0.6):\n",
    "\n",
    "    vectorizer = CountVectorizer(tokenizer = tokenizer,\n",
    "                                 ngram_range=(ngram_start, ngram_stop),\n",
    "                                 max_df = max_df,\n",
    "                                 max_features=max_feat)\n",
    "    return vectorizer, vectorizer.fit_transform(X)"
   ]
  },
  {
   "cell_type": "code",
   "execution_count": 13,
   "metadata": {
    "collapsed": true
   },
   "outputs": [],
   "source": [
    "def tfidf_vectorizer(tokenizer, max_feat, X, ngram_start=1, ngram_stop=2, max_df=0.6):\n",
    "\n",
    "    vectorizer = TfidfVectorizer(tokenizer = tokenizer,\n",
    "                                 ngram_range=(ngram_start, ngram_stop),\n",
    "                                 max_df = max_df,\n",
    "                                 max_features=max_feat)\n",
    "    return vectorizer, vectorizer.fit_transform(X)"
   ]
  },
  {
   "cell_type": "markdown",
   "metadata": {},
   "source": [
    "#### Write functions for models"
   ]
  },
  {
   "cell_type": "code",
   "execution_count": 14,
   "metadata": {
    "collapsed": true
   },
   "outputs": [],
   "source": [
    "def lda_cv(X, n_comp, n_iter = 10):\n",
    "    lda = LatentDirichletAllocation(n_components=n_comp,\n",
    "                                    max_iter=n_iter,\n",
    "                                    random_state=42,\n",
    "                                    learning_method='online')\n",
    "    return lda, lda.fit_transform(X)\n",
    "\n",
    "def lda_tfidf(X, n_comp, n_iter = 10):\n",
    "    lda = LatentDirichletAllocation(n_components=n_comp,\n",
    "                                    max_iter=n_iter,\n",
    "                                    random_state=42,\n",
    "                                    learning_method='online')\n",
    "    return lda, lda.fit_transform(X)"
   ]
  },
  {
   "cell_type": "code",
   "execution_count": 15,
   "metadata": {
    "collapsed": true
   },
   "outputs": [],
   "source": [
    "def lsa_tfidf(X, n_comp):\n",
    "    lsa = TruncatedSVD(n_components=n_comp, random_state=42)\n",
    "    return lsa, lsa.fit_transform(X)\n",
    "def lsa_cv(X, n_comp):\n",
    "    lsa = TruncatedSVD(n_components=n_comp, random_state=42)\n",
    "    return lsa, lsa.fit_transform(X)\n",
    "def nmf_tfidf(X, n_comp):\n",
    "    nmf = NMF(n_components=n_comp, random_state=42)\n",
    "    return nmf, nmf.fit_transform(X)\n",
    "def nmf_cv(X, n_comp):\n",
    "    nmf = NMF(n_components=n_comp, random_state=42)\n",
    "    return nmf, nmf.fit_transform(X)"
   ]
  },
  {
   "cell_type": "markdown",
   "metadata": {},
   "source": [
    "#### function for displaying topics"
   ]
  },
  {
   "cell_type": "code",
   "execution_count": 16,
   "metadata": {
    "collapsed": true
   },
   "outputs": [],
   "source": [
    "def display_topics(model, feature_names, no_top_words):\n",
    "    for ix, topic in enumerate(model.components_):\n",
    "        print(\"Topic \", ix)\n",
    "        print(\" \".join([feature_names[i]\n",
    "                        for i in topic.argsort()[:-no_top_words - 1:-1]]))"
   ]
  },
  {
   "cell_type": "markdown",
   "metadata": {},
   "source": [
    "#### Function to display modeling results"
   ]
  },
  {
   "cell_type": "code",
   "execution_count": 17,
   "metadata": {
    "collapsed": true
   },
   "outputs": [],
   "source": [
    "def use_vectorizer(cv_vect, cv_vect_trans, n_comp=10):\n",
    "    models = [lsa_cv, nmf_cv, lda_tfidf]\n",
    "    names = ['LSA', 'NMF', 'LDA']\n",
    "    i = 0\n",
    "    for item in models:\n",
    "        norm = Normalizer()\n",
    "        vect_normalized = norm.fit_transform(cv_vect_trans)\n",
    "        model, model_transformed = item(vect_normalized, n_comp=n_comp)\n",
    "        print('\\n\\n-------' + names[i] + '------\\n\\n')\n",
    "        display_topics(model, cv_vect.get_feature_names(), 10)\n",
    "        i += 1"
   ]
  },
  {
   "cell_type": "markdown",
   "metadata": {},
   "source": [
    "# Make different vectorizers and test models (LSA, NMF, LDA)"
   ]
  },
  {
   "cell_type": "markdown",
   "metadata": {},
   "source": [
    "#### Start with tokenizer 3 as this is the best tokenizer for cleaning data"
   ]
  },
  {
   "cell_type": "code",
   "execution_count": 18,
   "metadata": {
    "collapsed": true
   },
   "outputs": [],
   "source": [
    "cv_vect1, cv_vect1_transformed = count_vectorizer(spacy_tokenizer_3, 5000, all_descriptions)"
   ]
  },
  {
   "cell_type": "code",
   "execution_count": 19,
   "metadata": {},
   "outputs": [
    {
     "name": "stdout",
     "output_type": "stream",
     "text": [
      "\n",
      "\n",
      "-------LSA------\n",
      "\n",
      "\n",
      "Topic  0\n",
      "cell use researcher new science human material protein study year\n",
      "Topic  1\n",
      "roundup information information newly weekly offer instrumentation apparatus laboratory laboratory material weekly roundup newly offer interest researcher material potential\n",
      "Topic  2\n",
      "cell protein gene cancer mouse dna function structure chromosome perspective\n",
      "Topic  3\n",
      "cell science research scientist u.s new world cancer president researcher\n",
      "Topic  4\n",
      "human dna new gene year disease genome modern researcher specie\n",
      "Topic  5\n",
      "protein dna science structure complex bind chromosome research scientist sequence\n",
      "Topic  6\n",
      "change climate carbon protein climate change c year global plant long\n",
      "Topic  7\n",
      "cancer protein drug disease patient tumor therapy carbon target vaccine\n",
      "Topic  8\n",
      "dna use science human change genome climate carbon gene chromosome\n",
      "Topic  9\n",
      "carbon use dna new plant researcher c year bond reaction\n",
      "\n",
      "\n",
      "-------NMF------\n",
      "\n",
      "\n",
      "Topic  0\n",
      "science research scientist u.s world new president scientific trump government\n",
      "Topic  1\n",
      "material researcher information potential offer interest laboratory newly apparatus instrumentation\n",
      "Topic  2\n",
      "cell stem stem cell gene immune single tissue mouse t expression\n",
      "Topic  3\n",
      "use material quantum light energy state electron high perspective process\n",
      "Topic  4\n",
      "human new year researcher study modern ago people time year ago\n",
      "Topic  5\n",
      "protein structure complex bind enzyme design pathway provide function ribosome\n",
      "Topic  6\n",
      "change climate carbon c climate change global plant increase atmosphere emission\n",
      "Topic  7\n",
      "cancer drug patient tumor disease therapy trial treatment study target\n",
      "Topic  8\n",
      "dna genome chromosome gene nucleosome strand histone bind replication sequence\n",
      "Topic  9\n",
      "brain issue page page issue neuron system memory function behavior activity\n",
      "\n",
      "\n",
      "-------LDA------\n",
      "\n",
      "\n",
      "Topic  0\n",
      "cell time stem researcher student sound tomato chromosome stem cell agree\n",
      "Topic  1\n",
      "use datum resistance science time electron scientist reaction issue high\n",
      "Topic  2\n",
      "apparatus instrumentation laboratory offer newly interest information potential material researcher\n",
      "Topic  3\n",
      "strip casparian casparian strip seagrass endodermal reach reach receptor stele endodermal layer peptide ligand\n",
      "Topic  4\n",
      "use science new year human research scientist study change researcher\n",
      "Topic  5\n",
      "cell protein dna gene cancer structure use disease perspective brain\n",
      "Topic  6\n",
      "erc nectar high concentration science research scientist aaas annual annual meeting year european\n",
      "Topic  7\n",
      "pain breathing opioid generic weevil perovskite layer allotrope polynitrogen photovoltaic device uu\n",
      "Topic  8\n",
      "science research new sex state metamemory gene world scientific u.s\n",
      "Topic  9\n",
      "cell protein complex vaccine structure division embryonic chromosome function perspective\n"
     ]
    }
   ],
   "source": [
    "use_vectorizer(cv_vect1, cv_vect1_transformed)"
   ]
  },
  {
   "cell_type": "markdown",
   "metadata": {},
   "source": [
    "count vectorizer 2"
   ]
  },
  {
   "cell_type": "code",
   "execution_count": 20,
   "metadata": {
    "collapsed": true
   },
   "outputs": [],
   "source": [
    "cv_vect2, cv_vect2_transformed = count_vectorizer(spacy_tokenizer_3, 5000, all_descriptions, ngram_stop=4)"
   ]
  },
  {
   "cell_type": "code",
   "execution_count": 21,
   "metadata": {},
   "outputs": [
    {
     "name": "stdout",
     "output_type": "stream",
     "text": [
      "\n",
      "\n",
      "-------LSA------\n",
      "\n",
      "\n",
      "Topic  0\n",
      "cell use new science human researcher protein study year material\n",
      "Topic  1\n",
      "weekly roundup information offer instrumentation material potential interest material potential interest researcher information newly information newly offer information newly offer instrumentation interest researcher weekly roundup information newly laboratory material potential interest\n",
      "Topic  2\n",
      "cell protein gene cancer dna mouse function chromosome structure perspective\n",
      "Topic  3\n",
      "cell science research scientist u.s new world president cancer researcher\n",
      "Topic  4\n",
      "human dna new gene year disease genome modern specie researcher\n",
      "Topic  5\n",
      "protein dna science structure complex bind chromosome research sequence scientist\n",
      "Topic  6\n",
      "change climate carbon protein climate change c year global plant long\n",
      "Topic  7\n",
      "cancer drug protein disease patient tumor carbon therapy change target\n",
      "Topic  8\n",
      "dna use science human change genome climate carbon gene chromosome\n",
      "Topic  9\n",
      "carbon use dna new plant researcher year c protein bond\n",
      "\n",
      "\n",
      "-------NMF------\n",
      "\n",
      "\n",
      "Topic  0\n",
      "science research scientist u.s world new president scientific government trump\n",
      "Topic  1\n",
      "material researcher information potential offer interest laboratory newly apparatus instrumentation\n",
      "Topic  2\n",
      "cell stem stem cell gene immune single tissue mouse expression t\n",
      "Topic  3\n",
      "use material quantum light energy state electron high perspective process\n",
      "Topic  4\n",
      "human new year researcher study modern ago people time year ago\n",
      "Topic  5\n",
      "protein structure complex bind enzyme design pathway provide function help\n",
      "Topic  6\n",
      "change climate carbon c climate change global plant increase atmosphere emission\n",
      "Topic  7\n",
      "cancer drug patient disease tumor therapy trial treatment study vaccine\n",
      "Topic  8\n",
      "dna genome chromosome gene nucleosome strand histone bind replication sequence\n",
      "Topic  9\n",
      "brain issue page page issue neuron system memory function behavior mouse\n",
      "\n",
      "\n",
      "-------LDA------\n",
      "\n",
      "\n",
      "Topic  0\n",
      "ral metamemory seagrass androgen deprivation lineage switch androgen deprivation therapy find prostate find prostate cancer suppressor tumor suppressor\n",
      "Topic  1\n",
      "cell use science new human year study protein change research\n",
      "Topic  2\n",
      "wood black black hole hole ice material world use physicist familiar\n",
      "Topic  3\n",
      "interneuron use human time study year cell protein system change\n",
      "Topic  4\n",
      "science year march antarctica scientist sugar enzyme research trench protein\n",
      "Topic  5\n",
      "homologous chromosome resection homologous meiotic chromosome cell proteasome recombination division use\n",
      "Topic  6\n",
      "student memory u.s engineering science brain scientist include nature study\n",
      "Topic  7\n",
      "nucleosome histone silence pd mirna polycomb cell c pr notch\n",
      "Topic  8\n",
      "human cell gene science year function use researcher bind crispr\n",
      "Topic  9\n",
      "instrumentation apparatus material potential offer interest researcher information laboratory newly\n"
     ]
    }
   ],
   "source": [
    "use_vectorizer(cv_vect2, cv_vect2_transformed)"
   ]
  },
  {
   "cell_type": "markdown",
   "metadata": {},
   "source": [
    "count vectorizer 3"
   ]
  },
  {
   "cell_type": "code",
   "execution_count": 22,
   "metadata": {
    "collapsed": true
   },
   "outputs": [],
   "source": [
    "cv_vect3, cv_vect3_transformed = count_vectorizer(spacy_tokenizer_3, 110000, all_descriptions)"
   ]
  },
  {
   "cell_type": "code",
   "execution_count": 23,
   "metadata": {},
   "outputs": [
    {
     "name": "stdout",
     "output_type": "stream",
     "text": [
      "\n",
      "\n",
      "-------LSA------\n",
      "\n",
      "\n",
      "Topic  0\n",
      "material researcher information potential offer interest laboratory newly apparatus instrumentation\n",
      "Topic  1\n",
      "cell use human new protein science study year gene change\n",
      "Topic  2\n",
      "cell protein cancer gene mouse t immune stem cell t cell stem\n",
      "Topic  3\n",
      "science cell research scientist u.s new world president trump national\n",
      "Topic  4\n",
      "human dna gene protein genome new disease year modern neandertal\n",
      "Topic  5\n",
      "protein science dna structure complex bind research chromosome scientist u.s\n",
      "Topic  6\n",
      "cancer drug protein patient tumor therapy disease target pd c\n",
      "Topic  7\n",
      "change climate carbon protein c climate change plant year atmosphere global\n",
      "Topic  8\n",
      "dna use science carbon gene genome cancer change chromosome c\n",
      "Topic  9\n",
      "new carbon dna year researcher use plant c reaction study\n",
      "\n",
      "\n",
      "-------NMF------\n",
      "\n",
      "\n",
      "Topic  0\n",
      "material researcher information potential offer interest laboratory newly apparatus instrumentation\n",
      "Topic  1\n",
      "new year researcher study scientist million world work time people\n",
      "Topic  2\n",
      "cell stem stem cell gene single immune mouse tissue function type\n",
      "Topic  3\n",
      "use material quantum light state electron energy high system issue\n",
      "Topic  4\n",
      "human brain specie genome disease gene modern neandertal population genetic\n",
      "Topic  5\n",
      "protein structure complex bind provide function pathway design enzyme help\n",
      "Topic  6\n",
      "cancer patient drug tumor therapy pd treatment target response t\n",
      "Topic  7\n",
      "change carbon climate c plant climate change increase global emission atmosphere\n",
      "Topic  8\n",
      "dna chromosome gene genome nucleosome histone strand bind replication complex\n",
      "Topic  9\n",
      "science research u.s scientist world president trump agency scientific national\n",
      "\n",
      "\n",
      "-------LDA------\n",
      "\n",
      "\n",
      "Topic  0\n",
      "homologous homologous chromosome strip casparian strip casparian endodermal smc resection kaib oscillator protein\n",
      "Topic  1\n",
      "tomato commercially time everybody wonderland truth like mad burdick deftly staff writer mad hatter researcher page fundamental modern\n",
      "Topic  2\n",
      "metamemory introduce visitor country rich exhibition introduce immersive rich culture visitor country immersive exhibition visitor culture biodiversity\n",
      "Topic  3\n",
      "nucleate vaquita polynitrogen marine mammal porpoise crystallographic propellant explosive propellant prion nucleate ice\n",
      "Topic  4\n",
      "cell use science new human year study protein change research\n",
      "Topic  5\n",
      "offer researcher material instrumentation newly potential apparatus laboratory interest information\n",
      "Topic  6\n",
      "great lake multistrategy effort lead multistrategy effort safeguard holt lead rush holt ceo rush rush holt good government\n",
      "Topic  7\n",
      "hair follicle follicle braid knot faperj rio cysteine bmp myofibroblast adipocyte\n",
      "Topic  8\n",
      "mitoribosome nav physicist reveal reveal science familiar phenomenon science familiar menon nav channel intron amine olefin\n",
      "Topic  9\n",
      "uridine erc nectar wood seagrass scarring plasma uridine seagrass meadow meadow scar formation\n"
     ]
    }
   ],
   "source": [
    "use_vectorizer(cv_vect3, cv_vect3_transformed)"
   ]
  },
  {
   "cell_type": "markdown",
   "metadata": {},
   "source": [
    "### Lets try tfidf vectorizer to compare\n",
    "tfidf vectorizer 1"
   ]
  },
  {
   "cell_type": "code",
   "execution_count": 24,
   "metadata": {
    "collapsed": true
   },
   "outputs": [],
   "source": [
    "tf_vect1, tf_vect1_transformed = tfidf_vectorizer(spacy_tokenizer_3, 5000, all_descriptions)"
   ]
  },
  {
   "cell_type": "markdown",
   "metadata": {},
   "source": [
    "# LDA is good, best!"
   ]
  },
  {
   "cell_type": "code",
   "execution_count": 25,
   "metadata": {},
   "outputs": [
    {
     "name": "stdout",
     "output_type": "stream",
     "text": [
      "\n",
      "\n",
      "-------LSA------\n",
      "\n",
      "\n",
      "Topic  0\n",
      "roundup information newly apparatus laboratory newly offer roundup information offer instrumentation weekly weekly roundup laboratory material interest researcher\n",
      "Topic  1\n",
      "cell science human use new protein research study year change\n",
      "Topic  2\n",
      "cell protein dna gene chromosome structure cancer mouse function expression\n",
      "Topic  3\n",
      "cell science cancer research gene patient u.s stem cell stem scientist\n",
      "Topic  4\n",
      "dna human genome neandertal modern ancient protein gene sequence specie\n",
      "Topic  5\n",
      "dna protein science structure chromosome research nucleosome bind quantum u.s\n",
      "Topic  6\n",
      "carbon climate c change plant dna cell protein climate change emission\n",
      "Topic  7\n",
      "cancer protein drug vaccine patient tumor carbon disease bond therapy\n",
      "Topic  8\n",
      "dna cancer neandertal carbon cell ancient solar year hydrogen black hole\n",
      "Topic  9\n",
      "dna cancer chromosome quantum change tumor genome nucleosome histone epigenetic\n",
      "\n",
      "\n",
      "-------NMF------\n",
      "\n",
      "\n",
      "Topic  0\n",
      "instrumentation apparatus information newly material potential apparatus laboratory newly offer offer instrumentation interest researcher potential interest weekly weekly roundup\n",
      "Topic  1\n",
      "brain neuron memory breathing activity behavior mouse circuit neuronal neural\n",
      "Topic  2\n",
      "cell stem cell stem gene single cell expression tissue immune cell type single\n",
      "Topic  3\n",
      "quantum material electron use light state energy atom spin property\n",
      "Topic  4\n",
      "human modern neandertal year new ancient genome specie people ago\n",
      "Topic  5\n",
      "science research scientist u.s world trump president new government agency\n",
      "Topic  6\n",
      "carbon climate change c climate change plant emission global carbon dioxide dioxide\n",
      "Topic  7\n",
      "cancer patient drug tumor therapy pd treatment trial disease clinical\n",
      "Topic  8\n",
      "planet earth space solar ice nasa particle star black hole black\n",
      "Topic  9\n",
      "protein dna structure chromosome bind complex nucleosome strand histone sequence\n",
      "\n",
      "\n",
      "-------LDA------\n",
      "\n",
      "\n",
      "Topic  0\n",
      "ral seagrass r gene uu expert panel uc hadza ips cell ips ar\n",
      "Topic  1\n",
      "apparatus instrumentation interest researcher material potential information newly offer instrumentation potential interest laboratory material weekly roundup instrumentation apparatus\n",
      "Topic  2\n",
      "feldspar wood nucleate result help crystal ice black hole hole black ipp\n",
      "Topic  3\n",
      "quantum device spin material charge layer electronic electron graphene cooling\n",
      "Topic  4\n",
      "soil kinase nm memory observe contagious familiar nucleus game depth\n",
      "Topic  5\n",
      "cell protein dna structure use gene cancer perspective chromosome complex\n",
      "Topic  6\n",
      "pd pd therapy tcr parity costimulatory kamphorst hui cell receptor odd parity certain tumor\n",
      "Topic  7\n",
      "science new year human research scientist use study change world\n",
      "Topic  8\n",
      "metamemory substrate mechanism involve science pain change scientific new particle face\n",
      "Topic  9\n",
      "bond carbon catalyst magma fluorine nitrogen substituent fungi nv diamond\n"
     ]
    }
   ],
   "source": [
    "use_vectorizer(tf_vect1, tf_vect1_transformed)"
   ]
  },
  {
   "cell_type": "markdown",
   "metadata": {},
   "source": [
    "tfidf vectorizer 2"
   ]
  },
  {
   "cell_type": "code",
   "execution_count": 26,
   "metadata": {
    "collapsed": true
   },
   "outputs": [],
   "source": [
    "tf_vect2, tf_vect2_transformed = tfidf_vectorizer(spacy_tokenizer_3, 5000, all_descriptions, ngram_stop=4)"
   ]
  },
  {
   "cell_type": "code",
   "execution_count": 27,
   "metadata": {},
   "outputs": [
    {
     "name": "stdout",
     "output_type": "stream",
     "text": [
      "\n",
      "\n",
      "-------LSA------\n",
      "\n",
      "\n",
      "Topic  0\n",
      "weekly roundup information newly interest researcher laboratory material potential interest laboratory material potential material potential interest researcher roundup information newly offer apparatus laboratory apparatus laboratory material apparatus laboratory material potential instrumentation apparatus laboratory material\n",
      "Topic  1\n",
      "cell science human use new protein research study year change\n",
      "Topic  2\n",
      "cell protein dna gene chromosome structure cancer function mouse expression\n",
      "Topic  3\n",
      "quantum material carbon electron light energy use temperature bond hydrogen\n",
      "Topic  4\n",
      "human dna genome neandertal modern ancient specie gene year sequence\n",
      "Topic  5\n",
      "dna protein science chromosome structure bind nucleosome research complex strand\n",
      "Topic  6\n",
      "carbon climate c cell change plant dna climate change protein emission\n",
      "Topic  7\n",
      "cancer protein drug patient vaccine carbon tumor disease bond trial\n",
      "Topic  8\n",
      "dna cancer neandertal carbon cell solar hydrogen ancient year hole\n",
      "Topic  9\n",
      "dna cancer chromosome quantum change genome nucleosome tumor histone patient\n",
      "\n",
      "\n",
      "-------NMF------\n",
      "\n",
      "\n",
      "Topic  0\n",
      "apparatus laboratory material laboratory material instrumentation apparatus instrumentation apparatus laboratory instrumentation apparatus laboratory material information newly offer instrumentation material potential information newly offer roundup newly offer\n",
      "Topic  1\n",
      "science research u.s scientist world trump president new government agency\n",
      "Topic  2\n",
      "cell stem cell stem gene single cell mouse expression cell type tissue immune\n",
      "Topic  3\n",
      "quantum material electron use light state energy property atom spin\n",
      "Topic  4\n",
      "human new year modern specie brain neandertal ancient people researcher\n",
      "Topic  5\n",
      "protein structure bind complex enzyme ribosome fold pathway design membrane\n",
      "Topic  6\n",
      "carbon climate change c climate change plant emission global carbon dioxide dioxide\n",
      "Topic  7\n",
      "cancer patient drug tumor trial therapy treatment pd clinical disease\n",
      "Topic  8\n",
      "planet earth space ice solar nasa particle star black hole black\n",
      "Topic  9\n",
      "dna chromosome nucleosome genome histone strand replication gene epigenetic silence\n",
      "\n",
      "\n",
      "-------LDA------\n",
      "\n",
      "\n",
      "Topic  0\n",
      "ral metamemory embryonic program carbon stem cell glaucoma stem cell vitamin\n",
      "Topic  1\n",
      "cell use science human new protein year change study research\n",
      "Topic  2\n",
      "quasar submillimeter foreground relativity general relativity dla early universe galaxy wood background star\n",
      "Topic  3\n",
      "pd strip casparian strip casparian t cell tcr pd therapy endodermal t receptor\n",
      "Topic  4\n",
      "instrumentation instrumentation apparatus laboratory instrumentation apparatus apparatus laboratory material potential roundup information newly offer laboratory material weekly roundup roundup offer instrumentation apparatus offer instrumentation apparatus laboratory\n",
      "Topic  5\n",
      "perovskite chromosome solar cell macrophage gamete meiosis s 0 segregation recombination homologous\n",
      "Topic  6\n",
      "student rule antibiotic tolerance tb memory resistance u.s use change\n",
      "Topic  7\n",
      "nucleosome histone silence condensin substituent polycomb compaction fluorine chromatin zno\n",
      "Topic  8\n",
      "r gene homologous rice r cell gene human year function science\n",
      "Topic  9\n",
      "mirna mitoribosome ipp atp polymer material nanotube maturation structure reaction\n"
     ]
    }
   ],
   "source": [
    "use_vectorizer(tf_vect2, tf_vect2_transformed)"
   ]
  },
  {
   "cell_type": "markdown",
   "metadata": {},
   "source": [
    "tfidf vectorizer 3"
   ]
  },
  {
   "cell_type": "code",
   "execution_count": 28,
   "metadata": {
    "collapsed": true
   },
   "outputs": [],
   "source": [
    "tf_vect3, tf_vect3_transformed = tfidf_vectorizer(spacy_tokenizer_3, 110000, all_descriptions)"
   ]
  },
  {
   "cell_type": "code",
   "execution_count": 29,
   "metadata": {},
   "outputs": [
    {
     "name": "stdout",
     "output_type": "stream",
     "text": [
      "\n",
      "\n",
      "-------LSA------\n",
      "\n",
      "\n",
      "Topic  0\n",
      "roundup information offer instrumentation material potential potential interest information newly weekly instrumentation apparatus interest researcher laboratory material newly offer\n",
      "Topic  1\n",
      "cell protein science human use new cancer study dna gene\n",
      "Topic  2\n",
      "cell protein cancer pd t cell t gene immune mouse tumor\n",
      "Topic  3\n",
      "pd cancer science cell t cell therapy t research patient tumor\n",
      "Topic  4\n",
      "pd c carbon t cell t therapy quantum cancer tcr pd therapy\n",
      "Topic  5\n",
      "cell science perovskite stem cell quantum solar cell stem material solar research\n",
      "Topic  6\n",
      "dna histone science nucleosome epigenetic silence trump chromosome replication pd\n",
      "Topic  7\n",
      "carbon cell climate plant change c atmosphere soil specie climate change\n",
      "Topic  8\n",
      "quantum cancer gene neandertal spin particle epigenetic histone hole state\n",
      "Topic  9\n",
      "neandertal dna black hole hole modern modern human black ancient protein ancestor\n",
      "\n",
      "\n",
      "-------NMF------\n",
      "\n",
      "\n",
      "Topic  0\n",
      "instrumentation apparatus newly offer offer instrumentation roundup information material potential interest researcher apparatus laboratory information newly weekly weekly roundup\n",
      "Topic  1\n",
      "protein structure dna complex bind fold enzyme design pathway chromosome\n",
      "Topic  2\n",
      "cell stem cell stem gene single cell immune mouse expression tissue cell type\n",
      "Topic  3\n",
      "science research scientist u.s trump world president new agency national\n",
      "Topic  4\n",
      "pd t cell c t therapy tcr pd therapy cell receptor response\n",
      "Topic  5\n",
      "cancer tumor drug patient trial mutation therapy treatment clinical prostate\n",
      "Topic  6\n",
      "dna histone epigenetic silence gene nucleosome replication polycomb pr mark\n",
      "Topic  7\n",
      "carbon climate change c plant atmosphere emission soil climate change carbon dioxide\n",
      "Topic  8\n",
      "quantum material electron use light state spin atom energy particle\n",
      "Topic  9\n",
      "human neandertal modern genome year ancient new modern human gene dna\n",
      "\n",
      "\n",
      "-------LDA------\n",
      "\n",
      "\n",
      "Topic  0\n",
      "cell protein dna cancer structure use gene perspective brain function\n",
      "Topic  1\n",
      "ivf lncrnas lncrna current location success predict describe success behavior describe article briefly researcher new challenge year\n",
      "Topic  2\n",
      "silicon metamemory allotrope glaucoma polynitrogen benzene vitamin cation benzene ring introduce visitor\n",
      "Topic  3\n",
      "feldspar prion ice venus nucleate vaquita hockfield build hockfield build support major research\n",
      "Topic  4\n",
      "material electron use surface metal temperature spin hydrogen solar form\n",
      "Topic  5\n",
      "ral han heroin mussel ips ips cell sacrifice young people heroin powerful cause overdos\n",
      "Topic  6\n",
      "information newly material potential newly offer potential interest roundup laboratory material instrumentation apparatus apparatus laboratory roundup information weekly roundup\n",
      "Topic  7\n",
      "thermal interneuron intasome clathrate flock bird school fish fish flock active matter flock ti\n",
      "Topic  8\n",
      "science new year research scientist human world u.s researcher study\n",
      "Topic  9\n",
      "magma mirna uridine protocadherin coral rice nectar 27 tolerance peroxisome\n"
     ]
    }
   ],
   "source": [
    "use_vectorizer(tf_vect3, tf_vect3_transformed)"
   ]
  },
  {
   "cell_type": "markdown",
   "metadata": {},
   "source": [
    "#### Try tokenizer 1 to compare"
   ]
  },
  {
   "cell_type": "code",
   "execution_count": 30,
   "metadata": {
    "collapsed": true
   },
   "outputs": [],
   "source": [
    "cv_vect1, cv_vect1_transformed = count_vectorizer(spacy_tokenizer_1, 5000, all_descriptions)"
   ]
  },
  {
   "cell_type": "code",
   "execution_count": 31,
   "metadata": {},
   "outputs": [
    {
     "name": "stdout",
     "output_type": "stream",
     "text": [
      "\n",
      "\n",
      "-------LSA------\n",
      "\n",
      "\n",
      "Topic  0\n",
      "cell use researcher new science human material protein study potential\n",
      "Topic  1\n",
      "roundup information roundup laboratory material information newly potential interest weekly roundup instrumentation apparatus offer instrumentation apparatus laboratory weekly\n",
      "Topic  2\n",
      "cell protein gene cancer mouse dna function chromosome stem cell perspective\n",
      "Topic  3\n",
      "cell science research scientist new u.s world president cancer researcher\n",
      "Topic  4\n",
      "human dna new gene disease genome modern specie researcher neandertal\n",
      "Topic  5\n",
      "protein dna science structure bind complex chromosome research sequence enzyme\n",
      "Topic  6\n",
      "change climate 1 issue pageof issue pageof 2 protein carbon climate change\n",
      "Topic  7\n",
      "cancer disease drug 1 issue patient protein pageof issue pageof vaccine\n",
      "Topic  8\n",
      "human science issue 1 pageof issue pageof quantum material 2 genome\n",
      "Topic  9\n",
      "use science dna cancer carbon change human genome chromosome issue\n",
      "\n",
      "\n",
      "-------NMF------\n",
      "\n",
      "\n",
      "Topic  0\n",
      "use material quantum light energy state electron high perspective process\n",
      "Topic  1\n",
      "material information researcher potential offer interest laboratory newly apparatus instrumentation\n",
      "Topic  2\n",
      "cell stem stem cell gene mouse single immune function expression type\n",
      "Topic  3\n",
      "science u.s research scientist world president trump news agency scientific\n",
      "Topic  4\n",
      "human genome gene dna modern specie neandertal genetic ancient brain\n",
      "Topic  5\n",
      "protein dna structure bind complex perspective enzyme chromosome design sequence\n",
      "Topic  6\n",
      "1 issue pageof issue pageof 2 3 report 4 provide mechanism\n",
      "Topic  7\n",
      "cancer drug patient disease tumor therapy treatment trial response target\n",
      "Topic  8\n",
      "change climate carbon climate change global plant increase co2 atmosphere surface\n",
      "Topic  9\n",
      "new scientist researcher research study year world work government university\n",
      "\n",
      "\n",
      "-------LDA------\n",
      "\n",
      "\n",
      "Topic  0\n",
      "ice human use atmosphere surface program predict target mar understand\n",
      "Topic  1\n",
      "offer information apparatus laboratory material instrumentation researcher potential interest newly\n",
      "Topic  2\n",
      "galaxy black hole gravitational hole black gravitational wave star universe quasar ligo\n",
      "Topic  3\n",
      "strip casparian casparian strip endodermal reach receptor endodermal layer stele reach peptide ligand deposition\n",
      "Topic  4\n",
      "use material quantum light electron state energy molecule carbon temperature\n",
      "Topic  5\n",
      "cell protein dna gene use structure cancer brain perspective human\n",
      "Topic  6\n",
      "change state u.s use scientist way engineering study long climate\n",
      "Topic  7\n",
      "quantum science strand familiar dna use think phenomenon light base\n",
      "Topic  8\n",
      "science new research human scientist use researcher study world change\n",
      "Topic  9\n",
      "b3 vitamin glaucoma use plant protein forest target carbon structure\n"
     ]
    }
   ],
   "source": [
    "use_vectorizer(cv_vect1, cv_vect1_transformed)"
   ]
  },
  {
   "cell_type": "code",
   "execution_count": 32,
   "metadata": {
    "collapsed": true
   },
   "outputs": [],
   "source": [
    "cv_vect2, cv_vect2_transformed = count_vectorizer(spacy_tokenizer_1, 5000, all_descriptions, ngram_stop=4)"
   ]
  },
  {
   "cell_type": "code",
   "execution_count": 33,
   "metadata": {},
   "outputs": [
    {
     "name": "stdout",
     "output_type": "stream",
     "text": [
      "\n",
      "\n",
      "-------LSA------\n",
      "\n",
      "\n",
      "Topic  0\n",
      "cell use new science human researcher protein study material 1\n",
      "Topic  1\n",
      "laboratory material instrumentation apparatus laboratory instrumentation apparatus apparatus laboratory material potential apparatus laboratory information newly offer instrumentation information newly offer information newly offer instrumentation apparatus laboratory offer instrumentation apparatus\n",
      "Topic  2\n",
      "cell protein gene dna cancer mouse function chromosome structure perspective\n",
      "Topic  3\n",
      "cell science research scientist new u.s world president cancer trump\n",
      "Topic  4\n",
      "human dna new gene disease genome modern specie researcher neandertal\n",
      "Topic  5\n",
      "protein dna science structure bind complex chromosome research sequence enzyme\n",
      "Topic  6\n",
      "change climate 1 issue pageof issue pageof 2 carbon protein climate change\n",
      "Topic  7\n",
      "dna change climate carbon cell genome plant chromosome gene ancient\n",
      "Topic  8\n",
      "protein carbon change cancer climate drug patient disease study help\n",
      "Topic  9\n",
      "use science dna cancer carbon human change genome issue drug\n",
      "\n",
      "\n",
      "-------NMF------\n",
      "\n",
      "\n",
      "Topic  0\n",
      "use material quantum light energy electron state high process perspective\n",
      "Topic  1\n",
      "material information researcher potential offer interest laboratory newly apparatus instrumentation\n",
      "Topic  2\n",
      "cell stem stem cell gene immune mouse function tissue single type\n",
      "Topic  3\n",
      "science research u.s scientist world president trump news agency scientific\n",
      "Topic  4\n",
      "human 1 specie brain issue modern genome pageof pageof issue disease\n",
      "Topic  5\n",
      "protein structure complex bind enzyme function pathway provide design issue\n",
      "Topic  6\n",
      "change climate carbon climate change global plant increase co2 atmosphere surface\n",
      "Topic  7\n",
      "dna chromosome gene genome nucleosome strand histone bind replication sequence\n",
      "Topic  8\n",
      "cancer drug patient disease tumor therapy treatment trial clinical response\n",
      "Topic  9\n",
      "new researcher scientist study research year work world life time\n",
      "\n",
      "\n",
      "-------LDA------\n",
      "\n",
      "\n",
      "Topic  0\n",
      "pd-1 cd28 strip patient respond casparian casparian strip pd-1 therapy bad luck respond pd-1 t cell\n",
      "Topic  1\n",
      "science scientist study vaccine researcher year datum state week million\n",
      "Topic  2\n",
      "ice protein nucleosome feldspar way sugar nucleate brain dna place\n",
      "Topic  3\n",
      "program u.s research united world political state use policy united state\n",
      "Topic  4\n",
      "use science new human study research change scientist state researcher\n",
      "Topic  5\n",
      "cell protein dna cancer gene mouse chromosome structure function perspective\n",
      "Topic  6\n",
      "use student rule state dynamic cell science include scientist study\n",
      "Topic  7\n",
      "ras nectar use quantum light human develop large effort cancer\n",
      "Topic  8\n",
      "hydrogen metamemory cell find perspective science tumor technique gene human\n",
      "Topic  9\n",
      "apparatus instrumentation potential laboratory offer information material newly interest researcher\n"
     ]
    }
   ],
   "source": [
    "use_vectorizer(cv_vect2, cv_vect2_transformed)"
   ]
  },
  {
   "cell_type": "code",
   "execution_count": 34,
   "metadata": {
    "collapsed": true
   },
   "outputs": [],
   "source": [
    "cv_vect3, cv_vect3_transformed = count_vectorizer(spacy_tokenizer_1, 110000, all_descriptions)"
   ]
  },
  {
   "cell_type": "code",
   "execution_count": 35,
   "metadata": {},
   "outputs": [
    {
     "name": "stdout",
     "output_type": "stream",
     "text": [
      "\n",
      "\n",
      "-------LSA------\n",
      "\n",
      "\n",
      "Topic  0\n",
      "material researcher information potential offer interest laboratory newly apparatus instrumentation\n",
      "Topic  1\n",
      "cell use human protein new science study 1 change gene\n",
      "Topic  2\n",
      "cell protein cancer gene t mouse immune stem cell t cell stem\n",
      "Topic  3\n",
      "science cell research scientist new u.s world president trump researcher\n",
      "Topic  4\n",
      "human dna gene genome disease protein new cancer modern researcher\n",
      "Topic  5\n",
      "protein dna science structure bind complex chromosome research scientist nucleosome\n",
      "Topic  6\n",
      "cancer use drug patient tumor therapy trial treatment disease vaccine\n",
      "Topic  7\n",
      "use dna human new gene genome quantum researcher cell neandertal\n",
      "Topic  8\n",
      "carbon change dna climate plant use protein perspective co2 atmosphere\n",
      "Topic  9\n",
      "dna science cancer use issue 1 chromosome gene genome pageof issue\n",
      "\n",
      "\n",
      "-------NMF------\n",
      "\n",
      "\n",
      "Topic  0\n",
      "material researcher information potential offer interest laboratory newly apparatus instrumentation\n",
      "Topic  1\n",
      "cell stem stem cell gene immune mouse single expression type single cell\n",
      "Topic  2\n",
      "cancer drug patient tumor therapy treatment pd-1 response trial receptor\n",
      "Topic  3\n",
      "science research scientist u.s new world president trump scientific national\n",
      "Topic  4\n",
      "human new researcher study modern gene genome disease specie brain\n",
      "Topic  5\n",
      "protein structure complex bind design pathway help enzyme function provide\n",
      "Topic  6\n",
      "use material quantum light state energy electron high perspective process\n",
      "Topic  7\n",
      "1 issue pageof pageof issue 2 3 report mechanism 4 provide\n",
      "Topic  8\n",
      "change carbon climate plant climate change global co2 increase atmosphere emission\n",
      "Topic  9\n",
      "dna chromosome gene genome histone nucleosome strand bind replication epigenetic\n",
      "\n",
      "\n",
      "-------LDA------\n",
      "\n",
      "\n",
      "Topic  0\n",
      "potential material laboratory instrumentation information apparatus researcher interest offer potential interest\n",
      "Topic  1\n",
      "sc2.0 homologous chromosome homologous synxii eukaryotic genome nav intasome polycomb repressive gene silence rdna\n",
      "Topic  2\n",
      "tomato familiar phenomenon physicist reveal reveal science science familiar b3 vitamin b3 kaib oscillator protein output protein\n",
      "Topic  3\n",
      "strip casparian casparian strip endodermal nucleate flexner tournament endodermal layer stele reach receptor\n",
      "Topic  4\n",
      "cell use science new human study protein change research 1\n",
      "Topic  5\n",
      "mitoribosome prion pyocyanin polling culture biodiversity country rich visitor country visitor immersive exhibition exhibition introduce\n",
      "Topic  6\n",
      "nectar antioxidant concentration sugar nectar feed moth pollinator choice fuller deftly amid fuller lively eve civil\n",
      "Topic  7\n",
      "ipp vaquita ipp pe intron porpoise pe isotactic polyethylene pe isotactic polypropylene eagan polypropylene\n",
      "Topic  8\n",
      "maui ta huntington predict huntington fc platelet thrombocytopenia hydrogen atomic hector maui live\n",
      "Topic  9\n",
      "scarring scar formation rio faperj smithy rio de janeiro de janeiro truth time time everybody\n"
     ]
    }
   ],
   "source": [
    "use_vectorizer(cv_vect3, cv_vect3_transformed)"
   ]
  },
  {
   "cell_type": "markdown",
   "metadata": {},
   "source": [
    "### Lets try tfidf vectorizer with tokenizer 1 to compare\n",
    "tfidf vectorizer 1"
   ]
  },
  {
   "cell_type": "code",
   "execution_count": 36,
   "metadata": {
    "collapsed": true
   },
   "outputs": [],
   "source": [
    "tf_vect1, tf_vect1_transformed = tfidf_vectorizer(spacy_tokenizer_1, 5000, all_descriptions)"
   ]
  },
  {
   "cell_type": "markdown",
   "metadata": {},
   "source": [
    "# LDA GOOD, BEST"
   ]
  },
  {
   "cell_type": "code",
   "execution_count": 37,
   "metadata": {},
   "outputs": [
    {
     "name": "stdout",
     "output_type": "stream",
     "text": [
      "\n",
      "\n",
      "-------LSA------\n",
      "\n",
      "\n",
      "Topic  0\n",
      "weekly roundup weekly material potential instrumentation apparatus roundup information newly offer offer instrumentation interest researcher roundup potential interest\n",
      "Topic  1\n",
      "cell science use human new protein study research change scientist\n",
      "Topic  2\n",
      "cell protein dna gene chromosome structure cancer function mouse expression\n",
      "Topic  3\n",
      "cell science cancer research gene u.s patient stem cell stem scientist\n",
      "Topic  4\n",
      "dna human genome neandertal modern ancient gene sequence protein specie\n",
      "Topic  5\n",
      "dna protein science chromosome structure bind nucleosome research strand histone\n",
      "Topic  6\n",
      "carbon climate cell change plant co2 climate change dna emission atmosphere\n",
      "Topic  7\n",
      "cancer carbon protein drug bond vaccine patient tumor reaction disease\n",
      "Topic  8\n",
      "dna cancer neandertal genome carbon solar tumor ancient patient hydrogen\n",
      "Topic  9\n",
      "dna cancer quantum chromosome change climate histone epigenetic tumor nucleosome\n",
      "\n",
      "\n",
      "-------NMF------\n",
      "\n",
      "\n",
      "Topic  0\n",
      "laboratory material interest researcher weekly roundup offer instrumentation weekly newly offer instrumentation apparatus material potential roundup apparatus laboratory\n",
      "Topic  1\n",
      "cell stem cell stem gene single cell cell type expression tissue immune mouse\n",
      "Topic  2\n",
      "science research scientist u.s world trump president new government agency\n",
      "Topic  3\n",
      "quantum material electron use light state energy atom property spin\n",
      "Topic  4\n",
      "human modern neandertal new genome ancient specie gene people modern human\n",
      "Topic  5\n",
      "protein dna structure chromosome bind complex nucleosome strand histone replication\n",
      "Topic  6\n",
      "carbon climate change co2 plant climate change emission global carbon dioxide dioxide\n",
      "Topic  7\n",
      "cancer patient drug tumor therapy treatment trial pd-1 disease vaccine\n",
      "Topic  8\n",
      "earth planet space ice solar particle star black nasa black hole\n",
      "Topic  9\n",
      "brain neuron memory breathing activity behavior mouse circuit neuronal neural\n",
      "\n",
      "\n",
      "-------LDA------\n",
      "\n",
      "\n",
      "Topic  0\n",
      "nucleate ice student feldspar program organ transplantation opioid patch order\n",
      "Topic  1\n",
      "apparatus instrumentation material potential weekly roundup laboratory material weekly potential interest roundup instrumentation apparatus information newly\n",
      "Topic  2\n",
      "use human new change study carbon large material time state\n",
      "Topic  3\n",
      "strip casparian strip casparian endodermal reach receptor endodermal layer stele peptide ligand reach deposition\n",
      "Topic  4\n",
      "perovskite solar cell 2d nanotube boron charge carrier carbon nanotube perovskite layer han carrier\n",
      "Topic  5\n",
      "cell protein gene cancer dna mouse chromosome disease neuron patient\n",
      "Topic  6\n",
      "parity odd odd parity memory nucleosome virgo methionine wave superconductivity quantum\n",
      "Topic  7\n",
      "interneuron quantum familiar strand dna science dot synapse forest national academy\n",
      "Topic  8\n",
      "science research u.s scientist vaccine government national university world agency\n",
      "Topic  9\n",
      "fungi glaucoma mitoribosome plant supply symbiotic b3 vitamin mycorrhizal jiang source carbon\n"
     ]
    }
   ],
   "source": [
    "use_vectorizer(tf_vect1, tf_vect1_transformed)"
   ]
  },
  {
   "cell_type": "markdown",
   "metadata": {},
   "source": [
    "tfidf vectorizer 2"
   ]
  },
  {
   "cell_type": "code",
   "execution_count": 38,
   "metadata": {
    "collapsed": true
   },
   "outputs": [],
   "source": [
    "tf_vect2, tf_vect2_transformed = tfidf_vectorizer(spacy_tokenizer_1, 5000, all_descriptions, ngram_stop=4)"
   ]
  },
  {
   "cell_type": "code",
   "execution_count": 39,
   "metadata": {},
   "outputs": [
    {
     "name": "stdout",
     "output_type": "stream",
     "text": [
      "\n",
      "\n",
      "-------LSA------\n",
      "\n",
      "\n",
      "Topic  0\n",
      "laboratory material material potential interest researcher instrumentation apparatus laboratory material apparatus laboratory material potential apparatus laboratory material apparatus laboratory laboratory material potential interest researcher material potential material potential interest\n",
      "Topic  1\n",
      "cell science use human new protein study research change dna\n",
      "Topic  2\n",
      "cell protein dna gene chromosome structure cancer function mouse expression\n",
      "Topic  3\n",
      "cell science cancer gene research u.s patient stem cell stem scientist\n",
      "Topic  4\n",
      "dna human genome neandertal modern ancient specie gene sequence modern human\n",
      "Topic  5\n",
      "dna protein science chromosome structure nucleosome bind strand histone genome\n",
      "Topic  6\n",
      "carbon climate cell change plant co2 climate change dna emission atmosphere\n",
      "Topic  7\n",
      "cancer protein carbon drug vaccine bond patient disease tumor reaction\n",
      "Topic  8\n",
      "protein brain neuron quantum structure state memory behavior function 1\n",
      "Topic  9\n",
      "cancer dna chromosome quantum change tumor climate epigenetic histone nucleosome\n",
      "\n",
      "\n",
      "-------NMF------\n",
      "\n",
      "\n",
      "Topic  0\n",
      "laboratory material weekly roundup information offer instrumentation newly offer instrumentation apparatus newly offer instrumentation newly offer apparatus laboratory apparatus laboratory material apparatus laboratory material potential roundup\n",
      "Topic  1\n",
      "cell stem cell stem gene single cell immune tissue cell type expression type\n",
      "Topic  2\n",
      "science research scientist u.s world trump president new government agency\n",
      "Topic  3\n",
      "quantum material electron use light state energy atom property spin\n",
      "Topic  4\n",
      "human modern neandertal new ancient genome specie people gene researcher\n",
      "Topic  5\n",
      "protein dna structure chromosome bind nucleosome complex strand histone replication\n",
      "Topic  6\n",
      "carbon climate change co2 plant climate change emission global carbon dioxide dioxide\n",
      "Topic  7\n",
      "cancer patient drug tumor trial therapy treatment disease vaccine clinical\n",
      "Topic  8\n",
      "space earth planet solar particle ice star black black hole nasa\n",
      "Topic  9\n",
      "brain neuron memory breathing activity behavior mouse circuit neuronal region\n",
      "\n",
      "\n",
      "-------LDA------\n",
      "\n",
      "\n",
      "Topic  0\n",
      "tomato r gene uc black hole black hole cell flavor miss chromosome\n",
      "Topic  1\n",
      "rupture hipped homer1a weakening drive synapse awake reorganization immediate wake strengthen\n",
      "Topic  2\n",
      "nucleate feldspar ice replication cell tumor protein nucleosome result help wall\n",
      "Topic  3\n",
      "science new scientist research human world researcher u.s climate year\n",
      "Topic  4\n",
      "comet dwarf galaxy quasar exhibition submillimeter white dwarf foreground relativity general relativity\n",
      "Topic  5\n",
      "cell protein use dna structure material gene perspective quantum cancer\n",
      "Topic  6\n",
      "cd28 pd-1 tcr t cell pd-1 therapy cd28 require pd-1 treatment response cell receptor tcr require pd-1 unleash anticancer immune response\n",
      "Topic  7\n",
      "uridine nectar strip casparian strip casparian parpi endodermal scarring reach receptor stele\n",
      "Topic  8\n",
      "metamemory ar suppressor androgen deprivation find prostate tumor suppressor androgen deprivation therapy find prostate cancer ezh2 deprivation therapy\n",
      "Topic  9\n",
      "instrumentation potential interest weekly roundup instrumentation apparatus information newly offer material potential potential interest researcher offer instrumentation apparatus newly offer instrumentation weekly roundup information newly\n"
     ]
    }
   ],
   "source": [
    "use_vectorizer(tf_vect2, tf_vect2_transformed)"
   ]
  },
  {
   "cell_type": "markdown",
   "metadata": {},
   "source": [
    "tfidf vectorizer 3"
   ]
  },
  {
   "cell_type": "code",
   "execution_count": 40,
   "metadata": {
    "collapsed": true
   },
   "outputs": [],
   "source": [
    "tf_vect3, tf_vect3_transformed = tfidf_vectorizer(spacy_tokenizer_1, 110000, all_descriptions)"
   ]
  },
  {
   "cell_type": "code",
   "execution_count": 41,
   "metadata": {},
   "outputs": [
    {
     "name": "stdout",
     "output_type": "stream",
     "text": [
      "\n",
      "\n",
      "-------LSA------\n",
      "\n",
      "\n",
      "Topic  0\n",
      "roundup information potential interest offer instrumentation newly offer roundup apparatus laboratory weekly roundup weekly material potential information newly\n",
      "Topic  1\n",
      "cell protein use human science new cancer dna study gene\n",
      "Topic  2\n",
      "cell protein cancer t cell t pd-1 cd28 gene immune mouse\n",
      "Topic  3\n",
      "science cancer pd-1 cd28 cell t cell t research therapy u.s\n",
      "Topic  4\n",
      "pd-1 cd28 carbon t cell t cancer quantum therapy tcr pd-1 therapy\n",
      "Topic  5\n",
      "dna pd-1 cd28 human genome neandertal cancer histone sequence gene\n",
      "Topic  6\n",
      "dna science histone quantum nucleosome epigenetic silence trump replication president\n",
      "Topic  7\n",
      "carbon climate plant cell change atmosphere co2 soil climate change specie\n",
      "Topic  8\n",
      "quantum neandertal gene cancer human spin modern particle hole state\n",
      "Topic  9\n",
      "neandertal dna modern modern human black hole hole black ancient protein cell\n",
      "\n",
      "\n",
      "-------NMF------\n",
      "\n",
      "\n",
      "Topic  0\n",
      "interest researcher laboratory material instrumentation apparatus newly offer potential interest weekly weekly roundup information newly roundup information apparatus laboratory\n",
      "Topic  1\n",
      "quantum material electron use light state spin atom energy property\n",
      "Topic  2\n",
      "cell stem cell stem immune single cell gene cell type expression mouse tissue\n",
      "Topic  3\n",
      "science research scientist u.s trump world president new agency national\n",
      "Topic  4\n",
      "cd28 pd-1 t cell t therapy tcr pd-1 therapy cell receptor response\n",
      "Topic  5\n",
      "cancer tumor drug patient trial mutation therapy treatment clinical prostate\n",
      "Topic  6\n",
      "dna histone epigenetic silence gene nucleosome replication polycomb mark drosophila\n",
      "Topic  7\n",
      "carbon climate change co2 plant atmosphere emission soil carbon dioxide dioxide\n",
      "Topic  8\n",
      "protein structure dna complex bind fold enzyme chromosome pathway interaction\n",
      "Topic  9\n",
      "human neandertal modern genome new brain ancient gene modern human specie\n",
      "\n",
      "\n",
      "-------LDA------\n",
      "\n",
      "\n",
      "Topic  0\n",
      "potential interest roundup newly offer instrumentation apparatus material potential interest researcher information newly weekly laboratory material apparatus laboratory\n",
      "Topic  1\n",
      "proteasome peroxisome homologous chromosome homologous photosynthetic system cyanobacteria regional photosynthetic transmission chain larvae\n",
      "Topic  2\n",
      "black hole replication silence quasar nad+ fault histone submillimeter dbc1 parp1\n",
      "Topic  3\n",
      "r gene hunting hipped bind energy rorschach tournament flexner rabie event showcas effect brain\n",
      "Topic  4\n",
      "cell use science human new protein change study research dna\n",
      "Topic  5\n",
      "wood prion polynitrogen pyocyanin culture biodiversity country rich visitor country exhibition introduce visitor introduce visitor\n",
      "Topic  6\n",
      "generic nectar gm smc smc complex franz wiedemann wiedemann franz franz law experience people\n",
      "Topic  7\n",
      "comet budget cas ostp juno spending cu zno crispr cas republican\n",
      "Topic  8\n",
      "interneuron embrittlement hydrogen atomic follicle hair follicle metallic hydrogen hydrogen embrittlement police maui ta\n",
      "Topic  9\n",
      "strip casparian casparian strip ras mitoribosome feldspar mar atmosphere endodermal nucleate scarring\n"
     ]
    }
   ],
   "source": [
    "use_vectorizer(tf_vect3, tf_vect3_transformed)"
   ]
  },
  {
   "cell_type": "code",
   "execution_count": null,
   "metadata": {
    "collapsed": true
   },
   "outputs": [],
   "source": []
  },
  {
   "cell_type": "markdown",
   "metadata": {},
   "source": [
    "# BEST MODEL"
   ]
  },
  {
   "cell_type": "code",
   "execution_count": 47,
   "metadata": {
    "collapsed": true
   },
   "outputs": [],
   "source": [
    "tf_vect1, tf_vect1_transformed = tfidf_vectorizer(spacy_tokenizer_1, 5000, all_descriptions)"
   ]
  },
  {
   "cell_type": "code",
   "execution_count": 48,
   "metadata": {},
   "outputs": [
    {
     "name": "stdout",
     "output_type": "stream",
     "text": [
      "\n",
      "\n",
      "-------LSA------\n",
      "\n",
      "\n",
      "Topic  0\n",
      "weekly roundup weekly material potential instrumentation apparatus roundup information newly offer offer instrumentation interest researcher roundup potential interest\n",
      "Topic  1\n",
      "cell science use human new protein study research change scientist\n",
      "Topic  2\n",
      "cell protein dna gene chromosome structure cancer function mouse expression\n",
      "Topic  3\n",
      "cell science cancer research gene u.s patient stem cell stem scientist\n",
      "Topic  4\n",
      "dna human genome neandertal modern ancient gene sequence protein specie\n",
      "Topic  5\n",
      "dna protein science chromosome structure bind nucleosome research strand histone\n",
      "Topic  6\n",
      "carbon climate cell change plant co2 climate change dna emission atmosphere\n",
      "Topic  7\n",
      "cancer carbon protein drug bond vaccine patient tumor reaction disease\n",
      "Topic  8\n",
      "dna cancer neandertal genome carbon solar tumor ancient patient hydrogen\n",
      "Topic  9\n",
      "dna cancer quantum chromosome change climate histone epigenetic tumor nucleosome\n",
      "\n",
      "\n",
      "-------NMF------\n",
      "\n",
      "\n",
      "Topic  0\n",
      "laboratory material interest researcher weekly roundup offer instrumentation weekly newly offer instrumentation apparatus material potential roundup apparatus laboratory\n",
      "Topic  1\n",
      "cell stem cell stem gene single cell cell type expression tissue immune mouse\n",
      "Topic  2\n",
      "science research scientist u.s world trump president new government agency\n",
      "Topic  3\n",
      "quantum material electron use light state energy atom property spin\n",
      "Topic  4\n",
      "human modern neandertal new genome ancient specie gene people modern human\n",
      "Topic  5\n",
      "protein dna structure chromosome bind complex nucleosome strand histone replication\n",
      "Topic  6\n",
      "carbon climate change co2 plant climate change emission global carbon dioxide dioxide\n",
      "Topic  7\n",
      "cancer patient drug tumor therapy treatment trial pd-1 disease vaccine\n",
      "Topic  8\n",
      "earth planet space ice solar particle star black nasa black hole\n",
      "Topic  9\n",
      "brain neuron memory breathing activity behavior mouse circuit neuronal neural\n",
      "\n",
      "\n",
      "-------LDA------\n",
      "\n",
      "\n",
      "Topic  0\n",
      "nucleate ice student feldspar program organ transplantation opioid patch order\n",
      "Topic  1\n",
      "apparatus instrumentation material potential weekly roundup laboratory material weekly potential interest roundup instrumentation apparatus information newly\n",
      "Topic  2\n",
      "use human new change study carbon large material time state\n",
      "Topic  3\n",
      "strip casparian strip casparian endodermal reach receptor endodermal layer stele peptide ligand reach deposition\n",
      "Topic  4\n",
      "perovskite solar cell 2d nanotube boron charge carrier carbon nanotube perovskite layer han carrier\n",
      "Topic  5\n",
      "cell protein gene cancer dna mouse chromosome disease neuron patient\n",
      "Topic  6\n",
      "parity odd odd parity memory nucleosome virgo methionine wave superconductivity quantum\n",
      "Topic  7\n",
      "interneuron quantum familiar strand dna science dot synapse forest national academy\n",
      "Topic  8\n",
      "science research u.s scientist vaccine government national university world agency\n",
      "Topic  9\n",
      "fungi glaucoma mitoribosome plant supply symbiotic b3 vitamin mycorrhizal jiang source carbon\n"
     ]
    }
   ],
   "source": [
    "use_vectorizer(tf_vect1, tf_vect1_transformed)"
   ]
  },
  {
   "cell_type": "markdown",
   "metadata": {},
   "source": [
    "# Try more topics"
   ]
  },
  {
   "cell_type": "code",
   "execution_count": 50,
   "metadata": {
    "scrolled": false
   },
   "outputs": [
    {
     "name": "stdout",
     "output_type": "stream",
     "text": [
      "\n",
      "\n",
      "-------LSA------\n",
      "\n",
      "\n",
      "Topic  0\n",
      "material potential offer instrumentation potential interest weekly apparatus laboratory laboratory material weekly roundup newly offer instrumentation apparatus interest researcher\n",
      "Topic  1\n",
      "cell science use human new protein study research change scientist\n",
      "Topic  2\n",
      "cell protein dna gene chromosome structure cancer function mouse expression\n",
      "Topic  3\n",
      "cell science cancer research u.s gene patient stem cell stem scientist\n",
      "Topic  4\n",
      "dna human genome neandertal modern gene ancient protein sequence specie\n",
      "Topic  5\n",
      "dna protein science structure chromosome bind research nucleosome strand histone\n",
      "Topic  6\n",
      "carbon climate cell change plant co2 climate change chromosome emission atmosphere\n",
      "Topic  7\n",
      "cancer carbon protein drug bond vaccine patient reaction tumor disease\n",
      "Topic  8\n",
      "brain neuron protein memory behavior structure function research circuit breathing\n",
      "Topic  9\n",
      "chromosome quantum dna cancer climate change genome state brain nucleosome\n",
      "Topic  10\n",
      "bond carbon catalyst hydrogen reaction human ring cell neuron brain\n",
      "Topic  11\n",
      "neuron brain memory dna water activity breathing cancer find neuronal\n",
      "Topic  12\n",
      "vaccine virus disease infection water hiv surface antibody bacteria cause\n",
      "Topic  13\n",
      "quantum carbon state particle protein co2 vaccine gene physicist cell\n",
      "Topic  14\n",
      "particle chromosome physicist 1 pageof pageof issue dark issue matter electron\n",
      "Topic  15\n",
      "drug protein genome u.s neuron administration brain stem cell design stem\n",
      "Topic  16\n",
      "state gene study epigenetic scientist histone united book dinosaur policy\n",
      "Topic  17\n",
      "plant gene electron bacteria neandertal specie energy u.s gut surface\n",
      "\n",
      "\n",
      "-------NMF------\n",
      "\n",
      "\n",
      "Topic  0\n",
      "interest researcher instrumentation apparatus weekly roundup weekly potential interest material potential offer instrumentation roundup roundup information information newly\n",
      "Topic  1\n",
      "cell stem cell stem gene single cell cell type expression single type tissue\n",
      "Topic  2\n",
      "science u.s trump president world news administration scientist news world science news\n",
      "Topic  3\n",
      "material electron energy use light layer charge metal high device\n",
      "Topic  4\n",
      "human neandertal modern ancient modern human genome new ago specie ancestor\n",
      "Topic  5\n",
      "dna histone nucleosome replication strand epigenetic gene bind silence dna replication\n",
      "Topic  6\n",
      "climate change carbon climate change co2 global emission plant fire term\n",
      "Topic  7\n",
      "cancer drug patient tumor trial treatment clinical therapy mutation clinical trial\n",
      "Topic  8\n",
      "protein structure complex bind ribosome enzyme fold pathway membrane design\n",
      "Topic  9\n",
      "chromosome synthetic genome sc2.0 segregation homologous chromosome meiosis homologous proteasome design\n",
      "Topic  10\n",
      "carbon bond reaction catalyst ring molecule hydrogen use methane c\n",
      "Topic  11\n",
      "brain neuron memory breathing activity behavior neuronal circuit mouse neural\n",
      "Topic  12\n",
      "vaccine virus disease antibody hiv infection case cause epidemic child\n",
      "Topic  13\n",
      "quantum state spin network particle light entanglement field magnetic photon\n",
      "Topic  14\n",
      "planet earth space star ice black black hole particle solar nasa\n",
      "Topic  15\n",
      "pd-1 cd28 t t cell therapy pd-1 therapy cell tcr response receptor\n",
      "Topic  16\n",
      "research scientist government policy scientific united new state researcher university\n",
      "Topic  17\n",
      "bacteria surface gut bacterial pathogen macrophage antibiotic host tissue response\n",
      "\n",
      "\n",
      "-------LDA------\n",
      "\n",
      "\n",
      "Topic  0\n",
      "feldspar nucleate ice tb program antibiotic tuberculosis surface small resistant\n",
      "Topic  1\n",
      "sc2.0 synxii cerevisiae saccharomyce smc sc2.0 chromosome rdna saccharomyce cerevisiae chromosome synthetic yeast\n",
      "Topic  2\n",
      "pe ipp dft microtubule plastic polymer laser mechanically fibroblast physics\n",
      "Topic  3\n",
      "mariana trench extinct composition gulf time remain vegetation event dive\n",
      "Topic  4\n",
      "perovskite solar cell perovskite layer photovoltaic perovskite solar organic inorganic photovoltaic device inorganic perovskite perovskite material tio2\n",
      "Topic  5\n",
      "intasome black hole black hole tolerance resistance antibiotic bacteria time target\n",
      "Topic  6\n",
      "tomato resection homologous chromosome meiotic recombination homologous dna flavor telomere end\n",
      "Topic  7\n",
      "instrumentation apparatus laboratory newly offer information newly roundup information laboratory material weekly potential interest offer instrumentation roundup\n",
      "Topic  8\n",
      "nectar change high concentration march country science synapse selection bismuth social\n",
      "Topic  9\n",
      "wood forest mirna stone maturation microbiome plant carbon human target\n",
      "Topic  10\n",
      "uridine synv plasma uridine deng sugar feed design functional geometry familiar\n",
      "Topic  11\n",
      "cell protein dna chromosome mouse gene bind rna cancer expression\n",
      "Topic  12\n",
      "ras uridine ar ezh2 find prostate suppressor lineage switch loss tumor tumor suppressor androgen deprivation\n",
      "Topic  13\n",
      "comet glaucoma metamemory comet 67p churyumov gerasimenko churyumov 67p churyumov 67p gerasimenko b3\n",
      "Topic  14\n",
      "zno cu homologous chromosome somatic mutation zno cu parpi proteasome ribose homologous meiotic\n",
      "Topic  15\n",
      "science use human new change study research scientist state 1\n",
      "Topic  16\n",
      "nad+ rice parp1 dbc1 allotrope polynitrogen r gene scarring scar bind nad+\n",
      "Topic  17\n",
      "interneuron uc glaucoma nad+ science cell dendritic memory crispr retinal\n"
     ]
    }
   ],
   "source": [
    "use_vectorizer(tf_vect1, tf_vect1_transformed, n_comp=18)"
   ]
  },
  {
   "cell_type": "code",
   "execution_count": 51,
   "metadata": {
    "collapsed": true
   },
   "outputs": [],
   "source": [
    "tf_vect1, tf_vect1_transformed = tfidf_vectorizer(spacy_tokenizer_1, 5000, all_descriptions)\n",
    "norm = Normalizer()\n",
    "vect_normalized = norm.fit_transform(tf_vect1_transformed)\n",
    "model, model_transformed = nmf_tfidf(vect_normalized, n_comp=10)"
   ]
  },
  {
   "cell_type": "markdown",
   "metadata": {},
   "source": [
    "# TRY TSNE"
   ]
  },
  {
   "cell_type": "code",
   "execution_count": 45,
   "metadata": {},
   "outputs": [
    {
     "name": "stdout",
     "output_type": "stream",
     "text": [
      "[t-SNE] Computing 151 nearest neighbors...\n",
      "[t-SNE] Indexed 1492 samples in 0.001s...\n",
      "[t-SNE] Computed neighbors for 1492 samples in 0.090s...\n",
      "[t-SNE] Computed conditional probabilities for sample 1000 / 1492\n",
      "[t-SNE] Computed conditional probabilities for sample 1492 / 1492\n",
      "[t-SNE] Mean sigma: 0.026322\n",
      "[t-SNE] Computed conditional probabilities in 0.106s\n",
      "[t-SNE] Iteration 50: error = 65.9576721, gradient norm = 0.1439155 (50 iterations in 2.457s)\n",
      "[t-SNE] Iteration 100: error = 60.1102142, gradient norm = 0.0203910 (50 iterations in 1.804s)\n",
      "[t-SNE] Iteration 150: error = 59.9849548, gradient norm = 0.0166529 (50 iterations in 1.838s)\n",
      "[t-SNE] Iteration 200: error = 59.9553261, gradient norm = 0.0206226 (50 iterations in 2.648s)\n",
      "[t-SNE] Iteration 250: error = 59.9425240, gradient norm = 0.0189166 (50 iterations in 2.167s)\n",
      "[t-SNE] KL divergence after 250 iterations with early exaggeration: 59.942524\n",
      "[t-SNE] Iteration 300: error = 0.7042003, gradient norm = 0.0005841 (50 iterations in 1.738s)\n",
      "[t-SNE] Iteration 350: error = 0.6438062, gradient norm = 0.0002125 (50 iterations in 1.807s)\n",
      "[t-SNE] Iteration 400: error = 0.6311608, gradient norm = 0.0001631 (50 iterations in 1.790s)\n",
      "[t-SNE] Iteration 450: error = 0.6270877, gradient norm = 0.0001232 (50 iterations in 1.757s)\n",
      "[t-SNE] Iteration 500: error = 0.6242953, gradient norm = 0.0001107 (50 iterations in 1.787s)\n",
      "[t-SNE] Iteration 550: error = 0.6226997, gradient norm = 0.0000869 (50 iterations in 1.770s)\n",
      "[t-SNE] Iteration 600: error = 0.6215670, gradient norm = 0.0000831 (50 iterations in 1.775s)\n",
      "[t-SNE] Iteration 650: error = 0.6207544, gradient norm = 0.0000828 (50 iterations in 1.996s)\n",
      "[t-SNE] Iteration 700: error = 0.6201314, gradient norm = 0.0000799 (50 iterations in 1.872s)\n",
      "[t-SNE] Iteration 750: error = 0.6193098, gradient norm = 0.0000621 (50 iterations in 1.829s)\n",
      "[t-SNE] Iteration 800: error = 0.6188083, gradient norm = 0.0000565 (50 iterations in 1.847s)\n",
      "[t-SNE] Iteration 850: error = 0.6185955, gradient norm = 0.0000636 (50 iterations in 1.796s)\n",
      "[t-SNE] Iteration 900: error = 0.6184087, gradient norm = 0.0000554 (50 iterations in 1.791s)\n",
      "[t-SNE] Iteration 950: error = 0.6182047, gradient norm = 0.0000533 (50 iterations in 1.851s)\n",
      "[t-SNE] Iteration 1000: error = 0.6179719, gradient norm = 0.0000509 (50 iterations in 1.879s)\n",
      "[t-SNE] Error after 1000 iterations: 0.617972\n"
     ]
    },
    {
     "data": {
      "image/png": "[encoded data removed]",
      "text/plain": [
       "<matplotlib.figure.Figure at 0x159b94160>"
      ]
     },
     "metadata": {},
     "output_type": "display_data"
    }
   ],
   "source": [
    "from sklearn.manifold import TSNE\n",
    "import matplotlib.pyplot as plt\n",
    "%matplotlib inline\n",
    "\n",
    "tsne_model = TSNE(n_components=2, random_state=0,verbose=2, perplexity=50)\n",
    "low_data = tsne_model.fit_transform(model_transformed)\n",
    "\n",
    "x,y = zip(*low_data)\n",
    "plt.scatter(x, y, s=40);"
   ]
  },
  {
   "cell_type": "markdown",
   "metadata": {},
   "source": [
    "# Examine topics and print relevant documents for each topic"
   ]
  },
  {
   "cell_type": "code",
   "execution_count": 66,
   "metadata": {
    "collapsed": true
   },
   "outputs": [],
   "source": [
    "def sort_papers_to_topics(num_topics, model_transformed):\n",
    "    topic_dict = {}\n",
    "    for topic in range(num_topics):\n",
    "        topic_dict[topic] = []\n",
    "    for index, item in enumerate(model_transformed):\n",
    "        topic_num = np.argmax(item)\n",
    "        topic_dict[topic_num].append([index, item])\n",
    "    return topic_dict"
   ]
  },
  {
   "cell_type": "code",
   "execution_count": 68,
   "metadata": {
    "collapsed": true
   },
   "outputs": [],
   "source": [
    "papers_and_topics = sort_papers_to_topics(10, model_transformed)"
   ]
  },
  {
   "cell_type": "code",
   "execution_count": 90,
   "metadata": {
    "collapsed": true
   },
   "outputs": [],
   "source": [
    "from collections import Counter\n",
    "def print_papers(topic_dict, topic_number):\n",
    "    topic_counts = []\n",
    "    for item in topic_dict[topic_number]:\n",
    "        doc_index = item[0]\n",
    "        doc = all_descriptions[doc_index]\n",
    "        topic_counts.append(doc)\n",
    "    return topic_counts"
   ]
  },
  {
   "cell_type": "code",
   "execution_count": 91,
   "metadata": {},
   "outputs": [
    {
     "data": {
      "text/plain": [
       "[('A weekly roundup of information on newly offered instrumentation, apparatus, and laboratory materials of potential interest to researchers.',\n",
       "  43)]"
      ]
     },
     "execution_count": 91,
     "metadata": {},
     "output_type": "execute_result"
    }
   ],
   "source": [
    "counts = print_papers(papers_and_topics, 0)\n",
    "Counter(counts).most_common(5)"
   ]
  },
  {
   "cell_type": "code",
   "execution_count": 110,
   "metadata": {},
   "outputs": [
    {
     "data": {
      "text/plain": [
       "[('The Casparian strip provides a waterproofing function to plant roots, protecting them against unregulated influxes of water and minerals. The integrity of the Casparian strip depends on a receptor-like kinase. Doblas et al. and Nakayama et al. now identify the peptide ligands in the core of the root (the stele) that help regulate Casparian strip formation. The receptor is expressed on the outward-facing surface of the root endodermal cells that surround the stele. When the endodermal layer is sealed by the Casparian strip, the peptide ligands cannot reach their receptors. When the endodermal layer is breached, whether by damage or during development, the peptides reach their receptors and activate signaling that encourages lignin deposition, shoring up the strips.',\n",
       "  2),\n",
       " ('Most bacteria are protected by peptidoglycan cell walls, which must be remodeled to split the cell. Cell division requires the tubulin homolog FtsZ, a highly conserved cytoskeletal polymer that specifies the future site of division. Bisson-Filho et al. and Yang et al. found that the dynamic treadmilling of FtsZ filaments controls both the location and activity of the associated cell wall synthetic enzymes. This creates discrete sites of cell wall synthesis that circle around the division plane to divide the cell.',\n",
       "  2),\n",
       " ('Macrophages eliminate dead or dying cells and identify and destroy invading microbes. However, they also exhibit nonimmune functions in development and homeostasis. Eom and Parichy show that macrophages are essential for postembryonic remodeling during adult pigment stripe formation in zebrafish (see the Perspective by Guilliams). Pigment cells relay signal-containing vesicles via cellular projections from one class of cell to another. Without macrophages, this signal relay fails, and adult stripes are disorganized.',\n",
       "  2),\n",
       " ('Macrophages were first identified in transparent starfish larvae (Astropecten pentacanthus) more than a century ago, so it is fitting that a new function for macrophages would again be discovered in transparent marine larvae, this time from zebra fish (Danio rerio). On page 1317 of this issue, Eom and Parichy (1) reveal a wholly unexpected tissue-specific function of macrophages—their cardinal role in long-distance communication between nonimmune cells. In doing so, macrophages choreograph the patterning of pigment cells that eventually form the stripes on zebrafish.',\n",
       "  2),\n",
       " ('How is it that our earlobes are attached to our ears and not our chins? Diverse bits of facial structure are derived from migrating neural crest cells. The cells start out similar but end up building very different facial structures. Neural crest cells destined for one structure can be rerouted to develop others, however. Minoux et al. found that neural crest cells share prepatterned poised chromatin states that are established before the cells migrate and retained during migration. Different developmental programs are unlocked when the migrating cells near their final location and interact with local patterning signals.',\n",
       "  2)]"
      ]
     },
     "execution_count": 110,
     "metadata": {},
     "output_type": "execute_result"
    }
   ],
   "source": [
    "counts = print_papers(papers_and_topics, 1)\n",
    "Counter(counts).most_common(5)"
   ]
  },
  {
   "cell_type": "code",
   "execution_count": 109,
   "metadata": {},
   "outputs": [
    {
     "data": {
      "text/plain": [
       "[(\"Nine months since the British vote to exit the European Union (“Brexit”), the UK science community's initial dismay has given way to hard-boiled determination to limit the damage it will do to universities and research. On 29 March, Prime Minister Theresa May is expected to give formal notification of the UK's intention to withdraw under Article 50 of the Lisbon Treaty, the constitutional basis of the EU. This will set in motion a 2-year period of intense negotiation on the terms of the UK's divorce, and any future agreements with the EU—with research just one line item on a long list of issues to be resolved.\",\n",
       "  2),\n",
       " ('In science news around the world, the San people of Southern Africa release a code of ethics to guide researchers wanting to study their culture or genes, a series of films documenting nuclear tests from the 1945 to 1962 is released on YouTube, U.K. regulators grant the first license for mitochondrial replacement therapy, a researcher is accused of putting his name to a paper partially ghost-written by employees at chemical giant Monsanto, and more. Also, the administration of U.S. President Donald Trump will reopen a review of a 2012 fuel efficiency agreement by automakers that would double efficiency by 2025. And the Trump administration also plans to rescind an Obama-era rule requiring public disclosure of the chemicals used in fracking on public lands.',\n",
       "  2),\n",
       " (\"The 2018 budget proposal that President Donald Trump unveiled last week confirms two things that U.S. scientists have long suspected: The new president is no fan of research, and his administration has no overarching strategy for funding science. Deep proposed cuts to research at several agencies offer evidence that Trump doesn't see science—of any kind—as a spending priority. And along with neglect there's indifference. There's no telling how the National Science Foundation would fare, for example, because the budget blueprint doesn't mention it. In the meantime, scientists are also worried about the fate of this year's research budgets after Trump proposed cuts to the category that funds all civilian research. More angst: There's no word yet on whether the president will even appoint a science adviser, much less when he will fill dozens of senior slots at research agencies.\",\n",
       "  2),\n",
       " ('A small fix made in the name of \"stockpile stewardship\" is turning U.S. submarine–launched missiles into more precise weapons. An improved mechanism installed in aging warhead now makes it possible to adjust the height at which they detonate, according to three experts writing in The Bulletin of the Atomic Scientists. This vastly increases the weapons\\' efficiency, the experts say, creating the impression that submarine-launched weapons could be used in a first strike against Russia\\'s fixed missile silos. About 500 such warheads have been deployed on submarines; more than 1000 updated warheads are in production. The innovation could create \"a deeply destabilizing and dangerous strategic nuclear situation,\" the authors warn.',\n",
       "  2),\n",
       " (\"Two Swedish fish researchers, with the aid of five colleagues elsewhere in the world, have alleged fraud in a study on the effects of microplastics on larval fish published in Science by two scientists at Uppsala University (UU) in June 2016. The study supposedly took place at the Ar Research Station in Gotland, but the whistleblowers say it never happened, based on eyewitness testimony and other evidence. A preliminary investigation by UU dismissed the claims in August 2016; a second investigation, by an expert panel at Sweden's Central Ethical Review Board, is still ongoing. An expert hired by that panel filed a more damning report last February that raised the possibility of fraud. Now, both sides are awaiting the expert panel's final verdict, which may influence an ongoing debate about how Swedish institutions investigate research misconduct.\",\n",
       "  2)]"
      ]
     },
     "execution_count": 109,
     "metadata": {},
     "output_type": "execute_result"
    }
   ],
   "source": [
    "counts = print_papers(papers_and_topics, 2)\n",
    "Counter(counts).most_common(5)"
   ]
  },
  {
   "cell_type": "code",
   "execution_count": 108,
   "metadata": {},
   "outputs": [
    {
     "data": {
      "text/plain": [
       "[('Two-dimensional Ruddlesden-Popper perovskites form quantum wells by sandwiching inorganic-organic perovskite layers used in photovoltaic devices between organic layers. Blancon et al. show that if the perovskite layer is more than two unit cells thick, photogenerated excitons undergo an unusual but highly efficient process for creating free carriers that can be harvested in photovoltaic devices (see the Perspective by Bakr and Mohammed). Lower-energy local states at the edges of the perovskite layer facilitate dissociation into electrons and holes that are well protected from recombination.',\n",
       "  2),\n",
       " (\"The Hall-Petch relationship links a metal's increasing hardness with decreasing grain size, but it breaks down when grains become very small. This is unfortunate because nanograined metals could otherwise be extremely hard. Hu et al. found a way to circumvent this problem in a set of nickel-molybdenum alloys. They altered the molybdenum composition and annealed the samples at just the right temperature, which stabilized the grain boundaries in their nanograined samples. This allowed hardness to keep increasing with decreasing grain size, which could provide a route for designing superhard coatings.\",\n",
       "  2),\n",
       " ('The most notable scientific milestone in photovoltaics in the past several years is the emergence of solar cells based on hybrid organic-inorganic perovskite materials. While conventional silicon and thin-film solar cells have seen steady improvements in their power-conversion efficiencies (PCEs) spanning several decades, hybrid perovskite solar cells have already reached a certified 22.1% PCE (1), matching conventional solar cell technologies in only a few years since their first device architecture was tested. Setting the stage for a disruptive technology in the field of photovoltaics is the seemingly winning combination of properties of hybrid perovskite materials: high absorption coefficient and a tunable energy band gap in wavelengths ideal for solar cells; long diffusion lengths and lifetimes for photogenerated charge carriers, which easily dissociate into efficiently collected electrons and holes; Earth-abundant elemental composition; and their compatibility with low-cost and low-temperature fabrication methods (2–5). On page 1288 of this issue, Blancon et al. (6) report on the observation of an enhanced photoresponse for layered perovskite materials. The results add, literally, a new dimension to the further development of high-performance perovskite solar cells.',\n",
       "  2),\n",
       " ('There are few sights more spectacular than the swarming of a school of fish or a\\nflock of birds that suddenly gives way to a directional motion. Arguably, our\\nadmiration is rooted in the surprise that individual organisms, capable of\\nself-propulsion on their own, organize to move en masse in a coherent fashion.\\nCoherent motion is common in a large class of biological and synthetic materials\\nthat are often referred to as active matter. Such materials consist of particles\\nimmersed in a fluid that can extract energy from their surroundings (or internal\\nfuel) and convert it into directed motion. Living organisms, biological tissues,\\nrods on a vibrated plate, and self-phoretic colloids are just a few examples\\n(1). Similar to\\nschools of fish and flocks of birds, active matter often exhibits random\\nswarming motion (2–5) that until now was impossible to control or\\nuse. On page 1284 of this issue, Wu et al. (6) demonstrate that an\\nactive fluid can be manipulated to flow in a particular direction without any\\nexternal stimuli by confining it in microchannels.',\n",
       "  2),\n",
       " ('The mercuric chloride catalyst for acetylene hydrochlorination creates vinyl chloride, an important polymer feedstock. However, a more environmentally friendly catalyst of gold supported on carbon can now replace mercuric chloride. Malta et al. used x-ray spectroscopic studies of the working catalysts and computational modeling to show that the active species are coexisting single-site Au+ and Au3+ cations. These species are analogs of soluble catalysts with single metal atoms that react via a similar redox couple.',\n",
       "  2)]"
      ]
     },
     "execution_count": 108,
     "metadata": {},
     "output_type": "execute_result"
    }
   ],
   "source": [
    "counts = print_papers(papers_and_topics, 3)\n",
    "Counter(counts).most_common(5)"
   ]
  },
  {
   "cell_type": "code",
   "execution_count": 101,
   "metadata": {},
   "outputs": [
    {
     "data": {
      "text/plain": [
       "[('Sometimes “you” is used when addressing another person, but in many\\n                    situations, “you” is used to indicate anyone or\\n                    everyone—the generic “you.” Orvell et al.\\n                    studied the underlying psychological function of the generic\\n                    “you.” When asked to write about a past negative experience,\\n                    people were more likely to distance themselves and derive meaning from the\\n                    experience if tasked with using the generic “you” rather than the\\n                    first-person pronoun “I.”',\n",
       "  2),\n",
       " ('Dengue virus (DENV) causes a large number of asymptomatic infections, so surveillance captures only a fraction of cases. Salje et al. developed a method for identifying the number of transmission chains of DENV from sequence data and serology. They found that sequential transmission of DENV typically occurs between households in the same neighborhood. Within high-density urban localities, such as Bangkok, there are surprisingly few transmission chains. This results in epidemic spikes within a regional background of endemicity. Large urban settings may thus act as a source of diverse viruses that can be transported elsewhere.',\n",
       "  2),\n",
       " ('A new study gives the long-standing dinosaur family tree an overhaul. Based on analyses of hundreds of traits gleaned from existing studies and fossils, the study strikes down a fundamental split of dinosaurs into \"bird-hipped\" and \"reptile-hipped\"; it also shifts the charismatic theropods—the group that includes Tyrannosaurus rex and eventually gave rise to birds—to a new spot on the tree, closer to the bird-hipped dinos. The reorganization of the tree suggests that hypercarnivory evolved in different groups through convergent evolution, and may upend the picture of where dinosaurs arose. But don\\'t throw out your dog-eared dino books just yet, other researchers caution: This new family tree is likely to be debated for some time to come.',\n",
       "  2),\n",
       " (\"A reassuring rule of thumb about earthquakes is breaking down. For decades, seismologists had assumed that individual faults—as well as isolated segments of longer faults—rupture independently of one another. That limits the maximum size of the potential earthquake that a fault zone can generate. But the magnitude-7.8 earthquake that struck New Zealand just after midnight on 14 November 2016—among the largest in the islands' modern history—has reduced that thinking to rubble. According to a new study, published online this week in Science, the heavy shaking in the Kaikoura quake was amassed by ruptures on at least 12 different faults, in some cases so far apart that they were thought to be immune to each other's influence.\",\n",
       "  2),\n",
       " ('How and when Cyanobacteria evolved the ability to produce oxygen through photosynthesis is poorly understood. Soo et al. examined the genomes of Cyanobacteria and other related bacterial lineages. The phylogenetic relationships of these prokaryotes suggest that the evolution of aerobic respiration likely occurred multiple times. This, along with evidence that the modern photosynthetic system apparently arose through the lateral gene transfer and fusion of two photosynthetic systems, supports a relatively late origin of photosynthesis in evolutionary history.',\n",
       "  2)]"
      ]
     },
     "execution_count": 101,
     "metadata": {},
     "output_type": "execute_result"
    }
   ],
   "source": [
    "counts = print_papers(papers_and_topics, 4)\n",
    "Counter(counts).most_common(5)"
   ]
  },
  {
   "cell_type": "code",
   "execution_count": 103,
   "metadata": {},
   "outputs": [
    {
     "data": {
      "text/plain": [
       "[(\"Cell fate decisions require a gene's transcriptional status, whether on or off, to be stably and heritably maintained over multiple cell generations. For silenced genes, heterochromatin domains are associated with specific histone posttranslational modifications, and these histone marks are maintained during DNA replication and chromosome duplication (see the Perspective by De and Kassis). Laprell et al. show that parental methylated histone H3 lysine 27 (H3K27) nucleosomes in Drosophila are inherited in daughter cells after replication and can repress transcription, but that they are not sufficient to propagate the mark. Trimethylation of newly incorporated nucleosomes requires recruitment of the methyltransferase Polycomb repressive complex 2 (PRC2) to neighboring cis-regulatory DNA elements. Coleman and Struhl demonstrate that H3K27 trimethylated nucleosomes play a causal role in transmitting epigenetic memory at a Drosophila HOX gene through anchoring of PRC2 at the Polycomb response element binding site. Wang and Moazed examine fission yeast and show that both sequence-dependent and chromodomain sequence-independent mechanisms are required for stable epigenetic inheritance of histone modifications and the epigenetic maintenance of silencing. These studies highlight the crucial role of DNA binding for heritable gene silencing during growth and development.\",\n",
       "  3),\n",
       " ('Meiosis is the double cell division that generates haploid gametes from diploid parental cells. Pairing of homologous chromosomes during the first meiotic division ensures that each gamete receives a complete set of chromosomes. The proteasome, on the other hand, is a molecular machine that degrades proteins tagged for destruction within the cell (see the Perspective by Zetka). Ahuja et al. show that the proteasome is also involved in ensuring that homologous chromosomes pair with each other during meiosis. Rao et al. show that the SUMO (small ubiquitin-like modifier) protein, ubiquitin, and the proteasome localize to the axes between homologous chromosomes. In this location, they help mediate chromosome pairing and recombination between homologs.',\n",
       "  2),\n",
       " ('The cyanobacterial circadian clock oscillator can be reconstituted in a test tube from just three proteins—KaiA, KaiB, and KaiC—and adenosine triphosphate (ATP). Tseng et al. studied crystal and nuclear magnetic resonance structures of complexes of the oscillator proteins and their signaling output proteins and tested the in vivo effects of structure-based mutants. Large conformational changes in KaiB and ATP hydrolysis by KaiC are coordinated with binding to output protein, which couples signaling and the day-night transitions of the clock. Snijder et al. provide complementary analysis of the oscillator proteins by mass spectrometry and cryo–electron microscopy. Their results help to explain the structural basis for the dynamic assembly of the oscillator complexes.',\n",
       "  2),\n",
       " ('A wide variety of DNA nanostructures have been assembled by folding long DNA single strands with short DNA staples. However, such structures typically need annealing at elevated temperatures in order to form. To accommodate the formation of such structures in living cells, Praetorius and Dietz developed an approach in which custom protein staples based on transcription activator–like effector proteins fold double-stranded DNA templates (see the Perspective by Douglas). The structures folded into user-defined geometric shapes on the scale of tens to hundreds of nanometers. These nanostructures could self-assemble at room temperature in physiological buffers.',\n",
       "  2),\n",
       " ('The mTORC1 kinase is a master nutrient sensor that governs cellular metabolism. When dysregulated, this kinase drives several human diseases, including cancer and diabetes. Recent work has delineated a pathway through which amino acids regulate mTORC1. In contrast, little is known about how sterols may affect mTORC1 signaling. Castellano et al. provide detailed mechanistic evidence for how cholesterol, derived from the processing of low-density lipoprotein in the lysosomal lumen, drives mTORC1 signaling. They identify the key players that couple lysosomal cholesterol levels to mTORC1 activation. Unexpectedly, the putative amino acid transporter SLC38A9, which is implicated in mTORC1 regulation by arginine, is essential for mTORC1 activation by cholesterol. Furthermore, the authors uncover a physical and functional interaction between SLC38A9 and the major lysosomal cholesterol transporter, Niemann-Pick C1 (NPC1) protein. The SLC38A9-NPC1 complex is key to the ability of mTORC1 to respond to variations in dietary lipid supply.',\n",
       "  2)]"
      ]
     },
     "execution_count": 103,
     "metadata": {},
     "output_type": "execute_result"
    }
   ],
   "source": [
    "counts = print_papers(papers_and_topics, 5)\n",
    "Counter(counts).most_common(5)"
   ]
  },
  {
   "cell_type": "code",
   "execution_count": 104,
   "metadata": {},
   "outputs": [
    {
     "data": {
      "text/plain": [
       "[('The hydrogenation of carbon dioxide is a key step in the industrial production of methanol. Catalysts made from copper (Cu) and zinc oxide (ZnO) on alumina supports are often used. However, the actual active sites for this reaction—Zn-Cu bimetallic sites or ZnO-Cu interfacial sites—are debated. Kattel et al. studied model catalysts and found that ZnCu became as active as ZnO/Cu only after surface oxidation formed ZnO. Theoretical studies favor a formate intermediate pathway at a ZnO-Cu interface active site.',\n",
       "  2),\n",
       " (\"Although the Paris Agreement's goals (1) are aligned with science (2) and can, in principle, be technically and economically achieved (3), alarming inconsistencies remain between science-based targets and national commitments. Despite progress during the 2016 Marrakech climate negotiations, long-term goals can be trumped by political short-termism. Following the Agreement, which became international law earlier than expected, several countries published mid-century decarbonization strategies, with more due soon. Model-based decarbonization assessments (4) and scenarios often struggle to capture transformative change and the dynamics associated with it: disruption, innovation, and nonlinear change in human behavior. For example, in just 2 years, China's coal use swung from 3.7% growth in 2013 to a decline of 3.7% in 2015 (5). To harness these dynamics and to calibrate for short-term realpolitik, we propose framing the decarbonization challenge in terms of a global decadal roadmap based on a simple heuristic—a “carbon law”—of halving gross anthropogenic carbon-dioxide (CO2) emissions every decade. Complemented by immediately instigated, scalable carbon removal and efforts to ramp down land-use CO2 emissions, this can lead to net-zero emissions around mid-century, a path necessary to limit warming to well below 2°C.\",\n",
       "  2),\n",
       " ('Fire profoundly influences people, climate, and ecosystems (1). The impacts of this interaction are likely to grow, with climate models forecasting widespread increases in fire frequency and intensity because of rising global temperatures (2). However, the relationship between fire and biodiversity is complex (3, 4). Many plants and animals require fire for their survival, yet even in fire-prone ecosystems, some species and communities are highly sensitive to fire. Recent studies (2, 3, 5, 6) are helping to define fire regimes that support the conservation of species with different requirements in a rapidly changing world.',\n",
       "  2),\n",
       " (\"Mars has a thin atmosphere composed mainly of carbon dioxide. Evidence on the planet's surface indicates that Mars was once warmer and wetter, suggesting a thicker atmosphere in the past. Jakosky et al. measured the abundances of argon isotopes at different heights in the atmosphere. Because lighter isotopes are more easily ejected than heavier ones, about 66% of Mars' atmosphere has been lost into space since it formed. Understanding the history of Mars' atmosphere will help explain how and why its climate changed, informing the study of similar processes on Earth.\",\n",
       "  2),\n",
       " (\"Soils contain about twice as much carbon as Earth's atmosphere, so their response to warming is crucial to understanding carbon fluxes in a changing climate. Past studies have heated soil to a depth of 5 to 20 cm to examine such fluxes. Hicks Pries et al. heated the ground to a depth of 100 cm. Extending measurements to that depth revealed that 4°C of warming increased annual soil respiration by 34 to 37%—a considerable amount more than previously observed.\",\n",
       "  2)]"
      ]
     },
     "execution_count": 104,
     "metadata": {},
     "output_type": "execute_result"
    }
   ],
   "source": [
    "counts = print_papers(papers_and_topics, 6)\n",
    "Counter(counts).most_common(5)"
   ]
  },
  {
   "cell_type": "code",
   "execution_count": 105,
   "metadata": {},
   "outputs": [
    {
     "data": {
      "text/plain": [
       "[('PD-1–targeted therapies have been a breakthrough for treating certain tumors and can rejuvenate T cells to unleash the anticancer immune response (see the Perspective by Clouthier and Ohashi). It is widely believed that PD-1 suppresses signaling through the T cell receptor (TCR). However, Hui et al. find instead that the TCR costimulatory receptor, CD28, is the primary target of PD-1 signaling. Independently, Kamphorst et al. show that CD28 is required for PD-1 therapies to kill cancer cells efficiently and eliminate chronic viral infections in mice. Lung cancer patients that responded to PD-1 therapy had more CD28+ T cells, which suggests that CD28 may predict treatment response.',\n",
       "  4),\n",
       " ('Prostate cancer growth is fueled by male hormones called androgens. Drugs targeting the androgen receptor (AR) are initially efficacious, but most tumors eventually become resistant (see the Perspective by Kelly and Balk). Mu et al. found that prostate cancer cells escaped the effects of androgen deprivation therapy through a change in lineage identity. Functional loss of the tumor suppressors TP53 and RB1 promoted a shift from AR-dependent luminal epithelial cells to AR-independent basal-like cells. In related work, Ku et al. found that prostate cancer metastasis, lineage switching, and drug resistance were driven by the combined loss of the same tumor suppressors and were accompanied by increased expression of the epigenetic regulator Ezh2. Ezh2 inhibitors reversed the lineage switch and restored sensitivity to androgen deprivation therapy in experimental models.',\n",
       "  2),\n",
       " ('Drugs inhibiting the phosphoinositide-(3)-kinase (PI3K) signaling pathway are effective in a subset of breast cancer patients. Tumors become resistant to these drugs, however, and this transition is often accompanied by increased transcription of genes regulated by the estrogen receptor. A better understanding of the mechanism linking PI3K signaling and estrogen receptor activity could potentially suggest strategies to prevent drug resistance. Toska et al. found that PI3K inhibition activates a specific epigenetic regulator, the histone methyltransferase KMT2D. The protein modifications catalyzed by KMT2D create a more open chromatin state, which unleashes estrogen receptor–dependent transcription. Thus, combination therapies consisting of PI3K inhibitors and KMT2D inhibitors may be more effective than PI3K inhibitors alone.',\n",
       "  2),\n",
       " ('Most textbooks attribute cancer-causing mutations to two major sources: inherited and environmental factors. A recent study highlighted the prominent role in cancer of replicative (R) mutations that arise from a third source: unavoidable errors associated with DNA replication. Tomasetti et al. developed a method for determining the proportions of cancer-causing mutations that result from inherited, environmental, and replicative factors (see the Perspective by Nowak and Waclaw). They found that a substantial fraction of cancer driver gene mutations are indeed due to replicative factors. The results are consistent with epidemiological estimates of the fraction of preventable cancers.',\n",
       "  2),\n",
       " ('It is a human trait to search for explanations for catastrophic events and rule out mere “chance” or “bad luck.” When it comes to human cancer, the issue of natural causes versus bad luck was raised by Tomasetti and Vogelstein about 2 years ago (1). Their study, which was widely misinterpreted as saying that most cancers are due neither to genetic inheritance nor environmental factors but simply bad luck, sparked controversy. To date, a few hundred papers have been written in response, including (2–6), with some [e.g., (2)] coming to opposite conclusions. What is this controversy about? Tomasetti and Vogelstein concluded that 65% of the differences in the risk of certain cancers is linked to stem cell divisions in the various cancerous tissues examined (1). On page 1330 of this issue, Tomasetti et al. (7) provide further evidence that this is not specific to the United States.',\n",
       "  2)]"
      ]
     },
     "execution_count": 105,
     "metadata": {},
     "output_type": "execute_result"
    }
   ],
   "source": [
    "counts = print_papers(papers_and_topics, 7)\n",
    "Counter(counts).most_common(5)"
   ]
  },
  {
   "cell_type": "code",
   "execution_count": 106,
   "metadata": {},
   "outputs": [
    {
     "data": {
      "text/plain": [
       "[('Shallow magma chambers either erupt as volcanoes or solidify as intrusive magma bodies. These magma bodies are traditionally considered to be long-lived and dominated by melt. Cashman et al. review the evidence that shallow magma chambers are actually assembled quickly from much larger, crystal-rich transcrustal magmatic systems. This paradigm helps explain many geophysical and geochemical features of volcanic systems. It also presents challenges for understanding the evolution of magma and provides insight into how and why volcanoes erupt.',\n",
       "  2),\n",
       " (\"If the line of sight from Earth to a distant quasar passes through foreground material, some of the quasar's light is absorbed. If a galaxy-sized quantity of gas intervenes, it forms a damped Lyman α system (DLA), visible as absorption lines in the quasar spectrum. Using the Atacama Large Millimeter/Submillimeter Array, Neeleman et al. observed two quasars with known DLAs. They detected emission from gas and dust in two foreground galaxies associated with the DLAs and were able to measure their star-formation rates. Combining these different tracers of DLAs will help us understand how galaxies evolved in the early universe.\",\n",
       "  2),\n",
       " ('Scientists hunting unseen dark matter are looking deeper into the shadows. With searches for a favored dark matter candidate—weakly interacting massive particles (WIMPs)—coming up empty, physicists are now turning to the hypothetical \"dark sector\": an entire shadow realm of hidden particles. This week, physicists will meet at the University of Maryland in College Park for a workshop, sponsored by the U.S. Department of Energy (DOE), to mull ideas for a possible $10 million short-term experiment that would complement the agency\\'s current WIMP search and other dark-matter efforts. And many researchers believe DOE should focus on the dark sector. Whereas WIMPs would be a single massive particle tacked onto the standard model of known particles, the dark sector would consist of a slew of lighter particles and forces—such as a dark version of electromagnetism—with tenuous connections to known particles. To spot dark-sector particles, physicists will have to rethink their detection techniques, but the new experiment could be small and cheap, physicists say. Still, DOE officials warn that the $10 million isn\\'t a sure thing.',\n",
       "  2),\n",
       " ('In The Greatest Story Ever Told—So Far, theoretical physicist Lawrence Krauss beau\\xadtifully explains how our refusal to believe that there are unknowable cosmic truths has rewarded humanity with brilliantly pre\\xadcise answers to puzzles previously obscured by the fog of dogmatic assurance. When we cast off faith in favor of the scientific method, deep questions such as \"What is the nature of space and time?” and “What is matter?\" suddenly became answerable and, perhaps more important, verifiable.',\n",
       "  2),\n",
       " (\"From 2014 to 2016, the Rosetta spacecraft investigated comet 67P/Churyumov-Gerasimenko as it passed through the inner solar system. El-Maarry et al. compared images of the surface taken before and after the comet's closest approach to the Sun. Numerous geological changes were evident, including cliff collapses, large boulders that moved, and cracks that opened up. These seem to have been triggered by seasonal factors, such as the amount of sunlight falling on each area. Understanding such changes should help elucidate comet formation and evolution.\",\n",
       "  2)]"
      ]
     },
     "execution_count": 106,
     "metadata": {},
     "output_type": "execute_result"
    }
   ],
   "source": [
    "counts = print_papers(papers_and_topics, 8)\n",
    "Counter(counts).most_common(5)"
   ]
  },
  {
   "cell_type": "code",
   "execution_count": 107,
   "metadata": {},
   "outputs": [
    {
     "data": {
      "text/plain": [
       "[('General activity and information processing while an animal is awake drive synapse strengthening. This is counterbalanced by weakening of synapses during sleep (see the Perspective by Acsády). De Vivo et al. used serial scanning electron microscopy to reconstruct axon-spine interface and spine head volume in the mouse brain. They observed a substantial decrease in interface size after sleep. The largest relative changes occurred among weak synapses, whereas strong ones remained stable. Diering et al. found that synapses undergo changes in synaptic glutamate receptors during the sleep-wake cycle, driven by the immediate early gene Homer1a. In awake animals, Homer1a accumulates in neurons but is excluded from synapses by high levels of noradrenaline. At the onset of sleep, noradrenaline levels decline, allowing Homer1a to move to excitatory synapses and drive synapse weakening.',\n",
       "  2),\n",
       " ('The rhythmic activity of a cluster of neurons in the brainstem initiates breathing. This cluster is composed of distinct, though intermingled, subgroups of neurons. Yackle et al. found a small, molecularly defined neuronal subpopulation in this breathing rhythm generator that directly projects to a brain center that plays a key role in generalized alertness, attention, and stress (see the Perspective by Sheikbahaei and Smith). Removal of these cells did not affect normal breathing but left the animals unusually calm. The breathing center thus has a direct and dramatic influence on higher-order brain function.',\n",
       "  2),\n",
       " ('Neurons in the developing brain cooperate to build circuits. Mountoufaris et al. found that ∼50 variable protocadherin genes support a combinatorial identity code that allows millions of olfactory neuron axons to sort into ∼2000 glomeruli. Sharing olfactory receptors drives axons to one glomerulus, and protocadherin diversity allows the multiple axons to touch each other as they converge. On the other hand, Chen et al. found that a single C-type protocadherin underlies the tiled distribution of serotonergic neurons throughout the central nervous system. These neurons, which share protocadherin identity, enervate broad swaths evenly without touching neighboring neurons.',\n",
       "  2),\n",
       " ('Our ability to recognize faces improves from infancy to adulthood. This improvement depends on specific face-selective regions in the visual system. Gomez et al. tested face memory and place recognition in children and adults while scanning relevant brain regions. Anatomical changes co-occurred with functional changes in the brain. Some regions in the high-level visual cortex showed profound developmental maturation, whereas others were stable. Thus, improvements in face recognition involve an interplay between structural and functional changes in the brain.',\n",
       "  1),\n",
       " (\"We constantly navigate around our environment. This means moving from our current location, place A, to a new goal, place B. We have recently learned much about spatial maps in the brain in which place cells indicate current location. However, it is unclear how navigational goals are represented in the brain. Sarel et al. describe a group of neurons in the brains of bats that are tuned to goal direction and distance relative to the bat's current position as it flies toward its goal. The finding elucidates the computations involved in spatial navigation.\",\n",
       "  1)]"
      ]
     },
     "execution_count": 107,
     "metadata": {},
     "output_type": "execute_result"
    }
   ],
   "source": [
    "counts = print_papers(papers_and_topics, 9)\n",
    "Counter(counts).most_common(5)"
   ]
  },
  {
   "cell_type": "code",
   "execution_count": 46,
   "metadata": {
    "collapsed": true
   },
   "outputs": [],
   "source": [
    "import numpy as np\n",
    "topic_0 = []\n",
    "topic_1 = []\n",
    "topic_2 = []\n",
    "topic_3 = []\n",
    "topic_4 = []\n",
    "topic_5 = []\n",
    "topic_6 = []\n",
    "topic_7 = []\n",
    "topic_8 = []\n",
    "topic_9 = []\n",
    "\n",
    "for index, item in enumerate(model_transformed):\n",
    "    if np.argmax(item) == 0:\n",
    "        topic_0.append([index, item])\n",
    "    elif np.argmax(item) == 1:\n",
    "        topic_1.append([index, item])\n",
    "    elif np.argmax(item) == 2:\n",
    "        topic_2.append([index, item])\n",
    "    elif np.argmax(item) == 3:\n",
    "        topic_3.append([index, item])\n",
    "    elif np.argmax(item) == 4:\n",
    "        topic_4.append([index, item])\n",
    "    elif np.argmax(item) == 5:\n",
    "        topic_5.append([index, item])\n",
    "    elif np.argmax(item) == 6:\n",
    "        topic_6.append([index, item])\n",
    "    elif np.argmax(item) == 7:\n",
    "        topic_7.append([index, item])\n",
    "    elif np.argmax(item) == 8:\n",
    "        topic_8.append([index, item])\n",
    "    else:\n",
    "        topic_9.append([index, item])"
   ]
  },
  {
   "cell_type": "code",
   "execution_count": null,
   "metadata": {
    "collapsed": true
   },
   "outputs": [],
   "source": [
    "description = []\n",
    "for item in topic_0:\n",
    "    doc_index = item[0]\n",
    "    doc = all_descriptions[doc_index]\n",
    "    if doc not in description:\n",
    "        description.append(doc)\n",
    "    else:\n",
    "        continue"
   ]
  },
  {
   "cell_type": "code",
   "execution_count": null,
   "metadata": {
    "collapsed": true
   },
   "outputs": [],
   "source": [
    "from collections import Counter\n",
    "topic_0_counts = []\n",
    "for item in topic_0:\n",
    "    doc_index = item[0]\n",
    "    doc = all_descriptions[doc_index]\n",
    "    topic_0_counts.append(doc)\n",
    "topic_0_counts"
   ]
  },
  {
   "cell_type": "code",
   "execution_count": null,
   "metadata": {
    "collapsed": true
   },
   "outputs": [],
   "source": [
    "Counter(topic_0_counts).most_common(5)"
   ]
  },
  {
   "cell_type": "code",
   "execution_count": null,
   "metadata": {
    "collapsed": true
   },
   "outputs": [],
   "source": []
  }
 ],
 "metadata": {
  "kernelspec": {
   "display_name": "Python [conda root]",
   "language": "python",
   "name": "conda-root-py"
  },
  "language_info": {
   "codemirror_mode": {
    "name": "ipython",
    "version": 3
   },
   "file_extension": ".py",
   "mimetype": "text/x-python",
   "name": "python",
   "nbconvert_exporter": "python",
   "pygments_lexer": "ipython3",
   "version": "3.6.2"
  }
 },
 "nbformat": 4,
 "nbformat_minor": 2
}
