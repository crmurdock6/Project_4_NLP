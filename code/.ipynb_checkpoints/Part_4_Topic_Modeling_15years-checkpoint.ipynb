{
 "cells": [
  {
   "cell_type": "markdown",
   "metadata": {},
   "source": [
    "### Imports"
   ]
  },
  {
   "cell_type": "code",
   "execution_count": 134,
   "metadata": {
    "collapsed": true
   },
   "outputs": [],
   "source": [
    "import requests\n",
    "import pandas as pd\n",
    "import re\n",
    "from bs4 import BeautifulSoup\n",
    "import time\n",
    "from random import randint\n",
    "from pymongo import MongoClient\n",
    "import numpy as np\n",
    "from collections import Counter\n",
    "from sklearn.feature_extraction.text import CountVectorizer, TfidfVectorizer\n",
    "from sklearn.decomposition import LatentDirichletAllocation\n",
    "from sklearn.preprocessing import StandardScaler, Normalizer\n",
    "from sklearn.decomposition import NMF, TruncatedSVD\n",
    "import matplotlib.pyplot as plt\n",
    "%matplotlib inline\n",
    "plt.style.use('seaborn-poster')"
   ]
  },
  {
   "cell_type": "markdown",
   "metadata": {},
   "source": [
    "### Connect to MongoDB"
   ]
  },
  {
   "cell_type": "code",
   "execution_count": 2,
   "metadata": {
    "collapsed": true
   },
   "outputs": [],
   "source": [
    "client = MongoClient()\n",
    "sci = client.metis_p4_db.science"
   ]
  },
  {
   "cell_type": "code",
   "execution_count": 83,
   "metadata": {
    "collapsed": true
   },
   "outputs": [],
   "source": [
    "years = sci.find({'year': { \"$gt\": 2000, \"$lt\": 2017 } })\n"
   ]
  },
  {
   "cell_type": "code",
   "execution_count": 84,
   "metadata": {},
   "outputs": [
    {
     "data": {
      "text/plain": [
       "\"Antibiotic resistance threatens to put modern medicine into reverse. But we are not at the end of our options for currently available drugs. Baym et al. review what can be done by using combinations of antibiotics to circumvent bacteria's evolutionary strategies. For instance, resistance to one drug may cause sensitivity to another, the effectiveness of two drugs can be synergized by a resistance mutation, and some negative drug interactions may even be beneficial in selecting against resistance. Although not simple to assess, drug combinations still have something to offer for the development of sorely needed anti-infectives.\""
      ]
     },
     "execution_count": 84,
     "metadata": {},
     "output_type": "execute_result"
    }
   ],
   "source": [
    "years[0]['description']"
   ]
  },
  {
   "cell_type": "code",
   "execution_count": 85,
   "metadata": {
    "collapsed": true
   },
   "outputs": [],
   "source": [
    "all_descriptions = []\n",
    "\n",
    "for record in years:\n",
    "    all_descriptions.append(record['description'])"
   ]
  },
  {
   "cell_type": "code",
   "execution_count": 86,
   "metadata": {},
   "outputs": [
    {
     "data": {
      "text/plain": [
       "[\"Antibiotic resistance threatens to put modern medicine into reverse. But we are not at the end of our options for currently available drugs. Baym et al. review what can be done by using combinations of antibiotics to circumvent bacteria's evolutionary strategies. For instance, resistance to one drug may cause sensitivity to another, the effectiveness of two drugs can be synergized by a resistance mutation, and some negative drug interactions may even be beneficial in selecting against resistance. Although not simple to assess, drug combinations still have something to offer for the development of sorely needed anti-infectives.\",\n",
       " 'In carpenter ants, separate behavioral classes, known as castes, are determined by the epigenetic regulation of genes. Simola et al. treated ants of different castes with drugs that affected histone acetylation. Reducing histone acetylation stimulated scouting and foraging behavior. The foraging and scouting behaviors of young ants were permanently changed by directly injecting their brains with histone acetylation inhibitors.']"
      ]
     },
     "execution_count": 86,
     "metadata": {},
     "output_type": "execute_result"
    }
   ],
   "source": [
    "all_descriptions[:2]"
   ]
  },
  {
   "cell_type": "code",
   "execution_count": 87,
   "metadata": {},
   "outputs": [
    {
     "data": {
      "text/plain": [
       "32950"
      ]
     },
     "execution_count": 87,
     "metadata": {},
     "output_type": "execute_result"
    }
   ],
   "source": [
    "len(all_descriptions)"
   ]
  },
  {
   "cell_type": "markdown",
   "metadata": {},
   "source": [
    "## Workflow"
   ]
  },
  {
   "cell_type": "markdown",
   "metadata": {},
   "source": [
    "#### Write function for tokenizer"
   ]
  },
  {
   "cell_type": "code",
   "execution_count": 8,
   "metadata": {
    "collapsed": true
   },
   "outputs": [],
   "source": [
    "from spacy.en import STOP_WORDS as stopwords\n",
    "import string\n",
    "import spacy\n",
    "nlp = spacy.load('en')\n",
    "stopwords.update(['et', 'al', \"'s\", \"—\", '-', 'pp', 'pp.', 'p.'])\n",
    "punctuations = string.punctuation"
   ]
  },
  {
   "cell_type": "code",
   "execution_count": 9,
   "metadata": {
    "collapsed": true
   },
   "outputs": [],
   "source": [
    "def spacy_tokenizer_1(doc):\n",
    "    doc = doc.replace('—', '').replace(',', '').replace(\"'s\", '')\n",
    "    doc = re.sub('\\s\\d+\\s', '', doc)\n",
    "    tokens = nlp(doc)\n",
    "    tokens = [tok.lemma_.lower().strip() if tok.lemma_ != \"-PRON-\" else tok.lower_ for tok in tokens]\n",
    "    tokens = [tok for tok in tokens if (tok not in stopwords and tok not in punctuations)]     \n",
    "    return tokens"
   ]
  },
  {
   "cell_type": "code",
   "execution_count": 10,
   "metadata": {
    "collapsed": true
   },
   "outputs": [],
   "source": [
    "def spacy_tokenizer_2(doc):\n",
    "    doc = doc.replace('—', '').replace(',', '').replace(\"'s\", '')\n",
    "    doc = re.sub('\\s\\d+(\\s)?', '', doc)\n",
    "    tokens = nlp(doc)\n",
    "    tokens = [tok.lemma_.lower().strip() if tok.lemma_ != \"-PRON-\" else tok.lower_ for tok in tokens]\n",
    "    tokens = [tok for tok in tokens if (tok not in stopwords and tok not in punctuations)]     \n",
    "    return tokens"
   ]
  },
  {
   "cell_type": "code",
   "execution_count": 11,
   "metadata": {
    "collapsed": true
   },
   "outputs": [],
   "source": [
    "def spacy_tokenizer_3(doc):\n",
    "    doc = doc.replace('—', '').replace(',', '').replace(\"'s\", '')\n",
    "    # doc = re.sub('\\s\\d+(\\s)?(,)?', ' ', doc)\n",
    "    # doc = re.sub('\\D\\d+(\\D)?', ' ', doc)\n",
    "    doc = re.sub('\\w*\\d+\\w*', ' ', doc)\n",
    "    doc = doc.replace('–', '').replace('£', '')\n",
    "    tokens = nlp(doc)\n",
    "    tokens = [tok.lemma_.lower().strip() if tok.lemma_ != \"-PRON-\" else tok.lower_ for tok in tokens]\n",
    "    tokens = [tok for tok in tokens if (tok not in stopwords and tok not in punctuations)]     \n",
    "    return tokens"
   ]
  },
  {
   "cell_type": "markdown",
   "metadata": {},
   "source": [
    "#### Functions for vectorizing"
   ]
  },
  {
   "cell_type": "code",
   "execution_count": 12,
   "metadata": {
    "collapsed": true
   },
   "outputs": [],
   "source": [
    "def count_vectorizer(tokenizer, max_feat, X, ngram_start=1, ngram_stop=2, max_df=0.6):\n",
    "\n",
    "    vectorizer = CountVectorizer(tokenizer = tokenizer,\n",
    "                                 ngram_range=(ngram_start, ngram_stop),\n",
    "                                 max_df = max_df,\n",
    "                                 max_features=max_feat)\n",
    "    return vectorizer, vectorizer.fit_transform(X)"
   ]
  },
  {
   "cell_type": "code",
   "execution_count": 13,
   "metadata": {
    "collapsed": true
   },
   "outputs": [],
   "source": [
    "def tfidf_vectorizer(tokenizer, max_feat, X, ngram_start=1, ngram_stop=2, max_df=0.6):\n",
    "\n",
    "    vectorizer = TfidfVectorizer(tokenizer = tokenizer,\n",
    "                                 ngram_range=(ngram_start, ngram_stop),\n",
    "                                 max_df = max_df,\n",
    "                                 max_features=max_feat)\n",
    "    return vectorizer, vectorizer.fit_transform(X)"
   ]
  },
  {
   "cell_type": "markdown",
   "metadata": {},
   "source": [
    "#### Write functions for models"
   ]
  },
  {
   "cell_type": "code",
   "execution_count": 14,
   "metadata": {
    "collapsed": true
   },
   "outputs": [],
   "source": [
    "from sklearn.decomposition import NMF, TruncatedSVD"
   ]
  },
  {
   "cell_type": "code",
   "execution_count": 15,
   "metadata": {
    "collapsed": true
   },
   "outputs": [],
   "source": [
    "def lda_cv(X, n_comp, n_iter = 10):\n",
    "    lda = LatentDirichletAllocation(n_components=n_comp,\n",
    "                                    max_iter=n_iter,\n",
    "                                    random_state=42,\n",
    "                                    learning_method='online')\n",
    "    return lda, lda.fit_transform(X)\n",
    "\n",
    "def lda_tfidf(X, n_comp, n_iter = 10):\n",
    "    lda = LatentDirichletAllocation(n_components=n_comp,\n",
    "                                    max_iter=n_iter,\n",
    "                                    random_state=42,\n",
    "                                    learning_method='online')\n",
    "    return lda, lda.fit_transform(X)"
   ]
  },
  {
   "cell_type": "code",
   "execution_count": 16,
   "metadata": {
    "collapsed": true
   },
   "outputs": [],
   "source": [
    "def lsa_tfidf(X, n_comp):\n",
    "    lsa = TruncatedSVD(n_components=n_comp, random_state=42)\n",
    "    return lsa, lsa.fit_transform(X)\n",
    "def lsa_cv(X, n_comp):\n",
    "    lsa = TruncatedSVD(n_components=n_comp, random_state=42)\n",
    "    return lsa, lsa.fit_transform(X)\n",
    "def nmf_tfidf(X, n_comp):\n",
    "    nmf = NMF(n_components=n_comp, random_state=42)\n",
    "    return nmf, nmf.fit_transform(X)\n",
    "def nmf_cv(X, n_comp):\n",
    "    nmf = NMF(n_components=n_comp, random_state=42)\n",
    "    return nmf, nmf.fit_transform(X)"
   ]
  },
  {
   "cell_type": "markdown",
   "metadata": {},
   "source": [
    "#### function for displaying topics"
   ]
  },
  {
   "cell_type": "code",
   "execution_count": 17,
   "metadata": {
    "collapsed": true
   },
   "outputs": [],
   "source": [
    "def display_topics(model, feature_names, no_top_words):\n",
    "    for ix, topic in enumerate(model.components_):\n",
    "        print(\"Topic \", ix)\n",
    "        print(\" \".join([feature_names[i]\n",
    "                        for i in topic.argsort()[:-no_top_words - 1:-1]]))"
   ]
  },
  {
   "cell_type": "markdown",
   "metadata": {},
   "source": [
    "#### Function to display modeling results"
   ]
  },
  {
   "cell_type": "code",
   "execution_count": 18,
   "metadata": {
    "collapsed": true
   },
   "outputs": [],
   "source": [
    "def use_vectorizer(cv_vect, cv_vect_trans, n_comp=10):\n",
    "    models = [lsa_cv, nmf_cv, lda_tfidf]\n",
    "    names = ['LSA', 'NMF', 'LDA']\n",
    "    i = 0\n",
    "    for item in models:\n",
    "        norm = Normalizer()\n",
    "        vect_normalized = norm.fit_transform(cv_vect_trans)\n",
    "        model, model_transformed = item(vect_normalized, n_comp=n_comp)\n",
    "        print('\\n\\n-------' + names[i] + '------\\n\\n')\n",
    "        display_topics(model, cv_vect.get_feature_names(), 10)\n",
    "        i += 1"
   ]
  },
  {
   "cell_type": "code",
   "execution_count": null,
   "metadata": {
    "collapsed": true
   },
   "outputs": [],
   "source": [
    "def count_vectorizer(tokenizer, max_feat, X, ngram_start=1, ngram_stop=2, max_df=0.6):\n",
    "\n",
    "    vectorizer = CountVectorizer(tokenizer = tokenizer,\n",
    "                                 ngram_range=(ngram_start, ngram_stop),\n",
    "                                 max_df = max_df,\n",
    "                                 max_features=max_feat)\n",
    "    return vectorizer, vectorizer.fit_transform(X)\n",
    "\n",
    "def nmf_tfidf(X, n_comp):\n",
    "    nmf = NMF(n_components=n_comp, random_state=42)\n",
    "    return nmf, nmf.fit_transform(X)\n",
    "\n",
    "models = [lsa_cv, nmf_cv, lda_tfidf]\n",
    "    names = ['LSA', 'LDA', 'NMF']\n",
    "    i = 0\n",
    "    for item in models:\n",
    "        norm = Normalizer()\n",
    "        vect_normalized = norm.fit_transform(cv_vect_trans)\n",
    "        model, model_transformed = item(vect_normalized, n_comp=n_comp)\n",
    "        print('\\n\\n-------' + names[i] + '------\\n\\n')\n",
    "        display_topics(model, cv_vect.get_feature_names(), 10)\n"
   ]
  },
  {
   "cell_type": "markdown",
   "metadata": {},
   "source": [
    "# Make different vectorizers and test models (LSA, NMF, LDA)"
   ]
  },
  {
   "cell_type": "markdown",
   "metadata": {},
   "source": [
    "#### Start with tokenizer 3 as this worked best for a single year"
   ]
  },
  {
   "cell_type": "code",
   "execution_count": 19,
   "metadata": {
    "collapsed": true
   },
   "outputs": [],
   "source": [
    "cv_vect1, cv_vect1_transformed = count_vectorizer(spacy_tokenizer_3, 5000, all_descriptions)"
   ]
  },
  {
   "cell_type": "code",
   "execution_count": 20,
   "metadata": {},
   "outputs": [
    {
     "name": "stdout",
     "output_type": "stream",
     "text": [
      "\n",
      "\n",
      "-------LSA------\n",
      "\n",
      "\n",
      "Topic  0\n",
      "cell new science use protein human year gene study research\n",
      "Topic  1\n",
      "cell protein gene signal t receptor mouse function t cell expression\n",
      "Topic  2\n",
      "researcher material information potential offer roundup laboratory interest newly apparatus\n",
      "Topic  3\n",
      "cell science research week new national stem scientist university u.s\n",
      "Topic  4\n",
      "protein science gene dna rna genome bind complex expression roundup\n",
      "Topic  5\n",
      "new isbn gene human university press new york york genome researcher\n",
      "Topic  6\n",
      "new isbn university press protein structure york new york use university press\n",
      "Topic  7\n",
      "isbn science gene change press climate roundup human university press university\n",
      "Topic  8\n",
      "protein year change climate ago year ago million isbn million year university\n",
      "Topic  9\n",
      "university isbn research press university press use human cambridge science state\n",
      "\n",
      "\n",
      "-------NMF------\n",
      "\n",
      "\n",
      "Topic  0\n",
      "use system high state structure energy material quantum surface electron\n",
      "Topic  1\n",
      "cell stem stem cell t t cell signal mouse immune response tissue\n",
      "Topic  2\n",
      "researcher material information offer potential laboratory interest roundup newly apparatus\n",
      "Topic  3\n",
      "science news american national project recent association publisher advancement american association\n",
      "Topic  4\n",
      "protein gene human dna rna genome bind complex function expression\n",
      "Topic  5\n",
      "new york new york researcher study work drug report discuss perspective\n",
      "Topic  6\n",
      "isbn university press university press cambridge york new york paper oxford paper isbn\n",
      "Topic  7\n",
      "year change climate human ago year ago million specie ocean global\n",
      "Topic  8\n",
      "research scientist u.s week national health researcher institute government world\n",
      "Topic  9\n",
      "week story roundup link follow entire section story science week story pdf\n",
      "\n",
      "\n",
      "-------LDA------\n",
      "\n",
      "\n",
      "Topic  0\n",
      "cell gene protein signal human use function mechanism study genome\n",
      "Topic  1\n",
      "new year researcher change study use -- human report science\n",
      "Topic  2\n",
      "use material quantum electron surface high structure state molecule energy\n",
      "Topic  3\n",
      "apparatus material instrumentation interest researcher newly offer laboratory weekly potential\n",
      "Topic  4\n",
      "protein structure rna bind membrane complex domain dna site crystal\n",
      "Topic  5\n",
      "star galaxy solar universe astronomer particle space ray telescope hole\n",
      "Topic  6\n",
      "science roundup story week news american association american association section follow\n",
      "Topic  7\n",
      "science research university week new u.s national scientist press institute\n",
      "Topic  8\n",
      "isbn york new york c$ c$ isbn paper isbn york c$ press cambridge york isbn cambridge ma\n",
      "Topic  9\n",
      "cell immune t virus infection t cell response host antibody immune system\n"
     ]
    }
   ],
   "source": [
    "use_vectorizer(cv_vect1, cv_vect1_transformed)"
   ]
  },
  {
   "cell_type": "markdown",
   "metadata": {},
   "source": [
    "count vectorizer 2"
   ]
  },
  {
   "cell_type": "code",
   "execution_count": 21,
   "metadata": {
    "collapsed": true
   },
   "outputs": [],
   "source": [
    "cv_vect2, cv_vect2_transformed = count_vectorizer(spacy_tokenizer_3, 5000, all_descriptions, ngram_stop=4)"
   ]
  },
  {
   "cell_type": "code",
   "execution_count": 22,
   "metadata": {},
   "outputs": [
    {
     "name": "stdout",
     "output_type": "stream",
     "text": [
      "\n",
      "\n",
      "-------LSA------\n",
      "\n",
      "\n",
      "Topic  0\n",
      "cell new protein use science human gene year study research\n",
      "Topic  1\n",
      "cell protein gene signal t receptor mouse function t cell expression\n",
      "Topic  2\n",
      "researcher material information potential offer roundup laboratory interest newly apparatus\n",
      "Topic  3\n",
      "cell science research week new national scientist u.s stem university\n",
      "Topic  4\n",
      "protein gene science human genome dna rna sequence expression bind\n",
      "Topic  5\n",
      "science protein structure use state electron roundup week complex molecule\n",
      "Topic  6\n",
      "new isbn university protein press york new york structure use university press\n",
      "Topic  7\n",
      "science gene isbn press change roundup specie genome human university press\n",
      "Topic  8\n",
      "protein year change climate isbn ago year ago million ocean ice\n",
      "Topic  9\n",
      "new week story report roundup link follow researcher section entire\n",
      "\n",
      "\n",
      "-------NMF------\n",
      "\n",
      "\n",
      "Topic  0\n",
      "use system high state structure energy material quantum surface electron\n",
      "Topic  1\n",
      "cell stem stem cell t t cell signal mouse immune response tissue\n",
      "Topic  2\n",
      "researcher material information offer potential laboratory interest newly roundup apparatus\n",
      "Topic  3\n",
      "science national scientific foundation issue week national science world u.s technology\n",
      "Topic  4\n",
      "protein gene human dna rna genome bind complex function expression\n",
      "Topic  5\n",
      "science recent american news project association roundup american association advancement advancement science\n",
      "Topic  6\n",
      "new isbn university york new york press university press c$ c$ isbn new york c$\n",
      "Topic  7\n",
      "research scientist week u.s researcher health national institute government world\n",
      "Topic  8\n",
      "year change climate ago human year ago million specie ocean global\n",
      "Topic  9\n",
      "week story roundup link follow entire section story science week story pdf\n",
      "\n",
      "\n",
      "-------LDA------\n",
      "\n",
      "\n",
      "Topic  0\n",
      "climate change year ocean ice water carbon global sea climate change\n",
      "Topic  1\n",
      "science new research week researcher scientist year university -- u.s\n",
      "Topic  2\n",
      "isbn earthquake nih mantle c$ c$ isbn paper isbn seismic ma fault\n",
      "Topic  3\n",
      "rna dna gene chromosome histone protein mrna chromatin transcription expression\n",
      "Topic  4\n",
      "quantum material electron use state energy atom surface high field\n",
      "Topic  5\n",
      "protein cell signal receptor neuron brain membrane bind activity pathway\n",
      "Topic  6\n",
      "science roundup black hole black hole story news week american american association\n",
      "Topic  7\n",
      "cell stem stem cell immune t tumor mouse cancer t cell response\n",
      "Topic  8\n",
      "instrumentation researcher apparatus laboratory interest weekly newly information interest researcher material potential\n",
      "Topic  9\n",
      "use gene human study protein perspective result system new suggest\n"
     ]
    }
   ],
   "source": [
    "use_vectorizer(cv_vect2, cv_vect2_transformed)"
   ]
  },
  {
   "cell_type": "markdown",
   "metadata": {},
   "source": [
    "#### Try to lower ngram range to 3 instead of 4"
   ]
  },
  {
   "cell_type": "code",
   "execution_count": 23,
   "metadata": {
    "collapsed": true
   },
   "outputs": [],
   "source": [
    "cv_vect2, cv_vect2_transformed = count_vectorizer(spacy_tokenizer_3, 5000, all_descriptions, ngram_stop=3)"
   ]
  },
  {
   "cell_type": "code",
   "execution_count": 24,
   "metadata": {},
   "outputs": [
    {
     "name": "stdout",
     "output_type": "stream",
     "text": [
      "\n",
      "\n",
      "-------LSA------\n",
      "\n",
      "\n",
      "Topic  0\n",
      "cell new protein use science human year gene study research\n",
      "Topic  1\n",
      "cell protein gene signal t receptor mouse function t cell expression\n",
      "Topic  2\n",
      "researcher material information potential offer roundup laboratory interest newly apparatus\n",
      "Topic  3\n",
      "cell science research week new national scientist stem u.s university\n",
      "Topic  4\n",
      "protein gene science human genome dna rna bind sequence expression\n",
      "Topic  5\n",
      "new human isbn gene year researcher university new york york press\n",
      "Topic  6\n",
      "new isbn university protein press york new york structure use university press\n",
      "Topic  7\n",
      "science isbn gene change press climate roundup human university press specie\n",
      "Topic  8\n",
      "protein year change climate ago year ago million isbn ocean ice\n",
      "Topic  9\n",
      "new week story roundup link follow report section entire week story\n",
      "\n",
      "\n",
      "-------NMF------\n",
      "\n",
      "\n",
      "Topic  0\n",
      "use system high state structure energy material quantum surface electron\n",
      "Topic  1\n",
      "cell stem stem cell t t cell signal mouse immune response tissue\n",
      "Topic  2\n",
      "researcher material information offer potential laboratory interest roundup newly apparatus\n",
      "Topic  3\n",
      "science news national american scientific foundation project issue world recent\n",
      "Topic  4\n",
      "protein gene human dna rna genome bind complex function expression\n",
      "Topic  5\n",
      "new york new york researcher study work drug report discuss perspective\n",
      "Topic  6\n",
      "isbn university press university press cambridge york new york paper oxford paper isbn\n",
      "Topic  7\n",
      "year change climate human ago year ago million specie ocean global\n",
      "Topic  8\n",
      "research scientist u.s week national health researcher institute government world\n",
      "Topic  9\n",
      "week story roundup link follow entire section story science week story pdf\n",
      "\n",
      "\n",
      "-------LDA------\n",
      "\n",
      "\n",
      "Topic  0\n",
      "use high surface material temperature change quantum structure system result\n",
      "Topic  1\n",
      "science new research week year researcher scientist university -- u.s\n",
      "Topic  2\n",
      "science roundup story week news section story science pdf link download\n",
      "Topic  3\n",
      "specie human population year plant virus animal evolution bird evolutionary\n",
      "Topic  4\n",
      "star galaxy earth solar planet earthquake ray mantle space astronomer\n",
      "Topic  5\n",
      "cell gene human protein signal mouse disease response brain expression\n",
      "Topic  6\n",
      "newly apparatus roundup instrumentation researcher interest offer weekly material potential\n",
      "Topic  7\n",
      "cell stem stem cell clock nitrogen circadian embryonic embryonic stem embryonic stem cell fuel\n",
      "Topic  8\n",
      "isbn c$ c$ isbn paper isbn ma new york c$ york c$ york c$ isbn press cambridge press new\n",
      "Topic  9\n",
      "protein bind structure complex rna dna membrane cell enzyme domain\n"
     ]
    }
   ],
   "source": [
    "use_vectorizer(cv_vect2, cv_vect2_transformed)"
   ]
  },
  {
   "cell_type": "markdown",
   "metadata": {},
   "source": [
    "count vectorizer 3"
   ]
  },
  {
   "cell_type": "code",
   "execution_count": 25,
   "metadata": {
    "collapsed": true
   },
   "outputs": [],
   "source": [
    "cv_vect3, cv_vect3_transformed = count_vectorizer(spacy_tokenizer_3, 110000, all_descriptions)"
   ]
  },
  {
   "cell_type": "code",
   "execution_count": 26,
   "metadata": {},
   "outputs": [
    {
     "name": "stdout",
     "output_type": "stream",
     "text": [
      "\n",
      "\n",
      "-------LSA------\n",
      "\n",
      "\n",
      "Topic  0\n",
      "cell new science use protein human year gene research study\n",
      "Topic  1\n",
      "researcher roundup material information offer laboratory potential interest newly instrumentation\n",
      "Topic  2\n",
      "cell protein potential apparatus newly interest researcher potential interest instrumentation apparatus information newly weekly roundup\n",
      "Topic  3\n",
      "science cell week research roundup stem national stem cell story news\n",
      "Topic  4\n",
      "science protein roundup link story gene week follow entire section\n",
      "Topic  5\n",
      "gene protein new human genome isbn dna disease rna university\n",
      "Topic  6\n",
      "new isbn university press protein university press york new york structure use\n",
      "Topic  7\n",
      "week story new isbn link follow entire section story science week story\n",
      "Topic  8\n",
      "science isbn change climate press year university recent university press gene\n",
      "Topic  9\n",
      "protein year change climate ago year ago million membrane week bind\n",
      "\n",
      "\n",
      "-------NMF------\n",
      "\n",
      "\n",
      "Topic  0\n",
      "use system high state energy quantum structure material electron surface\n",
      "Topic  1\n",
      "researcher material information potential offer laboratory interest roundup newly apparatus\n",
      "Topic  2\n",
      "cell stem stem cell t t cell signal immune mouse response tissue\n",
      "Topic  3\n",
      "research scientist week u.s researcher national health new institute government\n",
      "Topic  4\n",
      "science news american project recent association publisher advancement american association advancement science\n",
      "Topic  5\n",
      "gene human genome dna genetic sequence disease expression study specie\n",
      "Topic  6\n",
      "new isbn university press york new york university press c$ cambridge c$ isbn\n",
      "Topic  7\n",
      "week story roundup link follow entire section science story science week story\n",
      "Topic  8\n",
      "year change climate ago year ago ocean million global ice climate change\n",
      "Topic  9\n",
      "protein bind complex structure signal membrane rna receptor function domain\n",
      "\n",
      "\n",
      "-------LDA------\n",
      "\n",
      "\n",
      "Topic  0\n",
      "roundup instrumentation weekly interest researcher material potential interest laboratory potential laboratory material researcher\n",
      "Topic  1\n",
      "erectus homo erectus paramagnetic resonance electron paramagnetic h. erectus earth moon habilis lro caloris crater count\n",
      "Topic  2\n",
      "cell use protein new human gene study change year system\n",
      "Topic  3\n",
      "collider bang big bang hadron quark hadron collider large hadron bizarre triplet smasher\n",
      "Topic  4\n",
      "single wall wall carbon mtb swcnt bluefin physcomitrella bluefin tuna paten physcomitrella paten palomero\n",
      "Topic  5\n",
      "prefrontal prefrontal cortex bdnf dopaminergic chlorophyll synchrony entorhinal brain imaging gaba hh\n",
      "Topic  6\n",
      "ice core hydrothermal odor hematopoietic ocean ridge mid ocean tibetan honey bee hsc meridiani\n",
      "Topic  7\n",
      "discontinuity adipose adipose tissue ampk transition zone c jun eosinophil jnk high fat phosphatidic\n",
      "Topic  8\n",
      "science research new week scientist university isbn u.s national year\n",
      "Topic  9\n",
      "sn ifn leone sierra leone ifns herpe simplex herpe simplex simplex virus explode star\n"
     ]
    }
   ],
   "source": [
    "use_vectorizer(cv_vect3, cv_vect3_transformed)"
   ]
  },
  {
   "cell_type": "markdown",
   "metadata": {},
   "source": [
    "#### Try tokenizer 1 as 3 did not work quite as well"
   ]
  },
  {
   "cell_type": "code",
   "execution_count": 29,
   "metadata": {
    "collapsed": true
   },
   "outputs": [],
   "source": [
    "cv_vect1, cv_vect1_transformed = count_vectorizer(spacy_tokenizer_1, 5000, all_descriptions)"
   ]
  },
  {
   "cell_type": "code",
   "execution_count": 30,
   "metadata": {},
   "outputs": [
    {
     "name": "stdout",
     "output_type": "stream",
     "text": [
      "\n",
      "\n",
      "-------LSA------\n",
      "\n",
      "\n",
      "Topic  0\n",
      "cell new protein use science human gene study research report\n",
      "Topic  1\n",
      "cell protein gene signal t receptor mouse function t cell stem cell\n",
      "Topic  2\n",
      "material researcher information potential offer roundup laboratory interest newly apparatus\n",
      "Topic  3\n",
      "cell science research week new stem national stem cell scientist university\n",
      "Topic  4\n",
      "new isbn 0 isbn 0 £ university press york new york university press\n",
      "Topic  5\n",
      "protein gene science dna genome human rna bind expression sequence\n",
      "Topic  6\n",
      "science isbn protein 0 isbn 0 £ press structure university electron\n",
      "Topic  7\n",
      "protein new research structure scientist u.s bind state membrane national\n",
      "Topic  8\n",
      "new week gene story roundup report follow link section entire\n",
      "Topic  9\n",
      "change new climate protein year climate change ocean ice global water\n",
      "\n",
      "\n",
      "-------NMF------\n",
      "\n",
      "\n",
      "Topic  0\n",
      "research scientist u.s week national health researcher institute government university\n",
      "Topic  1\n",
      "science week roundup news story american link follow section entire\n",
      "Topic  2\n",
      "researcher material information offer potential laboratory roundup interest newly apparatus\n",
      "Topic  3\n",
      "cell stem stem cell t t cell signal mouse immune response tissue\n",
      "Topic  4\n",
      "isbn 0 isbn 0 £ university press university press york new york cambridge\n",
      "Topic  5\n",
      "protein bind complex structure signal membrane receptor rna function domain\n",
      "Topic  6\n",
      "use system high state energy structure quantum material electron surface\n",
      "Topic  7\n",
      "gene human genome dna genetic disease sequence expression study mutation\n",
      "Topic  8\n",
      "new researcher york new york study work discuss drug report perspective\n",
      "Topic  9\n",
      "change climate year global ocean climate change ice water specie increase\n",
      "\n",
      "\n",
      "-------LDA------\n",
      "\n",
      "\n",
      "Topic  0\n",
      "use quantum material electron state structure molecule energy high light\n",
      "Topic  1\n",
      "new science research researcher week scientist year human report world\n",
      "Topic  2\n",
      "isbn 0 isbn 0 2003.pp press cambridge press new 2004.pp 2002.pp cambridge ma 2005.pp\n",
      "Topic  3\n",
      "roundup apparatus laboratory researcher instrumentation material newly interest information offer\n",
      "Topic  4\n",
      "change ocean climate ice water earth surface temperature carbon large\n",
      "Topic  5\n",
      "cell gene protein signal human mouse receptor response disease function\n",
      "Topic  6\n",
      "story week roundup section entire story science link science follow pdf\n",
      "Topic  7\n",
      "cell stem stem cell clock embryonic circadian embryonic stem embryo germ human embryonic\n",
      "Topic  8\n",
      "specie plant population genome evolution gene change evolutionary sequence human\n",
      "Topic  9\n",
      "protein structure bind membrane rna complex dna domain enzyme kinase\n"
     ]
    }
   ],
   "source": [
    "use_vectorizer(cv_vect1, cv_vect1_transformed)"
   ]
  },
  {
   "cell_type": "code",
   "execution_count": 31,
   "metadata": {
    "collapsed": true
   },
   "outputs": [],
   "source": [
    "cv_vect2, cv_vect2_transformed = count_vectorizer(spacy_tokenizer_1, 5000, all_descriptions, ngram_stop=4)"
   ]
  },
  {
   "cell_type": "code",
   "execution_count": 32,
   "metadata": {},
   "outputs": [
    {
     "name": "stdout",
     "output_type": "stream",
     "text": [
      "\n",
      "\n",
      "-------LSA------\n",
      "\n",
      "\n",
      "Topic  0\n",
      "cell new protein use science human gene study research system\n",
      "Topic  1\n",
      "cell protein gene signal t receptor mouse t cell function stem cell\n",
      "Topic  2\n",
      "researcher material information potential offer roundup laboratory interest newly apparatus\n",
      "Topic  3\n",
      "cell science research week new national scientist stem u.s university\n",
      "Topic  4\n",
      "new gene isbn protein 0 isbn 0 £ human press university\n",
      "Topic  5\n",
      "new cell isbn 0 isbn 0 £ university press new york york\n",
      "Topic  6\n",
      "science protein isbn 0 isbn 0 £ structure press university electron\n",
      "Topic  7\n",
      "science gene change human isbn climate 0 isbn 0 £ specie\n",
      "Topic  8\n",
      "new gene week use story roundup science quantum follow genome\n",
      "Topic  9\n",
      "new change protein climate climate change ocean year ice global water\n",
      "\n",
      "\n",
      "-------NMF------\n",
      "\n",
      "\n",
      "Topic  0\n",
      "new researcher york new york study work discuss drug report perspective\n",
      "Topic  1\n",
      "science week news roundup story national issue foundation american scientific\n",
      "Topic  2\n",
      "researcher material information offer potential laboratory roundup interest newly apparatus\n",
      "Topic  3\n",
      "cell stem stem cell t t cell signal mouse immune response tissue\n",
      "Topic  4\n",
      "isbn 0 isbn 0 £ university press university press york new york cambridge\n",
      "Topic  5\n",
      "protein bind complex structure signal membrane receptor rna function domain\n",
      "Topic  6\n",
      "use system high state material energy structure quantum electron surface\n",
      "Topic  7\n",
      "gene human genome dna genetic disease sequence expression study mutation\n",
      "Topic  8\n",
      "research scientist week u.s national researcher health institute government university\n",
      "Topic  9\n",
      "change climate year global ocean climate change water specie ice increase\n",
      "\n",
      "\n",
      "-------LDA------\n",
      "\n",
      "\n",
      "Topic  0\n",
      "roundup section story week link story science pdf follow download entire\n",
      "Topic  1\n",
      "science university new press week star space national york new york\n",
      "Topic  2\n",
      "use material structure quantum electron high state energy molecule system\n",
      "Topic  3\n",
      "brain neuron memory cortex activity synaptic visual neural stimulus cortical\n",
      "Topic  4\n",
      "climate change ocean ice water earth carbon year global large\n",
      "Topic  5\n",
      "isbn 0 isbn 0 science 2003.pp press cambridge 2004.pp press new saturn 2002.pp\n",
      "Topic  6\n",
      "nitrogen iron soil microbial plant r g protein transduction sulfate sulfur\n",
      "Topic  7\n",
      "cell protein gene signal dna human receptor mouse function mechanism\n",
      "Topic  8\n",
      "newly instrumentation laboratory researcher interest information apparatus material weekly offer\n",
      "Topic  9\n",
      "new research science researcher human scientist week study world --\n"
     ]
    }
   ],
   "source": [
    "use_vectorizer(cv_vect2, cv_vect2_transformed)"
   ]
  },
  {
   "cell_type": "code",
   "execution_count": 33,
   "metadata": {
    "collapsed": true
   },
   "outputs": [],
   "source": [
    "cv_vect3, cv_vect3_transformed = count_vectorizer(spacy_tokenizer_1, 110000, all_descriptions)"
   ]
  },
  {
   "cell_type": "code",
   "execution_count": 34,
   "metadata": {},
   "outputs": [
    {
     "name": "stdout",
     "output_type": "stream",
     "text": [
      "\n",
      "\n",
      "-------LSA------\n",
      "\n",
      "\n",
      "Topic  0\n",
      "cell new science use protein human gene study research researcher\n",
      "Topic  1\n",
      "researcher material roundup information offer laboratory potential interest newly instrumentation\n",
      "Topic  2\n",
      "cell protein potential apparatus newly interest researcher weekly roundup information newly instrumentation apparatus newly offer\n",
      "Topic  3\n",
      "cell science week research roundup stem national stem cell story news\n",
      "Topic  4\n",
      "science protein roundup story link follow week entire section pdf\n",
      "Topic  5\n",
      "gene protein human new genome dna isbn rna disease 0\n",
      "Topic  6\n",
      "isbn 0 isbn 0 £ new press university university press york new york\n",
      "Topic  7\n",
      "week human story link follow entire section gene week story story science\n",
      "Topic  8\n",
      "science change climate gene isbn human recent 0 isbn 0 £\n",
      "Topic  9\n",
      "protein change climate climate change year global ocean ice water week\n",
      "\n",
      "\n",
      "-------NMF------\n",
      "\n",
      "\n",
      "Topic  0\n",
      "use system high state quantum energy structure material electron surface\n",
      "Topic  1\n",
      "researcher material information potential offer laboratory interest roundup newly apparatus\n",
      "Topic  2\n",
      "cell stem stem cell t t cell signal immune mouse response tissue\n",
      "Topic  3\n",
      "new research scientist researcher week u.s health national world study\n",
      "Topic  4\n",
      "protein bind complex structure signal membrane rna receptor function pathway\n",
      "Topic  5\n",
      "gene human genome dna genetic sequence disease expression study specie\n",
      "Topic  6\n",
      "isbn 0 isbn 0 £ university press university press new york new york\n",
      "Topic  7\n",
      "week story roundup link follow science entire section story science week story\n",
      "Topic  8\n",
      "science news american project recent association advancement publisher american association advancement science\n",
      "Topic  9\n",
      "change climate year global ocean climate change ice specie water increase\n",
      "\n",
      "\n",
      "-------LDA------\n",
      "\n",
      "\n",
      "Topic  0\n",
      "cell protein signal receptor gene mouse expression pathway bind factor\n",
      "Topic  1\n",
      "roundup instrumentation weekly researcher interest researcher material potential interest laboratory material laboratory material\n",
      "Topic  2\n",
      "galaxy star black hole black hole pulsar dwarf supernovae thaliana stellar\n",
      "Topic  3\n",
      "collider hadron quark large hadron hadron collider triplet philip smasher brookhaven lhc\n",
      "Topic  4\n",
      "isbn isbn 0 2003.pp press cambridge 2004.pp 2002.pp cambridge ma 2006.pp 2001.pp 29.95\n",
      "Topic  5\n",
      "chlorophyll dmsp offer good mendel monopole multiferroic magnetic monopole theoctobershow include theoctobershow bluefin\n",
      "Topic  6\n",
      "24.95 .. 674 0 674 35 £ mit press ed .. 0 262 262 22.95\n",
      "Topic  7\n",
      "amyloid discontinuity spin polarize brain imaging spintronic fibril ferromagnet torque elasticity dike\n",
      "Topic  8\n",
      "new use science human research study report change system high\n",
      "Topic  9\n",
      "codon planck max pyramidal 24.95 isbn mirnas max planck bdnf york 2007.pp london £\n"
     ]
    }
   ],
   "source": [
    "use_vectorizer(cv_vect3, cv_vect3_transformed)"
   ]
  },
  {
   "cell_type": "markdown",
   "metadata": {},
   "source": [
    "### lets try tfidf vectorizer to compare\n",
    "tfidf vectorizer 1"
   ]
  },
  {
   "cell_type": "code",
   "execution_count": 35,
   "metadata": {
    "collapsed": true
   },
   "outputs": [],
   "source": [
    "tf_vect1, tf_vect1_transformed = tfidf_vectorizer(spacy_tokenizer_3, 5000, all_descriptions)"
   ]
  },
  {
   "cell_type": "code",
   "execution_count": 36,
   "metadata": {},
   "outputs": [
    {
     "name": "stdout",
     "output_type": "stream",
     "text": [
      "\n",
      "\n",
      "-------LSA------\n",
      "\n",
      "\n",
      "Topic  0\n",
      "cell protein new science gene use human year research researcher\n",
      "Topic  1\n",
      "instrumentation apparatus weekly roundup potential interest apparatus laboratory offer instrumentation information newly roundup information newly offer interest researcher laboratory material\n",
      "Topic  2\n",
      "cell protein gene signal receptor t rna bind expression t cell\n",
      "Topic  3\n",
      "cell science week research stem stem cell university isbn roundup national\n",
      "Topic  4\n",
      "week story link roundup entire section science download pdf entire follow link roundup week download pdf pdf story science\n",
      "Topic  5\n",
      "isbn press university university press york new york oxford c$ c$ isbn cambridge\n",
      "Topic  6\n",
      "gene genome human dna sequence specie protein genetic rna disease\n",
      "Topic  7\n",
      "protein science structure rna dna quantum gene bind complex advancement science\n",
      "Topic  8\n",
      "science american association association advancement advancement science science publisher roundup recent news project monthly roundup publisher american recent news\n",
      "Topic  9\n",
      "protein climate change bind national membrane rna ice ocean research\n",
      "\n",
      "\n",
      "-------NMF------\n",
      "\n",
      "\n",
      "Topic  0\n",
      "quantum electron use material energy state atom system field magnetic\n",
      "Topic  1\n",
      "roundup information instrumentation apparatus newly offer apparatus laboratory information newly offer instrumentation weekly roundup potential interest interest researcher laboratory material\n",
      "Topic  2\n",
      "science research u.s national scientist week new health institute researcher\n",
      "Topic  3\n",
      "cell stem t stem cell t cell immune mouse tissue tumor cancer\n",
      "Topic  4\n",
      "week story pdf entire download pdf follow link science download link roundup roundup week entire section story science pdf\n",
      "Topic  5\n",
      "isbn press university university press york new york new oxford cambridge c$\n",
      "Topic  6\n",
      "gene genome human dna genetic sequence disease expression mutation specie\n",
      "Topic  7\n",
      "climate change year ocean ice water global climate change sea carbon\n",
      "Topic  8\n",
      "science american association association advancement advancement science science publisher advancement roundup recent monthly roundup news project publisher american\n",
      "Topic  9\n",
      "protein bind rna signal complex membrane receptor structure domain pathway\n",
      "\n",
      "\n",
      "-------LDA------\n",
      "\n",
      "\n",
      "Topic  0\n",
      "cell brain neuron stem ice stem cell memory behavior activity pattern\n",
      "Topic  1\n",
      "science new research scientist week -- researcher university u.s read\n",
      "Topic  2\n",
      "isbn earthquake c$ c$ isbn paper isbn york c$ mantle histone york isbn press cambridge\n",
      "Topic  3\n",
      "year virus fossil human ago year ago mar ancient bird specie\n",
      "Topic  4\n",
      "structure use quantum electron material molecule high surface state energy\n",
      "Topic  5\n",
      "cell protein disease receptor gene signal mouse pathway immune cancer\n",
      "Topic  6\n",
      "roundup apparatus instrumentation weekly interest researcher material potential laboratory material roundup information potential interest offer instrumentation\n",
      "Topic  7\n",
      "dna gene rna genome sequence chromosome protein expression transcription human genome\n",
      "Topic  8\n",
      "t t cell cell membrane b actin antigen antibody vesicle microtubule\n",
      "Topic  9\n",
      "climate ocean earth change water star year carbon solar global\n"
     ]
    }
   ],
   "source": [
    "use_vectorizer(tf_vect1, tf_vect1_transformed)"
   ]
  },
  {
   "cell_type": "markdown",
   "metadata": {},
   "source": [
    "tfidf vectorizer 2"
   ]
  },
  {
   "cell_type": "code",
   "execution_count": 37,
   "metadata": {
    "collapsed": true
   },
   "outputs": [],
   "source": [
    "tf_vect2, tf_vect2_transformed = tfidf_vectorizer(spacy_tokenizer_3, 5000, all_descriptions, ngram_stop=4)"
   ]
  },
  {
   "cell_type": "code",
   "execution_count": 38,
   "metadata": {},
   "outputs": [
    {
     "name": "stdout",
     "output_type": "stream",
     "text": [
      "\n",
      "\n",
      "-------LSA------\n",
      "\n",
      "\n",
      "Topic  0\n",
      "cell protein new science gene use human year research study\n",
      "Topic  1\n",
      "information newly offer weekly roundup information newly offer instrumentation apparatus offer instrumentation apparatus laboratory material potential interest newly offer weekly roundup information weekly roundup information newly newly offer instrumentation\n",
      "Topic  2\n",
      "cell protein gene signal receptor t rna expression bind t cell\n",
      "Topic  3\n",
      "cell science research week stem stem cell national university u.s cancer\n",
      "Topic  4\n",
      "week story download pdf entire follow link science download entire section link roundup week story roundup week story science link roundup week link roundup pdf entire section\n",
      "Topic  5\n",
      "isbn press university university press york new york new c$ c$ isbn oxford\n",
      "Topic  6\n",
      "gene genome human dna sequence specie genetic protein rna disease\n",
      "Topic  7\n",
      "cell climate change year ice ocean climate change t stem cell stem\n",
      "Topic  8\n",
      "science american association american association advancement science association advancement science american association advancement association advancement advancement science science publisher advancement publisher\n",
      "Topic  9\n",
      "protein climate change bind membrane signal ice national receptor ocean\n",
      "\n",
      "\n",
      "-------NMF------\n",
      "\n",
      "\n",
      "Topic  0\n",
      "quantum electron use material energy state atom system field magnetic\n",
      "Topic  1\n",
      "laboratory material potential interest weekly roundup information newly laboratory material potential offer instrumentation apparatus weekly roundup information apparatus laboratory material potential interest material potential interest researcher apparatus laboratory material roundup information\n",
      "Topic  2\n",
      "science research week scientist u.s national new health researcher institute\n",
      "Topic  3\n",
      "cell t stem stem cell t cell immune mouse tissue tumor cancer\n",
      "Topic  4\n",
      "week story week story science download pdf pdf entire entire section story science download pdf link roundup week story story science download roundup week story science roundup week story\n",
      "Topic  5\n",
      "isbn press university university press york new york new c$ c$ isbn oxford\n",
      "Topic  6\n",
      "gene genome human dna genetic sequence disease expression mutation specie\n",
      "Topic  7\n",
      "climate change year ocean ice water global climate change ago year ago\n",
      "Topic  8\n",
      "science american association american association advancement science american association advancement association advancement science association advancement advancement science advancement science publisher publisher\n",
      "Topic  9\n",
      "protein bind signal rna complex membrane receptor structure domain pathway\n",
      "\n",
      "\n",
      "-------LDA------\n",
      "\n",
      "\n",
      "Topic  0\n",
      "climate change ocean ice carbon global sea ecosystem climate change warming\n",
      "Topic  1\n",
      "science new research week scientist researcher year -- university read\n",
      "Topic  2\n",
      "membrane earthquake structure channel fault protein lipid subunit angstrom crystal\n",
      "Topic  3\n",
      "instrumentation weekly interest researcher material potential laboratory material newly offer weekly roundup information newly roundup information newly offer weekly roundup apparatus laboratory material potential\n",
      "Topic  4\n",
      "quantum electron material atom state spin molecule temperature metal use\n",
      "Topic  5\n",
      "mantle magnetic earth resonance rock iron plate isotope asteroid reward\n",
      "Topic  6\n",
      "isbn ray c$ c$ isbn galaxy paper isbn hole ma black hole new york c$\n",
      "Topic  7\n",
      "cell protein gene receptor signal rna dna mouse bind pathway\n",
      "Topic  8\n",
      "male roundup story news female science section egg week american association advancement science\n",
      "Topic  9\n",
      "use model system study provide time perspective region suggest evolution\n"
     ]
    }
   ],
   "source": [
    "use_vectorizer(tf_vect2, tf_vect2_transformed)"
   ]
  },
  {
   "cell_type": "markdown",
   "metadata": {},
   "source": [
    "tfidf vectorizer 3"
   ]
  },
  {
   "cell_type": "code",
   "execution_count": 39,
   "metadata": {
    "collapsed": true
   },
   "outputs": [],
   "source": [
    "tf_vect3, tf_vect3_transformed = tfidf_vectorizer(spacy_tokenizer_3, 110000, all_descriptions)"
   ]
  },
  {
   "cell_type": "code",
   "execution_count": 40,
   "metadata": {},
   "outputs": [
    {
     "name": "stdout",
     "output_type": "stream",
     "text": [
      "\n",
      "\n",
      "-------LSA------\n",
      "\n",
      "\n",
      "Topic  0\n",
      "apparatus laboratory information newly potential interest instrumentation apparatus weekly roundup offer instrumentation roundup information newly offer laboratory material interest researcher\n",
      "Topic  1\n",
      "cell science new protein gene use human year research change\n",
      "Topic  2\n",
      "download pdf follow link entire section roundup week link roundup science download pdf entire week story pdf story science\n",
      "Topic  3\n",
      "science news project roundup recent monthly roundup publisher american recent news project science science publisher association advancement advancement science\n",
      "Topic  4\n",
      "cell monthly roundup roundup recent news project publisher american recent news project science science publisher monthly association advancement\n",
      "Topic  5\n",
      "isbn cell university press university press new york new york research cambridge\n",
      "Topic  6\n",
      "isbn press university press university york new york oxford cambridge princeton press new\n",
      "Topic  7\n",
      "cell quantum state stem electron stem cell energy atom spin t\n",
      "Topic  8\n",
      "cell climate ice change ocean year t climate change t cell stem cell\n",
      "Topic  9\n",
      "protein science climate national membrane bind ice rna water change\n",
      "\n",
      "\n",
      "-------NMF------\n",
      "\n",
      "\n",
      "Topic  0\n",
      "newly offer roundup information potential interest apparatus laboratory instrumentation apparatus information newly weekly roundup offer instrumentation laboratory material interest researcher\n",
      "Topic  1\n",
      "gene human genome dna genetic sequence disease specie expression mutation\n",
      "Topic  2\n",
      "download pdf roundup week follow link link roundup pdf entire science download entire section week story pdf story science\n",
      "Topic  3\n",
      "science news project roundup recent monthly roundup publisher american recent news project science science publisher association advancement monthly\n",
      "Topic  4\n",
      "cell t stem stem cell t cell immune mouse tissue tumor cancer\n",
      "Topic  5\n",
      "science research national u.s week scientist new health institute world\n",
      "Topic  6\n",
      "isbn press university university press york new york oxford cambridge princeton press new\n",
      "Topic  7\n",
      "quantum electron use state material energy atom system spin field\n",
      "Topic  8\n",
      "climate change year ice ocean water global climate change sea carbon\n",
      "Topic  9\n",
      "protein rna bind membrane complex signal structure receptor pathway domain\n",
      "\n",
      "\n",
      "-------LDA------\n",
      "\n",
      "\n",
      "Topic  0\n",
      "roundup instrumentation interest researcher weekly material potential laboratory material offer instrumentation information newly apparatus laboratory newly offer\n",
      "Topic  1\n",
      "wnt type iii wnt signal iii secretion improve performance klotho ifn paramagnetic resonance electron paramagnetic gpibα\n",
      "Topic  2\n",
      "cell protein use gene human system study new report result\n",
      "Topic  3\n",
      "collider bang big bang quark hadron large hadron hadron collider bizarre radius cern\n",
      "Topic  4\n",
      "single wall enceladus wall carbon hall effect protoplanetary swnt quantum critical spin polarize quantum phase halo\n",
      "Topic  5\n",
      "cortex dopamine prefrontal prefrontal cortex plasmon reward mir- action potential pyramidal cocaine\n",
      "Topic  6\n",
      "ocean ice climate sea atmospheric warming warm record atlantic ice sheet\n",
      "Topic  7\n",
      "ubiquitin trna ligase hematopoietic cox- discontinuity bone marrow isoform ubiquitination ubiquitin ligase\n",
      "Topic  8\n",
      "science research week isbn scientist university new u.s national press\n",
      "Topic  9\n",
      "amyloid supernovae star form telomerase cohesion finch prion disease spongiform amyotrophic amyotrophic lateral\n"
     ]
    }
   ],
   "source": [
    "use_vectorizer(tf_vect3, tf_vect3_transformed)"
   ]
  },
  {
   "cell_type": "markdown",
   "metadata": {},
   "source": [
    "START"
   ]
  },
  {
   "cell_type": "markdown",
   "metadata": {
    "collapsed": true
   },
   "source": [
    "#### Try tfidf with tokenizer 3 to make sure we get the best choice"
   ]
  },
  {
   "cell_type": "code",
   "execution_count": 41,
   "metadata": {
    "collapsed": true
   },
   "outputs": [],
   "source": [
    "tf_vect1, tf_vect1_transformed = tfidf_vectorizer(spacy_tokenizer_3, 5000, all_descriptions)"
   ]
  },
  {
   "cell_type": "code",
   "execution_count": 42,
   "metadata": {},
   "outputs": [
    {
     "name": "stdout",
     "output_type": "stream",
     "text": [
      "\n",
      "\n",
      "-------LSA------\n",
      "\n",
      "\n",
      "Topic  0\n",
      "cell protein new science gene use human year research researcher\n",
      "Topic  1\n",
      "instrumentation apparatus weekly roundup potential interest apparatus laboratory offer instrumentation information newly roundup information newly offer interest researcher laboratory material\n",
      "Topic  2\n",
      "cell protein gene signal receptor t rna bind expression t cell\n",
      "Topic  3\n",
      "cell science week research stem stem cell university isbn roundup national\n",
      "Topic  4\n",
      "week story link roundup entire section science download pdf entire follow link roundup week download pdf pdf story science\n",
      "Topic  5\n",
      "isbn press university university press york new york oxford c$ c$ isbn cambridge\n",
      "Topic  6\n",
      "gene genome human dna sequence specie protein genetic rna disease\n",
      "Topic  7\n",
      "protein science structure rna dna quantum gene bind complex advancement science\n",
      "Topic  8\n",
      "science american association association advancement advancement science science publisher roundup recent news project monthly roundup publisher american recent news\n",
      "Topic  9\n",
      "protein climate change bind national membrane rna ice ocean research\n",
      "\n",
      "\n",
      "-------NMF------\n",
      "\n",
      "\n",
      "Topic  0\n",
      "quantum electron use material energy state atom system field magnetic\n",
      "Topic  1\n",
      "roundup information instrumentation apparatus newly offer apparatus laboratory information newly offer instrumentation weekly roundup potential interest interest researcher laboratory material\n",
      "Topic  2\n",
      "science research u.s national scientist week new health institute researcher\n",
      "Topic  3\n",
      "cell stem t stem cell t cell immune mouse tissue tumor cancer\n",
      "Topic  4\n",
      "week story pdf entire download pdf follow link science download link roundup roundup week entire section story science pdf\n",
      "Topic  5\n",
      "isbn press university university press york new york new oxford cambridge c$\n",
      "Topic  6\n",
      "gene genome human dna genetic sequence disease expression mutation specie\n",
      "Topic  7\n",
      "climate change year ocean ice water global climate change sea carbon\n",
      "Topic  8\n",
      "science american association association advancement advancement science science publisher advancement roundup recent monthly roundup news project publisher american\n",
      "Topic  9\n",
      "protein bind rna signal complex membrane receptor structure domain pathway\n",
      "\n",
      "\n",
      "-------LDA------\n",
      "\n",
      "\n",
      "Topic  0\n",
      "cell brain neuron stem ice stem cell memory behavior activity pattern\n",
      "Topic  1\n",
      "science new research scientist week -- researcher university u.s read\n",
      "Topic  2\n",
      "isbn earthquake c$ c$ isbn paper isbn york c$ mantle histone york isbn press cambridge\n",
      "Topic  3\n",
      "year virus fossil human ago year ago mar ancient bird specie\n",
      "Topic  4\n",
      "structure use quantum electron material molecule high surface state energy\n",
      "Topic  5\n",
      "cell protein disease receptor gene signal mouse pathway immune cancer\n",
      "Topic  6\n",
      "roundup apparatus instrumentation weekly interest researcher material potential laboratory material roundup information potential interest offer instrumentation\n",
      "Topic  7\n",
      "dna gene rna genome sequence chromosome protein expression transcription human genome\n",
      "Topic  8\n",
      "t t cell cell membrane b actin antigen antibody vesicle microtubule\n",
      "Topic  9\n",
      "climate ocean earth change water star year carbon solar global\n"
     ]
    }
   ],
   "source": [
    "use_vectorizer(tf_vect1, tf_vect1_transformed)"
   ]
  },
  {
   "cell_type": "markdown",
   "metadata": {},
   "source": [
    "tfidf vectorizer 2"
   ]
  },
  {
   "cell_type": "code",
   "execution_count": 43,
   "metadata": {
    "collapsed": true
   },
   "outputs": [],
   "source": [
    "tf_vect2, tf_vect2_transformed = tfidf_vectorizer(spacy_tokenizer_3, 5000, all_descriptions, ngram_stop=4)"
   ]
  },
  {
   "cell_type": "markdown",
   "metadata": {},
   "source": [
    "# LDA LOOKS GOOD"
   ]
  },
  {
   "cell_type": "code",
   "execution_count": 44,
   "metadata": {},
   "outputs": [
    {
     "name": "stdout",
     "output_type": "stream",
     "text": [
      "\n",
      "\n",
      "-------LSA------\n",
      "\n",
      "\n",
      "Topic  0\n",
      "cell protein new science gene use human year research study\n",
      "Topic  1\n",
      "information newly offer weekly roundup information newly offer instrumentation apparatus offer instrumentation apparatus laboratory material potential interest newly offer weekly roundup information weekly roundup information newly newly offer instrumentation\n",
      "Topic  2\n",
      "cell protein gene signal receptor t rna expression bind t cell\n",
      "Topic  3\n",
      "cell science research week stem stem cell national university u.s cancer\n",
      "Topic  4\n",
      "week story download pdf entire follow link science download entire section link roundup week story roundup week story science link roundup week link roundup pdf entire section\n",
      "Topic  5\n",
      "isbn press university university press york new york new c$ c$ isbn oxford\n",
      "Topic  6\n",
      "gene genome human dna sequence specie genetic protein rna disease\n",
      "Topic  7\n",
      "cell climate change year ice ocean climate change t stem cell stem\n",
      "Topic  8\n",
      "science american association american association advancement science association advancement science american association advancement association advancement advancement science science publisher advancement publisher\n",
      "Topic  9\n",
      "protein climate change bind membrane signal ice national receptor ocean\n",
      "\n",
      "\n",
      "-------NMF------\n",
      "\n",
      "\n",
      "Topic  0\n",
      "quantum electron use material energy state atom system field magnetic\n",
      "Topic  1\n",
      "laboratory material potential interest weekly roundup information newly laboratory material potential offer instrumentation apparatus weekly roundup information apparatus laboratory material potential interest material potential interest researcher apparatus laboratory material roundup information\n",
      "Topic  2\n",
      "science research week scientist u.s national new health researcher institute\n",
      "Topic  3\n",
      "cell t stem stem cell t cell immune mouse tissue tumor cancer\n",
      "Topic  4\n",
      "week story week story science download pdf pdf entire entire section story science download pdf link roundup week story story science download roundup week story science roundup week story\n",
      "Topic  5\n",
      "isbn press university university press york new york new c$ c$ isbn oxford\n",
      "Topic  6\n",
      "gene genome human dna genetic sequence disease expression mutation specie\n",
      "Topic  7\n",
      "climate change year ocean ice water global climate change ago year ago\n",
      "Topic  8\n",
      "science american association american association advancement science american association advancement association advancement science association advancement advancement science advancement science publisher publisher\n",
      "Topic  9\n",
      "protein bind signal rna complex membrane receptor structure domain pathway\n",
      "\n",
      "\n",
      "-------LDA------\n",
      "\n",
      "\n",
      "Topic  0\n",
      "climate change ocean ice carbon global sea ecosystem climate change warming\n",
      "Topic  1\n",
      "science new research week scientist researcher year -- university read\n",
      "Topic  2\n",
      "membrane earthquake structure channel fault protein lipid subunit angstrom crystal\n",
      "Topic  3\n",
      "instrumentation weekly interest researcher material potential laboratory material newly offer weekly roundup information newly roundup information newly offer weekly roundup apparatus laboratory material potential\n",
      "Topic  4\n",
      "quantum electron material atom state spin molecule temperature metal use\n",
      "Topic  5\n",
      "mantle magnetic earth resonance rock iron plate isotope asteroid reward\n",
      "Topic  6\n",
      "isbn ray c$ c$ isbn galaxy paper isbn hole ma black hole new york c$\n",
      "Topic  7\n",
      "cell protein gene receptor signal rna dna mouse bind pathway\n",
      "Topic  8\n",
      "male roundup story news female science section egg week american association advancement science\n",
      "Topic  9\n",
      "use model system study provide time perspective region suggest evolution\n"
     ]
    }
   ],
   "source": [
    "use_vectorizer(tf_vect2, tf_vect2_transformed)"
   ]
  },
  {
   "cell_type": "markdown",
   "metadata": {},
   "source": [
    "tfidf vectorizer 3"
   ]
  },
  {
   "cell_type": "code",
   "execution_count": 45,
   "metadata": {
    "collapsed": true
   },
   "outputs": [],
   "source": [
    "tf_vect3, tf_vect3_transformed = tfidf_vectorizer(spacy_tokenizer_3, 110000, all_descriptions)"
   ]
  },
  {
   "cell_type": "markdown",
   "metadata": {},
   "source": [
    "LDA LOOKS GOOD"
   ]
  },
  {
   "cell_type": "code",
   "execution_count": 46,
   "metadata": {},
   "outputs": [
    {
     "name": "stdout",
     "output_type": "stream",
     "text": [
      "\n",
      "\n",
      "-------LSA------\n",
      "\n",
      "\n",
      "Topic  0\n",
      "apparatus laboratory information newly potential interest instrumentation apparatus weekly roundup offer instrumentation roundup information newly offer laboratory material interest researcher\n",
      "Topic  1\n",
      "cell science new protein gene use human year research change\n",
      "Topic  2\n",
      "download pdf follow link entire section roundup week link roundup science download pdf entire week story pdf story science\n",
      "Topic  3\n",
      "science news project roundup recent monthly roundup publisher american recent news project science science publisher association advancement advancement science\n",
      "Topic  4\n",
      "cell monthly roundup roundup recent news project publisher american recent news project science science publisher monthly association advancement\n",
      "Topic  5\n",
      "isbn cell university press university press new york new york research cambridge\n",
      "Topic  6\n",
      "isbn press university press university york new york oxford cambridge princeton press new\n",
      "Topic  7\n",
      "cell quantum state stem electron stem cell energy atom spin t\n",
      "Topic  8\n",
      "cell climate ice change ocean year t climate change t cell stem cell\n",
      "Topic  9\n",
      "protein science climate national membrane bind ice rna water change\n",
      "\n",
      "\n",
      "-------NMF------\n",
      "\n",
      "\n",
      "Topic  0\n",
      "newly offer roundup information potential interest apparatus laboratory instrumentation apparatus information newly weekly roundup offer instrumentation laboratory material interest researcher\n",
      "Topic  1\n",
      "gene human genome dna genetic sequence disease specie expression mutation\n",
      "Topic  2\n",
      "download pdf roundup week follow link link roundup pdf entire science download entire section week story pdf story science\n",
      "Topic  3\n",
      "science news project roundup recent monthly roundup publisher american recent news project science science publisher association advancement monthly\n",
      "Topic  4\n",
      "cell t stem stem cell t cell immune mouse tissue tumor cancer\n",
      "Topic  5\n",
      "science research national u.s week scientist new health institute world\n",
      "Topic  6\n",
      "isbn press university university press york new york oxford cambridge princeton press new\n",
      "Topic  7\n",
      "quantum electron use state material energy atom system spin field\n",
      "Topic  8\n",
      "climate change year ice ocean water global climate change sea carbon\n",
      "Topic  9\n",
      "protein rna bind membrane complex signal structure receptor pathway domain\n",
      "\n",
      "\n",
      "-------LDA------\n",
      "\n",
      "\n",
      "Topic  0\n",
      "roundup instrumentation interest researcher weekly material potential laboratory material offer instrumentation information newly apparatus laboratory newly offer\n",
      "Topic  1\n",
      "wnt type iii wnt signal iii secretion improve performance klotho ifn paramagnetic resonance electron paramagnetic gpibα\n",
      "Topic  2\n",
      "cell protein use gene human system study new report result\n",
      "Topic  3\n",
      "collider bang big bang quark hadron large hadron hadron collider bizarre radius cern\n",
      "Topic  4\n",
      "single wall enceladus wall carbon hall effect protoplanetary swnt quantum critical spin polarize quantum phase halo\n",
      "Topic  5\n",
      "cortex dopamine prefrontal prefrontal cortex plasmon reward mir- action potential pyramidal cocaine\n",
      "Topic  6\n",
      "ocean ice climate sea atmospheric warming warm record atlantic ice sheet\n",
      "Topic  7\n",
      "ubiquitin trna ligase hematopoietic cox- discontinuity bone marrow isoform ubiquitination ubiquitin ligase\n",
      "Topic  8\n",
      "science research week isbn scientist university new u.s national press\n",
      "Topic  9\n",
      "amyloid supernovae star form telomerase cohesion finch prion disease spongiform amyotrophic amyotrophic lateral\n"
     ]
    }
   ],
   "source": [
    "use_vectorizer(tf_vect3, tf_vect3_transformed)"
   ]
  },
  {
   "cell_type": "markdown",
   "metadata": {},
   "source": [
    "# TRY PREVIOUS with different number of topics"
   ]
  },
  {
   "cell_type": "code",
   "execution_count": 47,
   "metadata": {
    "collapsed": true
   },
   "outputs": [],
   "source": [
    "tf_vect3, tf_vect3_transformed = tfidf_vectorizer(spacy_tokenizer_3, 110000, all_descriptions)"
   ]
  },
  {
   "cell_type": "code",
   "execution_count": 48,
   "metadata": {},
   "outputs": [
    {
     "name": "stdout",
     "output_type": "stream",
     "text": [
      "\n",
      "\n",
      "-------LSA------\n",
      "\n",
      "\n",
      "Topic  0\n",
      "information newly instrumentation apparatus potential interest weekly roundup offer instrumentation roundup information newly offer apparatus laboratory laboratory material interest researcher\n",
      "Topic  1\n",
      "cell science new protein gene use human year research change\n",
      "Topic  2\n",
      "download pdf follow link science download entire section pdf entire roundup week link roundup week story pdf story science\n",
      "Topic  3\n",
      "science roundup recent news project monthly roundup publisher american recent news project science science publisher association advancement advancement science\n",
      "Topic  4\n",
      "cell news project monthly roundup roundup recent publisher american recent news project science science publisher monthly association advancement\n",
      "Topic  5\n",
      "isbn cell university press university press new york new york research cambridge\n",
      "Topic  6\n",
      "isbn press university press university york new york oxford cambridge princeton press new\n",
      "Topic  7\n",
      "cell quantum state stem electron stem cell energy spin atom material\n",
      "Topic  8\n",
      "cell climate ice change ocean year t t cell climate change stem cell\n",
      "Topic  9\n",
      "protein climate science change membrane bind national ice rna carbon\n",
      "Topic  10\n",
      "star protein galaxy year planet solar ray black hole space black\n",
      "Topic  11\n",
      "gene genome stem stem cell dna cell quantum sequence research expression\n",
      "Topic  12\n",
      "new york new york c$ c$ isbn york c$ york isbn science press new isbn\n",
      "Topic  13\n",
      "dna virus water carbon reaction genome health week cancer surface\n",
      "Topic  14\n",
      "quantum ice state spin week t virus climate t cell rna\n",
      "Topic  15\n",
      "protein year quantum ago year ago stem stem cell researcher million million year\n",
      "Topic  16\n",
      "daily news daily week news story roundup daily news story brain roundup neuron\n",
      "Topic  17\n",
      "plant science daily news week daily news climate specie story roundup daily\n",
      "Topic  18\n",
      "science brain gene t week t cell ice daily news immune daily\n",
      "Topic  19\n",
      "plant specie year national institute nih million national institute year ago ago\n",
      "Topic  20\n",
      "plant cancer gene drug carbon tumor quantum year state signal\n",
      "Topic  21\n",
      "climate human national year cancer change climate change institute tumor year ago\n",
      "Topic  22\n",
      "year t cancer t cell earthquake tumor daily news research million daily\n",
      "Topic  23\n",
      "princeton princeton university nj press princeton princeton nj nj isbn rna -- university brain\n",
      "Topic  24\n",
      "ice specie plant science sheet ice sheet drug field cancer protein\n",
      "Topic  25\n",
      "virus science hole black black hole brain energy year state rna\n",
      "Topic  26\n",
      "ice dna ice sheet sheet scientist sea t -- t cell energy\n",
      "Topic  27\n",
      "human genome research energy protein sequence human genome ice carbon disease\n",
      "Topic  28\n",
      "earthquake genome researcher water fault world energy signal sequence protein\n",
      "Topic  29\n",
      "science quantum health chicago carbon world star ocean cell life\n",
      "\n",
      "\n",
      "-------NMF------\n",
      "\n",
      "\n",
      "Topic  0\n",
      "information newly apparatus laboratory roundup information potential interest weekly roundup offer instrumentation instrumentation apparatus newly offer laboratory material interest researcher\n",
      "Topic  1\n",
      "specie plant population diversity ecosystem animal forest ecological community evolutionary\n",
      "Topic  2\n",
      "link roundup entire section pdf entire follow link roundup week science download download pdf week story pdf story science\n",
      "Topic  3\n",
      "news project roundup recent monthly roundup publisher american recent news project science science publisher monthly association advancement advancement science\n",
      "Topic  4\n",
      "cell stem stem cell t t cell immune tissue signal embryonic mouse\n",
      "Topic  5\n",
      "research u.s government scientist university agency week new funding european\n",
      "Topic  6\n",
      "isbn press university cambridge university press press cambridge oxford ma cambridge ma chicago\n",
      "Topic  7\n",
      "material electron structure magnetic use field temperature surface high property\n",
      "Topic  8\n",
      "climate change climate change global warming temperature ocean model warm atmospheric\n",
      "Topic  9\n",
      "protein membrane signal bind receptor complex structure domain pathway kinase\n",
      "Topic  10\n",
      "star galaxy black hole hole black ray universe x x ray gamma\n",
      "Topic  11\n",
      "virus vaccine infection immune influenza hiv host antibody viral response\n",
      "Topic  12\n",
      "york new york isbn new c$ c$ isbn york c$ york isbn press new london\n",
      "Topic  13\n",
      "carbon reaction water catalyst molecule bond hydrogen chemical organic compound\n",
      "Topic  14\n",
      "quantum state spin system atom photon information qubit quantum information dot\n",
      "Topic  15\n",
      "gene expression gene expression transcription genetic mutation factor identify function transcription factor\n",
      "Topic  16\n",
      "daily news news daily week story roundup daily roundup news story news site site\n",
      "Topic  17\n",
      "institute national health nih national institute institute health health nih director u.s national u.s\n",
      "Topic  18\n",
      "science national foundation national science science foundation student education nsf academy science technology\n",
      "Topic  19\n",
      "year ago year ago million million year early fossil old record date\n",
      "Topic  20\n",
      "cancer drug tumor disease patient mutation therapy trial treatment clinical\n",
      "Topic  21\n",
      "genome human sequence human genome genome sequence genetic dna sequencing genomic datum\n",
      "Topic  22\n",
      "-- researcher read report meeting scientist new week page society\n",
      "Topic  23\n",
      "princeton princeton university nj press princeton princeton nj nj isbn university press isbn university press\n",
      "Topic  24\n",
      "solar planet system solar system earth mar moon comet planetary space\n",
      "Topic  25\n",
      "brain neuron memory activity cortex neuronal neural behavior mouse visual\n",
      "Topic  26\n",
      "ice ice sheet sea sheet sea level water ocean level greenland antarctic\n",
      "Topic  27\n",
      "dna rna strand polymerase rna polymerase mrna transcription replication complex bind\n",
      "Topic  28\n",
      "earthquake fault mantle seismic plate zone rupture slip earth large\n",
      "Topic  29\n",
      "state world united united state country health china nation people public\n",
      "\n",
      "\n",
      "-------LDA------\n",
      "\n",
      "\n",
      "Topic  0\n",
      "cell receptor immune t t cell mouse response infection antibody antigen\n",
      "Topic  1\n",
      "ice american association publisher science advancement science association advancement advancement science publisher recent news ice sheet\n",
      "Topic  2\n",
      "spin polarize chromium torque networking commentary entirely new magnetoresistance environmentally friendly liquid fuel gas liquid\n",
      "Topic  3\n",
      "confinement draw attention electromagnetic wave far field light matter study high quantum device low loss strong coupling koch\n",
      "Topic  4\n",
      "earthquake mantle seismic fault plate zone crust slip subduction subduction zone\n",
      "Topic  5\n",
      "crispr type ii cas unwind cohen double helix gateway determine angstrom defense system site dna\n",
      "Topic  6\n",
      "epidermal β-catenin different cell thinning mini ips ips cell roche bmp morphogenetic protein\n",
      "Topic  7\n",
      "clovis negative feedback finch siberia °n songbird earlier previously fundamental research coherently mentally\n",
      "Topic  8\n",
      "protein rna dna gene bind transcription cell expression kinase complex\n",
      "Topic  9\n",
      "discontinuity triplet singlet transition zone geochemist brilliant rheological tenth metabolic disorder triplet state\n",
      "Topic  10\n",
      "er symposium reticulum er tubule watchdog novel way cadre antioxidant accountability er stress\n",
      "Topic  11\n",
      "individual gene marburg gene turn hamper lack poppy angola schistosomiasis breakaway prevention control vsv\n",
      "Topic  12\n",
      "catalyst reaction bond carbon compound monoxide carbon monoxide olefin catalyze α\n",
      "Topic  13\n",
      "aboard sodium combinatorial mobilize dr breathe cam win year tab tenuous\n",
      "Topic  14\n",
      "b.c.e distant object planet solar celestial humboldt millennium b.c.e use observation southern iraq calculus nsa\n",
      "Topic  15\n",
      "material electron quantum spin interest researcher weekly material potential apparatus laboratory material weekly roundup\n",
      "Topic  16\n",
      "collider issue nature quark hadron large hadron hadron collider hiv tragedy lymph aid researcher\n",
      "Topic  17\n",
      "mtor outflow tantalizing guanosine triphosphatase host immune vesicular archean schwann schwann cell ray scattering\n",
      "Topic  18\n",
      "news roundup relatively small segmentation clock roth time cell hippos neurosexism share mechanism microscopy single giving\n",
      "Topic  19\n",
      "new science use cell year human research study report researcher\n",
      "Topic  20\n",
      "phase transition compatible quantum phase quantum interference soliton regulatory mechanism light beam light pulse polariton form complex\n",
      "Topic  21\n",
      "redistribution catalytic reaction stoichiometric organic reaction rate reaction chiral product synthetic organic energy convert measurement variable process usually\n",
      "Topic  22\n",
      "daily news roundup daily relativity news site gravitational wave gravity york-- new york-- gravitational spacetime\n",
      "Topic  23\n",
      "policy forum virus intron y daniel coronavirus exon fauna abnormality human gene\n",
      "Topic  24\n",
      "pylori cdna stomach helicobacter helicobacter pylori dusty temperature dependence central region pound mummify\n",
      "Topic  25\n",
      "climate ocean atmospheric warm atlantic temperature climate change latitude change circulation\n",
      "Topic  26\n",
      "anisotropy low mantle bdnf fmri striatum opt opiate -year effort neurotrophin truncated\n",
      "Topic  27\n",
      "sar g protein ebola macaque honorable mention honorable guanine heterotrimeric tim neck\n",
      "Topic  28\n",
      "star galaxy solar mar roundup planet space week nasa news\n",
      "Topic  29\n",
      "predominantly threonine sensation barrel serine threonine rapamycin metabolic activity biological activity prove difficult derive human\n"
     ]
    }
   ],
   "source": [
    "use_vectorizer(tf_vect3, tf_vect3_transformed, n_comp=30)"
   ]
  },
  {
   "cell_type": "code",
   "execution_count": 49,
   "metadata": {
    "scrolled": true
   },
   "outputs": [
    {
     "name": "stdout",
     "output_type": "stream",
     "text": [
      "\n",
      "\n",
      "-------LSA------\n",
      "\n",
      "\n",
      "Topic  0\n",
      "offer instrumentation roundup information newly offer potential interest instrumentation apparatus information newly weekly roundup apparatus laboratory laboratory material interest researcher\n",
      "Topic  1\n",
      "cell science new protein gene use human year research change\n",
      "Topic  2\n",
      "entire section roundup week science download link roundup download pdf pdf entire follow link week story pdf story science\n",
      "Topic  3\n",
      "science monthly roundup roundup recent news project publisher american recent news project science science publisher association advancement advancement science\n",
      "Topic  4\n",
      "cell roundup recent monthly roundup news project publisher american recent news project science science publisher monthly association advancement\n",
      "Topic  5\n",
      "isbn cell university press university press new york new york research cambridge\n",
      "Topic  6\n",
      "isbn press university press university york new york oxford cambridge princeton press new\n",
      "Topic  7\n",
      "cell quantum stem state electron stem cell energy spin atom material\n",
      "Topic  8\n",
      "cell climate ice change ocean year t t cell climate change stem cell\n",
      "Topic  9\n",
      "protein climate science change membrane national bind ice carbon rna\n",
      "Topic  10\n",
      "star protein galaxy year planet solar ray black hole earth space\n",
      "Topic  11\n",
      "gene genome stem stem cell dna cell quantum sequence research science\n",
      "Topic  12\n",
      "new york new york c$ c$ isbn york c$ york isbn science climate press new\n",
      "Topic  13\n",
      "dna virus carbon drug health reaction water genome molecule cancer\n",
      "Topic  14\n",
      "quantum ice state week spin t climate virus t cell daily news\n",
      "Topic  15\n",
      "protein year quantum week ago year ago daily news daily stem news\n",
      "Topic  16\n",
      "daily news daily week news story roundup daily news story brain roundup neuron\n",
      "Topic  17\n",
      "science plant specie t week daily news t cell daily news climate\n",
      "Topic  18\n",
      "science brain gene t t cell ice water surface neuron week\n",
      "Topic  19\n",
      "plant specie year national institute nih health national institute million institute health\n",
      "Topic  20\n",
      "cancer gene plant tumor drug quantum carbon year -- energy\n",
      "Topic  21\n",
      "climate dna cancer change human tumor institute climate change year t\n",
      "Topic  22\n",
      "dna t princeton t cell earthquake memory university research year state\n",
      "Topic  23\n",
      "princeton princeton university nj press princeton princeton nj nj isbn science virus university stem\n",
      "Topic  24\n",
      "system planet dna earth solar quantum solar system princeton cancer mar\n",
      "Topic  25\n",
      "rna -- brain dna researcher ice carbon read neuron system\n",
      "Topic  26\n",
      "ice plant specie sheet ice sheet protein -- sea research sea level\n",
      "Topic  27\n",
      "ice quantum star system ice sheet human science water sheet carbon\n",
      "Topic  28\n",
      "research rna year gene system climate ice material change star\n",
      "Topic  29\n",
      "genome research energy human solar plant carbon material princeton light\n",
      "Topic  30\n",
      "research field magnetic spin magnetic field carbon cancer virus rna university\n",
      "Topic  31\n",
      "chicago earthquake protein gene university chicago chicago press press chicago chicago isbn fault t\n",
      "Topic  32\n",
      "chicago state research -- university chicago chicago press press chicago reaction chicago isbn human\n",
      "Topic  33\n",
      "chicago university chicago press chicago chicago press -- chicago isbn health dna world protein\n",
      "Topic  34\n",
      "-- earthquake carbon dna research science page virus issue fault\n",
      "Topic  35\n",
      "page state issue magnetic spin protein page issue united report united state\n",
      "Topic  36\n",
      "energy plant chicago dna water system cancer university chicago chicago press press chicago\n",
      "Topic  37\n",
      "dna oxford university ocean disease oxford university life student temperature receptor\n",
      "Topic  38\n",
      "cancer energy virus tumor solar state oxford influenza ice read\n",
      "Topic  39\n",
      "star plant genome earthquake state receptor planet reaction student sequence\n",
      "\n",
      "\n",
      "-------NMF------\n",
      "\n",
      "\n",
      "Topic  0\n",
      "information newly weekly roundup potential interest instrumentation apparatus newly offer offer instrumentation apparatus laboratory roundup information laboratory material interest researcher\n",
      "Topic  1\n",
      "specie plant population diversity ecosystem animal biodiversity ecological forest evolutionary\n",
      "Topic  2\n",
      "science download pdf entire download pdf roundup week entire section follow link link roundup week story pdf story science\n",
      "Topic  3\n",
      "monthly roundup roundup recent news project publisher american recent news project science science publisher monthly association advancement advancement science\n",
      "Topic  4\n",
      "cell stem stem cell embryonic embryonic stem tissue division type cell type cell division\n",
      "Topic  5\n",
      "oxford university university press press oxford university isbn press new york isbn oxford isbn press oxford\n",
      "Topic  6\n",
      "princeton princeton university nj press princeton princeton nj nj isbn isbn university press press university\n",
      "Topic  7\n",
      "material structure electron surface use temperature crystal high property electronic\n",
      "Topic  8\n",
      "water ocean surface deep mar water molecule atlantic liquid north ion\n",
      "Topic  9\n",
      "protein membrane signal bind receptor complex pathway domain structure kinase\n",
      "Topic  10\n",
      "star galaxy black hole hole black ray x x ray universe mass\n",
      "Topic  11\n",
      "virus influenza vaccine infection antibody viral influenza virus pandemic hiv infect\n",
      "Topic  12\n",
      "york new york isbn new c$ c$ isbn york c$ london york isbn london isbn\n",
      "Topic  13\n",
      "reaction molecule catalyst bond chemical metal hydrogen compound product enzyme\n",
      "Topic  14\n",
      "quantum system atom photon state information spin qubit computer quantum information\n",
      "Topic  15\n",
      "gene expression gene expression transcription genetic mutation factor identify function chromosome\n",
      "Topic  16\n",
      "daily news news daily story week roundup daily roundup news story news site site\n",
      "Topic  17\n",
      "brain neuron memory activity cortex neuronal neural behavior mouse visual\n",
      "Topic  18\n",
      "science foundation national national science science foundation student education nsf technology science technology\n",
      "Topic  19\n",
      "year ago year ago million million year early fossil old date record\n",
      "Topic  20\n",
      "cancer tumor mutation patient cancer cell therapy breast tumor cell growth prostate\n",
      "Topic  21\n",
      "climate change climate change global warming temperature model warm record past\n",
      "Topic  22\n",
      "institute national health nih national institute institute health health nih director u.s national u.s\n",
      "Topic  23\n",
      "cambridge press cambridge isbn ma cambridge ma press harvard university ma isbn harvard university press\n",
      "Topic  24\n",
      "solar planet system solar system earth comet moon planetary mar orbit\n",
      "Topic  25\n",
      "carbon dioxide carbon dioxide ocean emission atmospheric atmosphere forest nanotube gas\n",
      "Topic  26\n",
      "ice ice sheet sheet sea sea level level greenland antarctic rise glacier\n",
      "Topic  27\n",
      "magnetic field spin magnetic field electron resonance electric current magnetic resonance effect\n",
      "Topic  28\n",
      "genome human sequence human genome genome sequence sequencing genetic genomic datum evolution\n",
      "Topic  29\n",
      "earthquake fault seismic mantle rupture plate zone slip large earth\n",
      "Topic  30\n",
      "dna strand repair replication damage chromosome dna damage methylation chromatin dna sequence\n",
      "Topic  31\n",
      "research scientist government u.s scientific new university week agency european\n",
      "Topic  32\n",
      "state united united state country nation world europe china nuclear u.s\n",
      "Topic  33\n",
      "chicago isbn university chicago chicago press press chicago chicago isbn press university paper isbn paper\n",
      "Topic  34\n",
      "-- read researcher meeting report scientist society page new team\n",
      "Topic  35\n",
      "energy particle nuclear power fuel department energy department physicist high energy dark\n",
      "Topic  36\n",
      "t t cell cell immune response antigen infection immune response immune system receptor\n",
      "Topic  37\n",
      "rna mrna polymerase messenger messenger rna rna polymerase ribosome transcription translation small\n",
      "Topic  38\n",
      "online publish publish online week paper www.sciencemag.org/cgi/content/abstract/ report online week researcher week science\n",
      "Topic  39\n",
      "disease drug trial people hiv treatment health patient clinical new\n"
     ]
    },
    {
     "ename": "KeyboardInterrupt",
     "evalue": "",
     "output_type": "error",
     "traceback": [
      "\u001b[0;31m---------------------------------------------------------------------------\u001b[0m",
      "\u001b[0;31mKeyboardInterrupt\u001b[0m                         Traceback (most recent call last)",
      "\u001b[0;32m<ipython-input-49-1416a9295aec>\u001b[0m in \u001b[0;36m<module>\u001b[0;34m()\u001b[0m\n\u001b[0;32m----> 1\u001b[0;31m \u001b[0muse_vectorizer\u001b[0m\u001b[0;34m(\u001b[0m\u001b[0mtf_vect3\u001b[0m\u001b[0;34m,\u001b[0m \u001b[0mtf_vect3_transformed\u001b[0m\u001b[0;34m,\u001b[0m \u001b[0mn_comp\u001b[0m\u001b[0;34m=\u001b[0m\u001b[0;36m40\u001b[0m\u001b[0;34m)\u001b[0m\u001b[0;34m\u001b[0m\u001b[0m\n\u001b[0m",
      "\u001b[0;32m<ipython-input-18-e52ec635efe1>\u001b[0m in \u001b[0;36muse_vectorizer\u001b[0;34m(cv_vect, cv_vect_trans, n_comp)\u001b[0m\n\u001b[1;32m      6\u001b[0m         \u001b[0mnorm\u001b[0m \u001b[0;34m=\u001b[0m \u001b[0mNormalizer\u001b[0m\u001b[0;34m(\u001b[0m\u001b[0;34m)\u001b[0m\u001b[0;34m\u001b[0m\u001b[0m\n\u001b[1;32m      7\u001b[0m         \u001b[0mvect_normalized\u001b[0m \u001b[0;34m=\u001b[0m \u001b[0mnorm\u001b[0m\u001b[0;34m.\u001b[0m\u001b[0mfit_transform\u001b[0m\u001b[0;34m(\u001b[0m\u001b[0mcv_vect_trans\u001b[0m\u001b[0;34m)\u001b[0m\u001b[0;34m\u001b[0m\u001b[0m\n\u001b[0;32m----> 8\u001b[0;31m         \u001b[0mmodel\u001b[0m\u001b[0;34m,\u001b[0m \u001b[0mmodel_transformed\u001b[0m \u001b[0;34m=\u001b[0m \u001b[0mitem\u001b[0m\u001b[0;34m(\u001b[0m\u001b[0mvect_normalized\u001b[0m\u001b[0;34m,\u001b[0m \u001b[0mn_comp\u001b[0m\u001b[0;34m=\u001b[0m\u001b[0mn_comp\u001b[0m\u001b[0;34m)\u001b[0m\u001b[0;34m\u001b[0m\u001b[0m\n\u001b[0m\u001b[1;32m      9\u001b[0m         \u001b[0mprint\u001b[0m\u001b[0;34m(\u001b[0m\u001b[0;34m'\\n\\n-------'\u001b[0m \u001b[0;34m+\u001b[0m \u001b[0mnames\u001b[0m\u001b[0;34m[\u001b[0m\u001b[0mi\u001b[0m\u001b[0;34m]\u001b[0m \u001b[0;34m+\u001b[0m \u001b[0;34m'------\\n\\n'\u001b[0m\u001b[0;34m)\u001b[0m\u001b[0;34m\u001b[0m\u001b[0m\n\u001b[1;32m     10\u001b[0m         \u001b[0mdisplay_topics\u001b[0m\u001b[0;34m(\u001b[0m\u001b[0mmodel\u001b[0m\u001b[0;34m,\u001b[0m \u001b[0mcv_vect\u001b[0m\u001b[0;34m.\u001b[0m\u001b[0mget_feature_names\u001b[0m\u001b[0;34m(\u001b[0m\u001b[0;34m)\u001b[0m\u001b[0;34m,\u001b[0m \u001b[0;36m10\u001b[0m\u001b[0;34m)\u001b[0m\u001b[0;34m\u001b[0m\u001b[0m\n",
      "\u001b[0;32m<ipython-input-15-40b2cf252a51>\u001b[0m in \u001b[0;36mlda_tfidf\u001b[0;34m(X, n_comp, n_iter)\u001b[0m\n\u001b[1;32m     11\u001b[0m                                     \u001b[0mrandom_state\u001b[0m\u001b[0;34m=\u001b[0m\u001b[0;36m42\u001b[0m\u001b[0;34m,\u001b[0m\u001b[0;34m\u001b[0m\u001b[0m\n\u001b[1;32m     12\u001b[0m                                     learning_method='online')\n\u001b[0;32m---> 13\u001b[0;31m     \u001b[0;32mreturn\u001b[0m \u001b[0mlda\u001b[0m\u001b[0;34m,\u001b[0m \u001b[0mlda\u001b[0m\u001b[0;34m.\u001b[0m\u001b[0mfit_transform\u001b[0m\u001b[0;34m(\u001b[0m\u001b[0mX\u001b[0m\u001b[0;34m)\u001b[0m\u001b[0;34m\u001b[0m\u001b[0m\n\u001b[0m",
      "\u001b[0;32m~/anaconda3/lib/python3.6/site-packages/sklearn/base.py\u001b[0m in \u001b[0;36mfit_transform\u001b[0;34m(self, X, y, **fit_params)\u001b[0m\n\u001b[1;32m    516\u001b[0m         \u001b[0;32mif\u001b[0m \u001b[0my\u001b[0m \u001b[0;32mis\u001b[0m \u001b[0;32mNone\u001b[0m\u001b[0;34m:\u001b[0m\u001b[0;34m\u001b[0m\u001b[0m\n\u001b[1;32m    517\u001b[0m             \u001b[0;31m# fit method of arity 1 (unsupervised transformation)\u001b[0m\u001b[0;34m\u001b[0m\u001b[0;34m\u001b[0m\u001b[0m\n\u001b[0;32m--> 518\u001b[0;31m             \u001b[0;32mreturn\u001b[0m \u001b[0mself\u001b[0m\u001b[0;34m.\u001b[0m\u001b[0mfit\u001b[0m\u001b[0;34m(\u001b[0m\u001b[0mX\u001b[0m\u001b[0;34m,\u001b[0m \u001b[0;34m**\u001b[0m\u001b[0mfit_params\u001b[0m\u001b[0;34m)\u001b[0m\u001b[0;34m.\u001b[0m\u001b[0mtransform\u001b[0m\u001b[0;34m(\u001b[0m\u001b[0mX\u001b[0m\u001b[0;34m)\u001b[0m\u001b[0;34m\u001b[0m\u001b[0m\n\u001b[0m\u001b[1;32m    519\u001b[0m         \u001b[0;32melse\u001b[0m\u001b[0;34m:\u001b[0m\u001b[0;34m\u001b[0m\u001b[0m\n\u001b[1;32m    520\u001b[0m             \u001b[0;31m# fit method of arity 2 (supervised transformation)\u001b[0m\u001b[0;34m\u001b[0m\u001b[0;34m\u001b[0m\u001b[0m\n",
      "\u001b[0;32m~/anaconda3/lib/python3.6/site-packages/sklearn/decomposition/online_lda.py\u001b[0m in \u001b[0;36mfit\u001b[0;34m(self, X, y)\u001b[0m\n\u001b[1;32m    546\u001b[0m                     \u001b[0;32mfor\u001b[0m \u001b[0midx_slice\u001b[0m \u001b[0;32min\u001b[0m \u001b[0mgen_batches\u001b[0m\u001b[0;34m(\u001b[0m\u001b[0mn_samples\u001b[0m\u001b[0;34m,\u001b[0m \u001b[0mbatch_size\u001b[0m\u001b[0;34m)\u001b[0m\u001b[0;34m:\u001b[0m\u001b[0;34m\u001b[0m\u001b[0m\n\u001b[1;32m    547\u001b[0m                         self._em_step(X[idx_slice, :], total_samples=n_samples,\n\u001b[0;32m--> 548\u001b[0;31m                                       batch_update=False, parallel=parallel)\n\u001b[0m\u001b[1;32m    549\u001b[0m                 \u001b[0;32melse\u001b[0m\u001b[0;34m:\u001b[0m\u001b[0;34m\u001b[0m\u001b[0m\n\u001b[1;32m    550\u001b[0m                     \u001b[0;31m# batch update\u001b[0m\u001b[0;34m\u001b[0m\u001b[0;34m\u001b[0m\u001b[0m\n",
      "\u001b[0;32m~/anaconda3/lib/python3.6/site-packages/sklearn/decomposition/online_lda.py\u001b[0m in \u001b[0;36m_em_step\u001b[0;34m(self, X, total_samples, batch_update, parallel)\u001b[0m\n\u001b[1;32m    448\u001b[0m         \u001b[0;31m# update `component_` related variables\u001b[0m\u001b[0;34m\u001b[0m\u001b[0;34m\u001b[0m\u001b[0m\n\u001b[1;32m    449\u001b[0m         self.exp_dirichlet_component_ = np.exp(\n\u001b[0;32m--> 450\u001b[0;31m             _dirichlet_expectation_2d(self.components_))\n\u001b[0m\u001b[1;32m    451\u001b[0m         \u001b[0mself\u001b[0m\u001b[0;34m.\u001b[0m\u001b[0mn_batch_iter_\u001b[0m \u001b[0;34m+=\u001b[0m \u001b[0;36m1\u001b[0m\u001b[0;34m\u001b[0m\u001b[0m\n\u001b[1;32m    452\u001b[0m         \u001b[0;32mreturn\u001b[0m\u001b[0;34m\u001b[0m\u001b[0m\n",
      "\u001b[0;31mKeyboardInterrupt\u001b[0m: "
     ]
    }
   ],
   "source": [
    "use_vectorizer(tf_vect3, tf_vect3_transformed, n_comp=40)"
   ]
  },
  {
   "cell_type": "code",
   "execution_count": null,
   "metadata": {
    "collapsed": true
   },
   "outputs": [],
   "source": []
  },
  {
   "cell_type": "code",
   "execution_count": null,
   "metadata": {
    "collapsed": true
   },
   "outputs": [],
   "source": []
  },
  {
   "cell_type": "markdown",
   "metadata": {},
   "source": [
    "# Final TOPICS"
   ]
  },
  {
   "cell_type": "markdown",
   "metadata": {},
   "source": [
    "Topic  0\n",
    "\n",
    "newly offer roundup information potential interest apparatus laboratory instrumentation apparatus information newly weekly roundup offer instrumentation laboratory material interest researcher\n",
    "\n",
    "Topic  1\n",
    "\n",
    "gene human genome dna genetic sequence disease specie expression mutation\n",
    "\n",
    "Topic  2\n",
    "\n",
    "download pdf roundup week follow link link roundup pdf entire science download entire section week story pdf story\n",
    "science\n",
    "\n",
    "Topic  3\n",
    "\n",
    "science news project roundup recent monthly roundup publisher american recent news project science science publisher association advancement monthly\n",
    "\n",
    "Topic  4\n",
    "\n",
    "cell t stem stem cell t cell immune mouse tissue tumor cancer\n",
    "\n",
    "Topic  5\n",
    "science research national u.s week scientist new health institute world\n",
    "\n",
    "Topic  6\n",
    "\n",
    "isbn press university university press york new york oxford cambridge princeton press new\n",
    "\n",
    "Topic  7\n",
    "\n",
    "quantum electron use state material energy atom system spin field\n",
    "\n",
    "Topic  8\n",
    "\n",
    "climate change year ice ocean water global climate change sea carbon\n",
    "\n",
    "Topic  9\n",
    "\n",
    "protein rna bind membrane complex signal structure receptor pathway domain"
   ]
  },
  {
   "cell_type": "markdown",
   "metadata": {},
   "source": [
    "# Try looking at articles from categories"
   ]
  },
  {
   "cell_type": "code",
   "execution_count": 142,
   "metadata": {
    "collapsed": true
   },
   "outputs": [],
   "source": [
    "tf_vect3, tf_vect3_transformed = tfidf_vectorizer(spacy_tokenizer_3, 110000, all_descriptions)\n",
    "norm = Normalizer()\n",
    "vect_normalized = norm.fit_transform(tf_vect3_transformed)\n",
    "model, model_transformed = nmf_tfidf(vect_normalized, n_comp=10)"
   ]
  },
  {
   "cell_type": "code",
   "execution_count": 51,
   "metadata": {
    "collapsed": true
   },
   "outputs": [],
   "source": [
    "def sort_papers_to_topics(num_topics, model_transformed):\n",
    "    topic_dict = {}\n",
    "    for topic in range(num_topics):\n",
    "        topic_dict[topic] = []\n",
    "    for index, item in enumerate(model_transformed):\n",
    "        topic_num = np.argmax(item)\n",
    "        topic_dict[topic_num].append([index, item])\n",
    "    return topic_dict"
   ]
  },
  {
   "cell_type": "code",
   "execution_count": 54,
   "metadata": {
    "collapsed": true
   },
   "outputs": [],
   "source": [
    "papers_and_topics = sort_papers_to_topics(10, model_transformed)"
   ]
  },
  {
   "cell_type": "code",
   "execution_count": 55,
   "metadata": {
    "collapsed": true
   },
   "outputs": [],
   "source": [
    "def print_papers(topic_dict, topic_number):\n",
    "    topic_counts = []\n",
    "    for item in topic_dict[topic_number]:\n",
    "        doc_index = item[0]\n",
    "        doc = all_descriptions[doc_index]\n",
    "        topic_counts.append(doc)\n",
    "    return topic_counts"
   ]
  },
  {
   "cell_type": "code",
   "execution_count": 57,
   "metadata": {},
   "outputs": [
    {
     "data": {
      "text/plain": [
       "[('A weekly roundup of information on newly offered instrumentation, apparatus, and laboratory materials of potential interest to researchers.',\n",
       "  372)]"
      ]
     },
     "execution_count": 57,
     "metadata": {},
     "output_type": "execute_result"
    }
   ],
   "source": [
    "counts = print_papers(papers_and_topics, 0)\n",
    "Counter(counts).most_common(1)"
   ]
  },
  {
   "cell_type": "code",
   "execution_count": 59,
   "metadata": {},
   "outputs": [
    {
     "data": {
      "text/plain": [
       "[(\"Follow the links below for a roundup of the week's top stories in science, or download a PDF of the entire section.\\n\",\n",
       "  153),\n",
       " (\"Follow the links below for a roundup of the week's top stories in science, or download a PDF of the entire section.\",\n",
       "  4)]"
      ]
     },
     "execution_count": 59,
     "metadata": {},
     "output_type": "execute_result"
    }
   ],
   "source": [
    "counts = print_papers(papers_and_topics, 2)\n",
    "Counter(counts).most_common(2)"
   ]
  },
  {
   "cell_type": "code",
   "execution_count": 61,
   "metadata": {},
   "outputs": [
    {
     "data": {
      "text/plain": [
       "[(\"A monthly roundup of recent news and projects of Science's publisher, the American Association for the Advancement of Science.\",\n",
       "  66),\n",
       " (\"\\n    A monthly roundup of recent news and projects of\\n    Science's publisher, the American Association for the Advancement of Science.\\n  \",\n",
       "  43)]"
      ]
     },
     "execution_count": 61,
     "metadata": {},
     "output_type": "execute_result"
    }
   ],
   "source": [
    "counts = print_papers(papers_and_topics, 3)\n",
    "Counter(counts).most_common(2)"
   ]
  },
  {
   "cell_type": "code",
   "execution_count": 62,
   "metadata": {},
   "outputs": [
    {
     "data": {
      "text/plain": [
       "[('\\n    First aired 2 years ago by European research chief Philippe Busquin, the concept of a European Research Area to promote cross-border research projects and to help coordinate research across the continent has won acclaim. But implementation--particularly the role for basic research in the ERA--is hotly debated.\\n    Science\\n    has solicited the views of four prominent European statesmen on this issue.\\n    Enric Banda\\n    leads off with a discussion of ways in which a European Research Council can serve as a support structure and how the European Science Foundation can be involved. In counterpoint,\\n    Sir George Radda\\n    comments that scientific networking across Europe is proceeding well without the need for a new administrative structure.\\n    Hans Wigzell\\n    believes that the Framework Programme itself needs to be split into a European Research Council and an Innovation Council to promote large projects.\\n    Ernst-Ludwig Winnacker\\n    suggests strategies that will aid \"small science\" and provide a \"bottom-up\" approach.\\n  ',\n",
       "  4),\n",
       " ('\\n    The\\n    Science\\n    news staff offers some highlights from its policy blog,\\n    Science\\n    Insider.\\n  ',\n",
       "  3),\n",
       " ('SAN FRANCISCO--\\n    When 9000 geophysicists gathered here last month for the annual fall meeting of the American Geophysical Union, they heard the usual potpourri of earth and planetary sciences, from A (for atmospheric sciences) to V (for volcanology). Subjects included predicting eruptions and earthquakes in Iceland, piggyback monitoring of atmospheric electrical circuits, and odd annual pulsations of the solid earth. (For earlier reports from the meeting, see\\n    Science, 19 January, p.\\n    422.)\\n    ',\n",
       "  3)]"
      ]
     },
     "execution_count": 62,
     "metadata": {},
     "output_type": "execute_result"
    }
   ],
   "source": [
    "counts = print_papers(papers_and_topics, 5)\n",
    "Counter(counts).most_common(3)"
   ]
  },
  {
   "cell_type": "code",
   "execution_count": 64,
   "metadata": {},
   "outputs": [
    {
     "data": {
      "text/plain": [
       "[(\"The world of biological chemistry lost one of its most creative pioneers when Roger Y. Tsien died on 24 August 2016 at the age of 64 while biking on a challenging trail in Eugene, Oregon, where he and his wife Wendy had their home. Tsien, who shared the 2008 Nobel Prize in Chemistry, was a professor in the Departments of Pharmacology and of Chemistry and Biochemistry at the University of California, San Diego (UCSD). Born in New York City and raised in Livingston, New Jersey, Roger had special talents that were manifested early—he won the Westinghouse Science Talent Search at age 16 for his original research project, “Bridging in Transition Metal Thiocyanate Complexes.” After graduating summa cum laude from Harvard College with a bachelor's degree in chemistry and physics, he studied at Cambridge University, receiving a Ph.D. in physiology in 1977 before joining the faculties of the University of California (UC), Berkeley, and, 7 years later, UCSD, where he spent most of his career. His thesis on the design and use of organic tools in cellular physiology set him on a course to investigate the chemistry of the brain.\",\n",
       "  2),\n",
       " ('Bending the Rules. Morality in the Modern World from Relationships to Politics and War. By Robert A. Hinde, with contributions from Sir Joseph Rotblat. Oxford University Press, Oxford, 2007. 287 pp. $29.95, £14.99. ISBN 9780199218974.',\n",
       "  2),\n",
       " ('The Early Settlement of North America The Clovis Era. Gary Haynes. Cambridge University Press, Cambridge, 2002. 359 pp. $80, £60. ISBN 0-521-81900-8. Paper, $29, £21.95. ISBN 0-521-52463-6.',\n",
       "  2)]"
      ]
     },
     "execution_count": 64,
     "metadata": {},
     "output_type": "execute_result"
    }
   ],
   "source": [
    "counts = print_papers(papers_and_topics, 6)\n",
    "Counter(counts).most_common(3)"
   ]
  },
  {
   "cell_type": "code",
   "execution_count": 106,
   "metadata": {
    "collapsed": true
   },
   "outputs": [],
   "source": [
    "vectorizer = TfidfVectorizer(tokenizer = spacy_tokenizer_3,\n",
    "                             ngram_range=(1,2),\n",
    "                             max_df = 0.6,\n",
    "                             max_features=110000)\n",
    "\n",
    "vect_trans = vectorizer.fit_transform(all_descriptions)\n",
    "\n",
    "norm = Normalizer()\n",
    "vect_normalized = norm.fit_transform(vect_trans)\n",
    "\n",
    "model, model_transformed = nmf_tfidf(vect_normalized, n_comp=10)"
   ]
  },
  {
   "cell_type": "markdown",
   "metadata": {},
   "source": [
    "# TRY TSNE"
   ]
  },
  {
   "cell_type": "code",
   "execution_count": 109,
   "metadata": {},
   "outputs": [
    {
     "name": "stdout",
     "output_type": "stream",
     "text": [
      "[t-SNE] Computing 61 nearest neighbors...\n",
      "[t-SNE] Indexed 32950 samples in 0.929s...\n",
      "[t-SNE] Computed neighbors for 32950 samples in 17.334s...\n",
      "[t-SNE] Computed conditional probabilities for sample 1000 / 32950\n",
      "[t-SNE] Computed conditional probabilities for sample 2000 / 32950\n",
      "[t-SNE] Computed conditional probabilities for sample 3000 / 32950\n",
      "[t-SNE] Computed conditional probabilities for sample 4000 / 32950\n",
      "[t-SNE] Computed conditional probabilities for sample 5000 / 32950\n",
      "[t-SNE] Computed conditional probabilities for sample 6000 / 32950\n",
      "[t-SNE] Computed conditional probabilities for sample 7000 / 32950\n",
      "[t-SNE] Computed conditional probabilities for sample 8000 / 32950\n",
      "[t-SNE] Computed conditional probabilities for sample 9000 / 32950\n",
      "[t-SNE] Computed conditional probabilities for sample 10000 / 32950\n",
      "[t-SNE] Computed conditional probabilities for sample 11000 / 32950\n",
      "[t-SNE] Computed conditional probabilities for sample 12000 / 32950\n",
      "[t-SNE] Computed conditional probabilities for sample 13000 / 32950\n",
      "[t-SNE] Computed conditional probabilities for sample 14000 / 32950\n",
      "[t-SNE] Computed conditional probabilities for sample 15000 / 32950\n",
      "[t-SNE] Computed conditional probabilities for sample 16000 / 32950\n",
      "[t-SNE] Computed conditional probabilities for sample 17000 / 32950\n",
      "[t-SNE] Computed conditional probabilities for sample 18000 / 32950\n",
      "[t-SNE] Computed conditional probabilities for sample 19000 / 32950\n",
      "[t-SNE] Computed conditional probabilities for sample 20000 / 32950\n",
      "[t-SNE] Computed conditional probabilities for sample 21000 / 32950\n",
      "[t-SNE] Computed conditional probabilities for sample 22000 / 32950\n",
      "[t-SNE] Computed conditional probabilities for sample 23000 / 32950\n",
      "[t-SNE] Computed conditional probabilities for sample 24000 / 32950\n",
      "[t-SNE] Computed conditional probabilities for sample 25000 / 32950\n",
      "[t-SNE] Computed conditional probabilities for sample 26000 / 32950\n",
      "[t-SNE] Computed conditional probabilities for sample 27000 / 32950\n",
      "[t-SNE] Computed conditional probabilities for sample 28000 / 32950\n",
      "[t-SNE] Computed conditional probabilities for sample 29000 / 32950\n",
      "[t-SNE] Computed conditional probabilities for sample 30000 / 32950\n",
      "[t-SNE] Computed conditional probabilities for sample 31000 / 32950\n",
      "[t-SNE] Computed conditional probabilities for sample 32000 / 32950\n",
      "[t-SNE] Computed conditional probabilities for sample 32950 / 32950\n",
      "[t-SNE] Mean sigma: 0.000000\n",
      "[t-SNE] Computed conditional probabilities in 1.232s\n",
      "[t-SNE] Iteration 50: error = 115.8368225, gradient norm = 0.0000515 (50 iterations in 51.645s)\n",
      "[t-SNE] Iteration 100: error = 100.2410202, gradient norm = 0.0022053 (50 iterations in 50.932s)\n",
      "[t-SNE] Iteration 150: error = 95.4988022, gradient norm = 0.0011567 (50 iterations in 42.998s)\n",
      "[t-SNE] Iteration 200: error = 93.6841202, gradient norm = 0.0009151 (50 iterations in 44.414s)\n",
      "[t-SNE] Iteration 250: error = 92.3480606, gradient norm = 0.0006945 (50 iterations in 43.588s)\n",
      "[t-SNE] KL divergence after 250 iterations with early exaggeration: 92.348061\n",
      "[t-SNE] Iteration 300: error = 4.4956021, gradient norm = 0.0012608 (50 iterations in 44.647s)\n",
      "[t-SNE] Iteration 350: error = 3.8435016, gradient norm = 0.0007059 (50 iterations in 42.935s)\n",
      "[t-SNE] Iteration 400: error = 3.4257004, gradient norm = 0.0004769 (50 iterations in 46.627s)\n",
      "[t-SNE] Iteration 450: error = 3.1388454, gradient norm = 0.0003499 (50 iterations in 41.263s)\n",
      "[t-SNE] Iteration 500: error = 2.9101353, gradient norm = 0.0002769 (50 iterations in 43.188s)\n",
      "[t-SNE] Iteration 550: error = 2.7494049, gradient norm = 0.0002220 (50 iterations in 38.579s)\n",
      "[t-SNE] Iteration 600: error = 2.6138370, gradient norm = 0.0001837 (50 iterations in 36.808s)\n",
      "[t-SNE] Iteration 650: error = 2.5045595, gradient norm = 0.0001568 (50 iterations in 40.652s)\n",
      "[t-SNE] Iteration 700: error = 2.4131429, gradient norm = 0.0001360 (50 iterations in 41.499s)\n",
      "[t-SNE] Iteration 750: error = 2.3351390, gradient norm = 0.0001193 (50 iterations in 48.829s)\n",
      "[t-SNE] Iteration 800: error = 2.2680299, gradient norm = 0.0001059 (50 iterations in 50.411s)\n",
      "[t-SNE] Iteration 850: error = 2.2092686, gradient norm = 0.0000946 (50 iterations in 55.720s)\n",
      "[t-SNE] Iteration 900: error = 2.1580410, gradient norm = 0.0000860 (50 iterations in 51.840s)\n",
      "[t-SNE] Iteration 950: error = 2.1123433, gradient norm = 0.0000776 (50 iterations in 50.344s)\n",
      "[t-SNE] Iteration 1000: error = 2.0713975, gradient norm = 0.0000709 (50 iterations in 51.722s)\n",
      "[t-SNE] Error after 1000 iterations: 2.071398\n"
     ]
    },
    {
     "data": {
      "image/png": "[encoded data removed]",
      "text/plain": [
       "<matplotlib.figure.Figure at 0x10d1a3a58>"
      ]
     },
     "metadata": {},
     "output_type": "display_data"
    }
   ],
   "source": [
    "from sklearn.manifold import TSNE\n",
    "import matplotlib.pyplot as plt\n",
    "%matplotlib inline\n",
    "\n",
    "tsne_model = TSNE(n_components=2, random_state=0,verbose=2, perplexity=20)\n",
    "low_data = tsne_model.fit_transform(model_transformed)\n",
    "\n",
    "x,y = zip(*low_data)\n",
    "plt.scatter(x, y, s=40);"
   ]
  },
  {
   "cell_type": "markdown",
   "metadata": {},
   "source": [
    "# Lets track trends over time"
   ]
  },
  {
   "cell_type": "markdown",
   "metadata": {},
   "source": [
    "#### First lets track the 10 topics"
   ]
  },
  {
   "cell_type": "code",
   "execution_count": 51,
   "metadata": {
    "collapsed": true
   },
   "outputs": [],
   "source": [
    "def sort_papers_to_topics(num_topics, model_transformed):\n",
    "    topic_dict = {}\n",
    "    for topic in range(num_topics):\n",
    "        topic_dict[topic] = []\n",
    "    for index, item in enumerate(model_transformed):\n",
    "        topic_num = np.argmax(item)\n",
    "        topic_dict[topic_num].append([index, item])\n",
    "    return topic_dict"
   ]
  },
  {
   "cell_type": "code",
   "execution_count": 54,
   "metadata": {
    "collapsed": true
   },
   "outputs": [],
   "source": [
    "papers_and_topics = sort_papers_to_topics(10, model_transformed)"
   ]
  },
  {
   "cell_type": "code",
   "execution_count": 55,
   "metadata": {
    "collapsed": true
   },
   "outputs": [],
   "source": [
    "def print_papers(topic_dict, topic_number):\n",
    "    topic_counts = []\n",
    "    for item in topic_dict[topic_number]:\n",
    "        doc_index = item[0]\n",
    "        doc = all_descriptions[doc_index]\n",
    "        topic_counts.append(doc)\n",
    "    return topic_counts"
   ]
  },
  {
   "cell_type": "code",
   "execution_count": 79,
   "metadata": {
    "collapsed": true
   },
   "outputs": [],
   "source": [
    "years_for_topic_trends = sci.find({'year': { \"$gt\": 2000, \"$lt\": 2017 } })\n"
   ]
  },
  {
   "cell_type": "code",
   "execution_count": 80,
   "metadata": {},
   "outputs": [
    {
     "data": {
      "text/plain": [
       "{'_id': ObjectId('59f8f1ca127ab45bd3582636'),\n",
       " 'description': \"Antibiotic resistance threatens to put modern medicine into reverse. But we are not at the end of our options for currently available drugs. Baym et al. review what can be done by using combinations of antibiotics to circumvent bacteria's evolutionary strategies. For instance, resistance to one drug may cause sensitivity to another, the effectiveness of two drugs can be synergized by a resistance mutation, and some negative drug interactions may even be beneficial in selecting against resistance. Although not simple to assess, drug combinations still have something to offer for the development of sorely needed anti-infectives.\",\n",
       " 'title': 'Multidrug evolutionary strategies to reverse antibiotic resistance',\n",
       " 'year': 2016}"
      ]
     },
     "execution_count": 80,
     "metadata": {},
     "output_type": "execute_result"
    }
   ],
   "source": [
    "years_for_topic_trends[0]"
   ]
  },
  {
   "cell_type": "code",
   "execution_count": 81,
   "metadata": {
    "collapsed": true
   },
   "outputs": [],
   "source": [
    "all_years = []\n",
    "\n",
    "for record in years_for_topic_trends:\n",
    "    all_years.append(record['year'])"
   ]
  },
  {
   "cell_type": "code",
   "execution_count": 82,
   "metadata": {},
   "outputs": [
    {
     "data": {
      "text/plain": [
       "[2016, 2016]"
      ]
     },
     "execution_count": 82,
     "metadata": {},
     "output_type": "execute_result"
    }
   ],
   "source": [
    "all_years[:2]"
   ]
  },
  {
   "cell_type": "code",
   "execution_count": 88,
   "metadata": {},
   "outputs": [
    {
     "data": {
      "text/plain": [
       "(32950, 32950)"
      ]
     },
     "execution_count": 88,
     "metadata": {},
     "output_type": "execute_result"
    }
   ],
   "source": [
    "len(all_years), len(all_descriptions)"
   ]
  },
  {
   "cell_type": "code",
   "execution_count": 91,
   "metadata": {
    "collapsed": true
   },
   "outputs": [],
   "source": [
    "descr_and_year = list(zip(all_descriptions, all_years))"
   ]
  },
  {
   "cell_type": "code",
   "execution_count": 108,
   "metadata": {},
   "outputs": [
    {
     "data": {
      "text/plain": [
       "(\"Antibiotic resistance threatens to put modern medicine into reverse. But we are not at the end of our options for currently available drugs. Baym et al. review what can be done by using combinations of antibiotics to circumvent bacteria's evolutionary strategies. For instance, resistance to one drug may cause sensitivity to another, the effectiveness of two drugs can be synergized by a resistance mutation, and some negative drug interactions may even be beneficial in selecting against resistance. Although not simple to assess, drug combinations still have something to offer for the development of sorely needed anti-infectives.\",\n",
       " 2016)"
      ]
     },
     "execution_count": 108,
     "metadata": {},
     "output_type": "execute_result"
    }
   ],
   "source": [
    "descr_and_year[0]"
   ]
  },
  {
   "cell_type": "code",
   "execution_count": 143,
   "metadata": {
    "collapsed": true
   },
   "outputs": [],
   "source": [
    "# initializing dictionary with years as key then a dictionary of topics 0-9 as keys and counts as values\n",
    "yearly_counts = {}\n",
    "for year in range(2001, 2017):\n",
    "    yearly_counts[year] = {}\n",
    "    for topic in range(0,10):\n",
    "        yearly_counts[year][topic] = 0"
   ]
  },
  {
   "cell_type": "code",
   "execution_count": 144,
   "metadata": {},
   "outputs": [
    {
     "data": {
      "text/plain": [
       "{0: 0, 1: 0, 2: 0, 3: 0, 4: 0, 5: 0, 6: 0, 7: 0, 8: 0, 9: 0}"
      ]
     },
     "execution_count": 144,
     "metadata": {},
     "output_type": "execute_result"
    }
   ],
   "source": [
    "yearly_counts[2016]"
   ]
  },
  {
   "cell_type": "code",
   "execution_count": 145,
   "metadata": {
    "collapsed": true
   },
   "outputs": [],
   "source": [
    "# Topics 0-9 as keys and the index for each document in that topic\n",
    "topic_dict = {}\n",
    "for topic in range(0,10):\n",
    "    topic_dict[topic] = []\n",
    "for index, item in enumerate(model_transformed):\n",
    "    topic_num = np.argmax(item)\n",
    "    topic_dict[topic_num].append(index)"
   ]
  },
  {
   "cell_type": "code",
   "execution_count": 146,
   "metadata": {
    "collapsed": true
   },
   "outputs": [
    {
     "data": {
      "text/plain": [
       "[17,\n",
       " 54,\n",
       " 85,\n",
       " 119,\n",
       " 152,\n",
       " 184,\n",
       " 223,\n",
       " 258,\n",
       " 291,\n",
       " 328,\n",
       " 372,\n",
       " 407,\n",
       " 443,\n",
       " 478,\n",
       " 519,\n",
       " 557,\n",
       " 592,\n",
       " 634,\n",
       " 671,\n",
       " 705,\n",
       " 755,\n",
       " 789,\n",
       " 823,\n",
       " 859,\n",
       " 894,\n",
       " 932,\n",
       " 952,\n",
       " 968,\n",
       " 999,\n",
       " 1034,\n",
       " 1063,\n",
       " 1101,\n",
       " 1134,\n",
       " 1167,\n",
       " 1203,\n",
       " 1235,\n",
       " 1271,\n",
       " 1305,\n",
       " 1345,\n",
       " 1380,\n",
       " 1414,\n",
       " 1451,\n",
       " 1484,\n",
       " 1523,\n",
       " 1558,\n",
       " 1600,\n",
       " 1639,\n",
       " 1675,\n",
       " 1712,\n",
       " 1746,\n",
       " 1785,\n",
       " 1820,\n",
       " 1859,\n",
       " 1896,\n",
       " 1939,\n",
       " 1978,\n",
       " 2022,\n",
       " 2069,\n",
       " 2105,\n",
       " 2139,\n",
       " 2151,\n",
       " 2180,\n",
       " 2197,\n",
       " 2227,\n",
       " 2269,\n",
       " 2315,\n",
       " 2359,\n",
       " 2400,\n",
       " 2441,\n",
       " 2482,\n",
       " 2525,\n",
       " 2568,\n",
       " 2613,\n",
       " 2656,\n",
       " 2719,\n",
       " 2759,\n",
       " 2806,\n",
       " 2844,\n",
       " 2898,\n",
       " 2940,\n",
       " 2992,\n",
       " 3042,\n",
       " 3054,\n",
       " 3132,\n",
       " 3169,\n",
       " 3215,\n",
       " 3264,\n",
       " 3315,\n",
       " 3355,\n",
       " 3396,\n",
       " 3437,\n",
       " 3476,\n",
       " 3514,\n",
       " 3567,\n",
       " 3608,\n",
       " 3655,\n",
       " 3703,\n",
       " 3742,\n",
       " 3781,\n",
       " 3823,\n",
       " 3869,\n",
       " 3909,\n",
       " 3948,\n",
       " 3987,\n",
       " 4030,\n",
       " 4068,\n",
       " 4117,\n",
       " 4159,\n",
       " 4200,\n",
       " 4237,\n",
       " 4273,\n",
       " 4321,\n",
       " 4359,\n",
       " 4401,\n",
       " 4440,\n",
       " 4493,\n",
       " 4518,\n",
       " 4556,\n",
       " 4597,\n",
       " 4642,\n",
       " 4684,\n",
       " 4725,\n",
       " 4776,\n",
       " 4818,\n",
       " 4865,\n",
       " 4906,\n",
       " 4945,\n",
       " 4960,\n",
       " 4985,\n",
       " 5024,\n",
       " 5062,\n",
       " 5104,\n",
       " 5145,\n",
       " 5188,\n",
       " 5200,\n",
       " 5228,\n",
       " 5266,\n",
       " 5306,\n",
       " 5345,\n",
       " 5406,\n",
       " 5446,\n",
       " 5494,\n",
       " 5506,\n",
       " 5533,\n",
       " 5570,\n",
       " 5608,\n",
       " 5650,\n",
       " 5725,\n",
       " 5779,\n",
       " 5819,\n",
       " 5862,\n",
       " 5899,\n",
       " 5945,\n",
       " 5986,\n",
       " 6027,\n",
       " 6040,\n",
       " 6066,\n",
       " 6106,\n",
       " 6152,\n",
       " 6196,\n",
       " 6253,\n",
       " 6291,\n",
       " 6326,\n",
       " 6365,\n",
       " 6412,\n",
       " 6449,\n",
       " 6489,\n",
       " 6530,\n",
       " 6569,\n",
       " 6605,\n",
       " 6649,\n",
       " 6684,\n",
       " 6722,\n",
       " 6766,\n",
       " 6805,\n",
       " 6850,\n",
       " 6884,\n",
       " 6919,\n",
       " 6959,\n",
       " 6999,\n",
       " 7088,\n",
       " 7124,\n",
       " 7168,\n",
       " 7203,\n",
       " 7238,\n",
       " 7274,\n",
       " 7310,\n",
       " 7351,\n",
       " 7389,\n",
       " 7427,\n",
       " 7458,\n",
       " 7516,\n",
       " 7550,\n",
       " 7587,\n",
       " 7622,\n",
       " 7679,\n",
       " 7712,\n",
       " 7748,\n",
       " 7783,\n",
       " 7823,\n",
       " 7864,\n",
       " 7898,\n",
       " 7940,\n",
       " 7977,\n",
       " 8007,\n",
       " 8046,\n",
       " 8080,\n",
       " 8112,\n",
       " 8143,\n",
       " 8182,\n",
       " 8217,\n",
       " 8247,\n",
       " 8281,\n",
       " 8320,\n",
       " 8363,\n",
       " 8394,\n",
       " 8429,\n",
       " 8464,\n",
       " 8500,\n",
       " 8544,\n",
       " 8583,\n",
       " 8619,\n",
       " 8654,\n",
       " 8695,\n",
       " 8731,\n",
       " 8769,\n",
       " 8796,\n",
       " 8837,\n",
       " 8874,\n",
       " 8908,\n",
       " 8946,\n",
       " 8981,\n",
       " 9021,\n",
       " 9059,\n",
       " 9097,\n",
       " 9132,\n",
       " 9168,\n",
       " 9204,\n",
       " 9245,\n",
       " 9276,\n",
       " 9322,\n",
       " 9356,\n",
       " 9391,\n",
       " 9432,\n",
       " 9468,\n",
       " 9503,\n",
       " 9542,\n",
       " 9578,\n",
       " 9619,\n",
       " 9656,\n",
       " 9697,\n",
       " 9733,\n",
       " 9771,\n",
       " 9807,\n",
       " 9849,\n",
       " 9894,\n",
       " 9929,\n",
       " 9965,\n",
       " 10010,\n",
       " 10052,\n",
       " 10093,\n",
       " 10125,\n",
       " 10667,\n",
       " 10758,\n",
       " 10759,\n",
       " 10832,\n",
       " 10847,\n",
       " 11004,\n",
       " 11801,\n",
       " 11848,\n",
       " 11901,\n",
       " 11943,\n",
       " 11984,\n",
       " 12028,\n",
       " 12073,\n",
       " 12120,\n",
       " 12162,\n",
       " 12212,\n",
       " 12253,\n",
       " 12299,\n",
       " 12339,\n",
       " 12390,\n",
       " 12434,\n",
       " 12471,\n",
       " 12512,\n",
       " 12557,\n",
       " 12599,\n",
       " 12643,\n",
       " 12684,\n",
       " 12722,\n",
       " 12735,\n",
       " 12766,\n",
       " 12819,\n",
       " 12853,\n",
       " 12893,\n",
       " 12925,\n",
       " 12964,\n",
       " 13007,\n",
       " 13051,\n",
       " 13071,\n",
       " 13092,\n",
       " 13139,\n",
       " 13180,\n",
       " 13221,\n",
       " 13254,\n",
       " 13295,\n",
       " 13363,\n",
       " 13403,\n",
       " 13444,\n",
       " 13484,\n",
       " 13498,\n",
       " 13534,\n",
       " 13574,\n",
       " 13615,\n",
       " 13656,\n",
       " 13697,\n",
       " 13738,\n",
       " 13790,\n",
       " 13829,\n",
       " 13872,\n",
       " 13911,\n",
       " 13956,\n",
       " 13996,\n",
       " 14022,\n",
       " 14071,\n",
       " 14111,\n",
       " 14147,\n",
       " 14191,\n",
       " 14229,\n",
       " 14244,\n",
       " 14277,\n",
       " 14318,\n",
       " 14360,\n",
       " 14405,\n",
       " 14446,\n",
       " 14489,\n",
       " 14528,\n",
       " 14566,\n",
       " 14610,\n",
       " 14650,\n",
       " 14688,\n",
       " 14728,\n",
       " 14770,\n",
       " 14809,\n",
       " 14853,\n",
       " 14899,\n",
       " 14941,\n",
       " 14987,\n",
       " 15032,\n",
       " 15077,\n",
       " 15129,\n",
       " 15173,\n",
       " 15215,\n",
       " 15251,\n",
       " 15301,\n",
       " 15340,\n",
       " 15396,\n",
       " 15441,\n",
       " 15478,\n",
       " 15516,\n",
       " 15557,\n",
       " 15595,\n",
       " 15639,\n",
       " 15696,\n",
       " 15749,\n",
       " 15799,\n",
       " 15855,\n",
       " 15895,\n",
       " 15931,\n",
       " 15983,\n",
       " 16026,\n",
       " 16070,\n",
       " 16113,\n",
       " 16153,\n",
       " 16192,\n",
       " 16235,\n",
       " 16273,\n",
       " 16313,\n",
       " 16350,\n",
       " 16391,\n",
       " 16427,\n",
       " 16465,\n",
       " 16503,\n",
       " 16544,\n",
       " 16599,\n",
       " 16625,\n",
       " 16667,\n",
       " 16769,\n",
       " 16809,\n",
       " 16855,\n",
       " 16893,\n",
       " 16944,\n",
       " 16989,\n",
       " 17145,\n",
       " 17670,\n",
       " 17685,\n",
       " 18420,\n",
       " 18421,\n",
       " 18882,\n",
       " 19273,\n",
       " 19279,\n",
       " 19286,\n",
       " 19699,\n",
       " 20044,\n",
       " 21161,\n",
       " 21163,\n",
       " 21164,\n",
       " 21165,\n",
       " 21166,\n",
       " 21167,\n",
       " 21168,\n",
       " 21169,\n",
       " 21170,\n",
       " 21171,\n",
       " 21199,\n",
       " 21222,\n",
       " 21223,\n",
       " 21224,\n",
       " 21225,\n",
       " 21232,\n",
       " 21252,\n",
       " 21254,\n",
       " 21255,\n",
       " 21256,\n",
       " 21257,\n",
       " 21258,\n",
       " 21259,\n",
       " 21260,\n",
       " 21261,\n",
       " 21262,\n",
       " 21263,\n",
       " 21264,\n",
       " 21849,\n",
       " 21851,\n",
       " 21899,\n",
       " 21900,\n",
       " 22591,\n",
       " 23028,\n",
       " 24224,\n",
       " 27549,\n",
       " 28206,\n",
       " 28577,\n",
       " 29918,\n",
       " 30076,\n",
       " 30272,\n",
       " 30358,\n",
       " 31439,\n",
       " 32641,\n",
       " 32679,\n",
       " 32711,\n",
       " 32869]"
      ]
     },
     "execution_count": 146,
     "metadata": {},
     "output_type": "execute_result"
    }
   ],
   "source": [
    "topic_dict[0]"
   ]
  },
  {
   "cell_type": "code",
   "execution_count": 147,
   "metadata": {
    "collapsed": true
   },
   "outputs": [],
   "source": [
    "for topic_number in range(0,10):\n",
    "    for item in topic_dict[topic_number]:\n",
    "        doc_index = item\n",
    "        doc_year = descr_and_year[doc_index][1]\n",
    "        # print(doc_index, doc)\n",
    "        yearly_counts[doc_year][topic_number] += 1"
   ]
  },
  {
   "cell_type": "code",
   "execution_count": 148,
   "metadata": {},
   "outputs": [
    {
     "data": {
      "text/plain": [
       "{0: 53, 1: 257, 2: 2, 3: 7, 4: 186, 5: 420, 6: 5, 7: 444, 8: 313, 9: 190}"
      ]
     },
     "execution_count": 148,
     "metadata": {},
     "output_type": "execute_result"
    }
   ],
   "source": [
    "yearly_counts[2016]"
   ]
  },
  {
   "cell_type": "code",
   "execution_count": 120,
   "metadata": {
    "collapsed": true
   },
   "outputs": [],
   "source": [
    "years = [year for year in range(2001,2017)]\n",
    "topic0 = [yearly_counts[year][0] for year in range(2001, 2017)]\n",
    "topic1 = [yearly_counts[year][1] for year in range(2001, 2017)]\n",
    "topic2 = [yearly_counts[year][2] for year in range(2001, 2017)]\n",
    "topic3 = [yearly_counts[year][3] for year in range(2001, 2017)]\n",
    "topic4 = [yearly_counts[year][4] for year in range(2001, 2017)]\n",
    "topic5 = [yearly_counts[year][5] for year in range(2001, 2017)]\n",
    "topic6 = [yearly_counts[year][6] for year in range(2001, 2017)]\n",
    "topic7 = [yearly_counts[year][7] for year in range(2001, 2017)]\n",
    "topic8 = [yearly_counts[year][8] for year in range(2001, 2017)]\n",
    "topic9 = [yearly_counts[year][9] for year in range(2001, 2017)]"
   ]
  },
  {
   "cell_type": "code",
   "execution_count": 155,
   "metadata": {
    "scrolled": false
   },
   "outputs": [
    {
     "data": {
      "image/png": "[encoded data removed]",
      "text/plain": [
       "<matplotlib.figure.Figure at 0x1983dd780>"
      ]
     },
     "metadata": {},
     "output_type": "display_data"
    }
   ],
   "source": [
    "years = [year for year in range(2001,2017)]\n",
    "not_used = [0, 2, 3, 5, 6]\n",
    "for topic in range(0,10):\n",
    "    if topic not in not_used:\n",
    "        topic_counts = [yearly_counts[year][topic] for year in range(2001, 2017)]\n",
    "        plt.plot(years, topic_counts, label='Topic ' + str(topic+1))\n",
    "        plt.legend(loc=(1.04,0.7))\n",
    "        plt.xlabel('Year')\n",
    "        plt.ylabel('Number of Occurrences')"
   ]
  },
  {
   "cell_type": "code",
   "execution_count": 135,
   "metadata": {},
   "outputs": [
    {
     "data": {
      "image/png": "[encoded data removed]",
      "text/plain": [
       "<matplotlib.figure.Figure at 0x1c9bdb390>"
      ]
     },
     "metadata": {},
     "output_type": "display_data"
    }
   ],
   "source": [
    "plt.plot(years, topic0, label=0)\n",
    "plt.plot(years, topic1, label=1)\n",
    "plt.plot(years, topic2, label=2)\n",
    "plt.plot(years, topic3, label=3)\n",
    "plt.plot(years, topic4, label=4)\n",
    "plt.plot(years, topic5, label=5)\n",
    "plt.plot(years, topic6, label=6)\n",
    "plt.plot(years, topic7, label=7)\n",
    "plt.plot(years, topic8, label=8)\n",
    "plt.plot(years, topic9, label=9)\n",
    "plt.legend();"
   ]
  },
  {
   "cell_type": "code",
   "execution_count": 129,
   "metadata": {
    "collapsed": true
   },
   "outputs": [],
   "source": [
    "vectorizer = TfidfVectorizer(tokenizer = spacy_tokenizer_3,\n",
    "                             ngram_range=(1,2),\n",
    "                             max_df = 0.6,\n",
    "                             max_features=110000)\n",
    "\n",
    "vect_trans = vectorizer.fit_transform(all_descriptions)\n",
    "\n",
    "norm = Normalizer()\n",
    "vect_normalized = norm.fit_transform(vect_trans)\n",
    "\n",
    "model, model_transformed = nmf_tfidf(vect_normalized, n_comp=30)"
   ]
  },
  {
   "cell_type": "code",
   "execution_count": 130,
   "metadata": {
    "collapsed": true
   },
   "outputs": [],
   "source": [
    "# initializing dictionary with years as key then a dictionary of topics 0-29 as keys and counts as values\n",
    "yearly_counts = {}\n",
    "for year in range(2001, 2017):\n",
    "    yearly_counts[year] = {}\n",
    "    for topic in range(0,30):\n",
    "        yearly_counts[year][topic] = 0"
   ]
  },
  {
   "cell_type": "code",
   "execution_count": 131,
   "metadata": {
    "collapsed": true
   },
   "outputs": [],
   "source": [
    "# Topics 0-29 as keys and the index for each document in that topic\n",
    "topic_dict = {}\n",
    "for topic in range(0,30):\n",
    "    topic_dict[topic] = []\n",
    "for index, item in enumerate(model_transformed):\n",
    "    topic_num = np.argmax(item)\n",
    "    topic_dict[topic_num].append(index)"
   ]
  },
  {
   "cell_type": "code",
   "execution_count": 132,
   "metadata": {
    "collapsed": true
   },
   "outputs": [],
   "source": [
    "for topic_number in range(0,30):\n",
    "    for item in topic_dict[topic_number]:\n",
    "        doc_index = item\n",
    "        doc_year = descr_and_year[doc_index][1]\n",
    "        # print(doc_index, doc)\n",
    "        yearly_counts[doc_year][topic_number] += 1"
   ]
  },
  {
   "cell_type": "code",
   "execution_count": 1,
   "metadata": {},
   "outputs": [
    {
     "ename": "NameError",
     "evalue": "name 'yearly_counts' is not defined",
     "output_type": "error",
     "traceback": [
      "\u001b[0;31m---------------------------------------------------------------------------\u001b[0m",
      "\u001b[0;31mNameError\u001b[0m                                 Traceback (most recent call last)",
      "\u001b[0;32m<ipython-input-1-cd6ae16bedc2>\u001b[0m in \u001b[0;36m<module>\u001b[0;34m()\u001b[0m\n\u001b[1;32m      3\u001b[0m \u001b[0;32mfor\u001b[0m \u001b[0mtopic\u001b[0m \u001b[0;32min\u001b[0m \u001b[0mrange\u001b[0m\u001b[0;34m(\u001b[0m\u001b[0;36m0\u001b[0m\u001b[0;34m,\u001b[0m\u001b[0;36m30\u001b[0m\u001b[0;34m)\u001b[0m\u001b[0;34m:\u001b[0m\u001b[0;34m\u001b[0m\u001b[0m\n\u001b[1;32m      4\u001b[0m     \u001b[0;32mif\u001b[0m \u001b[0mtopic\u001b[0m \u001b[0;32mnot\u001b[0m \u001b[0;32min\u001b[0m \u001b[0mnot_used\u001b[0m\u001b[0;34m:\u001b[0m\u001b[0;34m\u001b[0m\u001b[0m\n\u001b[0;32m----> 5\u001b[0;31m         \u001b[0mtopic_counts\u001b[0m \u001b[0;34m=\u001b[0m \u001b[0;34m[\u001b[0m\u001b[0myearly_counts\u001b[0m\u001b[0;34m[\u001b[0m\u001b[0myear\u001b[0m\u001b[0;34m]\u001b[0m\u001b[0;34m[\u001b[0m\u001b[0mtopic\u001b[0m\u001b[0;34m]\u001b[0m \u001b[0;32mfor\u001b[0m \u001b[0myear\u001b[0m \u001b[0;32min\u001b[0m \u001b[0mrange\u001b[0m\u001b[0;34m(\u001b[0m\u001b[0;36m2001\u001b[0m\u001b[0;34m,\u001b[0m \u001b[0;36m2017\u001b[0m\u001b[0;34m)\u001b[0m\u001b[0;34m]\u001b[0m\u001b[0;34m\u001b[0m\u001b[0m\n\u001b[0m\u001b[1;32m      6\u001b[0m         \u001b[0mplt\u001b[0m\u001b[0;34m.\u001b[0m\u001b[0mplot\u001b[0m\u001b[0;34m(\u001b[0m\u001b[0myears\u001b[0m\u001b[0;34m,\u001b[0m \u001b[0mtopic_counts\u001b[0m\u001b[0;34m,\u001b[0m \u001b[0mlabel\u001b[0m\u001b[0;34m=\u001b[0m\u001b[0;34m'Topic '\u001b[0m \u001b[0;34m+\u001b[0m \u001b[0mstr\u001b[0m\u001b[0;34m(\u001b[0m\u001b[0mtopic\u001b[0m\u001b[0;34m+\u001b[0m\u001b[0;36m1\u001b[0m\u001b[0;34m)\u001b[0m\u001b[0;34m)\u001b[0m\u001b[0;34m\u001b[0m\u001b[0m\n\u001b[1;32m      7\u001b[0m         \u001b[0mplt\u001b[0m\u001b[0;34m.\u001b[0m\u001b[0mlegend\u001b[0m\u001b[0;34m(\u001b[0m\u001b[0;34m)\u001b[0m\u001b[0;34m\u001b[0m\u001b[0m\n",
      "\u001b[0;32m<ipython-input-1-cd6ae16bedc2>\u001b[0m in \u001b[0;36m<listcomp>\u001b[0;34m(.0)\u001b[0m\n\u001b[1;32m      3\u001b[0m \u001b[0;32mfor\u001b[0m \u001b[0mtopic\u001b[0m \u001b[0;32min\u001b[0m \u001b[0mrange\u001b[0m\u001b[0;34m(\u001b[0m\u001b[0;36m0\u001b[0m\u001b[0;34m,\u001b[0m\u001b[0;36m30\u001b[0m\u001b[0;34m)\u001b[0m\u001b[0;34m:\u001b[0m\u001b[0;34m\u001b[0m\u001b[0m\n\u001b[1;32m      4\u001b[0m     \u001b[0;32mif\u001b[0m \u001b[0mtopic\u001b[0m \u001b[0;32mnot\u001b[0m \u001b[0;32min\u001b[0m \u001b[0mnot_used\u001b[0m\u001b[0;34m:\u001b[0m\u001b[0;34m\u001b[0m\u001b[0m\n\u001b[0;32m----> 5\u001b[0;31m         \u001b[0mtopic_counts\u001b[0m \u001b[0;34m=\u001b[0m \u001b[0;34m[\u001b[0m\u001b[0myearly_counts\u001b[0m\u001b[0;34m[\u001b[0m\u001b[0myear\u001b[0m\u001b[0;34m]\u001b[0m\u001b[0;34m[\u001b[0m\u001b[0mtopic\u001b[0m\u001b[0;34m]\u001b[0m \u001b[0;32mfor\u001b[0m \u001b[0myear\u001b[0m \u001b[0;32min\u001b[0m \u001b[0mrange\u001b[0m\u001b[0;34m(\u001b[0m\u001b[0;36m2001\u001b[0m\u001b[0;34m,\u001b[0m \u001b[0;36m2017\u001b[0m\u001b[0;34m)\u001b[0m\u001b[0;34m]\u001b[0m\u001b[0;34m\u001b[0m\u001b[0m\n\u001b[0m\u001b[1;32m      6\u001b[0m         \u001b[0mplt\u001b[0m\u001b[0;34m.\u001b[0m\u001b[0mplot\u001b[0m\u001b[0;34m(\u001b[0m\u001b[0myears\u001b[0m\u001b[0;34m,\u001b[0m \u001b[0mtopic_counts\u001b[0m\u001b[0;34m,\u001b[0m \u001b[0mlabel\u001b[0m\u001b[0;34m=\u001b[0m\u001b[0;34m'Topic '\u001b[0m \u001b[0;34m+\u001b[0m \u001b[0mstr\u001b[0m\u001b[0;34m(\u001b[0m\u001b[0mtopic\u001b[0m\u001b[0;34m+\u001b[0m\u001b[0;36m1\u001b[0m\u001b[0;34m)\u001b[0m\u001b[0;34m)\u001b[0m\u001b[0;34m\u001b[0m\u001b[0m\n\u001b[1;32m      7\u001b[0m         \u001b[0mplt\u001b[0m\u001b[0;34m.\u001b[0m\u001b[0mlegend\u001b[0m\u001b[0;34m(\u001b[0m\u001b[0;34m)\u001b[0m\u001b[0;34m\u001b[0m\u001b[0m\n",
      "\u001b[0;31mNameError\u001b[0m: name 'yearly_counts' is not defined"
     ]
    }
   ],
   "source": [
    "years = [year for year in range(2001,2017)]\n",
    "not_used = [0, 2, 3, 6, 12, 16, 17, 18, 22, 23, 29]\n",
    "for topic in range(0,30):\n",
    "    if topic not in not_used:\n",
    "        topic_counts = [yearly_counts[year][topic] for year in range(2001, 2017)]\n",
    "        plt.plot(years, topic_counts, label='Topic ' + str(topic+1))\n",
    "        plt.legend()\n",
    "        plt.xaxis('Year')\n",
    "        plt.yaxis('Number of Occurrences')\n",
    "        plt.legend(loc=(1.04,0.7))\n",
    "        plt.xlabel('Year')\n",
    "        plt.ylabel('Number of Occurrences')"
   ]
  },
  {
   "cell_type": "markdown",
   "metadata": {},
   "source": [
    "Topic  0\n",
    "information newly apparatus laboratory roundup information potential interest weekly roundup offer instrumentation instrumentation apparatus newly offer laboratory material interest researcher\n",
    "Topic  1\n",
    "specie plant population diversity ecosystem animal forest ecological community evolutionary\n",
    "Topic  2\n",
    "link roundup entire section pdf entire follow link roundup week science download download pdf week story pdf story science\n",
    "Topic  3\n",
    "news project roundup recent monthly roundup publisher american recent news project science science publisher monthly association advancement advancement science\n",
    "Topic  4\n",
    "cell stem stem cell t t cell immune tissue signal embryonic mouse\n",
    "Topic  5\n",
    "research u.s government scientist university agency week new funding european\n",
    "Topic  6\n",
    "isbn press university cambridge university press press cambridge oxford ma cambridge ma chicago\n",
    "Topic  7\n",
    "material electron structure magnetic use field temperature surface high property\n",
    "Topic  8\n",
    "climate change climate change global warming temperature ocean model warm atmospheric\n",
    "Topic  9\n",
    "protein membrane signal bind receptor complex structure domain pathway kinase\n",
    "Topic  10\n",
    "star galaxy black hole hole black ray universe x x ray gamma\n",
    "Topic  11\n",
    "virus vaccine infection immune influenza hiv host antibody viral response\n",
    "Topic  12\n",
    "york new york isbn new c$ c$ isbn york c$ york isbn press new london\n",
    "Topic  13\n",
    "carbon reaction water catalyst molecule bond hydrogen chemical organic compound\n",
    "Topic  14\n",
    "quantum state spin system atom photon information qubit quantum information dot\n",
    "Topic  15\n",
    "gene expression gene expression transcription genetic mutation factor identify function transcription factor\n",
    "Topic  16\n",
    "daily news news daily week story roundup daily roundup news story news site site\n",
    "Topic  17\n",
    "institute national health nih national institute institute health health nih director u.s national u.s\n",
    "Topic  18\n",
    "science national foundation national science science foundation student education nsf academy science technology\n",
    "Topic  19\n",
    "year ago year ago million million year early fossil old record date\n",
    "Topic  20\n",
    "cancer drug tumor disease patient mutation therapy trial treatment clinical\n",
    "Topic  21\n",
    "genome human sequence human genome genome sequence genetic dna sequencing genomic datum\n",
    "Topic  22\n",
    "-- researcher read report meeting scientist new week page society\n",
    "Topic  23\n",
    "princeton princeton university nj press princeton princeton nj nj isbn university press isbn university press\n",
    "Topic  24\n",
    "solar planet system solar system earth mar moon comet planetary space\n",
    "Topic  25\n",
    "brain neuron memory activity cortex neuronal neural behavior mouse visual\n",
    "Topic  26\n",
    "ice ice sheet sea sheet sea level water ocean level greenland antarctic\n",
    "Topic  27\n",
    "dna rna strand polymerase rna polymerase mrna transcription replication complex bind\n",
    "Topic  28\n",
    "earthquake fault mantle seismic plate zone rupture slip earth large\n",
    "Topic  29\n",
    "state world united united state country health china nation people public"
   ]
  },
  {
   "cell_type": "code",
   "execution_count": null,
   "metadata": {
    "collapsed": true
   },
   "outputs": [],
   "source": []
  },
  {
   "cell_type": "code",
   "execution_count": null,
   "metadata": {
    "collapsed": true
   },
   "outputs": [],
   "source": [
    "\n"
   ]
  }
 ],
 "metadata": {
  "kernelspec": {
   "display_name": "Python [conda root]",
   "language": "python",
   "name": "conda-root-py"
  },
  "language_info": {
   "codemirror_mode": {
    "name": "ipython",
    "version": 3
   },
   "file_extension": ".py",
   "mimetype": "text/x-python",
   "name": "python",
   "nbconvert_exporter": "python",
   "pygments_lexer": "ipython3",
   "version": "3.6.2"
  }
 },
 "nbformat": 4,
 "nbformat_minor": 2
}
